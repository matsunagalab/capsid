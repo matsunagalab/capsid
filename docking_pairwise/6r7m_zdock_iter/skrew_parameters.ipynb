{
 "cells": [
  {
   "cell_type": "markdown",
   "id": "62a9d42f-dcfb-4d04-b7ee-aeab2626fe19",
   "metadata": {},
   "source": [
    "# 6r7m"
   ]
  },
  {
   "cell_type": "code",
   "execution_count": 11,
   "id": "c2b6edbc-2a9f-438b-9e0d-1fb076e39d0e",
   "metadata": {},
   "outputs": [],
   "source": [
    "using Printf, DelimitedFiles\n",
    "using Plots\n",
    "using DataFrames\n",
    "using Revise, MDToolbox"
   ]
  },
  {
   "cell_type": "code",
   "execution_count": 12,
   "id": "c9373fbf-44a1-4c9b-88e3-5bb66950ae03",
   "metadata": {},
   "outputs": [
    {
     "data": {
      "text/plain": [
       "read_ascii (generic function with 1 method)"
      ]
     },
     "execution_count": 12,
     "metadata": {},
     "output_type": "execute_result"
    }
   ],
   "source": [
    "function read_ascii(fname)\n",
    "    lines = readlines(fname)\n",
    "    natom = length(lines)\n",
    "    xyz = zeros(Float64, 1, natom*3)\n",
    "    for i = 1:natom\n",
    "        xyz[1, 3*(i-1)+1] = parse(Float64, lines[i][31:38])\n",
    "        xyz[1, 3*(i-1)+2] = parse(Float64, lines[i][39:46])\n",
    "        xyz[1, 3*(i-1)+3] = parse(Float64, lines[i][47:54])\n",
    "    end\n",
    "    TrjArray(xyz=xyz)\n",
    "end"
   ]
  },
  {
   "cell_type": "code",
   "execution_count": 13,
   "id": "fa858e0e-6890-4489-953b-936b481fa4aa",
   "metadata": {},
   "outputs": [
    {
     "data": {
      "text/plain": [
       "Any[]"
      ]
     },
     "execution_count": 13,
     "metadata": {},
     "output_type": "execute_result"
    }
   ],
   "source": [
    "fnames = []\n",
    "omega = []\n",
    "phi = []\n",
    "prou = []\n",
    "d = []\n",
    "score = []\n",
    "rmsd = []\n",
    "struc = []"
   ]
  },
  {
   "cell_type": "code",
   "execution_count": 14,
   "id": "32f8cbb0-c23b-4139-a37d-d0cb8a807005",
   "metadata": {},
   "outputs": [
    {
     "data": {
      "text/plain": [
       "1000"
      ]
     },
     "execution_count": 14,
     "metadata": {},
     "output_type": "execute_result"
    }
   ],
   "source": [
    "nrun = 1000"
   ]
  },
  {
   "cell_type": "code",
   "execution_count": 15,
   "id": "a9238faf-a6c3-43f9-8e58-bd5847247e2a",
   "metadata": {},
   "outputs": [],
   "source": [
    "for irun = 1:nrun\n",
    "\n",
    "    for i in 1:100\n",
    "        filename = \"$(irun)/complex.$(i).pdb\"\n",
    "        #t = mdload(filename)\n",
    "        #t = MDToolbox.readpdb_biostructures(filename)\n",
    "        t = read_ascii(filename)\n",
    "        t1 = t[:, 1:1206]\n",
    "        t2 = t[:, 1207:end]\n",
    "        r = MDToolbox.compute_skrew(t1, t2)\n",
    "        push!(fnames, filename)\n",
    "        push!(omega, r.omega)\n",
    "        push!(phi, r.phi / (2.0 * pi) * 360.0)\n",
    "        push!(prou, r.prou)\n",
    "        push!(d, r.d)\n",
    "        push!(struc, t)\n",
    "        #t_ca = t[\"atomname CA\"]\n",
    "        #push!(rmsd, compute_rmsd_permute(ref, t_ca, 2))\n",
    "    end\n",
    "\n",
    "    s = readdlm(\"$(irun)/zdock.out\", skipstart=5)\n",
    "    score = [score; s[1:100, end]]\n",
    "end"
   ]
  },
  {
   "cell_type": "code",
   "execution_count": 16,
   "id": "8d2ad93d-8d57-4b90-abfa-976cf23638b0",
   "metadata": {},
   "outputs": [
    {
     "data": {
      "text/html": [
       "<div class=\"data-frame\"><p>100,000 rows × 7 columns (omitted printing of 2 columns)</p><table class=\"data-frame\"><thead><tr><th></th><th>fnames</th><th>score</th><th>omega</th><th>phi</th><th>prou</th></tr><tr><th></th><th title=\"Any\">Any</th><th title=\"Any\">Any</th><th title=\"Any\">Any</th><th title=\"Any\">Any</th><th title=\"Any\">Any</th></tr></thead><tbody><tr><th>1</th><td>1/complex.1.pdb</td><td>1440.86</td><td>[0.507987, 0.151721, -0.847897]</td><td>22.4984</td><td>[190.083, 181.186, 146.302]</td></tr><tr><th>2</th><td>1/complex.2.pdb</td><td>1355.91</td><td>[-0.553359, -0.114757, -0.825]</td><td>177.56</td><td>[60.9937, 152.925, -62.1826]</td></tr><tr><th>3</th><td>1/complex.3.pdb</td><td>1313.06</td><td>[-0.518066, -0.21407, -0.828119]</td><td>30.4902</td><td>[29.3759, 111.855, -47.292]</td></tr><tr><th>4</th><td>1/complex.4.pdb</td><td>1254.79</td><td>[-0.45877, -0.0508539, -0.887099]</td><td>179.398</td><td>[100.897, 174.065, -62.1583]</td></tr><tr><th>5</th><td>1/complex.5.pdb</td><td>1204.77</td><td>[0.572324, 0.059546, 0.817863]</td><td>163.204</td><td>[59.0539, 171.36, -53.8009]</td></tr><tr><th>6</th><td>1/complex.6.pdb</td><td>1198.03</td><td>[-0.516551, 0.0168724, -0.85609]</td><td>165.107</td><td>[86.4951, 194.415, -48.3581]</td></tr><tr><th>7</th><td>1/complex.7.pdb</td><td>1197.43</td><td>[-0.0204815, -0.485007, -0.87427]</td><td>17.3521</td><td>[165.279, 34.529, -23.0272]</td></tr><tr><th>8</th><td>1/complex.8.pdb</td><td>1196.01</td><td>[-0.616462, -0.0343283, -0.786636]</td><td>164.788</td><td>[45.6031, 179.582, -43.5745]</td></tr><tr><th>9</th><td>1/complex.9.pdb</td><td>1186.36</td><td>[0.0707632, 0.954084, 0.29106]</td><td>156.273</td><td>[206.179, -51.9118, 120.038]</td></tr><tr><th>10</th><td>1/complex.10.pdb</td><td>1185.73</td><td>[0.485734, -0.0233578, 0.873794]</td><td>162.448</td><td>[98.4442, 196.109, -49.4819]</td></tr><tr><th>11</th><td>1/complex.11.pdb</td><td>1166.28</td><td>[0.494211, 0.511765, -0.702746]</td><td>178.233</td><td>[191.766, 167.057, 256.518]</td></tr><tr><th>12</th><td>1/complex.12.pdb</td><td>1161.68</td><td>[0.841517, -0.0751491, 0.534979]</td><td>152.263</td><td>[-9.35952, 229.791, 47.0015]</td></tr><tr><th>13</th><td>1/complex.13.pdb</td><td>1161.09</td><td>[-0.935167, -0.268649, -0.230847]</td><td>87.5517</td><td>[-58.4699, 105.318, 114.299]</td></tr><tr><th>14</th><td>1/complex.14.pdb</td><td>1155.72</td><td>[0.0133468, 0.992444, 0.121969]</td><td>25.2207</td><td>[223.728, -21.8026, 152.922]</td></tr><tr><th>15</th><td>1/complex.15.pdb</td><td>1149.33</td><td>[0.462558, -0.243552, 0.85248]</td><td>166.787</td><td>[128.72, 245.553, 0.310004]</td></tr><tr><th>16</th><td>1/complex.16.pdb</td><td>1141.64</td><td>[0.390143, 0.490727, -0.779086]</td><td>178.756</td><td>[221.353, 172.43, 219.457]</td></tr><tr><th>17</th><td>1/complex.17.pdb</td><td>1137.69</td><td>[0.415076, -0.145869, 0.898017]</td><td>177.481</td><td>[132.601, 225.204, -24.7091]</td></tr><tr><th>18</th><td>1/complex.18.pdb</td><td>1134.67</td><td>[-0.354224, -0.864807, -0.355857]</td><td>53.6531</td><td>[119.411, -77.0157, 68.301]</td></tr><tr><th>19</th><td>1/complex.19.pdb</td><td>1131.49</td><td>[0.198172, 0.284124, -0.938084]</td><td>171.638</td><td>[252.842, 211.54, 117.484]</td></tr><tr><th>20</th><td>1/complex.20.pdb</td><td>1121.27</td><td>[-0.24533, 0.95444, 0.169878]</td><td>53.6405</td><td>[271.12, 39.7491, 168.214]</td></tr><tr><th>21</th><td>1/complex.21.pdb</td><td>1120.35</td><td>[0.610845, -0.0106539, 0.791678]</td><td>176.807</td><td>[53.057, 192.883, -38.3422]</td></tr><tr><th>22</th><td>1/complex.22.pdb</td><td>1113.75</td><td>[-0.0403629, -0.403056, 0.914285]</td><td>163.374</td><td>[240.207, 226.224, 110.334]</td></tr><tr><th>23</th><td>1/complex.23.pdb</td><td>1111.97</td><td>[0.760112, -0.258788, 0.596036]</td><td>142.707</td><td>[49.2839, 251.211, 46.2204]</td></tr><tr><th>24</th><td>1/complex.24.pdb</td><td>1111.65</td><td>[0.952117, 0.000642186, -0.305733]</td><td>168.834</td><td>[78.3567, 188.802, 244.416]</td></tr><tr><th>25</th><td>1/complex.25.pdb</td><td>1103.84</td><td>[-0.408766, 0.0734331, -0.90968]</td><td>165.403</td><td>[128.439, 208.444, -40.8879]</td></tr><tr><th>26</th><td>1/complex.26.pdb</td><td>1103.52</td><td>[-0.477505, -0.2279, -0.848558]</td><td>172.1</td><td>[81.309, 115.088, -76.6641]</td></tr><tr><th>27</th><td>1/complex.27.pdb</td><td>1099.05</td><td>[0.267829, -0.942462, -0.200081]</td><td>40.8917</td><td>[275.728, 43.6893, 163.296]</td></tr><tr><th>28</th><td>1/complex.28.pdb</td><td>1098.56</td><td>[0.517358, -0.0788287, 0.85213]</td><td>176.761</td><td>[93.5315, 211.129, -37.2552]</td></tr><tr><th>29</th><td>1/complex.29.pdb</td><td>1097.94</td><td>[-0.0244707, 0.442924, -0.896225]</td><td>149.405</td><td>[235.767, 230.728, 107.591]</td></tr><tr><th>30</th><td>1/complex.30.pdb</td><td>1093.27</td><td>[-0.467829, 0.00182296, -0.883817]</td><td>147.922</td><td>[101.311, 190.113, -53.2346]</td></tr><tr><th>&vellip;</th><td>&vellip;</td><td>&vellip;</td><td>&vellip;</td><td>&vellip;</td><td>&vellip;</td></tr></tbody></table></div>"
      ],
      "text/latex": [
       "\\begin{tabular}{r|cccccc}\n",
       "\t& fnames & score & omega & phi & prou & \\\\\n",
       "\t\\hline\n",
       "\t& Any & Any & Any & Any & Any & \\\\\n",
       "\t\\hline\n",
       "\t1 & 1/complex.1.pdb & 1440.86 & [0.507987, 0.151721, -0.847897] & 22.4984 & [190.083, 181.186, 146.302] & $\\dots$ \\\\\n",
       "\t2 & 1/complex.2.pdb & 1355.91 & [-0.553359, -0.114757, -0.825] & 177.56 & [60.9937, 152.925, -62.1826] & $\\dots$ \\\\\n",
       "\t3 & 1/complex.3.pdb & 1313.06 & [-0.518066, -0.21407, -0.828119] & 30.4902 & [29.3759, 111.855, -47.292] & $\\dots$ \\\\\n",
       "\t4 & 1/complex.4.pdb & 1254.79 & [-0.45877, -0.0508539, -0.887099] & 179.398 & [100.897, 174.065, -62.1583] & $\\dots$ \\\\\n",
       "\t5 & 1/complex.5.pdb & 1204.77 & [0.572324, 0.059546, 0.817863] & 163.204 & [59.0539, 171.36, -53.8009] & $\\dots$ \\\\\n",
       "\t6 & 1/complex.6.pdb & 1198.03 & [-0.516551, 0.0168724, -0.85609] & 165.107 & [86.4951, 194.415, -48.3581] & $\\dots$ \\\\\n",
       "\t7 & 1/complex.7.pdb & 1197.43 & [-0.0204815, -0.485007, -0.87427] & 17.3521 & [165.279, 34.529, -23.0272] & $\\dots$ \\\\\n",
       "\t8 & 1/complex.8.pdb & 1196.01 & [-0.616462, -0.0343283, -0.786636] & 164.788 & [45.6031, 179.582, -43.5745] & $\\dots$ \\\\\n",
       "\t9 & 1/complex.9.pdb & 1186.36 & [0.0707632, 0.954084, 0.29106] & 156.273 & [206.179, -51.9118, 120.038] & $\\dots$ \\\\\n",
       "\t10 & 1/complex.10.pdb & 1185.73 & [0.485734, -0.0233578, 0.873794] & 162.448 & [98.4442, 196.109, -49.4819] & $\\dots$ \\\\\n",
       "\t11 & 1/complex.11.pdb & 1166.28 & [0.494211, 0.511765, -0.702746] & 178.233 & [191.766, 167.057, 256.518] & $\\dots$ \\\\\n",
       "\t12 & 1/complex.12.pdb & 1161.68 & [0.841517, -0.0751491, 0.534979] & 152.263 & [-9.35952, 229.791, 47.0015] & $\\dots$ \\\\\n",
       "\t13 & 1/complex.13.pdb & 1161.09 & [-0.935167, -0.268649, -0.230847] & 87.5517 & [-58.4699, 105.318, 114.299] & $\\dots$ \\\\\n",
       "\t14 & 1/complex.14.pdb & 1155.72 & [0.0133468, 0.992444, 0.121969] & 25.2207 & [223.728, -21.8026, 152.922] & $\\dots$ \\\\\n",
       "\t15 & 1/complex.15.pdb & 1149.33 & [0.462558, -0.243552, 0.85248] & 166.787 & [128.72, 245.553, 0.310004] & $\\dots$ \\\\\n",
       "\t16 & 1/complex.16.pdb & 1141.64 & [0.390143, 0.490727, -0.779086] & 178.756 & [221.353, 172.43, 219.457] & $\\dots$ \\\\\n",
       "\t17 & 1/complex.17.pdb & 1137.69 & [0.415076, -0.145869, 0.898017] & 177.481 & [132.601, 225.204, -24.7091] & $\\dots$ \\\\\n",
       "\t18 & 1/complex.18.pdb & 1134.67 & [-0.354224, -0.864807, -0.355857] & 53.6531 & [119.411, -77.0157, 68.301] & $\\dots$ \\\\\n",
       "\t19 & 1/complex.19.pdb & 1131.49 & [0.198172, 0.284124, -0.938084] & 171.638 & [252.842, 211.54, 117.484] & $\\dots$ \\\\\n",
       "\t20 & 1/complex.20.pdb & 1121.27 & [-0.24533, 0.95444, 0.169878] & 53.6405 & [271.12, 39.7491, 168.214] & $\\dots$ \\\\\n",
       "\t21 & 1/complex.21.pdb & 1120.35 & [0.610845, -0.0106539, 0.791678] & 176.807 & [53.057, 192.883, -38.3422] & $\\dots$ \\\\\n",
       "\t22 & 1/complex.22.pdb & 1113.75 & [-0.0403629, -0.403056, 0.914285] & 163.374 & [240.207, 226.224, 110.334] & $\\dots$ \\\\\n",
       "\t23 & 1/complex.23.pdb & 1111.97 & [0.760112, -0.258788, 0.596036] & 142.707 & [49.2839, 251.211, 46.2204] & $\\dots$ \\\\\n",
       "\t24 & 1/complex.24.pdb & 1111.65 & [0.952117, 0.000642186, -0.305733] & 168.834 & [78.3567, 188.802, 244.416] & $\\dots$ \\\\\n",
       "\t25 & 1/complex.25.pdb & 1103.84 & [-0.408766, 0.0734331, -0.90968] & 165.403 & [128.439, 208.444, -40.8879] & $\\dots$ \\\\\n",
       "\t26 & 1/complex.26.pdb & 1103.52 & [-0.477505, -0.2279, -0.848558] & 172.1 & [81.309, 115.088, -76.6641] & $\\dots$ \\\\\n",
       "\t27 & 1/complex.27.pdb & 1099.05 & [0.267829, -0.942462, -0.200081] & 40.8917 & [275.728, 43.6893, 163.296] & $\\dots$ \\\\\n",
       "\t28 & 1/complex.28.pdb & 1098.56 & [0.517358, -0.0788287, 0.85213] & 176.761 & [93.5315, 211.129, -37.2552] & $\\dots$ \\\\\n",
       "\t29 & 1/complex.29.pdb & 1097.94 & [-0.0244707, 0.442924, -0.896225] & 149.405 & [235.767, 230.728, 107.591] & $\\dots$ \\\\\n",
       "\t30 & 1/complex.30.pdb & 1093.27 & [-0.467829, 0.00182296, -0.883817] & 147.922 & [101.311, 190.113, -53.2346] & $\\dots$ \\\\\n",
       "\t$\\dots$ & $\\dots$ & $\\dots$ & $\\dots$ & $\\dots$ & $\\dots$ &  \\\\\n",
       "\\end{tabular}\n"
      ],
      "text/plain": [
       "\u001b[1m100000×7 DataFrame\u001b[0m\n",
       "\u001b[1m    Row \u001b[0m│\u001b[1m fnames               \u001b[0m\u001b[1m score   \u001b[0m\u001b[1m omega                             \u001b[0m\u001b[1m ph\u001b[0m ⋯\n",
       "\u001b[1m        \u001b[0m│\u001b[90m Any                  \u001b[0m\u001b[90m Any     \u001b[0m\u001b[90m Any                               \u001b[0m\u001b[90m An\u001b[0m ⋯\n",
       "────────┼───────────────────────────────────────────────────────────────────────\n",
       "      1 │ 1/complex.1.pdb       1440.86  [0.507987, 0.151721, -0.847897]    22 ⋯\n",
       "      2 │ 1/complex.2.pdb       1355.91  [-0.553359, -0.114757, -0.825]     17\n",
       "      3 │ 1/complex.3.pdb       1313.06  [-0.518066, -0.21407, -0.828119]   30\n",
       "      4 │ 1/complex.4.pdb       1254.79  [-0.45877, -0.0508539, -0.887099]  17\n",
       "      5 │ 1/complex.5.pdb       1204.77  [0.572324, 0.059546, 0.817863]     16 ⋯\n",
       "      6 │ 1/complex.6.pdb       1198.03  [-0.516551, 0.0168724, -0.85609]   16\n",
       "      7 │ 1/complex.7.pdb       1197.43  [-0.0204815, -0.485007, -0.87427]  17\n",
       "      8 │ 1/complex.8.pdb       1196.01  [-0.616462, -0.0343283, -0.78663…  16\n",
       "      9 │ 1/complex.9.pdb       1186.36  [0.0707632, 0.954084, 0.29106]     15 ⋯\n",
       "     10 │ 1/complex.10.pdb      1185.73  [0.485734, -0.0233578, 0.873794]   16\n",
       "     11 │ 1/complex.11.pdb      1166.28  [0.494211, 0.511765, -0.702746]    17\n",
       "   ⋮    │          ⋮               ⋮                     ⋮                     ⋱\n",
       "  99991 │ 1000/complex.91.pdb   996.912  [0.379484, -0.168704, -0.909687]   14\n",
       "  99992 │ 1000/complex.92.pdb   996.856  [0.710741, 0.0562445, -0.701201]   12 ⋯\n",
       "  99993 │ 1000/complex.93.pdb   993.318  [0.172362, 0.500836, -0.848206]    16\n",
       "  99994 │ 1000/complex.94.pdb   992.686  [0.521999, 0.529624, -0.668592]    15\n",
       "  99995 │ 1000/complex.95.pdb   991.781  [-0.887846, -0.0313924, 0.459069]  15\n",
       "  99996 │ 1000/complex.96.pdb   990.964  [0.714337, 0.684196, 0.146964]     13 ⋯\n",
       "  99997 │ 1000/complex.97.pdb   988.725  [-0.159312, 0.976777, 0.143268]    35\n",
       "  99998 │ 1000/complex.98.pdb   988.483  [0.421854, -0.2695, 0.865684]      15\n",
       "  99999 │ 1000/complex.99.pdb   988.469  [0.0416997, 0.499806, -0.865133]   14\n",
       " 100000 │ 1000/complex.100.pdb  987.892  [0.572785, 0.448929, -0.685843]    17 ⋯\n",
       "\u001b[36m                                                4 columns and 99979 rows omitted\u001b[0m"
      ]
     },
     "execution_count": 16,
     "metadata": {},
     "output_type": "execute_result"
    }
   ],
   "source": [
    "df = DataFrame(fnames=fnames, score=score, omega=omega, phi=phi, prou=prou, d=d, struc=struc)"
   ]
  },
  {
   "cell_type": "code",
   "execution_count": 17,
   "id": "0225efef-539c-4fc1-b11c-3bf14df6c8f4",
   "metadata": {},
   "outputs": [],
   "source": [
    "df_org = deepcopy(df);"
   ]
  },
  {
   "cell_type": "code",
   "execution_count": 18,
   "id": "cc488138-9e57-416a-bdf4-0dd7f7ca8614",
   "metadata": {},
   "outputs": [],
   "source": [
    "#using BSON: @save, @load\n",
    "#@save \"skrew_parameters.bson\" fnames score omega phi prou d df rmsd"
   ]
  },
  {
   "cell_type": "code",
   "execution_count": 19,
   "id": "88b16d7e-2d7a-4759-874c-3d3cbead8916",
   "metadata": {},
   "outputs": [],
   "source": [
    "#using BSON: @save, @load\n",
    "#@save \"df.bson\" df"
   ]
  },
  {
   "cell_type": "code",
   "execution_count": 20,
   "id": "c9400341-a639-4e7c-86f5-6baf593f4f50",
   "metadata": {},
   "outputs": [],
   "source": [
    "using JLD2\n",
    "\n",
    "save(\"skrew_parameters.jld2\", \"fnames\", fnames, \"score\", score, \"omega\", omega, \"phi\", phi, \"prou\", prou, \"d\", d, \"df\", df, \"rmsd\", rmsd)\n",
    "save(\"df.jld2\", \"df\", df)"
   ]
  },
  {
   "cell_type": "code",
   "execution_count": null,
   "id": "a9bdb4a4-c673-4542-90bf-6fe48688cd53",
   "metadata": {},
   "outputs": [],
   "source": []
  }
 ],
 "metadata": {
  "kernelspec": {
   "name": "julia-1.7"
  },
  "language_info": {
   "file_extension": ".jl",
   "mimetype": "application/julia",
   "name": "julia",
   "version": "1.7.2"
  }
 },
 "nbformat": 4,
 "nbformat_minor": 5
}
