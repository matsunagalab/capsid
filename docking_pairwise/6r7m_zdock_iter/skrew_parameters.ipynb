{
 "cells": [
  {
   "cell_type": "markdown",
   "id": "62a9d42f-dcfb-4d04-b7ee-aeab2626fe19",
   "metadata": {},
   "source": [
    "# 6r7m"
   ]
  },
  {
   "cell_type": "code",
   "execution_count": 1,
   "id": "c2b6edbc-2a9f-438b-9e0d-1fb076e39d0e",
   "metadata": {},
   "outputs": [],
   "source": [
    "using Printf, DelimitedFiles\n",
    "using Plots\n",
    "using DataFrames\n",
    "using Revise, MDToolbox"
   ]
  },
  {
   "cell_type": "code",
   "execution_count": 2,
   "id": "c9373fbf-44a1-4c9b-88e3-5bb66950ae03",
   "metadata": {},
   "outputs": [
    {
     "data": {
      "text/plain": [
       "read_ascii (generic function with 1 method)"
      ]
     },
     "execution_count": 2,
     "metadata": {},
     "output_type": "execute_result"
    }
   ],
   "source": [
    "function read_ascii(fname)\n",
    "    lines = readlines(fname)\n",
    "    natom = length(lines)\n",
    "    xyz = zeros(Float64, 1, natom*3)\n",
    "    for i = 1:natom\n",
    "        xyz[1, 3*(i-1)+1] = parse(Float64, lines[i][31:38])\n",
    "        xyz[1, 3*(i-1)+2] = parse(Float64, lines[i][39:46])\n",
    "        xyz[1, 3*(i-1)+3] = parse(Float64, lines[i][47:54])\n",
    "    end\n",
    "    TrjArray(xyz=xyz)\n",
    "end"
   ]
  },
  {
   "cell_type": "code",
   "execution_count": 3,
   "id": "fa858e0e-6890-4489-953b-936b481fa4aa",
   "metadata": {},
   "outputs": [
    {
     "data": {
      "text/plain": [
       "Any[]"
      ]
     },
     "execution_count": 3,
     "metadata": {},
     "output_type": "execute_result"
    }
   ],
   "source": [
    "fnames = []\n",
    "omega = []\n",
    "phi = []\n",
    "prou = []\n",
    "d = []\n",
    "score = []\n",
    "rmsd = []\n",
    "struc = []"
   ]
  },
  {
   "cell_type": "code",
   "execution_count": 4,
   "id": "32f8cbb0-c23b-4139-a37d-d0cb8a807005",
   "metadata": {},
   "outputs": [
    {
     "data": {
      "text/plain": [
       "1000"
      ]
     },
     "execution_count": 4,
     "metadata": {},
     "output_type": "execute_result"
    }
   ],
   "source": [
    "nrun = 1000"
   ]
  },
  {
   "cell_type": "code",
   "execution_count": 5,
   "id": "a9238faf-a6c3-43f9-8e58-bd5847247e2a",
   "metadata": {},
   "outputs": [
    {
     "name": "stdout",
     "output_type": "stream",
     "text": [
      "irun = 100irun = 200irun = 300irun = 400irun = 500irun = 600irun = 700irun = 800irun = 900irun = 1000"
     ]
    }
   ],
   "source": [
    "for irun = 1:nrun\n",
    "\n",
    "    if irun % 100 == 0\n",
    "        print(\"irun = $irun\")\n",
    "    end\n",
    "    for i in 1:100\n",
    "        filename = \"$(irun)/complex.$(i).pdb\"\n",
    "        #t = mdload(filename)\n",
    "        #t = MDToolbox.readpdb_biostructures(filename)\n",
    "        t = read_ascii(filename)\n",
    "        t1 = t[:, 1:1206]\n",
    "        t2 = t[:, 1207:end]\n",
    "        r = MDToolbox.compute_skrew(t1, t2)\n",
    "        push!(fnames, filename)\n",
    "        push!(omega, r.omega)\n",
    "        push!(phi, r.phi / (2.0 * pi) * 360.0)\n",
    "        push!(prou, r.prou)\n",
    "        push!(d, r.d)\n",
    "        push!(struc, t)\n",
    "        #t_ca = t[\"atomname CA\"]\n",
    "        #push!(rmsd, compute_rmsd_permute(ref, t_ca, 2))\n",
    "    end\n",
    "\n",
    "    s = readdlm(\"$(irun)/zdock.out\", skipstart=5)\n",
    "    score = [score; s[1:100, end]]\n",
    "end"
   ]
  },
  {
   "cell_type": "code",
   "execution_count": 6,
   "id": "8d2ad93d-8d57-4b90-abfa-976cf23638b0",
   "metadata": {},
   "outputs": [
    {
     "data": {
      "text/html": [
       "<div><div style = \"float: left;\"><span>100000×7 DataFrame</span></div><div style = \"float: right;\"><span style = \"font-style: italic;\">99975 rows omitted</span></div><div style = \"clear: both;\"></div></div><div class = \"data-frame\" style = \"overflow-x: scroll;\"><table class = \"data-frame\" style = \"margin-bottom: 6px;\"><thead><tr class = \"header\"><th class = \"rowNumber\" style = \"font-weight: bold; text-align: right;\">Row</th><th style = \"text-align: left;\">fnames</th><th style = \"text-align: left;\">score</th><th style = \"text-align: left;\">omega</th><th style = \"text-align: left;\">phi</th><th style = \"text-align: left;\">prou</th><th style = \"text-align: left;\">d</th><th style = \"text-align: left;\">struc</th></tr><tr class = \"subheader headerLastRow\"><th class = \"rowNumber\" style = \"font-weight: bold; text-align: right;\"></th><th title = \"Any\" style = \"text-align: left;\">Any</th><th title = \"Any\" style = \"text-align: left;\">Any</th><th title = \"Any\" style = \"text-align: left;\">Any</th><th title = \"Any\" style = \"text-align: left;\">Any</th><th title = \"Any\" style = \"text-align: left;\">Any</th><th title = \"Any\" style = \"text-align: left;\">Any</th><th title = \"Any\" style = \"text-align: left;\">Any</th></tr></thead><tbody><tr><td class = \"rowNumber\" style = \"font-weight: bold; text-align: right;\">1</td><td style = \"text-align: left;\">1/complex.1.pdb</td><td style = \"text-align: left;\">1440.86</td><td style = \"text-align: left;\">[0.507987, 0.151721, -0.847897]</td><td style = \"text-align: left;\">22.4984</td><td style = \"text-align: left;\">[190.083, 181.186, 146.302]</td><td style = \"text-align: left;\">3.36289</td><td style = \"text-align: left;\">1x2412 TrjArray{Float64, Int64}\\n|   251.17   197.37   191.04 |  …     259.97   165.91   187.67 |</td></tr><tr><td class = \"rowNumber\" style = \"font-weight: bold; text-align: right;\">2</td><td style = \"text-align: left;\">1/complex.2.pdb</td><td style = \"text-align: left;\">1355.91</td><td style = \"text-align: left;\">[-0.553359, -0.114757, -0.825]</td><td style = \"text-align: left;\">177.56</td><td style = \"text-align: left;\">[60.9937, 152.925, -62.1826]</td><td style = \"text-align: left;\">1.19473</td><td style = \"text-align: left;\">1x2412 TrjArray{Float64, Int64}\\n|   251.17   197.37   191.04 |  …     225.29   182.16   215.38 |</td></tr><tr><td class = \"rowNumber\" style = \"font-weight: bold; text-align: right;\">3</td><td style = \"text-align: left;\">1/complex.3.pdb</td><td style = \"text-align: left;\">1313.06</td><td style = \"text-align: left;\">[-0.518066, -0.21407, -0.828119]</td><td style = \"text-align: left;\">30.4902</td><td style = \"text-align: left;\">[29.3759, 111.855, -47.292]</td><td style = \"text-align: left;\">-0.369923</td><td style = \"text-align: left;\">1x2412 TrjArray{Float64, Int64}\\n|   251.17   197.37   191.04 |  …     258.02   164.03   201.93 |</td></tr><tr><td class = \"rowNumber\" style = \"font-weight: bold; text-align: right;\">4</td><td style = \"text-align: left;\">1/complex.4.pdb</td><td style = \"text-align: left;\">1254.79</td><td style = \"text-align: left;\">[-0.45877, -0.0508539, -0.887099]</td><td style = \"text-align: left;\">179.398</td><td style = \"text-align: left;\">[100.897, 174.065, -62.1583]</td><td style = \"text-align: left;\">-0.107229</td><td style = \"text-align: left;\">1x2412 TrjArray{Float64, Int64}\\n|   251.17   197.37   191.04 |  …     221.55   181.18   213.08 |</td></tr><tr><td class = \"rowNumber\" style = \"font-weight: bold; text-align: right;\">5</td><td style = \"text-align: left;\">1/complex.5.pdb</td><td style = \"text-align: left;\">1204.77</td><td style = \"text-align: left;\">[0.572324, 0.059546, 0.817863]</td><td style = \"text-align: left;\">163.204</td><td style = \"text-align: left;\">[59.0539, 171.36, -53.8009]</td><td style = \"text-align: left;\">2.91343</td><td style = \"text-align: left;\">1x2412 TrjArray{Float64, Int64}\\n|   251.17   197.37   191.04 |  …     226.02   189.04   219.26 |</td></tr><tr><td class = \"rowNumber\" style = \"font-weight: bold; text-align: right;\">6</td><td style = \"text-align: left;\">1/complex.6.pdb</td><td style = \"text-align: left;\">1198.03</td><td style = \"text-align: left;\">[-0.516551, 0.0168724, -0.85609]</td><td style = \"text-align: left;\">165.107</td><td style = \"text-align: left;\">[86.4951, 194.415, -48.3581]</td><td style = \"text-align: left;\">2.17879</td><td style = \"text-align: left;\">1x2412 TrjArray{Float64, Int64}\\n|   251.17   197.37   191.04 |  …     223.57   177.00   210.79 |</td></tr><tr><td class = \"rowNumber\" style = \"font-weight: bold; text-align: right;\">7</td><td style = \"text-align: left;\">1/complex.7.pdb</td><td style = \"text-align: left;\">1197.43</td><td style = \"text-align: left;\">[-0.0204815, -0.485007, -0.87427]</td><td style = \"text-align: left;\">17.3521</td><td style = \"text-align: left;\">[165.279, 34.529, -23.0272]</td><td style = \"text-align: left;\">12.8354</td><td style = \"text-align: left;\">1x2412 TrjArray{Float64, Int64}\\n|   251.17   197.37   191.04 |  …     262.27   167.42   196.22 |</td></tr><tr><td class = \"rowNumber\" style = \"font-weight: bold; text-align: right;\">8</td><td style = \"text-align: left;\">1/complex.8.pdb</td><td style = \"text-align: left;\">1196.01</td><td style = \"text-align: left;\">[-0.616462, -0.0343283, -0.786636]</td><td style = \"text-align: left;\">164.788</td><td style = \"text-align: left;\">[45.6031, 179.582, -43.5745]</td><td style = \"text-align: left;\">2.53024</td><td style = \"text-align: left;\">1x2412 TrjArray{Float64, Int64}\\n|   251.17   197.37   191.04 |  …     227.36   179.05   214.09 |</td></tr><tr><td class = \"rowNumber\" style = \"font-weight: bold; text-align: right;\">9</td><td style = \"text-align: left;\">1/complex.9.pdb</td><td style = \"text-align: left;\">1186.36</td><td style = \"text-align: left;\">[0.0707632, 0.954084, 0.29106]</td><td style = \"text-align: left;\">156.273</td><td style = \"text-align: left;\">[206.179, -51.9118, 120.038]</td><td style = \"text-align: left;\">19.5824</td><td style = \"text-align: left;\">1x2412 TrjArray{Float64, Int64}\\n|   251.17   197.37   191.04 |  …     197.52   222.74   192.30 |</td></tr><tr><td class = \"rowNumber\" style = \"font-weight: bold; text-align: right;\">10</td><td style = \"text-align: left;\">1/complex.10.pdb</td><td style = \"text-align: left;\">1185.73</td><td style = \"text-align: left;\">[0.485734, -0.0233578, 0.873794]</td><td style = \"text-align: left;\">162.448</td><td style = \"text-align: left;\">[98.4442, 196.109, -49.4819]</td><td style = \"text-align: left;\">2.06194</td><td style = \"text-align: left;\">1x2412 TrjArray{Float64, Int64}\\n|   251.17   197.37   191.04 |  …     222.38   187.40   214.98 |</td></tr><tr><td class = \"rowNumber\" style = \"font-weight: bold; text-align: right;\">11</td><td style = \"text-align: left;\">1/complex.11.pdb</td><td style = \"text-align: left;\">1166.28</td><td style = \"text-align: left;\">[0.494211, 0.511765, -0.702746]</td><td style = \"text-align: left;\">178.233</td><td style = \"text-align: left;\">[191.766, 167.057, 256.518]</td><td style = \"text-align: left;\">-0.796319</td><td style = \"text-align: left;\">1x2412 TrjArray{Float64, Int64}\\n|   251.17   197.37   191.04 |  …     216.83   228.63   191.36 |</td></tr><tr><td class = \"rowNumber\" style = \"font-weight: bold; text-align: right;\">12</td><td style = \"text-align: left;\">1/complex.12.pdb</td><td style = \"text-align: left;\">1161.68</td><td style = \"text-align: left;\">[0.841517, -0.0751491, 0.534979]</td><td style = \"text-align: left;\">152.263</td><td style = \"text-align: left;\">[-9.35952, 229.791, 47.0015]</td><td style = \"text-align: left;\">-16.1091</td><td style = \"text-align: left;\">1x2412 TrjArray{Float64, Int64}\\n|   251.17   197.37   191.04 |  …     228.21   224.87   211.10 |</td></tr><tr><td class = \"rowNumber\" style = \"font-weight: bold; text-align: right;\">13</td><td style = \"text-align: left;\">1/complex.13.pdb</td><td style = \"text-align: left;\">1161.09</td><td style = \"text-align: left;\">[-0.935167, -0.268649, -0.230847]</td><td style = \"text-align: left;\">87.5517</td><td style = \"text-align: left;\">[-58.4699, 105.318, 114.299]</td><td style = \"text-align: left;\">-16.97</td><td style = \"text-align: left;\">1x2412 TrjArray{Float64, Int64}\\n|   251.17   197.37   191.04 |  …     271.95   202.96   194.43 |</td></tr><tr><td style = \"text-align: right;\">&vellip;</td><td style = \"text-align: right;\">&vellip;</td><td style = \"text-align: right;\">&vellip;</td><td style = \"text-align: right;\">&vellip;</td><td style = \"text-align: right;\">&vellip;</td><td style = \"text-align: right;\">&vellip;</td><td style = \"text-align: right;\">&vellip;</td><td style = \"text-align: right;\">&vellip;</td></tr><tr><td class = \"rowNumber\" style = \"font-weight: bold; text-align: right;\">99989</td><td style = \"text-align: left;\">1000/complex.89.pdb</td><td style = \"text-align: left;\">997.123</td><td style = \"text-align: left;\">[0.263995, 0.521412, -0.811441]</td><td style = \"text-align: left;\">179.319</td><td style = \"text-align: left;\">[232.299, 187.21, 195.873]</td><td style = \"text-align: left;\">2.45923</td><td style = \"text-align: left;\">1x2412 TrjArray{Float64, Int64}\\n|   251.17   197.37   191.04 |  …     216.48   191.21   174.94 |</td></tr><tr><td class = \"rowNumber\" style = \"font-weight: bold; text-align: right;\">99990</td><td style = \"text-align: left;\">1000/complex.90.pdb</td><td style = \"text-align: left;\">996.957</td><td style = \"text-align: left;\">[-0.663772, 0.708535, 0.23955]</td><td style = \"text-align: left;\">30.0606</td><td style = \"text-align: left;\">[257.012, 171.023, 206.31]</td><td style = \"text-align: left;\">-20.0686</td><td style = \"text-align: left;\">1x2412 TrjArray{Float64, Int64}\\n|   251.17   197.37   191.04 |  …     260.13   176.99   183.68 |</td></tr><tr><td class = \"rowNumber\" style = \"font-weight: bold; text-align: right;\">99991</td><td style = \"text-align: left;\">1000/complex.91.pdb</td><td style = \"text-align: left;\">996.912</td><td style = \"text-align: left;\">[0.379484, -0.168704, -0.909687]</td><td style = \"text-align: left;\">145.507</td><td style = \"text-align: left;\">[286.531, 168.842, 88.2165]</td><td style = \"text-align: left;\">9.73877</td><td style = \"text-align: left;\">1x2412 TrjArray{Float64, Int64}\\n|   251.17   197.37   191.04 |  …     241.91   171.84   182.88 |</td></tr><tr><td class = \"rowNumber\" style = \"font-weight: bold; text-align: right;\">99992</td><td style = \"text-align: left;\">1000/complex.92.pdb</td><td style = \"text-align: left;\">996.856</td><td style = \"text-align: left;\">[0.710741, 0.0562445, -0.701201]</td><td style = \"text-align: left;\">124.201</td><td style = \"text-align: left;\">[204.772, 189.071, 222.724]</td><td style = \"text-align: left;\">-11.1311</td><td style = \"text-align: left;\">1x2412 TrjArray{Float64, Int64}\\n|   251.17   197.37   191.04 |  …     234.26   176.00   187.23 |</td></tr><tr><td class = \"rowNumber\" style = \"font-weight: bold; text-align: right;\">99993</td><td style = \"text-align: left;\">1000/complex.93.pdb</td><td style = \"text-align: left;\">993.318</td><td style = \"text-align: left;\">[0.172362, 0.500836, -0.848206]</td><td style = \"text-align: left;\">163.248</td><td style = \"text-align: left;\">[240.36, 203.506, 169.006]</td><td style = \"text-align: left;\">4.35245</td><td style = \"text-align: left;\">1x2412 TrjArray{Float64, Int64}\\n|   251.17   197.37   191.04 |  …     221.35   184.99   175.22 |</td></tr><tr><td class = \"rowNumber\" style = \"font-weight: bold; text-align: right;\">99994</td><td style = \"text-align: left;\">1000/complex.94.pdb</td><td style = \"text-align: left;\">992.686</td><td style = \"text-align: left;\">[0.521999, 0.529624, -0.668592]</td><td style = \"text-align: left;\">159.569</td><td style = \"text-align: left;\">[189.852, 137.897, 257.461]</td><td style = \"text-align: left;\">5.28547</td><td style = \"text-align: left;\">1x2412 TrjArray{Float64, Int64}\\n|   251.17   197.37   191.04 |  …     242.32   191.79   172.06 |</td></tr><tr><td class = \"rowNumber\" style = \"font-weight: bold; text-align: right;\">99995</td><td style = \"text-align: left;\">1000/complex.95.pdb</td><td style = \"text-align: left;\">991.781</td><td style = \"text-align: left;\">[-0.887846, -0.0313924, 0.459069]</td><td style = \"text-align: left;\">159.598</td><td style = \"text-align: left;\">[123.006, 185.916, 250.609]</td><td style = \"text-align: left;\">-7.27607</td><td style = \"text-align: left;\">1x2412 TrjArray{Float64, Int64}\\n|   251.17   197.37   191.04 |  …     251.27   188.10   170.01 |</td></tr><tr><td class = \"rowNumber\" style = \"font-weight: bold; text-align: right;\">99996</td><td style = \"text-align: left;\">1000/complex.96.pdb</td><td style = \"text-align: left;\">990.964</td><td style = \"text-align: left;\">[0.714337, 0.684196, 0.146964]</td><td style = \"text-align: left;\">135.937</td><td style = \"text-align: left;\">[-3.88741, -29.2738, 155.18]</td><td style = \"text-align: left;\">7.44344</td><td style = \"text-align: left;\">1x2412 TrjArray{Float64, Int64}\\n|   251.17   197.37   191.04 |  …     235.43   226.85   204.54 |</td></tr><tr><td class = \"rowNumber\" style = \"font-weight: bold; text-align: right;\">99997</td><td style = \"text-align: left;\">1000/complex.97.pdb</td><td style = \"text-align: left;\">988.725</td><td style = \"text-align: left;\">[-0.159312, 0.976777, 0.143268]</td><td style = \"text-align: left;\">35.576</td><td style = \"text-align: left;\">[258.593, 17.9731, 165.015]</td><td style = \"text-align: left;\">-20.6057</td><td style = \"text-align: left;\">1x2412 TrjArray{Float64, Int64}\\n|   251.17   197.37   191.04 |  …     255.78   178.91   176.05 |</td></tr><tr><td class = \"rowNumber\" style = \"font-weight: bold; text-align: right;\">99998</td><td style = \"text-align: left;\">1000/complex.98.pdb</td><td style = \"text-align: left;\">988.483</td><td style = \"text-align: left;\">[0.421854, -0.2695, 0.865684]</td><td style = \"text-align: left;\">157.015</td><td style = \"text-align: left;\">[143.416, 247.772, 7.2474]</td><td style = \"text-align: left;\">2.73517</td><td style = \"text-align: left;\">1x2412 TrjArray{Float64, Int64}\\n|   251.17   197.37   191.04 |  …     219.50   185.15   211.42 |</td></tr><tr><td class = \"rowNumber\" style = \"font-weight: bold; text-align: right;\">99999</td><td style = \"text-align: left;\">1000/complex.99.pdb</td><td style = \"text-align: left;\">988.469</td><td style = \"text-align: left;\">[0.0416997, 0.499806, -0.865133]</td><td style = \"text-align: left;\">147.767</td><td style = \"text-align: left;\">[240.401, 219.612, 138.462]</td><td style = \"text-align: left;\">2.64741</td><td style = \"text-align: left;\">1x2412 TrjArray{Float64, Int64}\\n|   251.17   197.37   191.04 |  …     227.88   177.20   178.55 |</td></tr><tr><td class = \"rowNumber\" style = \"font-weight: bold; text-align: right;\">100000</td><td style = \"text-align: left;\">1000/complex.100.pdb</td><td style = \"text-align: left;\">987.892</td><td style = \"text-align: left;\">[0.572785, 0.448929, -0.685843]</td><td style = \"text-align: left;\">176.715</td><td style = \"text-align: left;\">[184.465, 150.514, 252.578]</td><td style = \"text-align: left;\">-0.605092</td><td style = \"text-align: left;\">1x2412 TrjArray{Float64, Int64}\\n|   251.17   197.37   191.04 |  …     229.73   193.71   171.63 |</td></tr></tbody></table></div>"
      ],
      "text/latex": [
       "\\begin{tabular}{r|cccccc}\n",
       "\t& fnames & score & omega & phi & prou & \\\\\n",
       "\t\\hline\n",
       "\t& Any & Any & Any & Any & Any & \\\\\n",
       "\t\\hline\n",
       "\t1 & 1/complex.1.pdb & 1440.86 & [0.507987, 0.151721, -0.847897] & 22.4984 & [190.083, 181.186, 146.302] & $\\dots$ \\\\\n",
       "\t2 & 1/complex.2.pdb & 1355.91 & [-0.553359, -0.114757, -0.825] & 177.56 & [60.9937, 152.925, -62.1826] & $\\dots$ \\\\\n",
       "\t3 & 1/complex.3.pdb & 1313.06 & [-0.518066, -0.21407, -0.828119] & 30.4902 & [29.3759, 111.855, -47.292] & $\\dots$ \\\\\n",
       "\t4 & 1/complex.4.pdb & 1254.79 & [-0.45877, -0.0508539, -0.887099] & 179.398 & [100.897, 174.065, -62.1583] & $\\dots$ \\\\\n",
       "\t5 & 1/complex.5.pdb & 1204.77 & [0.572324, 0.059546, 0.817863] & 163.204 & [59.0539, 171.36, -53.8009] & $\\dots$ \\\\\n",
       "\t6 & 1/complex.6.pdb & 1198.03 & [-0.516551, 0.0168724, -0.85609] & 165.107 & [86.4951, 194.415, -48.3581] & $\\dots$ \\\\\n",
       "\t7 & 1/complex.7.pdb & 1197.43 & [-0.0204815, -0.485007, -0.87427] & 17.3521 & [165.279, 34.529, -23.0272] & $\\dots$ \\\\\n",
       "\t8 & 1/complex.8.pdb & 1196.01 & [-0.616462, -0.0343283, -0.786636] & 164.788 & [45.6031, 179.582, -43.5745] & $\\dots$ \\\\\n",
       "\t9 & 1/complex.9.pdb & 1186.36 & [0.0707632, 0.954084, 0.29106] & 156.273 & [206.179, -51.9118, 120.038] & $\\dots$ \\\\\n",
       "\t10 & 1/complex.10.pdb & 1185.73 & [0.485734, -0.0233578, 0.873794] & 162.448 & [98.4442, 196.109, -49.4819] & $\\dots$ \\\\\n",
       "\t11 & 1/complex.11.pdb & 1166.28 & [0.494211, 0.511765, -0.702746] & 178.233 & [191.766, 167.057, 256.518] & $\\dots$ \\\\\n",
       "\t12 & 1/complex.12.pdb & 1161.68 & [0.841517, -0.0751491, 0.534979] & 152.263 & [-9.35952, 229.791, 47.0015] & $\\dots$ \\\\\n",
       "\t13 & 1/complex.13.pdb & 1161.09 & [-0.935167, -0.268649, -0.230847] & 87.5517 & [-58.4699, 105.318, 114.299] & $\\dots$ \\\\\n",
       "\t14 & 1/complex.14.pdb & 1155.72 & [0.0133468, 0.992444, 0.121969] & 25.2207 & [223.728, -21.8026, 152.922] & $\\dots$ \\\\\n",
       "\t15 & 1/complex.15.pdb & 1149.33 & [0.462558, -0.243552, 0.85248] & 166.787 & [128.72, 245.553, 0.310004] & $\\dots$ \\\\\n",
       "\t16 & 1/complex.16.pdb & 1141.64 & [0.390143, 0.490727, -0.779086] & 178.756 & [221.353, 172.43, 219.457] & $\\dots$ \\\\\n",
       "\t17 & 1/complex.17.pdb & 1137.69 & [0.415076, -0.145869, 0.898017] & 177.481 & [132.601, 225.204, -24.7091] & $\\dots$ \\\\\n",
       "\t18 & 1/complex.18.pdb & 1134.67 & [-0.354224, -0.864807, -0.355857] & 53.6531 & [119.411, -77.0157, 68.301] & $\\dots$ \\\\\n",
       "\t19 & 1/complex.19.pdb & 1131.49 & [0.198172, 0.284124, -0.938084] & 171.638 & [252.842, 211.54, 117.484] & $\\dots$ \\\\\n",
       "\t20 & 1/complex.20.pdb & 1121.27 & [-0.24533, 0.95444, 0.169878] & 53.6405 & [271.12, 39.7491, 168.214] & $\\dots$ \\\\\n",
       "\t21 & 1/complex.21.pdb & 1120.35 & [0.610845, -0.0106539, 0.791678] & 176.807 & [53.057, 192.883, -38.3422] & $\\dots$ \\\\\n",
       "\t22 & 1/complex.22.pdb & 1113.75 & [-0.0403629, -0.403056, 0.914285] & 163.374 & [240.207, 226.224, 110.334] & $\\dots$ \\\\\n",
       "\t23 & 1/complex.23.pdb & 1111.97 & [0.760112, -0.258788, 0.596036] & 142.707 & [49.2839, 251.211, 46.2204] & $\\dots$ \\\\\n",
       "\t24 & 1/complex.24.pdb & 1111.65 & [0.952117, 0.000642186, -0.305733] & 168.834 & [78.3567, 188.802, 244.416] & $\\dots$ \\\\\n",
       "\t25 & 1/complex.25.pdb & 1103.84 & [-0.408766, 0.0734331, -0.90968] & 165.403 & [128.439, 208.444, -40.8879] & $\\dots$ \\\\\n",
       "\t26 & 1/complex.26.pdb & 1103.52 & [-0.477505, -0.2279, -0.848558] & 172.1 & [81.309, 115.088, -76.6641] & $\\dots$ \\\\\n",
       "\t27 & 1/complex.27.pdb & 1099.05 & [0.267829, -0.942462, -0.200081] & 40.8917 & [275.728, 43.6893, 163.296] & $\\dots$ \\\\\n",
       "\t28 & 1/complex.28.pdb & 1098.56 & [0.517358, -0.0788287, 0.85213] & 176.761 & [93.5315, 211.129, -37.2552] & $\\dots$ \\\\\n",
       "\t29 & 1/complex.29.pdb & 1097.94 & [-0.0244707, 0.442924, -0.896225] & 149.405 & [235.767, 230.728, 107.591] & $\\dots$ \\\\\n",
       "\t30 & 1/complex.30.pdb & 1093.27 & [-0.467829, 0.00182296, -0.883817] & 147.922 & [101.311, 190.113, -53.2346] & $\\dots$ \\\\\n",
       "\t$\\dots$ & $\\dots$ & $\\dots$ & $\\dots$ & $\\dots$ & $\\dots$ &  \\\\\n",
       "\\end{tabular}\n"
      ],
      "text/plain": [
       "\u001b[1m100000×7 DataFrame\u001b[0m\n",
       "\u001b[1m    Row \u001b[0m│\u001b[1m fnames               \u001b[0m\u001b[1m score   \u001b[0m\u001b[1m omega                             \u001b[0m\u001b[1m ph\u001b[0m ⋯\n",
       "        │\u001b[90m Any                  \u001b[0m\u001b[90m Any     \u001b[0m\u001b[90m Any                               \u001b[0m\u001b[90m An\u001b[0m ⋯\n",
       "────────┼───────────────────────────────────────────────────────────────────────\n",
       "      1 │ 1/complex.1.pdb       1440.86  [0.507987, 0.151721, -0.847897]    22 ⋯\n",
       "      2 │ 1/complex.2.pdb       1355.91  [-0.553359, -0.114757, -0.825]     17\n",
       "      3 │ 1/complex.3.pdb       1313.06  [-0.518066, -0.21407, -0.828119]   30\n",
       "      4 │ 1/complex.4.pdb       1254.79  [-0.45877, -0.0508539, -0.887099]  17\n",
       "      5 │ 1/complex.5.pdb       1204.77  [0.572324, 0.059546, 0.817863]     16 ⋯\n",
       "      6 │ 1/complex.6.pdb       1198.03  [-0.516551, 0.0168724, -0.85609]   16\n",
       "      7 │ 1/complex.7.pdb       1197.43  [-0.0204815, -0.485007, -0.87427]  17\n",
       "      8 │ 1/complex.8.pdb       1196.01  [-0.616462, -0.0343283, -0.78663…  16\n",
       "      9 │ 1/complex.9.pdb       1186.36  [0.0707632, 0.954084, 0.29106]     15 ⋯\n",
       "     10 │ 1/complex.10.pdb      1185.73  [0.485734, -0.0233578, 0.873794]   16\n",
       "     11 │ 1/complex.11.pdb      1166.28  [0.494211, 0.511765, -0.702746]    17\n",
       "   ⋮    │          ⋮               ⋮                     ⋮                     ⋱\n",
       "  99991 │ 1000/complex.91.pdb   996.912  [0.379484, -0.168704, -0.909687]   14\n",
       "  99992 │ 1000/complex.92.pdb   996.856  [0.710741, 0.0562445, -0.701201]   12 ⋯\n",
       "  99993 │ 1000/complex.93.pdb   993.318  [0.172362, 0.500836, -0.848206]    16\n",
       "  99994 │ 1000/complex.94.pdb   992.686  [0.521999, 0.529624, -0.668592]    15\n",
       "  99995 │ 1000/complex.95.pdb   991.781  [-0.887846, -0.0313924, 0.459069]  15\n",
       "  99996 │ 1000/complex.96.pdb   990.964  [0.714337, 0.684196, 0.146964]     13 ⋯\n",
       "  99997 │ 1000/complex.97.pdb   988.725  [-0.159312, 0.976777, 0.143268]    35\n",
       "  99998 │ 1000/complex.98.pdb   988.483  [0.421854, -0.2695, 0.865684]      15\n",
       "  99999 │ 1000/complex.99.pdb   988.469  [0.0416997, 0.499806, -0.865133]   14\n",
       " 100000 │ 1000/complex.100.pdb  987.892  [0.572785, 0.448929, -0.685843]    17 ⋯\n",
       "\u001b[36m                                                4 columns and 99979 rows omitted\u001b[0m"
      ]
     },
     "execution_count": 6,
     "metadata": {},
     "output_type": "execute_result"
    }
   ],
   "source": [
    "df = DataFrame(fnames=fnames, score=score, omega=omega, phi=phi, prou=prou, d=d, struc=struc)"
   ]
  },
  {
   "cell_type": "code",
   "execution_count": 7,
   "id": "0225efef-539c-4fc1-b11c-3bf14df6c8f4",
   "metadata": {},
   "outputs": [],
   "source": [
    "df_org = deepcopy(df);"
   ]
  },
  {
   "cell_type": "code",
   "execution_count": 8,
   "id": "cc488138-9e57-416a-bdf4-0dd7f7ca8614",
   "metadata": {},
   "outputs": [],
   "source": [
    "#using BSON: @save, @load\n",
    "#@save \"skrew_parameters.bson\" fnames score omega phi prou d df rmsd"
   ]
  },
  {
   "cell_type": "code",
   "execution_count": 9,
   "id": "88b16d7e-2d7a-4759-874c-3d3cbead8916",
   "metadata": {},
   "outputs": [],
   "source": [
    "#using BSON: @save, @load\n",
    "#@save \"df.bson\" df"
   ]
  },
  {
   "cell_type": "code",
   "execution_count": 10,
   "id": "c9400341-a639-4e7c-86f5-6baf593f4f50",
   "metadata": {},
   "outputs": [],
   "source": [
    "using JLD2\n",
    "\n",
    "save(\"skrew_parameters.jld2\", \"fnames\", fnames, \"score\", score, \"omega\", omega, \"phi\", phi, \"prou\", prou, \"d\", d, \"df\", df, \"rmsd\", rmsd)\n",
    "save(\"df.jld2\", \"df\", df)"
   ]
  },
  {
   "cell_type": "code",
   "execution_count": null,
   "id": "a9bdb4a4-c673-4542-90bf-6fe48688cd53",
   "metadata": {},
   "outputs": [],
   "source": []
  }
 ],
 "metadata": {
  "kernelspec": {
   "display_name": "julia 1.10.1",
   "language": "julia",
   "name": "julia-1.10"
  },
  "language_info": {
   "file_extension": ".jl",
   "mimetype": "application/julia",
   "name": "julia",
   "version": "1.10.1"
  }
 },
 "nbformat": 4,
 "nbformat_minor": 5
}
