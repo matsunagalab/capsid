{
 "cells": [
  {
   "cell_type": "markdown",
   "id": "62a9d42f-dcfb-4d04-b7ee-aeab2626fe19",
   "metadata": {},
   "source": [
    "# 7odw"
   ]
  },
  {
   "cell_type": "code",
   "execution_count": 1,
   "id": "c2b6edbc-2a9f-438b-9e0d-1fb076e39d0e",
   "metadata": {},
   "outputs": [],
   "source": [
    "using Printf, DelimitedFiles\n",
    "using Plots\n",
    "using DataFrames\n",
    "using Revise, MDToolbox"
   ]
  },
  {
   "cell_type": "code",
   "execution_count": 2,
   "id": "c9373fbf-44a1-4c9b-88e3-5bb66950ae03",
   "metadata": {},
   "outputs": [
    {
     "data": {
      "text/plain": [
       "read_ascii (generic function with 1 method)"
      ]
     },
     "execution_count": 2,
     "metadata": {},
     "output_type": "execute_result"
    }
   ],
   "source": [
    "function read_ascii(fname)\n",
    "    lines = readlines(fname)\n",
    "    natom = length(lines) - 1\n",
    "    xyz = zeros(Float64, 1, natom*3)\n",
    "    for i = 1:natom\n",
    "        xyz[1, 3*(i-1)+1] = parse(Float64, lines[i+1][31:38])\n",
    "        xyz[1, 3*(i-1)+2] = parse(Float64, lines[i+1][39:46])\n",
    "        xyz[1, 3*(i-1)+3] = parse(Float64, lines[i+1][47:54])\n",
    "    end\n",
    "    TrjArray(xyz=xyz)\n",
    "end"
   ]
  },
  {
   "cell_type": "code",
   "execution_count": 3,
   "id": "fa858e0e-6890-4489-953b-936b481fa4aa",
   "metadata": {},
   "outputs": [
    {
     "data": {
      "text/plain": [
       "Any[]"
      ]
     },
     "execution_count": 3,
     "metadata": {},
     "output_type": "execute_result"
    }
   ],
   "source": [
    "fnames = []\n",
    "omega = []\n",
    "phi = []\n",
    "prou = []\n",
    "d = []\n",
    "score = []\n",
    "rmsd = []\n",
    "struc = []"
   ]
  },
  {
   "cell_type": "code",
   "execution_count": 4,
   "id": "32f8cbb0-c23b-4139-a37d-d0cb8a807005",
   "metadata": {},
   "outputs": [
    {
     "data": {
      "text/plain": [
       "1000"
      ]
     },
     "execution_count": 4,
     "metadata": {},
     "output_type": "execute_result"
    }
   ],
   "source": [
    "nrun = 1000"
   ]
  },
  {
   "cell_type": "code",
   "execution_count": 5,
   "id": "a9238faf-a6c3-43f9-8e58-bd5847247e2a",
   "metadata": {},
   "outputs": [
    {
     "name": "stdout",
     "output_type": "stream",
     "text": [
      "irun = 100irun = 200irun = 300irun = 400irun = 500irun = 600irun = 700irun = 800irun = 900irun = 1000"
     ]
    }
   ],
   "source": [
    "for irun = 1:nrun\n",
    "\n",
    "    if irun % 100 == 0\n",
    "        print(\"irun = $irun\")\n",
    "    end\n",
    "    for i in 1:100\n",
    "        filename = \"$(irun)/complex.$(i).pdb\"\n",
    "        #t = mdload(filename)\n",
    "        #t = MDToolbox.readpdb_biostructures(filename)\n",
    "        t = read_ascii(filename)\n",
    "        t1 = t[:, 1:2026]\n",
    "        t2 = t[:, 2027:end]\n",
    "        r = MDToolbox.compute_skrew(t1, t2)\n",
    "        push!(fnames, filename)\n",
    "        push!(omega, r.omega)\n",
    "        push!(phi, r.phi / (2.0 * pi) * 360.0)\n",
    "        push!(prou, r.prou)\n",
    "        push!(d, r.d)\n",
    "        push!(struc, t)\n",
    "        #t_ca = t[\"atomname CA\"]\n",
    "        #push!(rmsd, compute_rmsd_permute(ref, t_ca, 2))\n",
    "    end\n",
    "\n",
    "    s = readdlm(\"$(irun)/zdock.out\", skipstart=5)\n",
    "    score = [score; s[1:100, end]]\n",
    "end"
   ]
  },
  {
   "cell_type": "code",
   "execution_count": 6,
   "id": "8d2ad93d-8d57-4b90-abfa-976cf23638b0",
   "metadata": {},
   "outputs": [
    {
     "data": {
      "text/html": [
       "<div><div style = \"float: left;\"><span>100000×7 DataFrame</span></div><div style = \"float: right;\"><span style = \"font-style: italic;\">99975 rows omitted</span></div><div style = \"clear: both;\"></div></div><div class = \"data-frame\" style = \"overflow-x: scroll;\"><table class = \"data-frame\" style = \"margin-bottom: 6px;\"><thead><tr class = \"header\"><th class = \"rowNumber\" style = \"font-weight: bold; text-align: right;\">Row</th><th style = \"text-align: left;\">fnames</th><th style = \"text-align: left;\">score</th><th style = \"text-align: left;\">omega</th><th style = \"text-align: left;\">phi</th><th style = \"text-align: left;\">prou</th><th style = \"text-align: left;\">d</th><th style = \"text-align: left;\">struc</th></tr><tr class = \"subheader headerLastRow\"><th class = \"rowNumber\" style = \"font-weight: bold; text-align: right;\"></th><th title = \"Any\" style = \"text-align: left;\">Any</th><th title = \"Any\" style = \"text-align: left;\">Any</th><th title = \"Any\" style = \"text-align: left;\">Any</th><th title = \"Any\" style = \"text-align: left;\">Any</th><th title = \"Any\" style = \"text-align: left;\">Any</th><th title = \"Any\" style = \"text-align: left;\">Any</th><th title = \"Any\" style = \"text-align: left;\">Any</th></tr></thead><tbody><tr><td class = \"rowNumber\" style = \"font-weight: bold; text-align: right;\">1</td><td style = \"text-align: left;\">1/complex.1.pdb</td><td style = \"text-align: left;\">1403.35</td><td style = \"text-align: left;\">[-0.0912712, 0.710519, 0.697734]</td><td style = \"text-align: left;\">175.461</td><td style = \"text-align: left;\">[297.126, 27.5862, 10.7756]</td><td style = \"text-align: left;\">12.0772</td><td style = \"text-align: left;\">1x4052 TrjArray{Float64, Int64}\\n|   274.53   207.31   185.82 |  …     257.76   173.16   178.07 |</td></tr><tr><td class = \"rowNumber\" style = \"font-weight: bold; text-align: right;\">2</td><td style = \"text-align: left;\">1/complex.2.pdb</td><td style = \"text-align: left;\">1350.98</td><td style = \"text-align: left;\">[-0.499654, -0.517342, 0.694768]</td><td style = \"text-align: left;\">177.202</td><td style = \"text-align: left;\">[224.323, 144.834, 269.172]</td><td style = \"text-align: left;\">-1.34399</td><td style = \"text-align: left;\">1x4052 TrjArray{Float64, Int64}\\n|   274.53   207.31   185.82 |  …     300.88   247.97   189.68 |</td></tr><tr><td class = \"rowNumber\" style = \"font-weight: bold; text-align: right;\">3</td><td style = \"text-align: left;\">1/complex.3.pdb</td><td style = \"text-align: left;\">1280.75</td><td style = \"text-align: left;\">[0.70202, -0.202832, -0.682662]</td><td style = \"text-align: left;\">177.052</td><td style = \"text-align: left;\">[263.81, 222.101, 205.3]</td><td style = \"text-align: left;\">-0.799641</td><td style = \"text-align: left;\">1x4052 TrjArray{Float64, Int64}\\n|   274.53   207.31   185.82 |  …     327.50   225.26   170.65 |</td></tr><tr><td class = \"rowNumber\" style = \"font-weight: bold; text-align: right;\">4</td><td style = \"text-align: left;\">1/complex.4.pdb</td><td style = \"text-align: left;\">1276.18</td><td style = \"text-align: left;\">[-0.699187, 0.423682, -0.575874]</td><td style = \"text-align: left;\">110.304</td><td style = \"text-align: left;\">[125.816, 283.299, 55.6712]</td><td style = \"text-align: left;\">16.743</td><td style = \"text-align: left;\">1x4052 TrjArray{Float64, Int64}\\n|   274.53   207.31   185.82 |  …     239.12   170.38   169.20 |</td></tr><tr><td class = \"rowNumber\" style = \"font-weight: bold; text-align: right;\">5</td><td style = \"text-align: left;\">1/complex.5.pdb</td><td style = \"text-align: left;\">1274.44</td><td style = \"text-align: left;\">[0.395165, 0.565744, -0.723726]</td><td style = \"text-align: left;\">176.506</td><td style = \"text-align: left;\">[248.152, 152.542, 254.739]</td><td style = \"text-align: left;\">0.841273</td><td style = \"text-align: left;\">1x4052 TrjArray{Float64, Int64}\\n|   274.53   207.31   185.82 |  …     293.94   249.19   188.71 |</td></tr><tr><td class = \"rowNumber\" style = \"font-weight: bold; text-align: right;\">6</td><td style = \"text-align: left;\">1/complex.6.pdb</td><td style = \"text-align: left;\">1261.96</td><td style = \"text-align: left;\">[-0.435053, 0.713793, 0.548843]</td><td style = \"text-align: left;\">169.03</td><td style = \"text-align: left;\">[343.223, 123.148, 111.904]</td><td style = \"text-align: left;\">1.45519</td><td style = \"text-align: left;\">1x4052 TrjArray{Float64, Int64}\\n|   274.53   207.31   185.82 |  …     310.29   180.03   176.65 |</td></tr><tr><td class = \"rowNumber\" style = \"font-weight: bold; text-align: right;\">7</td><td style = \"text-align: left;\">1/complex.7.pdb</td><td style = \"text-align: left;\">1246.35</td><td style = \"text-align: left;\">[-0.522153, -0.451985, 0.723233]</td><td style = \"text-align: left;\">157.819</td><td style = \"text-align: left;\">[230.43, 152.145, 261.447]</td><td style = \"text-align: left;\">-15.6958</td><td style = \"text-align: left;\">1x4052 TrjArray{Float64, Int64}\\n|   274.53   207.31   185.82 |  …     323.42   234.92   171.38 |</td></tr><tr><td class = \"rowNumber\" style = \"font-weight: bold; text-align: right;\">8</td><td style = \"text-align: left;\">1/complex.8.pdb</td><td style = \"text-align: left;\">1244.28</td><td style = \"text-align: left;\">[0.353001, -0.737626, -0.575585]</td><td style = \"text-align: left;\">173.115</td><td style = \"text-align: left;\">[345.004, 96.0436, 88.5058]</td><td style = \"text-align: left;\">-0.376162</td><td style = \"text-align: left;\">1x4052 TrjArray{Float64, Int64}\\n|   274.53   207.31   185.82 |  …     310.07   180.68   170.78 |</td></tr><tr><td class = \"rowNumber\" style = \"font-weight: bold; text-align: right;\">9</td><td style = \"text-align: left;\">1/complex.9.pdb</td><td style = \"text-align: left;\">1234.98</td><td style = \"text-align: left;\">[-0.420185, -0.488357, 0.764821]</td><td style = \"text-align: left;\">165.077</td><td style = \"text-align: left;\">[254.711, 162.192, 243.499]</td><td style = \"text-align: left;\">-14.3664</td><td style = \"text-align: left;\">1x4052 TrjArray{Float64, Int64}\\n|   274.53   207.31   185.82 |  …     315.57   239.56   168.68 |</td></tr><tr><td class = \"rowNumber\" style = \"font-weight: bold; text-align: right;\">10</td><td style = \"text-align: left;\">1/complex.10.pdb</td><td style = \"text-align: left;\">1200.2</td><td style = \"text-align: left;\">[0.273554, -0.129445, -0.953107]</td><td style = \"text-align: left;\">165.037</td><td style = \"text-align: left;\">[306.293, 169.985, 64.8239]</td><td style = \"text-align: left;\">27.1092</td><td style = \"text-align: left;\">1x4052 TrjArray{Float64, Int64}\\n|   274.53   207.31   185.82 |  …     282.22   163.09   117.93 |</td></tr><tr><td class = \"rowNumber\" style = \"font-weight: bold; text-align: right;\">11</td><td style = \"text-align: left;\">1/complex.11.pdb</td><td style = \"text-align: left;\">1193.47</td><td style = \"text-align: left;\">[-0.0345735, -0.978804, -0.201859]</td><td style = \"text-align: left;\">53.5363</td><td style = \"text-align: left;\">[265.852, -37.8981, 138.232]</td><td style = \"text-align: left;\">-26.5961</td><td style = \"text-align: left;\">1x4052 TrjArray{Float64, Int64}\\n|   274.53   207.31   185.82 |  …     318.61   210.90   183.79 |</td></tr><tr><td class = \"rowNumber\" style = \"font-weight: bold; text-align: right;\">12</td><td style = \"text-align: left;\">1/complex.12.pdb</td><td style = \"text-align: left;\">1190.65</td><td style = \"text-align: left;\">[-0.161286, -0.951275, -0.2628]</td><td style = \"text-align: left;\">80.5226</td><td style = \"text-align: left;\">[230.428, -67.5718, 103.176]</td><td style = \"text-align: left;\">-33.5965</td><td style = \"text-align: left;\">1x4052 TrjArray{Float64, Int64}\\n|   274.53   207.31   185.82 |  …     309.80   210.94   197.68 |</td></tr><tr><td class = \"rowNumber\" style = \"font-weight: bold; text-align: right;\">13</td><td style = \"text-align: left;\">1/complex.13.pdb</td><td style = \"text-align: left;\">1168.97</td><td style = \"text-align: left;\">[0.409172, -0.698875, -0.586645]</td><td style = \"text-align: left;\">160.485</td><td style = \"text-align: left;\">[344.515, 117.524, 100.285]</td><td style = \"text-align: left;\">1.49192</td><td style = \"text-align: left;\">1x4052 TrjArray{Float64, Int64}\\n|   274.53   207.31   185.82 |  …     316.46   184.17   168.07 |</td></tr><tr><td style = \"text-align: right;\">&vellip;</td><td style = \"text-align: right;\">&vellip;</td><td style = \"text-align: right;\">&vellip;</td><td style = \"text-align: right;\">&vellip;</td><td style = \"text-align: right;\">&vellip;</td><td style = \"text-align: right;\">&vellip;</td><td style = \"text-align: right;\">&vellip;</td><td style = \"text-align: right;\">&vellip;</td></tr><tr><td class = \"rowNumber\" style = \"font-weight: bold; text-align: right;\">99989</td><td style = \"text-align: left;\">1000/complex.89.pdb</td><td style = \"text-align: left;\">1020.6</td><td style = \"text-align: left;\">[-0.838528, -0.467551, -0.279762]</td><td style = \"text-align: left;\">139.39</td><td style = \"text-align: left;\">[-34.213, 16.5669, 74.8589]</td><td style = \"text-align: left;\">-16.1808</td><td style = \"text-align: left;\">1x4052 TrjArray{Float64, Int64}\\n|   274.53   207.31   185.82 |  …     297.73   180.90   215.87 |</td></tr><tr><td class = \"rowNumber\" style = \"font-weight: bold; text-align: right;\">99990</td><td style = \"text-align: left;\">1000/complex.90.pdb</td><td style = \"text-align: left;\">1019.77</td><td style = \"text-align: left;\">[-0.199336, 0.516025, -0.833056]</td><td style = \"text-align: left;\">124.252</td><td style = \"text-align: left;\">[259.395, 246.853, 90.841]</td><td style = \"text-align: left;\">28.2806</td><td style = \"text-align: left;\">1x4052 TrjArray{Float64, Int64}\\n|   274.53   207.31   185.82 |  …     244.94   210.88   135.78 |</td></tr><tr><td class = \"rowNumber\" style = \"font-weight: bold; text-align: right;\">99991</td><td style = \"text-align: left;\">1000/complex.91.pdb</td><td style = \"text-align: left;\">1017.72</td><td style = \"text-align: left;\">[-0.883768, 0.0762112, 0.461677]</td><td style = \"text-align: left;\">176.866</td><td style = \"text-align: left;\">[152.712, 228.093, 254.678]</td><td style = \"text-align: left;\">1.46042</td><td style = \"text-align: left;\">1x4052 TrjArray{Float64, Int64}\\n|   274.53   207.31   185.82 |  …     325.38   235.05   199.81 |</td></tr><tr><td class = \"rowNumber\" style = \"font-weight: bold; text-align: right;\">99992</td><td style = \"text-align: left;\">1000/complex.92.pdb</td><td style = \"text-align: left;\">1017.51</td><td style = \"text-align: left;\">[0.674085, -0.603197, -0.426336]</td><td style = \"text-align: left;\">161.914</td><td style = \"text-align: left;\">[297.122, 206.683, 177.36]</td><td style = \"text-align: left;\">1.81467</td><td style = \"text-align: left;\">1x4052 TrjArray{Float64, Int64}\\n|   274.53   207.31   185.82 |  …     331.28   201.60   185.63 |</td></tr><tr><td class = \"rowNumber\" style = \"font-weight: bold; text-align: right;\">99993</td><td style = \"text-align: left;\">1000/complex.93.pdb</td><td style = \"text-align: left;\">1017.23</td><td style = \"text-align: left;\">[-0.401688, 0.904809, -0.141309]</td><td style = \"text-align: left;\">156.15</td><td style = \"text-align: left;\">[288.589, 154.471, 168.734]</td><td style = \"text-align: left;\">-13.682</td><td style = \"text-align: left;\">1x4052 TrjArray{Float64, Int64}\\n|   274.53   207.31   185.82 |  …     255.13   163.58   173.30 |</td></tr><tr><td class = \"rowNumber\" style = \"font-weight: bold; text-align: right;\">99994</td><td style = \"text-align: left;\">1000/complex.94.pdb</td><td style = \"text-align: left;\">1016.54</td><td style = \"text-align: left;\">[-0.351635, 0.934526, -0.0548973]</td><td style = \"text-align: left;\">141.51</td><td style = \"text-align: left;\">[299.634, 123.517, 183.395]</td><td style = \"text-align: left;\">0.730896</td><td style = \"text-align: left;\">1x4052 TrjArray{Float64, Int64}\\n|   274.53   207.31   185.82 |  …     240.91   175.39   193.30 |</td></tr><tr><td class = \"rowNumber\" style = \"font-weight: bold; text-align: right;\">99995</td><td style = \"text-align: left;\">1000/complex.95.pdb</td><td style = \"text-align: left;\">1016.35</td><td style = \"text-align: left;\">[-0.407752, 0.143368, -0.901767]</td><td style = \"text-align: left;\">147.164</td><td style = \"text-align: left;\">[179.518, 217.331, -46.6202]</td><td style = \"text-align: left;\">26.4782</td><td style = \"text-align: left;\">1x4052 TrjArray{Float64, Int64}\\n|   274.53   207.31   185.82 |  …     242.75   168.88   136.86 |</td></tr><tr><td class = \"rowNumber\" style = \"font-weight: bold; text-align: right;\">99996</td><td style = \"text-align: left;\">1000/complex.96.pdb</td><td style = \"text-align: left;\">1016.24</td><td style = \"text-align: left;\">[-0.3261, 0.174408, -0.929107]</td><td style = \"text-align: left;\">158.17</td><td style = \"text-align: left;\">[207.739, 220.074, -31.6013]</td><td style = \"text-align: left;\">25.9945</td><td style = \"text-align: left;\">1x4052 TrjArray{Float64, Int64}\\n|   274.53   207.31   185.82 |  …     244.76   174.89   132.67 |</td></tr><tr><td class = \"rowNumber\" style = \"font-weight: bold; text-align: right;\">99997</td><td style = \"text-align: left;\">1000/complex.97.pdb</td><td style = \"text-align: left;\">1015.38</td><td style = \"text-align: left;\">[-0.447304, -0.618973, 0.645594]</td><td style = \"text-align: left;\">169.388</td><td style = \"text-align: left;\">[224.661, 123.154, 273.734]</td><td style = \"text-align: left;\">-0.964427</td><td style = \"text-align: left;\">1x4052 TrjArray{Float64, Int64}\\n|   274.53   207.31   185.82 |  …     301.00   246.08   200.16 |</td></tr><tr><td class = \"rowNumber\" style = \"font-weight: bold; text-align: right;\">99998</td><td style = \"text-align: left;\">1000/complex.98.pdb</td><td style = \"text-align: left;\">1015.37</td><td style = \"text-align: left;\">[0.924588, -0.211295, -0.317005]</td><td style = \"text-align: left;\">177.17</td><td style = \"text-align: left;\">[138.048, 250.715, 235.524]</td><td style = \"text-align: left;\">-2.05248</td><td style = \"text-align: left;\">1x4052 TrjArray{Float64, Int64}\\n|   274.53   207.31   185.82 |  …     322.97   232.51   206.49 |</td></tr><tr><td class = \"rowNumber\" style = \"font-weight: bold; text-align: right;\">99999</td><td style = \"text-align: left;\">1000/complex.99.pdb</td><td style = \"text-align: left;\">1014.25</td><td style = \"text-align: left;\">[-0.707106, 0.0335231, 0.706313]</td><td style = \"text-align: left;\">179.943</td><td style = \"text-align: left;\">[239.881, 217.295, 229.837]</td><td style = \"text-align: left;\">1.45334</td><td style = \"text-align: left;\">1x4052 TrjArray{Float64, Int64}\\n|   274.53   207.31   185.82 |  …     323.63   235.66   174.50 |</td></tr><tr><td class = \"rowNumber\" style = \"font-weight: bold; text-align: right;\">100000</td><td style = \"text-align: left;\">1000/complex.100.pdb</td><td style = \"text-align: left;\">1011.34</td><td style = \"text-align: left;\">[0.452418, -0.790324, -0.413165]</td><td style = \"text-align: left;\">167.692</td><td style = \"text-align: left;\">[339.417, 123.576, 135.281]</td><td style = \"text-align: left;\">-1.08546</td><td style = \"text-align: left;\">1x4052 TrjArray{Float64, Int64}\\n|   274.53   207.31   185.82 |  …     315.76   183.19   188.63 |</td></tr></tbody></table></div>"
      ],
      "text/latex": [
       "\\begin{tabular}{r|cccccc}\n",
       "\t& fnames & score & omega & phi & prou & \\\\\n",
       "\t\\hline\n",
       "\t& Any & Any & Any & Any & Any & \\\\\n",
       "\t\\hline\n",
       "\t1 & 1/complex.1.pdb & 1403.35 & [-0.0912712, 0.710519, 0.697734] & 175.461 & [297.126, 27.5862, 10.7756] & $\\dots$ \\\\\n",
       "\t2 & 1/complex.2.pdb & 1350.98 & [-0.499654, -0.517342, 0.694768] & 177.202 & [224.323, 144.834, 269.172] & $\\dots$ \\\\\n",
       "\t3 & 1/complex.3.pdb & 1280.75 & [0.70202, -0.202832, -0.682662] & 177.052 & [263.81, 222.101, 205.3] & $\\dots$ \\\\\n",
       "\t4 & 1/complex.4.pdb & 1276.18 & [-0.699187, 0.423682, -0.575874] & 110.304 & [125.816, 283.299, 55.6712] & $\\dots$ \\\\\n",
       "\t5 & 1/complex.5.pdb & 1274.44 & [0.395165, 0.565744, -0.723726] & 176.506 & [248.152, 152.542, 254.739] & $\\dots$ \\\\\n",
       "\t6 & 1/complex.6.pdb & 1261.96 & [-0.435053, 0.713793, 0.548843] & 169.03 & [343.223, 123.148, 111.904] & $\\dots$ \\\\\n",
       "\t7 & 1/complex.7.pdb & 1246.35 & [-0.522153, -0.451985, 0.723233] & 157.819 & [230.43, 152.145, 261.447] & $\\dots$ \\\\\n",
       "\t8 & 1/complex.8.pdb & 1244.28 & [0.353001, -0.737626, -0.575585] & 173.115 & [345.004, 96.0436, 88.5058] & $\\dots$ \\\\\n",
       "\t9 & 1/complex.9.pdb & 1234.98 & [-0.420185, -0.488357, 0.764821] & 165.077 & [254.711, 162.192, 243.499] & $\\dots$ \\\\\n",
       "\t10 & 1/complex.10.pdb & 1200.2 & [0.273554, -0.129445, -0.953107] & 165.037 & [306.293, 169.985, 64.8239] & $\\dots$ \\\\\n",
       "\t11 & 1/complex.11.pdb & 1193.47 & [-0.0345735, -0.978804, -0.201859] & 53.5363 & [265.852, -37.8981, 138.232] & $\\dots$ \\\\\n",
       "\t12 & 1/complex.12.pdb & 1190.65 & [-0.161286, -0.951275, -0.2628] & 80.5226 & [230.428, -67.5718, 103.176] & $\\dots$ \\\\\n",
       "\t13 & 1/complex.13.pdb & 1168.97 & [0.409172, -0.698875, -0.586645] & 160.485 & [344.515, 117.524, 100.285] & $\\dots$ \\\\\n",
       "\t14 & 1/complex.14.pdb & 1160.0 & [-0.238302, -0.70529, 0.667666] & 154.649 & [275.071, 132.905, 238.572] & $\\dots$ \\\\\n",
       "\t15 & 1/complex.15.pdb & 1156.52 & [-0.351656, 0.870261, 0.344941] & 146.177 & [342.049, 87.4023, 128.198] & $\\dots$ \\\\\n",
       "\t16 & 1/complex.16.pdb & 1154.62 & [0.481685, -0.662721, -0.573393] & 178.573 & [339.544, 142.589, 120.435] & $\\dots$ \\\\\n",
       "\t17 & 1/complex.17.pdb & 1149.76 & [0.565003, -0.195353, -0.801628] & 171.706 & [301.823, 210.186, 161.509] & $\\dots$ \\\\\n",
       "\t18 & 1/complex.18.pdb & 1145.81 & [-0.106543, -0.920666, -0.375531] & 63.7286 & [250.263, -60.8096, 78.0804] & $\\dots$ \\\\\n",
       "\t19 & 1/complex.19.pdb & 1143.99 & [0.745376, -0.283833, -0.603202] & 167.014 & [255.551, 227.039, 208.952] & $\\dots$ \\\\\n",
       "\t20 & 1/complex.20.pdb & 1143.22 & [0.656832, -0.473502, 0.586829] & 111.813 & [147.637, 285.642, 65.2306] & $\\dots$ \\\\\n",
       "\t21 & 1/complex.21.pdb & 1140.46 & [0.449201, 0.517825, -0.728063] & 160.536 & [242.465, 148.812, 255.436] & $\\dots$ \\\\\n",
       "\t22 & 1/complex.22.pdb & 1139.85 & [0.51164, 0.761509, 0.397905] & 79.3373 & [92.0731, -76.4899, 27.9953] & $\\dots$ \\\\\n",
       "\t23 & 1/complex.23.pdb & 1136.8 & [0.778727, 0.113025, -0.617098] & 176.205 & [182.048, 200.213, 266.4] & $\\dots$ \\\\\n",
       "\t24 & 1/complex.24.pdb & 1134.61 & [0.557473, 0.570476, -0.603143] & 170.432 & [192.384, 112.856, 284.561] & $\\dots$ \\\\\n",
       "\t25 & 1/complex.25.pdb & 1134.47 & [-0.901702, -0.34884, -0.255431] & 129.077 & [-49.1869, 68.2929, 80.3684] & $\\dots$ \\\\\n",
       "\t26 & 1/complex.26.pdb & 1131.76 & [-0.582716, 0.258469, 0.770477] & 175.808 & [303.876, 207.999, 160.047] & $\\dots$ \\\\\n",
       "\t27 & 1/complex.27.pdb & 1127.37 & [0.201116, -0.408102, 0.890508] & 177.043 & [249.481, 243.941, 55.4495] & $\\dots$ \\\\\n",
       "\t28 & 1/complex.28.pdb & 1124.12 & [-0.378404, 0.222317, 0.898546] & 153.344 & [308.182, 166.776, 88.5211] & $\\dots$ \\\\\n",
       "\t29 & 1/complex.29.pdb & 1123.92 & [0.0927527, 0.852926, 0.513725] & 58.2907 & [271.851, -50.684, 35.0669] & $\\dots$ \\\\\n",
       "\t30 & 1/complex.30.pdb & 1117.39 & [-0.807813, 0.2061, 0.552232] & 177.255 & [217.776, 233.735, 231.332] & $\\dots$ \\\\\n",
       "\t$\\dots$ & $\\dots$ & $\\dots$ & $\\dots$ & $\\dots$ & $\\dots$ &  \\\\\n",
       "\\end{tabular}\n"
      ],
      "text/plain": [
       "\u001b[1m100000×7 DataFrame\u001b[0m\n",
       "\u001b[1m    Row \u001b[0m│\u001b[1m fnames               \u001b[0m\u001b[1m score   \u001b[0m\u001b[1m omega                             \u001b[0m\u001b[1m ph\u001b[0m ⋯\n",
       "        │\u001b[90m Any                  \u001b[0m\u001b[90m Any     \u001b[0m\u001b[90m Any                               \u001b[0m\u001b[90m An\u001b[0m ⋯\n",
       "────────┼───────────────────────────────────────────────────────────────────────\n",
       "      1 │ 1/complex.1.pdb       1403.35  [-0.0912712, 0.710519, 0.697734]   17 ⋯\n",
       "      2 │ 1/complex.2.pdb       1350.98  [-0.499654, -0.517342, 0.694768]   17\n",
       "      3 │ 1/complex.3.pdb       1280.75  [0.70202, -0.202832, -0.682662]    17\n",
       "      4 │ 1/complex.4.pdb       1276.18  [-0.699187, 0.423682, -0.575874]   11\n",
       "      5 │ 1/complex.5.pdb       1274.44  [0.395165, 0.565744, -0.723726]    17 ⋯\n",
       "      6 │ 1/complex.6.pdb       1261.96  [-0.435053, 0.713793, 0.548843]    16\n",
       "      7 │ 1/complex.7.pdb       1246.35  [-0.522153, -0.451985, 0.723233]   15\n",
       "      8 │ 1/complex.8.pdb       1244.28  [0.353001, -0.737626, -0.575585]   17\n",
       "      9 │ 1/complex.9.pdb       1234.98  [-0.420185, -0.488357, 0.764821]   16 ⋯\n",
       "     10 │ 1/complex.10.pdb      1200.2   [0.273554, -0.129445, -0.953107]   16\n",
       "     11 │ 1/complex.11.pdb      1193.47  [-0.0345735, -0.978804, -0.20185…  53\n",
       "   ⋮    │          ⋮               ⋮                     ⋮                     ⋱\n",
       "  99991 │ 1000/complex.91.pdb   1017.72  [-0.883768, 0.0762112, 0.461677]   17\n",
       "  99992 │ 1000/complex.92.pdb   1017.51  [0.674085, -0.603197, -0.426336]   16 ⋯\n",
       "  99993 │ 1000/complex.93.pdb   1017.23  [-0.401688, 0.904809, -0.141309]   15\n",
       "  99994 │ 1000/complex.94.pdb   1016.54  [-0.351635, 0.934526, -0.0548973]  14\n",
       "  99995 │ 1000/complex.95.pdb   1016.35  [-0.407752, 0.143368, -0.901767]   14\n",
       "  99996 │ 1000/complex.96.pdb   1016.24  [-0.3261, 0.174408, -0.929107]     15 ⋯\n",
       "  99997 │ 1000/complex.97.pdb   1015.38  [-0.447304, -0.618973, 0.645594]   16\n",
       "  99998 │ 1000/complex.98.pdb   1015.37  [0.924588, -0.211295, -0.317005]   17\n",
       "  99999 │ 1000/complex.99.pdb   1014.25  [-0.707106, 0.0335231, 0.706313]   17\n",
       " 100000 │ 1000/complex.100.pdb  1011.34  [0.452418, -0.790324, -0.413165]   16 ⋯\n",
       "\u001b[36m                                                4 columns and 99979 rows omitted\u001b[0m"
      ]
     },
     "execution_count": 6,
     "metadata": {},
     "output_type": "execute_result"
    }
   ],
   "source": [
    "df = DataFrame(fnames=fnames, score=score, omega=omega, phi=phi, prou=prou, d=d, struc=struc)"
   ]
  },
  {
   "cell_type": "code",
   "execution_count": 7,
   "id": "0225efef-539c-4fc1-b11c-3bf14df6c8f4",
   "metadata": {},
   "outputs": [],
   "source": [
    "df_org = deepcopy(df);"
   ]
  },
  {
   "cell_type": "code",
   "execution_count": 8,
   "id": "cc488138-9e57-416a-bdf4-0dd7f7ca8614",
   "metadata": {},
   "outputs": [],
   "source": [
    "#using BSON: @save, @load\n",
    "#@save \"skrew_parameters.bson\" fnames score omega phi prou d df rmsd"
   ]
  },
  {
   "cell_type": "code",
   "execution_count": 9,
   "id": "88b16d7e-2d7a-4759-874c-3d3cbead8916",
   "metadata": {},
   "outputs": [],
   "source": [
    "#using BSON: @save, @load\n",
    "#@save \"df.bson\" df"
   ]
  },
  {
   "cell_type": "code",
   "execution_count": 10,
   "id": "c9400341-a639-4e7c-86f5-6baf593f4f50",
   "metadata": {},
   "outputs": [],
   "source": [
    "using JLD2\n",
    "\n",
    "save(\"skrew_parameters.jld2\", \"fnames\", fnames, \"score\", score, \"omega\", omega, \"phi\", phi, \"prou\", prou, \"d\", d, \"df\", df, \"rmsd\", rmsd)\n",
    "save(\"df.jld2\", \"df\", df)"
   ]
  },
  {
   "cell_type": "code",
   "execution_count": null,
   "id": "a9bdb4a4-c673-4542-90bf-6fe48688cd53",
   "metadata": {},
   "outputs": [],
   "source": []
  }
 ],
 "metadata": {
  "kernelspec": {
   "display_name": "julia 1.10.1",
   "language": "julia",
   "name": "julia-1.10"
  },
  "language_info": {
   "file_extension": ".jl",
   "mimetype": "application/julia",
   "name": "julia",
   "version": "1.10.1"
  }
 },
 "nbformat": 4,
 "nbformat_minor": 5
}
