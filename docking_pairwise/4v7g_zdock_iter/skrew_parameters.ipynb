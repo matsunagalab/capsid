{
 "cells": [
  {
   "cell_type": "markdown",
   "id": "62a9d42f-dcfb-4d04-b7ee-aeab2626fe19",
   "metadata": {},
   "source": [
    "# 4v7g"
   ]
  },
  {
   "cell_type": "code",
   "execution_count": 1,
   "id": "c2b6edbc-2a9f-438b-9e0d-1fb076e39d0e",
   "metadata": {},
   "outputs": [],
   "source": [
    "using Printf, DelimitedFiles\n",
    "using Plots\n",
    "using DataFrames\n",
    "using Revise, MDToolbox"
   ]
  },
  {
   "cell_type": "code",
   "execution_count": 2,
   "id": "c9373fbf-44a1-4c9b-88e3-5bb66950ae03",
   "metadata": {},
   "outputs": [
    {
     "data": {
      "text/plain": [
       "read_ascii (generic function with 1 method)"
      ]
     },
     "execution_count": 2,
     "metadata": {},
     "output_type": "execute_result"
    }
   ],
   "source": [
    "function read_ascii(fname)\n",
    "    lines = readlines(fname)\n",
    "    natom = length(lines) - 1\n",
    "    xyz = zeros(Float64, 1, natom*3)\n",
    "    for i = 1:natom\n",
    "        xyz[1, 3*(i-1)+1] = parse(Float64, lines[i+1][31:38])\n",
    "        xyz[1, 3*(i-1)+2] = parse(Float64, lines[i+1][39:46])\n",
    "        xyz[1, 3*(i-1)+3] = parse(Float64, lines[i+1][47:54])\n",
    "    end\n",
    "    TrjArray(xyz=xyz)\n",
    "end"
   ]
  },
  {
   "cell_type": "code",
   "execution_count": 11,
   "id": "fa858e0e-6890-4489-953b-936b481fa4aa",
   "metadata": {},
   "outputs": [
    {
     "data": {
      "text/plain": [
       "Any[]"
      ]
     },
     "execution_count": 11,
     "metadata": {},
     "output_type": "execute_result"
    }
   ],
   "source": [
    "fnames = []\n",
    "omega = []\n",
    "phi = []\n",
    "prou = []\n",
    "d = []\n",
    "score = []\n",
    "rmsd = []\n",
    "struc = []"
   ]
  },
  {
   "cell_type": "code",
   "execution_count": 12,
   "id": "32f8cbb0-c23b-4139-a37d-d0cb8a807005",
   "metadata": {},
   "outputs": [
    {
     "data": {
      "text/plain": [
       "1000"
      ]
     },
     "execution_count": 12,
     "metadata": {},
     "output_type": "execute_result"
    }
   ],
   "source": [
    "nrun = 1000"
   ]
  },
  {
   "cell_type": "code",
   "execution_count": 13,
   "id": "a9238faf-a6c3-43f9-8e58-bd5847247e2a",
   "metadata": {},
   "outputs": [
    {
     "name": "stdout",
     "output_type": "stream",
     "text": [
      "irun = 100irun = 200irun = 300irun = 400irun = 500irun = 600irun = 700irun = 800irun = 900irun = 1000"
     ]
    }
   ],
   "source": [
    "for irun = 1:nrun\n",
    "\n",
    "    if irun % 100 == 0\n",
    "        print(\"irun = $irun\")\n",
    "    end\n",
    "    for i in 1:100\n",
    "        filename = \"$(irun)/complex.$(i).pdb\"\n",
    "        #t = mdload(filename)\n",
    "        #t = MDToolbox.readpdb_biostructures(filename)\n",
    "        t = read_ascii(filename)\n",
    "        t1 = t[:, 1:1129]\n",
    "        t2 = t[:, 1130:end]\n",
    "        r = MDToolbox.compute_skrew(t1, t2)\n",
    "        push!(fnames, filename)\n",
    "        push!(omega, r.omega)\n",
    "        push!(phi, r.phi / (2.0 * pi) * 360.0)\n",
    "        push!(prou, r.prou)\n",
    "        push!(d, r.d)\n",
    "        push!(struc, t)\n",
    "        #t_ca = t[\"atomname CA\"]\n",
    "        #push!(rmsd, compute_rmsd_permute(ref, t_ca, 2))\n",
    "    end\n",
    "\n",
    "    s = readdlm(\"$(irun)/zdock.out\", skipstart=5)\n",
    "    score = [score; s[1:100, end]]\n",
    "end"
   ]
  },
  {
   "cell_type": "code",
   "execution_count": 14,
   "id": "8d2ad93d-8d57-4b90-abfa-976cf23638b0",
   "metadata": {},
   "outputs": [
    {
     "data": {
      "text/html": [
       "<div><div style = \"float: left;\"><span>100000×7 DataFrame</span></div><div style = \"float: right;\"><span style = \"font-style: italic;\">99975 rows omitted</span></div><div style = \"clear: both;\"></div></div><div class = \"data-frame\" style = \"overflow-x: scroll;\"><table class = \"data-frame\" style = \"margin-bottom: 6px;\"><thead><tr class = \"header\"><th class = \"rowNumber\" style = \"font-weight: bold; text-align: right;\">Row</th><th style = \"text-align: left;\">fnames</th><th style = \"text-align: left;\">score</th><th style = \"text-align: left;\">omega</th><th style = \"text-align: left;\">phi</th><th style = \"text-align: left;\">prou</th><th style = \"text-align: left;\">d</th><th style = \"text-align: left;\">struc</th></tr><tr class = \"subheader headerLastRow\"><th class = \"rowNumber\" style = \"font-weight: bold; text-align: right;\"></th><th title = \"Any\" style = \"text-align: left;\">Any</th><th title = \"Any\" style = \"text-align: left;\">Any</th><th title = \"Any\" style = \"text-align: left;\">Any</th><th title = \"Any\" style = \"text-align: left;\">Any</th><th title = \"Any\" style = \"text-align: left;\">Any</th><th title = \"Any\" style = \"text-align: left;\">Any</th><th title = \"Any\" style = \"text-align: left;\">Any</th></tr></thead><tbody><tr><td class = \"rowNumber\" style = \"font-weight: bold; text-align: right;\">1</td><td style = \"text-align: left;\">1/complex.1.pdb</td><td style = \"text-align: left;\">1476.6</td><td style = \"text-align: left;\">[-0.173076, -0.791418, -0.586261]</td><td style = \"text-align: left;\">72.632</td><td style = \"text-align: left;\">[53.6754, 11.9727, -32.0085]</td><td style = \"text-align: left;\">0.846014</td><td style = \"text-align: left;\">1x2258 TrjArray{Float64, Int64}\\n|    93.66    54.74    -5.40 |  …      74.34    37.26     3.22 |</td></tr><tr><td class = \"rowNumber\" style = \"font-weight: bold; text-align: right;\">2</td><td style = \"text-align: left;\">1/complex.2.pdb</td><td style = \"text-align: left;\">1434.06</td><td style = \"text-align: left;\">[0.546049, -0.425146, 0.721859]</td><td style = \"text-align: left;\">154.985</td><td style = \"text-align: left;\">[68.9845, 72.8023, -9.30562]</td><td style = \"text-align: left;\">-22.2624</td><td style = \"text-align: left;\">1x2258 TrjArray{Float64, Int64}\\n|    93.66    54.74    -5.40 |  …      67.70    97.60    -9.68 |</td></tr><tr><td class = \"rowNumber\" style = \"font-weight: bold; text-align: right;\">3</td><td style = \"text-align: left;\">1/complex.3.pdb</td><td style = \"text-align: left;\">1433.56</td><td style = \"text-align: left;\">[0.0914852, 0.842105, 0.531497]</td><td style = \"text-align: left;\">67.053</td><td style = \"text-align: left;\">[58.1435, 10.2176, -26.1969]</td><td style = \"text-align: left;\">2.98047</td><td style = \"text-align: left;\">1x2258 TrjArray{Float64, Int64}\\n|    93.66    54.74    -5.40 |  …      58.00    58.68   -18.17 |</td></tr><tr><td class = \"rowNumber\" style = \"font-weight: bold; text-align: right;\">4</td><td style = \"text-align: left;\">1/complex.4.pdb</td><td style = \"text-align: left;\">1358.04</td><td style = \"text-align: left;\">[0.415051, 0.536264, -0.734951]</td><td style = \"text-align: left;\">169.218</td><td style = \"text-align: left;\">[32.2834, 45.9905, 51.7889]</td><td style = \"text-align: left;\">-6.48095</td><td style = \"text-align: left;\">1x2258 TrjArray{Float64, Int64}\\n|    93.66    54.74    -5.40 |  …      36.32   111.19    15.44 |</td></tr><tr><td class = \"rowNumber\" style = \"font-weight: bold; text-align: right;\">5</td><td style = \"text-align: left;\">1/complex.5.pdb</td><td style = \"text-align: left;\">1341.26</td><td style = \"text-align: left;\">[-0.348243, -0.511949, 0.785261]</td><td style = \"text-align: left;\">161.249</td><td style = \"text-align: left;\">[39.1631, 51.1556, 50.7187]</td><td style = \"text-align: left;\">-6.61469</td><td style = \"text-align: left;\">1x2258 TrjArray{Float64, Int64}\\n|    93.66    54.74    -5.40 |  …      59.19   121.57    15.42 |</td></tr><tr><td class = \"rowNumber\" style = \"font-weight: bold; text-align: right;\">6</td><td style = \"text-align: left;\">1/complex.6.pdb</td><td style = \"text-align: left;\">1322.27</td><td style = \"text-align: left;\">[-0.62595, -0.691659, -0.36027]</td><td style = \"text-align: left;\">174.545</td><td style = \"text-align: left;\">[26.2185, -3.30103, -39.2159]</td><td style = \"text-align: left;\">-0.118216</td><td style = \"text-align: left;\">1x2258 TrjArray{Float64, Int64}\\n|    93.66    54.74    -5.40 |  …      73.19    51.31    -7.41 |</td></tr><tr><td class = \"rowNumber\" style = \"font-weight: bold; text-align: right;\">7</td><td style = \"text-align: left;\">1/complex.7.pdb</td><td style = \"text-align: left;\">1309.68</td><td style = \"text-align: left;\">[0.230504, -0.969612, -0.0819839]</td><td style = \"text-align: left;\">166.598</td><td style = \"text-align: left;\">[81.6898, 20.3154, -10.5903]</td><td style = \"text-align: left;\">31.5404</td><td style = \"text-align: left;\">1x2258 TrjArray{Float64, Int64}\\n|    93.66    54.74    -5.40 |  …      80.54    17.75    -4.07 |</td></tr><tr><td class = \"rowNumber\" style = \"font-weight: bold; text-align: right;\">8</td><td style = \"text-align: left;\">1/complex.8.pdb</td><td style = \"text-align: left;\">1304.88</td><td style = \"text-align: left;\">[0.526833, 0.760823, 0.378939]</td><td style = \"text-align: left;\">175.718</td><td style = \"text-align: left;\">[37.3555, -6.36759, -39.1501]</td><td style = \"text-align: left;\">1.80582</td><td style = \"text-align: left;\">1x2258 TrjArray{Float64, Int64}\\n|    93.66    54.74    -5.40 |  …      75.64    50.95    -7.34 |</td></tr><tr><td class = \"rowNumber\" style = \"font-weight: bold; text-align: right;\">9</td><td style = \"text-align: left;\">1/complex.9.pdb</td><td style = \"text-align: left;\">1285.13</td><td style = \"text-align: left;\">[0.128234, 0.306095, -0.943325]</td><td style = \"text-align: left;\">178.053</td><td style = \"text-align: left;\">[55.6515, 70.5797, 30.4672]</td><td style = \"text-align: left;\">-0.0974977</td><td style = \"text-align: left;\">1x2258 TrjArray{Float64, Int64}\\n|    93.66    54.74    -5.40 |  …      42.34   113.89     1.62 |</td></tr><tr><td class = \"rowNumber\" style = \"font-weight: bold; text-align: right;\">10</td><td style = \"text-align: left;\">1/complex.10.pdb</td><td style = \"text-align: left;\">1274.57</td><td style = \"text-align: left;\">[0.28347, 0.477933, -0.8314]</td><td style = \"text-align: left;\">159.207</td><td style = \"text-align: left;\">[45.0072, 56.4717, 47.8084]</td><td style = \"text-align: left;\">-6.77652</td><td style = \"text-align: left;\">1x2258 TrjArray{Float64, Int64}\\n|    93.66    54.74    -5.40 |  …      31.95   109.03    11.93 |</td></tr><tr><td class = \"rowNumber\" style = \"font-weight: bold; text-align: right;\">11</td><td style = \"text-align: left;\">1/complex.11.pdb</td><td style = \"text-align: left;\">1271.34</td><td style = \"text-align: left;\">[-0.590461, -0.772484, -0.233719]</td><td style = \"text-align: left;\">179.701</td><td style = \"text-align: left;\">[27.7746, -12.6395, -28.3929]</td><td style = \"text-align: left;\">0.593234</td><td style = \"text-align: left;\">1x2258 TrjArray{Float64, Int64}\\n|    93.66    54.74    -5.40 |  …      73.80    49.87    -4.53 |</td></tr><tr><td class = \"rowNumber\" style = \"font-weight: bold; text-align: right;\">12</td><td style = \"text-align: left;\">1/complex.12.pdb</td><td style = \"text-align: left;\">1269.59</td><td style = \"text-align: left;\">[-0.428309, 0.682375, -0.592381]</td><td style = \"text-align: left;\">141.855</td><td style = \"text-align: left;\">[83.1399, 62.7174, 12.1327]</td><td style = \"text-align: left;\">18.6817</td><td style = \"text-align: left;\">1x2258 TrjArray{Float64, Int64}\\n|    93.66    54.74    -5.40 |  …      56.43    91.70    17.16 |</td></tr><tr><td class = \"rowNumber\" style = \"font-weight: bold; text-align: right;\">13</td><td style = \"text-align: left;\">1/complex.13.pdb</td><td style = \"text-align: left;\">1266.97</td><td style = \"text-align: left;\">[-0.819969, -0.571562, 0.0311002]</td><td style = \"text-align: left;\">168.437</td><td style = \"text-align: left;\">[-20.038, 28.5282, -4.01605]</td><td style = \"text-align: left;\">0.18666</td><td style = \"text-align: left;\">1x2258 TrjArray{Float64, Int64}\\n|    93.66    54.74    -5.40 |  …      36.12   111.19     7.86 |</td></tr><tr><td style = \"text-align: right;\">&vellip;</td><td style = \"text-align: right;\">&vellip;</td><td style = \"text-align: right;\">&vellip;</td><td style = \"text-align: right;\">&vellip;</td><td style = \"text-align: right;\">&vellip;</td><td style = \"text-align: right;\">&vellip;</td><td style = \"text-align: right;\">&vellip;</td><td style = \"text-align: right;\">&vellip;</td></tr><tr><td class = \"rowNumber\" style = \"font-weight: bold; text-align: right;\">99989</td><td style = \"text-align: left;\">1000/complex.89.pdb</td><td style = \"text-align: left;\">1101.5</td><td style = \"text-align: left;\">[0.49496, 0.471814, -0.729662]</td><td style = \"text-align: left;\">176.786</td><td style = \"text-align: left;\">[26.4848, 51.3295, 51.1565]</td><td style = \"text-align: left;\">-0.295023</td><td style = \"text-align: left;\">1x2258 TrjArray{Float64, Int64}\\n|    93.66    54.74    -5.40 |  …      45.26   120.31     9.22 |</td></tr><tr><td class = \"rowNumber\" style = \"font-weight: bold; text-align: right;\">99990</td><td style = \"text-align: left;\">1000/complex.90.pdb</td><td style = \"text-align: left;\">1101.41</td><td style = \"text-align: left;\">[-0.625354, -0.639914, -0.44659]</td><td style = \"text-align: left;\">172.628</td><td style = \"text-align: left;\">[6.08852, 27.606, -48.082]</td><td style = \"text-align: left;\">-2.11118</td><td style = \"text-align: left;\">1x2258 TrjArray{Float64, Int64}\\n|    93.66    54.74    -5.40 |  …      27.76    99.98   -10.30 |</td></tr><tr><td class = \"rowNumber\" style = \"font-weight: bold; text-align: right;\">99991</td><td style = \"text-align: left;\">1000/complex.91.pdb</td><td style = \"text-align: left;\">1101.4</td><td style = \"text-align: left;\">[-0.329862, -0.645671, 0.688695]</td><td style = \"text-align: left;\">157.795</td><td style = \"text-align: left;\">[35.8438, 33.3199, 48.4064]</td><td style = \"text-align: left;\">-5.5427</td><td style = \"text-align: left;\">1x2258 TrjArray{Float64, Int64}\\n|    93.66    54.74    -5.40 |  …      52.87   108.76    20.39 |</td></tr><tr><td class = \"rowNumber\" style = \"font-weight: bold; text-align: right;\">99992</td><td style = \"text-align: left;\">1000/complex.92.pdb</td><td style = \"text-align: left;\">1101.35</td><td style = \"text-align: left;\">[-0.339059, -0.418836, 0.842387]</td><td style = \"text-align: left;\">160.321</td><td style = \"text-align: left;\">[42.4259, 61.0901, 47.4505]</td><td style = \"text-align: left;\">-6.52584</td><td style = \"text-align: left;\">1x2258 TrjArray{Float64, Int64}\\n|    93.66    54.74    -5.40 |  …      62.20   125.20     8.88 |</td></tr><tr><td class = \"rowNumber\" style = \"font-weight: bold; text-align: right;\">99993</td><td style = \"text-align: left;\">1000/complex.93.pdb</td><td style = \"text-align: left;\">1101.27</td><td style = \"text-align: left;\">[0.507537, -0.662581, 0.550811]</td><td style = \"text-align: left;\">115.146</td><td style = \"text-align: left;\">[81.3753, 66.8623, 5.44781]</td><td style = \"text-align: left;\">21.1357</td><td style = \"text-align: left;\">1x2258 TrjArray{Float64, Int64}\\n|    93.66    54.74    -5.40 |  …     112.27    68.78    14.39 |</td></tr><tr><td class = \"rowNumber\" style = \"font-weight: bold; text-align: right;\">99994</td><td style = \"text-align: left;\">1000/complex.94.pdb</td><td style = \"text-align: left;\">1099.72</td><td style = \"text-align: left;\">[-0.532814, 0.828907, -0.170359]</td><td style = \"text-align: left;\">129.054</td><td style = \"text-align: left;\">[81.256, 52.3464, 0.56323]</td><td style = \"text-align: left;\">25.0714</td><td style = \"text-align: left;\">1x2258 TrjArray{Float64, Int64}\\n|    93.66    54.74    -5.40 |  …      57.85    72.43     7.80 |</td></tr><tr><td class = \"rowNumber\" style = \"font-weight: bold; text-align: right;\">99995</td><td style = \"text-align: left;\">1000/complex.95.pdb</td><td style = \"text-align: left;\">1098.68</td><td style = \"text-align: left;\">[-0.219424, -0.861013, -0.458814]</td><td style = \"text-align: left;\">106.628</td><td style = \"text-align: left;\">[53.5466, 0.686629, -26.8968]</td><td style = \"text-align: left;\">16.6909</td><td style = \"text-align: left;\">1x2258 TrjArray{Float64, Int64}\\n|    93.66    54.74    -5.40 |  …      69.63    23.88     3.26 |</td></tr><tr><td class = \"rowNumber\" style = \"font-weight: bold; text-align: right;\">99996</td><td style = \"text-align: left;\">1000/complex.96.pdb</td><td style = \"text-align: left;\">1097.44</td><td style = \"text-align: left;\">[-0.0193476, -0.486051, 0.873716]</td><td style = \"text-align: left;\">119.501</td><td style = \"text-align: left;\">[59.6167, 63.2108, 36.4845]</td><td style = \"text-align: left;\">-12.2239</td><td style = \"text-align: left;\">1x2258 TrjArray{Float64, Int64}\\n|    93.66    54.74    -5.40 |  …      83.12   116.32     8.51 |</td></tr><tr><td class = \"rowNumber\" style = \"font-weight: bold; text-align: right;\">99997</td><td style = \"text-align: left;\">1000/complex.97.pdb</td><td style = \"text-align: left;\">1096.67</td><td style = \"text-align: left;\">[0.166937, -0.181421, 0.969133]</td><td style = \"text-align: left;\">140.911</td><td style = \"text-align: left;\">[59.3448, 75.7084, 3.95013]</td><td style = \"text-align: left;\">-6.9584</td><td style = \"text-align: left;\">1x2258 TrjArray{Float64, Int64}\\n|    93.66    54.74    -5.40 |  …      58.37   112.95    -6.37 |</td></tr><tr><td class = \"rowNumber\" style = \"font-weight: bold; text-align: right;\">99998</td><td style = \"text-align: left;\">1000/complex.98.pdb</td><td style = \"text-align: left;\">1096.65</td><td style = \"text-align: left;\">[0.066128, 0.222716, -0.972638]</td><td style = \"text-align: left;\">177.161</td><td style = \"text-align: left;\">[57.9655, 75.6474, 21.2628]</td><td style = \"text-align: left;\">0.716654</td><td style = \"text-align: left;\">1x2258 TrjArray{Float64, Int64}\\n|    93.66    54.74    -5.40 |  …      40.57   113.54    -3.06 |</td></tr><tr><td class = \"rowNumber\" style = \"font-weight: bold; text-align: right;\">99999</td><td style = \"text-align: left;\">1000/complex.99.pdb</td><td style = \"text-align: left;\">1095.92</td><td style = \"text-align: left;\">[0.559103, 0.446474, 0.698616]</td><td style = \"text-align: left;\">83.9725</td><td style = \"text-align: left;\">[26.0709, 26.6179, -37.8756]</td><td style = \"text-align: left;\">4.73578</td><td style = \"text-align: left;\">1x2258 TrjArray{Float64, Int64}\\n|    93.66    54.74    -5.40 |  …      56.14    76.47    -6.70 |</td></tr><tr><td class = \"rowNumber\" style = \"font-weight: bold; text-align: right;\">100000</td><td style = \"text-align: left;\">1000/complex.100.pdb</td><td style = \"text-align: left;\">1094.66</td><td style = \"text-align: left;\">[0.0482148, -0.880758, -0.471105]</td><td style = \"text-align: left;\">128.796</td><td style = \"text-align: left;\">[75.3419, 16.3844, -22.9208]</td><td style = \"text-align: left;\">14.9924</td><td style = \"text-align: left;\">1x2258 TrjArray{Float64, Int64}\\n|    93.66    54.74    -5.40 |  …      78.40    29.31    -6.38 |</td></tr></tbody></table></div>"
      ],
      "text/latex": [
       "\\begin{tabular}{r|cccccc}\n",
       "\t& fnames & score & omega & phi & prou & \\\\\n",
       "\t\\hline\n",
       "\t& Any & Any & Any & Any & Any & \\\\\n",
       "\t\\hline\n",
       "\t1 & 1/complex.1.pdb & 1476.6 & [-0.173076, -0.791418, -0.586261] & 72.632 & [53.6754, 11.9727, -32.0085] & $\\dots$ \\\\\n",
       "\t2 & 1/complex.2.pdb & 1434.06 & [0.546049, -0.425146, 0.721859] & 154.985 & [68.9845, 72.8023, -9.30562] & $\\dots$ \\\\\n",
       "\t3 & 1/complex.3.pdb & 1433.56 & [0.0914852, 0.842105, 0.531497] & 67.053 & [58.1435, 10.2176, -26.1969] & $\\dots$ \\\\\n",
       "\t4 & 1/complex.4.pdb & 1358.04 & [0.415051, 0.536264, -0.734951] & 169.218 & [32.2834, 45.9905, 51.7889] & $\\dots$ \\\\\n",
       "\t5 & 1/complex.5.pdb & 1341.26 & [-0.348243, -0.511949, 0.785261] & 161.249 & [39.1631, 51.1556, 50.7187] & $\\dots$ \\\\\n",
       "\t6 & 1/complex.6.pdb & 1322.27 & [-0.62595, -0.691659, -0.36027] & 174.545 & [26.2185, -3.30103, -39.2159] & $\\dots$ \\\\\n",
       "\t7 & 1/complex.7.pdb & 1309.68 & [0.230504, -0.969612, -0.0819839] & 166.598 & [81.6898, 20.3154, -10.5903] & $\\dots$ \\\\\n",
       "\t8 & 1/complex.8.pdb & 1304.88 & [0.526833, 0.760823, 0.378939] & 175.718 & [37.3555, -6.36759, -39.1501] & $\\dots$ \\\\\n",
       "\t9 & 1/complex.9.pdb & 1285.13 & [0.128234, 0.306095, -0.943325] & 178.053 & [55.6515, 70.5797, 30.4672] & $\\dots$ \\\\\n",
       "\t10 & 1/complex.10.pdb & 1274.57 & [0.28347, 0.477933, -0.8314] & 159.207 & [45.0072, 56.4717, 47.8084] & $\\dots$ \\\\\n",
       "\t11 & 1/complex.11.pdb & 1271.34 & [-0.590461, -0.772484, -0.233719] & 179.701 & [27.7746, -12.6395, -28.3929] & $\\dots$ \\\\\n",
       "\t12 & 1/complex.12.pdb & 1269.59 & [-0.428309, 0.682375, -0.592381] & 141.855 & [83.1399, 62.7174, 12.1327] & $\\dots$ \\\\\n",
       "\t13 & 1/complex.13.pdb & 1266.97 & [-0.819969, -0.571562, 0.0311002] & 168.437 & [-20.038, 28.5282, -4.01605] & $\\dots$ \\\\\n",
       "\t14 & 1/complex.14.pdb & 1262.82 & [-0.4665, -0.474649, 0.746382] & 158.109 & [29.5916, 52.0064, 51.5678] & $\\dots$ \\\\\n",
       "\t15 & 1/complex.15.pdb & 1256.85 & [0.0494269, -0.972252, -0.228657] & 103.493 & [75.7368, 5.58534, -7.37751] & $\\dots$ \\\\\n",
       "\t16 & 1/complex.16.pdb & 1256.44 & [0.522053, -0.627305, 0.577883] & 126.033 & [79.5471, 70.566, 4.73893] & $\\dots$ \\\\\n",
       "\t17 & 1/complex.17.pdb & 1255.52 & [0.233759, 0.528319, 0.816233] & 154.165 & [49.793, 55.2781, -50.0396] & $\\dots$ \\\\\n",
       "\t18 & 1/complex.18.pdb & 1243.51 & [-0.259557, -0.453178, 0.852795] & 149.898 & [45.461, 56.7616, 43.9998] & $\\dots$ \\\\\n",
       "\t19 & 1/complex.19.pdb & 1242.17 & [0.410942, -0.706935, 0.575647] & 106.479 & [83.4931, 58.5096, 12.25] & $\\dots$ \\\\\n",
       "\t20 & 1/complex.20.pdb & 1237.78 & [0.710033, 0.310958, -0.63179] & 176.929 & [21.5891, 30.4811, 39.2652] & $\\dots$ \\\\\n",
       "\t21 & 1/complex.21.pdb & 1231.87 & [-0.870261, -0.491232, -0.036564] & 175.343 & [-21.5085, 38.9118, -10.8491] & $\\dots$ \\\\\n",
       "\t22 & 1/complex.22.pdb & 1228.07 & [0.324803, 0.584751, -0.74335] & 150.44 & [39.0961, 43.6977, 51.4573] & $\\dots$ \\\\\n",
       "\t23 & 1/complex.23.pdb & 1225.21 & [0.299733, 0.595404, -0.745422] & 166.955 & [39.9415, 40.3306, 48.2744] & $\\dots$ \\\\\n",
       "\t24 & 1/complex.24.pdb & 1209.42 & [-0.0996959, -0.559773, 0.822627] & 168.407 & [54.3194, 51.1301, 41.3756] & $\\dots$ \\\\\n",
       "\t25 & 1/complex.25.pdb & 1207.78 & [0.434435, 0.509211, -0.742947] & 152.874 & [31.0923, 48.9095, 51.7033] & $\\dots$ \\\\\n",
       "\t26 & 1/complex.26.pdb & 1205.18 & [0.167893, 0.4074, -0.897684] & 146.642 & [52.1852, 63.3932, 38.5301] & $\\dots$ \\\\\n",
       "\t27 & 1/complex.27.pdb & 1205.05 & [0.433519, -0.722764, 0.538213] & 178.664 & [70.8783, 54.8075, 16.5099] & $\\dots$ \\\\\n",
       "\t28 & 1/complex.28.pdb & 1198.57 & [-0.808167, 0.380933, -0.449173] & 141.85 & [47.5548, 84.5167, -13.8857] & $\\dots$ \\\\\n",
       "\t29 & 1/complex.29.pdb & 1197.69 & [0.85988, 0.504379, -0.0787941] & 172.373 & [-21.4929, 36.8174, 1.12375] & $\\dots$ \\\\\n",
       "\t30 & 1/complex.30.pdb & 1195.15 & [0.763698, 0.560614, 0.320122] & 173.071 & [-9.17464, 33.6768, -37.0892] & $\\dots$ \\\\\n",
       "\t$\\dots$ & $\\dots$ & $\\dots$ & $\\dots$ & $\\dots$ & $\\dots$ &  \\\\\n",
       "\\end{tabular}\n"
      ],
      "text/plain": [
       "\u001b[1m100000×7 DataFrame\u001b[0m\n",
       "\u001b[1m    Row \u001b[0m│\u001b[1m fnames               \u001b[0m\u001b[1m score   \u001b[0m\u001b[1m omega                             \u001b[0m\u001b[1m ph\u001b[0m ⋯\n",
       "        │\u001b[90m Any                  \u001b[0m\u001b[90m Any     \u001b[0m\u001b[90m Any                               \u001b[0m\u001b[90m An\u001b[0m ⋯\n",
       "────────┼───────────────────────────────────────────────────────────────────────\n",
       "      1 │ 1/complex.1.pdb       1476.6   [-0.173076, -0.791418, -0.586261]  72 ⋯\n",
       "      2 │ 1/complex.2.pdb       1434.06  [0.546049, -0.425146, 0.721859]    15\n",
       "      3 │ 1/complex.3.pdb       1433.56  [0.0914852, 0.842105, 0.531497]    67\n",
       "      4 │ 1/complex.4.pdb       1358.04  [0.415051, 0.536264, -0.734951]    16\n",
       "      5 │ 1/complex.5.pdb       1341.26  [-0.348243, -0.511949, 0.785261]   16 ⋯\n",
       "      6 │ 1/complex.6.pdb       1322.27  [-0.62595, -0.691659, -0.36027]    17\n",
       "      7 │ 1/complex.7.pdb       1309.68  [0.230504, -0.969612, -0.0819839]  16\n",
       "      8 │ 1/complex.8.pdb       1304.88  [0.526833, 0.760823, 0.378939]     17\n",
       "      9 │ 1/complex.9.pdb       1285.13  [0.128234, 0.306095, -0.943325]    17 ⋯\n",
       "     10 │ 1/complex.10.pdb      1274.57  [0.28347, 0.477933, -0.8314]       15\n",
       "     11 │ 1/complex.11.pdb      1271.34  [-0.590461, -0.772484, -0.233719]  17\n",
       "   ⋮    │          ⋮               ⋮                     ⋮                     ⋱\n",
       "  99991 │ 1000/complex.91.pdb   1101.4   [-0.329862, -0.645671, 0.688695]   15\n",
       "  99992 │ 1000/complex.92.pdb   1101.35  [-0.339059, -0.418836, 0.842387]   16 ⋯\n",
       "  99993 │ 1000/complex.93.pdb   1101.27  [0.507537, -0.662581, 0.550811]    11\n",
       "  99994 │ 1000/complex.94.pdb   1099.72  [-0.532814, 0.828907, -0.170359]   12\n",
       "  99995 │ 1000/complex.95.pdb   1098.68  [-0.219424, -0.861013, -0.458814]  10\n",
       "  99996 │ 1000/complex.96.pdb   1097.44  [-0.0193476, -0.486051, 0.873716]  11 ⋯\n",
       "  99997 │ 1000/complex.97.pdb   1096.67  [0.166937, -0.181421, 0.969133]    14\n",
       "  99998 │ 1000/complex.98.pdb   1096.65  [0.066128, 0.222716, -0.972638]    17\n",
       "  99999 │ 1000/complex.99.pdb   1095.92  [0.559103, 0.446474, 0.698616]     83\n",
       " 100000 │ 1000/complex.100.pdb  1094.66  [0.0482148, -0.880758, -0.471105]  12 ⋯\n",
       "\u001b[36m                                                4 columns and 99979 rows omitted\u001b[0m"
      ]
     },
     "execution_count": 14,
     "metadata": {},
     "output_type": "execute_result"
    }
   ],
   "source": [
    "df = DataFrame(fnames=fnames, score=score, omega=omega, phi=phi, prou=prou, d=d, struc=struc)"
   ]
  },
  {
   "cell_type": "code",
   "execution_count": 15,
   "id": "0225efef-539c-4fc1-b11c-3bf14df6c8f4",
   "metadata": {},
   "outputs": [],
   "source": [
    "df_org = deepcopy(df);"
   ]
  },
  {
   "cell_type": "code",
   "execution_count": 16,
   "id": "cc488138-9e57-416a-bdf4-0dd7f7ca8614",
   "metadata": {},
   "outputs": [],
   "source": [
    "#using BSON: @save, @load\n",
    "#@save \"skrew_parameters.bson\" fnames score omega phi prou d df rmsd"
   ]
  },
  {
   "cell_type": "code",
   "execution_count": 17,
   "id": "88b16d7e-2d7a-4759-874c-3d3cbead8916",
   "metadata": {},
   "outputs": [],
   "source": [
    "#using BSON: @save, @load\n",
    "#@save \"df.bson\" df"
   ]
  },
  {
   "cell_type": "code",
   "execution_count": 18,
   "id": "c9400341-a639-4e7c-86f5-6baf593f4f50",
   "metadata": {},
   "outputs": [],
   "source": [
    "using JLD2\n",
    "\n",
    "save(\"skrew_parameters.jld2\", \"fnames\", fnames, \"score\", score, \"omega\", omega, \"phi\", phi, \"prou\", prou, \"d\", d, \"df\", df, \"rmsd\", rmsd)\n",
    "save(\"df.jld2\", \"df\", df)"
   ]
  },
  {
   "cell_type": "code",
   "execution_count": null,
   "id": "a9bdb4a4-c673-4542-90bf-6fe48688cd53",
   "metadata": {},
   "outputs": [],
   "source": []
  }
 ],
 "metadata": {
  "kernelspec": {
   "display_name": "julia 1.10.1",
   "language": "julia",
   "name": "julia-1.10"
  },
  "language_info": {
   "file_extension": ".jl",
   "mimetype": "application/julia",
   "name": "julia",
   "version": "1.10.1"
  }
 },
 "nbformat": 4,
 "nbformat_minor": 5
}
