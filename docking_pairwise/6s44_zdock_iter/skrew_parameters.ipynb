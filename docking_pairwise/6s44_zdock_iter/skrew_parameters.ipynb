{
 "cells": [
  {
   "cell_type": "markdown",
   "id": "62a9d42f-dcfb-4d04-b7ee-aeab2626fe19",
   "metadata": {},
   "source": [
    "# 6s44"
   ]
  },
  {
   "cell_type": "code",
   "execution_count": 1,
   "id": "c2b6edbc-2a9f-438b-9e0d-1fb076e39d0e",
   "metadata": {},
   "outputs": [],
   "source": [
    "using Printf, DelimitedFiles\n",
    "using Plots\n",
    "using DataFrames\n",
    "using Revise, MDToolbox"
   ]
  },
  {
   "cell_type": "code",
   "execution_count": 2,
   "id": "c9373fbf-44a1-4c9b-88e3-5bb66950ae03",
   "metadata": {},
   "outputs": [
    {
     "data": {
      "text/plain": [
       "read_ascii (generic function with 1 method)"
      ]
     },
     "execution_count": 2,
     "metadata": {},
     "output_type": "execute_result"
    }
   ],
   "source": [
    "function read_ascii(fname)\n",
    "    lines = readlines(fname)\n",
    "    natom = length(lines) - 1\n",
    "    xyz = zeros(Float64, 1, natom*3)\n",
    "    for i = 1:natom\n",
    "        xyz[1, 3*(i-1)+1] = parse(Float64, lines[i+1][31:38])\n",
    "        xyz[1, 3*(i-1)+2] = parse(Float64, lines[i+1][39:46])\n",
    "        xyz[1, 3*(i-1)+3] = parse(Float64, lines[i+1][47:54])\n",
    "    end\n",
    "    TrjArray(xyz=xyz)\n",
    "end"
   ]
  },
  {
   "cell_type": "code",
   "execution_count": 3,
   "id": "fa858e0e-6890-4489-953b-936b481fa4aa",
   "metadata": {},
   "outputs": [
    {
     "data": {
      "text/plain": [
       "Any[]"
      ]
     },
     "execution_count": 3,
     "metadata": {},
     "output_type": "execute_result"
    }
   ],
   "source": [
    "fnames = []\n",
    "omega = []\n",
    "phi = []\n",
    "prou = []\n",
    "d = []\n",
    "score = []\n",
    "rmsd = []\n",
    "struc = []"
   ]
  },
  {
   "cell_type": "code",
   "execution_count": 4,
   "id": "32f8cbb0-c23b-4139-a37d-d0cb8a807005",
   "metadata": {},
   "outputs": [
    {
     "data": {
      "text/plain": [
       "1000"
      ]
     },
     "execution_count": 4,
     "metadata": {},
     "output_type": "execute_result"
    }
   ],
   "source": [
    "nrun = 1000"
   ]
  },
  {
   "cell_type": "code",
   "execution_count": 5,
   "id": "a9238faf-a6c3-43f9-8e58-bd5847247e2a",
   "metadata": {},
   "outputs": [],
   "source": [
    "for irun = 1:nrun\n",
    "\n",
    "    for i in 1:100\n",
    "        filename = \"$(irun)/complex.$(i).pdb\"\n",
    "        #t = mdload(filename)\n",
    "        #t = MDToolbox.readpdb_biostructures(filename)\n",
    "        t = read_ascii(filename)\n",
    "        t1 = t[:, 1:1120]\n",
    "        t2 = t[:, 1121:end]\n",
    "        r = MDToolbox.compute_skrew(t1, t2)\n",
    "        push!(fnames, filename)\n",
    "        push!(omega, r.omega)\n",
    "        push!(phi, r.phi / (2.0 * pi) * 360.0)\n",
    "        push!(prou, r.prou)\n",
    "        push!(d, r.d)\n",
    "        push!(struc, t)\n",
    "        #t_ca = t[\"atomname CA\"]\n",
    "        #push!(rmsd, compute_rmsd_permute(ref, t_ca, 2))\n",
    "    end\n",
    "\n",
    "    s = readdlm(\"$(irun)/zdock.out\", skipstart=5)\n",
    "    score = [score; s[1:100, end]]\n",
    "end"
   ]
  },
  {
   "cell_type": "code",
   "execution_count": 6,
   "id": "8d2ad93d-8d57-4b90-abfa-976cf23638b0",
   "metadata": {},
   "outputs": [
    {
     "data": {
      "text/html": [
       "<div class=\"data-frame\"><p>100,000 rows × 7 columns (omitted printing of 2 columns)</p><table class=\"data-frame\"><thead><tr><th></th><th>fnames</th><th>score</th><th>omega</th><th>phi</th><th>prou</th></tr><tr><th></th><th title=\"Any\">Any</th><th title=\"Any\">Any</th><th title=\"Any\">Any</th><th title=\"Any\">Any</th><th title=\"Any\">Any</th></tr></thead><tbody><tr><th>1</th><td>1/complex.1.pdb</td><td>1006.2</td><td>[0.570888, 0.818896, -0.059122]</td><td>176.342</td><td>[73.5321, -31.6233, 272.021]</td></tr><tr><th>2</th><td>1/complex.2.pdb</td><td>980.059</td><td>[0.0283857, 0.397653, -0.917097]</td><td>85.4762</td><td>[222.742, 245.267, 113.242]</td></tr><tr><th>3</th><td>1/complex.3.pdb</td><td>941.592</td><td>[-0.422624, 0.881435, -0.210856]</td><td>71.3854</td><td>[215.281, 165.01, 258.293]</td></tr><tr><th>4</th><td>1/complex.4.pdb</td><td>929.164</td><td>[-0.0573369, -0.476652, 0.87722]</td><td>83.3622</td><td>[225.041, 244.624, 147.63]</td></tr><tr><th>5</th><td>1/complex.5.pdb</td><td>910.584</td><td>[-0.232663, -0.611069, -0.756612]</td><td>121.753</td><td>[129.629, -48.0537, -1.05182]</td></tr><tr><th>6</th><td>1/complex.6.pdb</td><td>909.324</td><td>[0.253445, 0.444156, -0.859355]</td><td>76.7009</td><td>[232.41, 222.884, 183.741]</td></tr><tr><th>7</th><td>1/complex.7.pdb</td><td>903.876</td><td>[0.140658, 0.578577, 0.803408]</td><td>124.284</td><td>[162.914, -29.1464, -7.53262]</td></tr><tr><th>8</th><td>1/complex.8.pdb</td><td>872.951</td><td>[0.0938586, 0.752009, 0.652436]</td><td>155.88</td><td>[180.825, -70.6018, 55.3636]</td></tr><tr><th>9</th><td>1/complex.9.pdb</td><td>866.301</td><td>[0.326708, 0.760451, 0.561227]</td><td>161.072</td><td>[100.66, -95.592, 70.9278]</td></tr><tr><th>10</th><td>1/complex.10.pdb</td><td>865.961</td><td>[0.239458, 0.607878, 0.757063]</td><td>133.644</td><td>[127.451, -47.6851, -2.02443]</td></tr><tr><th>11</th><td>1/complex.11.pdb</td><td>862.774</td><td>[0.993631, 0.11146, -0.0165521]</td><td>159.088</td><td>[-11.6194, 143.736, 270.383]</td></tr><tr><th>12</th><td>1/complex.12.pdb</td><td>861.353</td><td>[0.109373, 0.433939, -0.894279]</td><td>136.37</td><td>[224.0, 219.987, 134.142]</td></tr><tr><th>13</th><td>1/complex.13.pdb</td><td>858.527</td><td>[-0.992349, -0.121543, -0.0217104]</td><td>168.688</td><td>[-22.8267, 139.74, 261.059]</td></tr><tr><th>14</th><td>1/complex.14.pdb</td><td>850.992</td><td>[-0.0837086, -0.987705, -0.132028]</td><td>179.612</td><td>[194.085, -48.8922, 242.711]</td></tr><tr><th>15</th><td>1/complex.15.pdb</td><td>848.732</td><td>[0.88625, -0.00208951, -0.463202]</td><td>51.8847</td><td>[152.015, 153.025, 290.161]</td></tr><tr><th>16</th><td>1/complex.16.pdb</td><td>842.422</td><td>[0.571378, -0.756485, 0.318209]</td><td>85.8641</td><td>[167.338, 224.827, 234.012]</td></tr><tr><th>17</th><td>1/complex.17.pdb</td><td>841.101</td><td>[-0.225145, -0.799096, -0.557454]</td><td>159.772</td><td>[137.955, -94.2465, 79.3828]</td></tr><tr><th>18</th><td>1/complex.18.pdb</td><td>838.589</td><td>[-0.582276, -0.405653, 0.704557]</td><td>144.059</td><td>[211.612, 164.515, 269.606]</td></tr><tr><th>19</th><td>1/complex.19.pdb</td><td>836.443</td><td>[0.334078, 0.937153, 0.100683]</td><td>175.254</td><td>[126.854, -70.2355, 232.833]</td></tr><tr><th>20</th><td>1/complex.20.pdb</td><td>835.188</td><td>[0.369968, 0.896976, 0.241987]</td><td>176.57</td><td>[104.054, -93.8095, 188.64]</td></tr><tr><th>21</th><td>1/complex.21.pdb</td><td>834.955</td><td>[0.256418, 0.756091, 0.602143]</td><td>149.154</td><td>[124.842, -88.6413, 58.1408]</td></tr><tr><th>22</th><td>1/complex.22.pdb</td><td>831.697</td><td>[0.445813, 0.894144, -0.041915]</td><td>173.561</td><td>[107.901, -41.2405, 267.889]</td></tr><tr><th>23</th><td>1/complex.23.pdb</td><td>830.65</td><td>[-0.979847, -0.0850279, -0.180749]</td><td>155.599</td><td>[-52.6213, 145.816, 216.667]</td></tr><tr><th>24</th><td>1/complex.24.pdb</td><td>830.648</td><td>[-0.19041, -0.0950872, 0.977089]</td><td>149.191</td><td>[272.543, 188.454, 71.4517]</td></tr><tr><th>25</th><td>1/complex.25.pdb</td><td>827.98</td><td>[-0.144239, -0.526601, -0.837787]</td><td>133.846</td><td>[161.849, -12.6171, -19.9345]</td></tr><tr><th>26</th><td>1/complex.26.pdb</td><td>827.955</td><td>[-0.435713, -0.51039, 0.741388]</td><td>94.1693</td><td>[222.19, 185.681, 258.409]</td></tr><tr><th>27</th><td>1/complex.27.pdb</td><td>825.006</td><td>[0.468744, 0.876475, 0.10987]</td><td>174.893</td><td>[83.1084, -73.079, 228.41]</td></tr><tr><th>28</th><td>1/complex.28.pdb</td><td>823.562</td><td>[0.392131, 0.83642, 0.38293]</td><td>175.761</td><td>[85.6269, -102.698, 136.635]</td></tr><tr><th>29</th><td>1/complex.29.pdb</td><td>823.519</td><td>[0.114031, 0.0978002, 0.988652]</td><td>119.359</td><td>[174.953, 133.167, -33.3524]</td></tr><tr><th>30</th><td>1/complex.30.pdb</td><td>820.631</td><td>[0.274459, 0.672439, 0.687384]</td><td>159.904</td><td>[116.102, -71.0244, 23.1227]</td></tr><tr><th>&vellip;</th><td>&vellip;</td><td>&vellip;</td><td>&vellip;</td><td>&vellip;</td><td>&vellip;</td></tr></tbody></table></div>"
      ],
      "text/latex": [
       "\\begin{tabular}{r|cccccc}\n",
       "\t& fnames & score & omega & phi & prou & \\\\\n",
       "\t\\hline\n",
       "\t& Any & Any & Any & Any & Any & \\\\\n",
       "\t\\hline\n",
       "\t1 & 1/complex.1.pdb & 1006.2 & [0.570888, 0.818896, -0.059122] & 176.342 & [73.5321, -31.6233, 272.021] & $\\dots$ \\\\\n",
       "\t2 & 1/complex.2.pdb & 980.059 & [0.0283857, 0.397653, -0.917097] & 85.4762 & [222.742, 245.267, 113.242] & $\\dots$ \\\\\n",
       "\t3 & 1/complex.3.pdb & 941.592 & [-0.422624, 0.881435, -0.210856] & 71.3854 & [215.281, 165.01, 258.293] & $\\dots$ \\\\\n",
       "\t4 & 1/complex.4.pdb & 929.164 & [-0.0573369, -0.476652, 0.87722] & 83.3622 & [225.041, 244.624, 147.63] & $\\dots$ \\\\\n",
       "\t5 & 1/complex.5.pdb & 910.584 & [-0.232663, -0.611069, -0.756612] & 121.753 & [129.629, -48.0537, -1.05182] & $\\dots$ \\\\\n",
       "\t6 & 1/complex.6.pdb & 909.324 & [0.253445, 0.444156, -0.859355] & 76.7009 & [232.41, 222.884, 183.741] & $\\dots$ \\\\\n",
       "\t7 & 1/complex.7.pdb & 903.876 & [0.140658, 0.578577, 0.803408] & 124.284 & [162.914, -29.1464, -7.53262] & $\\dots$ \\\\\n",
       "\t8 & 1/complex.8.pdb & 872.951 & [0.0938586, 0.752009, 0.652436] & 155.88 & [180.825, -70.6018, 55.3636] & $\\dots$ \\\\\n",
       "\t9 & 1/complex.9.pdb & 866.301 & [0.326708, 0.760451, 0.561227] & 161.072 & [100.66, -95.592, 70.9278] & $\\dots$ \\\\\n",
       "\t10 & 1/complex.10.pdb & 865.961 & [0.239458, 0.607878, 0.757063] & 133.644 & [127.451, -47.6851, -2.02443] & $\\dots$ \\\\\n",
       "\t11 & 1/complex.11.pdb & 862.774 & [0.993631, 0.11146, -0.0165521] & 159.088 & [-11.6194, 143.736, 270.383] & $\\dots$ \\\\\n",
       "\t12 & 1/complex.12.pdb & 861.353 & [0.109373, 0.433939, -0.894279] & 136.37 & [224.0, 219.987, 134.142] & $\\dots$ \\\\\n",
       "\t13 & 1/complex.13.pdb & 858.527 & [-0.992349, -0.121543, -0.0217104] & 168.688 & [-22.8267, 139.74, 261.059] & $\\dots$ \\\\\n",
       "\t14 & 1/complex.14.pdb & 850.992 & [-0.0837086, -0.987705, -0.132028] & 179.612 & [194.085, -48.8922, 242.711] & $\\dots$ \\\\\n",
       "\t15 & 1/complex.15.pdb & 848.732 & [0.88625, -0.00208951, -0.463202] & 51.8847 & [152.015, 153.025, 290.161] & $\\dots$ \\\\\n",
       "\t16 & 1/complex.16.pdb & 842.422 & [0.571378, -0.756485, 0.318209] & 85.8641 & [167.338, 224.827, 234.012] & $\\dots$ \\\\\n",
       "\t17 & 1/complex.17.pdb & 841.101 & [-0.225145, -0.799096, -0.557454] & 159.772 & [137.955, -94.2465, 79.3828] & $\\dots$ \\\\\n",
       "\t18 & 1/complex.18.pdb & 838.589 & [-0.582276, -0.405653, 0.704557] & 144.059 & [211.612, 164.515, 269.606] & $\\dots$ \\\\\n",
       "\t19 & 1/complex.19.pdb & 836.443 & [0.334078, 0.937153, 0.100683] & 175.254 & [126.854, -70.2355, 232.833] & $\\dots$ \\\\\n",
       "\t20 & 1/complex.20.pdb & 835.188 & [0.369968, 0.896976, 0.241987] & 176.57 & [104.054, -93.8095, 188.64] & $\\dots$ \\\\\n",
       "\t21 & 1/complex.21.pdb & 834.955 & [0.256418, 0.756091, 0.602143] & 149.154 & [124.842, -88.6413, 58.1408] & $\\dots$ \\\\\n",
       "\t22 & 1/complex.22.pdb & 831.697 & [0.445813, 0.894144, -0.041915] & 173.561 & [107.901, -41.2405, 267.889] & $\\dots$ \\\\\n",
       "\t23 & 1/complex.23.pdb & 830.65 & [-0.979847, -0.0850279, -0.180749] & 155.599 & [-52.6213, 145.816, 216.667] & $\\dots$ \\\\\n",
       "\t24 & 1/complex.24.pdb & 830.648 & [-0.19041, -0.0950872, 0.977089] & 149.191 & [272.543, 188.454, 71.4517] & $\\dots$ \\\\\n",
       "\t25 & 1/complex.25.pdb & 827.98 & [-0.144239, -0.526601, -0.837787] & 133.846 & [161.849, -12.6171, -19.9345] & $\\dots$ \\\\\n",
       "\t26 & 1/complex.26.pdb & 827.955 & [-0.435713, -0.51039, 0.741388] & 94.1693 & [222.19, 185.681, 258.409] & $\\dots$ \\\\\n",
       "\t27 & 1/complex.27.pdb & 825.006 & [0.468744, 0.876475, 0.10987] & 174.893 & [83.1084, -73.079, 228.41] & $\\dots$ \\\\\n",
       "\t28 & 1/complex.28.pdb & 823.562 & [0.392131, 0.83642, 0.38293] & 175.761 & [85.6269, -102.698, 136.635] & $\\dots$ \\\\\n",
       "\t29 & 1/complex.29.pdb & 823.519 & [0.114031, 0.0978002, 0.988652] & 119.359 & [174.953, 133.167, -33.3524] & $\\dots$ \\\\\n",
       "\t30 & 1/complex.30.pdb & 820.631 & [0.274459, 0.672439, 0.687384] & 159.904 & [116.102, -71.0244, 23.1227] & $\\dots$ \\\\\n",
       "\t$\\dots$ & $\\dots$ & $\\dots$ & $\\dots$ & $\\dots$ & $\\dots$ &  \\\\\n",
       "\\end{tabular}\n"
      ],
      "text/plain": [
       "\u001b[1m100000×7 DataFrame\u001b[0m\n",
       "\u001b[1m    Row \u001b[0m│\u001b[1m fnames               \u001b[0m\u001b[1m score   \u001b[0m\u001b[1m omega                             \u001b[0m\u001b[1m ph\u001b[0m ⋯\n",
       "\u001b[1m        \u001b[0m│\u001b[90m Any                  \u001b[0m\u001b[90m Any     \u001b[0m\u001b[90m Any                               \u001b[0m\u001b[90m An\u001b[0m ⋯\n",
       "────────┼───────────────────────────────────────────────────────────────────────\n",
       "      1 │ 1/complex.1.pdb       1006.2   [0.570888, 0.818896, -0.059122]    17 ⋯\n",
       "      2 │ 1/complex.2.pdb       980.059  [0.0283857, 0.397653, -0.917097]   85\n",
       "      3 │ 1/complex.3.pdb       941.592  [-0.422624, 0.881435, -0.210856]   71\n",
       "      4 │ 1/complex.4.pdb       929.164  [-0.0573369, -0.476652, 0.87722]   83\n",
       "      5 │ 1/complex.5.pdb       910.584  [-0.232663, -0.611069, -0.756612]  12 ⋯\n",
       "      6 │ 1/complex.6.pdb       909.324  [0.253445, 0.444156, -0.859355]    76\n",
       "      7 │ 1/complex.7.pdb       903.876  [0.140658, 0.578577, 0.803408]     12\n",
       "      8 │ 1/complex.8.pdb       872.951  [0.0938586, 0.752009, 0.652436]    15\n",
       "      9 │ 1/complex.9.pdb       866.301  [0.326708, 0.760451, 0.561227]     16 ⋯\n",
       "     10 │ 1/complex.10.pdb      865.961  [0.239458, 0.607878, 0.757063]     13\n",
       "     11 │ 1/complex.11.pdb      862.774  [0.993631, 0.11146, -0.0165521]    15\n",
       "   ⋮    │          ⋮               ⋮                     ⋮                     ⋱\n",
       "  99991 │ 1000/complex.91.pdb   757.714  [0.556497, -0.810696, -0.181885]   16\n",
       "  99992 │ 1000/complex.92.pdb   757.258  [0.20421, 0.42381, 0.88243]        13 ⋯\n",
       "  99993 │ 1000/complex.93.pdb   757.097  [0.376808, 0.925534, 0.0374525]    17\n",
       "  99994 │ 1000/complex.94.pdb   755.71   [0.200771, 0.310197, -0.92923]     86\n",
       "  99995 │ 1000/complex.95.pdb   754.883  [0.418431, 0.0335128, -0.90763]    17\n",
       "  99996 │ 1000/complex.96.pdb   754.586  [-0.559666, 0.656104, 0.506262]    71 ⋯\n",
       "  99997 │ 1000/complex.97.pdb   754.325  [-0.0283953, -0.8026, -0.595841]   16\n",
       "  99998 │ 1000/complex.98.pdb   753.425  [0.267717, 0.14295, 0.952834]      14\n",
       "  99999 │ 1000/complex.99.pdb   752.996  [-0.103702, -0.784222, -0.611753]  14\n",
       " 100000 │ 1000/complex.100.pdb  752.141  [-0.0839648, -0.975301, -0.2043]   15 ⋯\n",
       "\u001b[36m                                                4 columns and 99979 rows omitted\u001b[0m"
      ]
     },
     "execution_count": 6,
     "metadata": {},
     "output_type": "execute_result"
    }
   ],
   "source": [
    "df = DataFrame(fnames=fnames, score=score, omega=omega, phi=phi, prou=prou, d=d, struc=struc)"
   ]
  },
  {
   "cell_type": "code",
   "execution_count": 7,
   "id": "0225efef-539c-4fc1-b11c-3bf14df6c8f4",
   "metadata": {},
   "outputs": [],
   "source": [
    "df_org = deepcopy(df);"
   ]
  },
  {
   "cell_type": "code",
   "execution_count": 8,
   "id": "cc488138-9e57-416a-bdf4-0dd7f7ca8614",
   "metadata": {},
   "outputs": [],
   "source": [
    "#using BSON: @save, @load\n",
    "#@save \"skrew_parameters.bson\" fnames score omega phi prou d df rmsd"
   ]
  },
  {
   "cell_type": "code",
   "execution_count": 9,
   "id": "88b16d7e-2d7a-4759-874c-3d3cbead8916",
   "metadata": {},
   "outputs": [],
   "source": [
    "#using BSON: @save, @load\n",
    "#@save \"df.bson\" df"
   ]
  },
  {
   "cell_type": "code",
   "execution_count": 10,
   "id": "c9400341-a639-4e7c-86f5-6baf593f4f50",
   "metadata": {},
   "outputs": [],
   "source": [
    "using JLD2\n",
    "\n",
    "save(\"skrew_parameters.jld2\", \"fnames\", fnames, \"score\", score, \"omega\", omega, \"phi\", phi, \"prou\", prou, \"d\", d, \"df\", df, \"rmsd\", rmsd)\n",
    "save(\"df.jld2\", \"df\", df)"
   ]
  },
  {
   "cell_type": "code",
   "execution_count": null,
   "id": "a9bdb4a4-c673-4542-90bf-6fe48688cd53",
   "metadata": {},
   "outputs": [],
   "source": []
  }
 ],
 "metadata": {
  "kernelspec": {
   "name": "julia-1.7"
  },
  "language_info": {
   "file_extension": ".jl",
   "mimetype": "application/julia",
   "name": "julia",
   "version": "1.7.2"
  }
 },
 "nbformat": 4,
 "nbformat_minor": 5
}
