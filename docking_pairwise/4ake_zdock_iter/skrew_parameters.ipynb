{
 "cells": [
  {
   "cell_type": "markdown",
   "id": "62a9d42f-dcfb-4d04-b7ee-aeab2626fe19",
   "metadata": {},
   "source": [
    "# 4ake"
   ]
  },
  {
   "cell_type": "code",
   "execution_count": 11,
   "id": "c2b6edbc-2a9f-438b-9e0d-1fb076e39d0e",
   "metadata": {},
   "outputs": [],
   "source": [
    "using Printf, DelimitedFiles\n",
    "using Plots\n",
    "using DataFrames\n",
    "using Revise, MDToolbox"
   ]
  },
  {
   "cell_type": "code",
   "execution_count": 12,
   "id": "c9373fbf-44a1-4c9b-88e3-5bb66950ae03",
   "metadata": {},
   "outputs": [
    {
     "data": {
      "text/plain": [
       "read_ascii (generic function with 1 method)"
      ]
     },
     "execution_count": 12,
     "metadata": {},
     "output_type": "execute_result"
    }
   ],
   "source": [
    "function read_ascii(fname)\n",
    "    lines = readlines(fname)\n",
    "    natom = length(lines)\n",
    "    xyz = zeros(Float64, 1, natom*3)\n",
    "    for i = 1:natom\n",
    "        xyz[1, 3*(i-1)+1] = parse(Float64, lines[i][31:38])\n",
    "        xyz[1, 3*(i-1)+2] = parse(Float64, lines[i][39:46])\n",
    "        xyz[1, 3*(i-1)+3] = parse(Float64, lines[i][47:54])\n",
    "    end\n",
    "    TrjArray(xyz=xyz)\n",
    "end"
   ]
  },
  {
   "cell_type": "code",
   "execution_count": 13,
   "id": "fa858e0e-6890-4489-953b-936b481fa4aa",
   "metadata": {},
   "outputs": [
    {
     "data": {
      "text/plain": [
       "Any[]"
      ]
     },
     "execution_count": 13,
     "metadata": {},
     "output_type": "execute_result"
    }
   ],
   "source": [
    "fnames = []\n",
    "omega = []\n",
    "phi = []\n",
    "prou = []\n",
    "d = []\n",
    "score = []\n",
    "rmsd = []\n",
    "struc = []"
   ]
  },
  {
   "cell_type": "code",
   "execution_count": 14,
   "id": "32f8cbb0-c23b-4139-a37d-d0cb8a807005",
   "metadata": {},
   "outputs": [
    {
     "data": {
      "text/plain": [
       "1000"
      ]
     },
     "execution_count": 14,
     "metadata": {},
     "output_type": "execute_result"
    }
   ],
   "source": [
    "nrun = 1000"
   ]
  },
  {
   "cell_type": "code",
   "execution_count": 15,
   "id": "a9238faf-a6c3-43f9-8e58-bd5847247e2a",
   "metadata": {},
   "outputs": [],
   "source": [
    "for irun = 1:nrun\n",
    "\n",
    "    for i in 1:100\n",
    "        filename = \"$(irun)/complex.$(i).pdb\"\n",
    "        #t = mdload(filename)\n",
    "        #t = MDToolbox.readpdb_biostructures(filename)\n",
    "        t = read_ascii(filename)\n",
    "        t1 = t[:, 1:1656]\n",
    "        t2 = t[:, 1657:end]\n",
    "        r = MDToolbox.compute_skrew(t1, t2)\n",
    "        push!(fnames, filename)\n",
    "        push!(omega, r.omega)\n",
    "        push!(phi, r.phi / (2.0 * pi) * 360.0)\n",
    "        push!(prou, r.prou)\n",
    "        push!(d, r.d)\n",
    "        push!(struc, t)\n",
    "        #t_ca = t[\"atomname CA\"]\n",
    "        #push!(rmsd, compute_rmsd_permute(ref, t_ca, 2))\n",
    "    end\n",
    "\n",
    "    s = readdlm(\"$(irun)/zdock.out\", skipstart=5)\n",
    "    score = [score; s[1:100, end]]\n",
    "end"
   ]
  },
  {
   "cell_type": "code",
   "execution_count": 16,
   "id": "8d2ad93d-8d57-4b90-abfa-976cf23638b0",
   "metadata": {},
   "outputs": [
    {
     "data": {
      "text/html": [
       "<div><div style = \"float: left;\"><span>100000×7 DataFrame</span></div><div style = \"float: right;\"><span style = \"font-style: italic;\">99975 rows omitted</span></div><div style = \"clear: both;\"></div></div><div class = \"data-frame\" style = \"overflow-x: scroll;\"><table class = \"data-frame\" style = \"margin-bottom: 6px;\"><thead><tr class = \"header\"><th class = \"rowNumber\" style = \"font-weight: bold; text-align: right;\">Row</th><th style = \"text-align: left;\">fnames</th><th style = \"text-align: left;\">score</th><th style = \"text-align: left;\">omega</th><th style = \"text-align: left;\">phi</th><th style = \"text-align: left;\">prou</th><th style = \"text-align: left;\">d</th><th style = \"text-align: left;\">struc</th></tr><tr class = \"subheader headerLastRow\"><th class = \"rowNumber\" style = \"font-weight: bold; text-align: right;\"></th><th title = \"Any\" style = \"text-align: left;\">Any</th><th title = \"Any\" style = \"text-align: left;\">Any</th><th title = \"Any\" style = \"text-align: left;\">Any</th><th title = \"Any\" style = \"text-align: left;\">Any</th><th title = \"Any\" style = \"text-align: left;\">Any</th><th title = \"Any\" style = \"text-align: left;\">Any</th><th title = \"Any\" style = \"text-align: left;\">Any</th></tr></thead><tbody><tr><td class = \"rowNumber\" style = \"font-weight: bold; text-align: right;\">1</td><td style = \"text-align: left;\">1/complex.1.pdb</td><td style = \"text-align: left;\">1024.65</td><td style = \"text-align: left;\">[-0.0281216, 0.968563, 0.247175]</td><td style = \"text-align: left;\">142.637</td><td style = \"text-align: left;\">[-8.75967, 5.99937, -24.5054]</td><td style = \"text-align: left;\">-14.8287</td><td style = \"text-align: left;\">1x3312 TrjArray{Float64, Int64}\\n|   -10.93   -24.89    -9.52 |  …       4.49   -35.62   -44.75 |</td></tr><tr><td class = \"rowNumber\" style = \"font-weight: bold; text-align: right;\">2</td><td style = \"text-align: left;\">1/complex.2.pdb</td><td style = \"text-align: left;\">995.933</td><td style = \"text-align: left;\">[0.574083, -0.500062, -0.648356]</td><td style = \"text-align: left;\">147.139</td><td style = \"text-align: left;\">[-14.8289, 9.28651, -20.2926]</td><td style = \"text-align: left;\">-1.50474</td><td style = \"text-align: left;\">1x3312 TrjArray{Float64, Int64}\\n|   -10.93   -24.89    -9.52 |  …     -12.15    22.01   -54.26 |</td></tr><tr><td class = \"rowNumber\" style = \"font-weight: bold; text-align: right;\">3</td><td style = \"text-align: left;\">1/complex.3.pdb</td><td style = \"text-align: left;\">975.648</td><td style = \"text-align: left;\">[0.586679, -0.575964, -0.569274]</td><td style = \"text-align: left;\">159.814</td><td style = \"text-align: left;\">[-12.8229, 8.26763, -21.5797]</td><td style = \"text-align: left;\">-1.5971</td><td style = \"text-align: left;\">1x3312 TrjArray{Float64, Int64}\\n|   -10.93   -24.89    -9.52 |  …      -0.67    20.45   -52.36 |</td></tr><tr><td class = \"rowNumber\" style = \"font-weight: bold; text-align: right;\">4</td><td style = \"text-align: left;\">1/complex.4.pdb</td><td style = \"text-align: left;\">962.002</td><td style = \"text-align: left;\">[-0.135677, -0.937363, 0.320845]</td><td style = \"text-align: left;\">150.089</td><td style = \"text-align: left;\">[-11.0709, -7.65869, -27.0568]</td><td style = \"text-align: left;\">18.9014</td><td style = \"text-align: left;\">1x3312 TrjArray{Float64, Int64}\\n|   -10.93   -24.89    -9.52 |  …     -19.62   -45.58   -14.85 |</td></tr><tr><td class = \"rowNumber\" style = \"font-weight: bold; text-align: right;\">5</td><td style = \"text-align: left;\">1/complex.5.pdb</td><td style = \"text-align: left;\">915.738</td><td style = \"text-align: left;\">[-0.588624, 0.61065, 0.529744]</td><td style = \"text-align: left;\">163.212</td><td style = \"text-align: left;\">[-12.2797, 7.92458, -22.7795]</td><td style = \"text-align: left;\">-0.454163</td><td style = \"text-align: left;\">1x3312 TrjArray{Float64, Int64}\\n|   -10.93   -24.89    -9.52 |  …      16.18    19.32   -41.88 |</td></tr><tr><td class = \"rowNumber\" style = \"font-weight: bold; text-align: right;\">6</td><td style = \"text-align: left;\">1/complex.6.pdb</td><td style = \"text-align: left;\">909.798</td><td style = \"text-align: left;\">[0.0512852, 0.569022, -0.820722]</td><td style = \"text-align: left;\">93.3045</td><td style = \"text-align: left;\">[-11.8917, -23.1444, -16.7896]</td><td style = \"text-align: left;\">-22.5546</td><td style = \"text-align: left;\">1x3312 TrjArray{Float64, Int64}\\n|   -10.93   -24.89    -9.52 |  …     -17.46   -36.74     2.86 |</td></tr><tr><td class = \"rowNumber\" style = \"font-weight: bold; text-align: right;\">7</td><td style = \"text-align: left;\">1/complex.7.pdb</td><td style = \"text-align: left;\">874.365</td><td style = \"text-align: left;\">[0.235571, -0.971857, -0.000318399]</td><td style = \"text-align: left;\">151.007</td><td style = \"text-align: left;\">[-15.8386, -3.83192, -22.0794]</td><td style = \"text-align: left;\">15.4782</td><td style = \"text-align: left;\">1x3312 TrjArray{Float64, Int64}\\n|   -10.93   -24.89    -9.52 |  …      -7.09   -42.42   -26.51 |</td></tr><tr><td class = \"rowNumber\" style = \"font-weight: bold; text-align: right;\">8</td><td style = \"text-align: left;\">1/complex.8.pdb</td><td style = \"text-align: left;\">872.42</td><td style = \"text-align: left;\">[-0.855621, 0.514046, -0.0605748]</td><td style = \"text-align: left;\">174.23</td><td style = \"text-align: left;\">[-5.56816, -11.4507, -18.5221]</td><td style = \"text-align: left;\">26.1247</td><td style = \"text-align: left;\">1x3312 TrjArray{Float64, Int64}\\n|   -10.93   -24.89    -9.52 |  …     -16.62    15.01   -18.60 |</td></tr><tr><td class = \"rowNumber\" style = \"font-weight: bold; text-align: right;\">9</td><td style = \"text-align: left;\">1/complex.9.pdb</td><td style = \"text-align: left;\">868.374</td><td style = \"text-align: left;\">[-0.778727, 0.603605, 0.17101]</td><td style = \"text-align: left;\">43.4144</td><td style = \"text-align: left;\">[20.4586, 30.4552, -14.334]</td><td style = \"text-align: left;\">-4.34687</td><td style = \"text-align: left;\">1x3312 TrjArray{Float64, Int64}\\n|   -10.93   -24.89    -9.52 |  …       8.04   -21.82    26.25 |</td></tr><tr><td class = \"rowNumber\" style = \"font-weight: bold; text-align: right;\">10</td><td style = \"text-align: left;\">1/complex.10.pdb</td><td style = \"text-align: left;\">847.56</td><td style = \"text-align: left;\">[-0.986065, 0.0835544, 0.143855]</td><td style = \"text-align: left;\">70.1705</td><td style = \"text-align: left;\">[0.251762, 21.0588, -10.5057]</td><td style = \"text-align: left;\">-4.68079</td><td style = \"text-align: left;\">1x3312 TrjArray{Float64, Int64}\\n|   -10.93   -24.89    -9.52 |  …       2.44    -4.00    33.03 |</td></tr><tr><td class = \"rowNumber\" style = \"font-weight: bold; text-align: right;\">11</td><td style = \"text-align: left;\">1/complex.11.pdb</td><td style = \"text-align: left;\">843.258</td><td style = \"text-align: left;\">[0.359654, -0.249504, -0.899109]</td><td style = \"text-align: left;\">53.4687</td><td style = \"text-align: left;\">[-33.9747, -30.2384, -5.19907]</td><td style = \"text-align: left;\">-9.32078</td><td style = \"text-align: left;\">1x3312 TrjArray{Float64, Int64}\\n|   -10.93   -24.89    -9.52 |  …     -16.91   -40.63    -6.03 |</td></tr><tr><td class = \"rowNumber\" style = \"font-weight: bold; text-align: right;\">12</td><td style = \"text-align: left;\">1/complex.12.pdb</td><td style = \"text-align: left;\">833.396</td><td style = \"text-align: left;\">[-0.930154, 0.0552861, 0.362985]</td><td style = \"text-align: left;\">76.9103</td><td style = \"text-align: left;\">[-3.86386, 18.2911, -12.6871]</td><td style = \"text-align: left;\">3.65629</td><td style = \"text-align: left;\">1x3312 TrjArray{Float64, Int64}\\n|   -10.93   -24.89    -9.52 |  …       4.83     0.68    30.28 |</td></tr><tr><td class = \"rowNumber\" style = \"font-weight: bold; text-align: right;\">13</td><td style = \"text-align: left;\">1/complex.13.pdb</td><td style = \"text-align: left;\">831.438</td><td style = \"text-align: left;\">[-0.4962, -0.461046, 0.735678]</td><td style = \"text-align: left;\">155.731</td><td style = \"text-align: left;\">[-15.76, -9.80526, -16.7747]</td><td style = \"text-align: left;\">3.27936</td><td style = \"text-align: left;\">1x3312 TrjArray{Float64, Int64}\\n|   -10.93   -24.89    -9.52 |  …     -20.53     1.17    -1.36 |</td></tr><tr><td style = \"text-align: right;\">&vellip;</td><td style = \"text-align: right;\">&vellip;</td><td style = \"text-align: right;\">&vellip;</td><td style = \"text-align: right;\">&vellip;</td><td style = \"text-align: right;\">&vellip;</td><td style = \"text-align: right;\">&vellip;</td><td style = \"text-align: right;\">&vellip;</td><td style = \"text-align: right;\">&vellip;</td></tr><tr><td class = \"rowNumber\" style = \"font-weight: bold; text-align: right;\">99989</td><td style = \"text-align: left;\">1000/complex.89.pdb</td><td style = \"text-align: left;\">711.587</td><td style = \"text-align: left;\">[-0.730679, 0.361447, -0.579192]</td><td style = \"text-align: left;\">121.11</td><td style = \"text-align: left;\">[9.14324, -9.49926, -17.4627]</td><td style = \"text-align: left;\">-26.1266</td><td style = \"text-align: left;\">1x3312 TrjArray{Float64, Int64}\\n|   -10.93   -24.89    -9.52 |  …      19.93     5.41     7.82 |</td></tr><tr><td class = \"rowNumber\" style = \"font-weight: bold; text-align: right;\">99990</td><td style = \"text-align: left;\">1000/complex.90.pdb</td><td style = \"text-align: left;\">710.756</td><td style = \"text-align: left;\">[-0.0417803, 0.949606, 0.310649]</td><td style = \"text-align: left;\">108.634</td><td style = \"text-align: left;\">[-7.56318, 6.96818, -22.3179]</td><td style = \"text-align: left;\">-13.9754</td><td style = \"text-align: left;\">1x3312 TrjArray{Float64, Int64}\\n|   -10.93   -24.89    -9.52 |  …      10.20   -35.54   -35.76 |</td></tr><tr><td class = \"rowNumber\" style = \"font-weight: bold; text-align: right;\">99991</td><td style = \"text-align: left;\">1000/complex.91.pdb</td><td style = \"text-align: left;\">710.331</td><td style = \"text-align: left;\">[0.241782, -0.77493, -0.583973]</td><td style = \"text-align: left;\">137.129</td><td style = \"text-align: left;\">[-11.0115, 10.3561, -18.3016]</td><td style = \"text-align: left;\">-3.59304</td><td style = \"text-align: left;\">1x3312 TrjArray{Float64, Int64}\\n|   -10.93   -24.89    -9.52 |  …     -14.46     2.21   -52.49 |</td></tr><tr><td class = \"rowNumber\" style = \"font-weight: bold; text-align: right;\">99992</td><td style = \"text-align: left;\">1000/complex.92.pdb</td><td style = \"text-align: left;\">709.809</td><td style = \"text-align: left;\">[0.360252, -0.450941, -0.816622]</td><td style = \"text-align: left;\">57.4382</td><td style = \"text-align: left;\">[-35.3977, -22.732, -3.06295]</td><td style = \"text-align: left;\">-1.45541</td><td style = \"text-align: left;\">1x3312 TrjArray{Float64, Int64}\\n|   -10.93   -24.89    -9.52 |  …     -17.09   -41.23   -11.00 |</td></tr><tr><td class = \"rowNumber\" style = \"font-weight: bold; text-align: right;\">99993</td><td style = \"text-align: left;\">1000/complex.93.pdb</td><td style = \"text-align: left;\">709.441</td><td style = \"text-align: left;\">[-0.444093, 0.585122, 0.678538]</td><td style = \"text-align: left;\">168.217</td><td style = \"text-align: left;\">[-13.9535, 11.4562, -19.0114]</td><td style = \"text-align: left;\">-1.85269</td><td style = \"text-align: left;\">1x3312 TrjArray{Float64, Int64}\\n|   -10.93   -24.89    -9.52 |  …      10.56    22.26   -49.08 |</td></tr><tr><td class = \"rowNumber\" style = \"font-weight: bold; text-align: right;\">99994</td><td style = \"text-align: left;\">1000/complex.94.pdb</td><td style = \"text-align: left;\">709.421</td><td style = \"text-align: left;\">[-0.804173, 0.517007, 0.293275]</td><td style = \"text-align: left;\">170.769</td><td style = \"text-align: left;\">[-8.30999, 5.07122, -31.7263]</td><td style = \"text-align: left;\">11.5171</td><td style = \"text-align: left;\">1x3312 TrjArray{Float64, Int64}\\n|   -10.93   -24.89    -9.52 |  …       4.63    34.54   -43.34 |</td></tr><tr><td class = \"rowNumber\" style = \"font-weight: bold; text-align: right;\">99995</td><td style = \"text-align: left;\">1000/complex.95.pdb</td><td style = \"text-align: left;\">708.831</td><td style = \"text-align: left;\">[-0.332989, 0.940626, -0.0658934]</td><td style = \"text-align: left;\">111.074</td><td style = \"text-align: left;\">[-18.7143, -8.59419, -28.1102]</td><td style = \"text-align: left;\">14.566</td><td style = \"text-align: left;\">1x3312 TrjArray{Float64, Int64}\\n|   -10.93   -24.89    -9.52 |  …      -8.86   -12.03   -31.06 |</td></tr><tr><td class = \"rowNumber\" style = \"font-weight: bold; text-align: right;\">99996</td><td style = \"text-align: left;\">1000/complex.96.pdb</td><td style = \"text-align: left;\">707.849</td><td style = \"text-align: left;\">[0.455646, -0.508029, -0.730954]</td><td style = \"text-align: left;\">142.643</td><td style = \"text-align: left;\">[-15.5646, 11.1127, -17.4259]</td><td style = \"text-align: left;\">-1.71786</td><td style = \"text-align: left;\">1x3312 TrjArray{Float64, Int64}\\n|   -10.93   -24.89    -9.52 |  …     -18.58    21.35   -53.89 |</td></tr><tr><td class = \"rowNumber\" style = \"font-weight: bold; text-align: right;\">99997</td><td style = \"text-align: left;\">1000/complex.97.pdb</td><td style = \"text-align: left;\">707.24</td><td style = \"text-align: left;\">[-0.662771, 0.263787, 0.700822]</td><td style = \"text-align: left;\">69.2429</td><td style = \"text-align: left;\">[7.30973, -0.102874, 6.95158]</td><td style = \"text-align: left;\">-21.5482</td><td style = \"text-align: left;\">1x3312 TrjArray{Float64, Int64}\\n|   -10.93   -24.89    -9.52 |  …      31.90   -45.51    -0.68 |</td></tr><tr><td class = \"rowNumber\" style = \"font-weight: bold; text-align: right;\">99998</td><td style = \"text-align: left;\">1000/complex.98.pdb</td><td style = \"text-align: left;\">706.207</td><td style = \"text-align: left;\">[0.247063, 0.967221, 0.058679]</td><td style = \"text-align: left;\">74.231</td><td style = \"text-align: left;\">[-14.9119, 3.48492, 5.3426]</td><td style = \"text-align: left;\">11.3387</td><td style = \"text-align: left;\">1x3312 TrjArray{Float64, Int64}\\n|   -10.93   -24.89    -9.52 |  …     -36.68    -9.89   -11.98 |</td></tr><tr><td class = \"rowNumber\" style = \"font-weight: bold; text-align: right;\">99999</td><td style = \"text-align: left;\">1000/complex.99.pdb</td><td style = \"text-align: left;\">706.125</td><td style = \"text-align: left;\">[-0.395595, -0.589463, -0.7043]</td><td style = \"text-align: left;\">89.7204</td><td style = \"text-align: left;\">[9.58127, -16.7948, 8.67478]</td><td style = \"text-align: left;\">-20.318</td><td style = \"text-align: left;\">1x3312 TrjArray{Float64, Int64}\\n|   -10.93   -24.89    -9.52 |  …      12.36   -20.07    -8.95 |</td></tr><tr><td class = \"rowNumber\" style = \"font-weight: bold; text-align: right;\">100000</td><td style = \"text-align: left;\">1000/complex.100.pdb</td><td style = \"text-align: left;\">701.136</td><td style = \"text-align: left;\">[0.705627, -0.616932, -0.348547]</td><td style = \"text-align: left;\">156.302</td><td style = \"text-align: left;\">[-9.4218, 5.1514, -28.1923]</td><td style = \"text-align: left;\">-0.377992</td><td style = \"text-align: left;\">1x3312 TrjArray{Float64, Int64}\\n|   -10.93   -24.89    -9.52 |  …       5.59    15.07   -57.34 |</td></tr></tbody></table></div>"
      ],
      "text/latex": [
       "\\begin{tabular}{r|cccccc}\n",
       "\t& fnames & score & omega & phi & prou & \\\\\n",
       "\t\\hline\n",
       "\t& Any & Any & Any & Any & Any & \\\\\n",
       "\t\\hline\n",
       "\t1 & 1/complex.1.pdb & 1024.65 & [-0.0281216, 0.968563, 0.247175] & 142.637 & [-8.75967, 5.99937, -24.5054] & $\\dots$ \\\\\n",
       "\t2 & 1/complex.2.pdb & 995.933 & [0.574083, -0.500062, -0.648356] & 147.139 & [-14.8289, 9.28651, -20.2926] & $\\dots$ \\\\\n",
       "\t3 & 1/complex.3.pdb & 975.648 & [0.586679, -0.575964, -0.569274] & 159.814 & [-12.8229, 8.26763, -21.5797] & $\\dots$ \\\\\n",
       "\t4 & 1/complex.4.pdb & 962.002 & [-0.135677, -0.937363, 0.320845] & 150.089 & [-11.0709, -7.65869, -27.0568] & $\\dots$ \\\\\n",
       "\t5 & 1/complex.5.pdb & 915.738 & [-0.588624, 0.61065, 0.529744] & 163.212 & [-12.2797, 7.92458, -22.7795] & $\\dots$ \\\\\n",
       "\t6 & 1/complex.6.pdb & 909.798 & [0.0512852, 0.569022, -0.820722] & 93.3045 & [-11.8917, -23.1444, -16.7896] & $\\dots$ \\\\\n",
       "\t7 & 1/complex.7.pdb & 874.365 & [0.235571, -0.971857, -0.000318399] & 151.007 & [-15.8386, -3.83192, -22.0794] & $\\dots$ \\\\\n",
       "\t8 & 1/complex.8.pdb & 872.42 & [-0.855621, 0.514046, -0.0605748] & 174.23 & [-5.56816, -11.4507, -18.5221] & $\\dots$ \\\\\n",
       "\t9 & 1/complex.9.pdb & 868.374 & [-0.778727, 0.603605, 0.17101] & 43.4144 & [20.4586, 30.4552, -14.334] & $\\dots$ \\\\\n",
       "\t10 & 1/complex.10.pdb & 847.56 & [-0.986065, 0.0835544, 0.143855] & 70.1705 & [0.251762, 21.0588, -10.5057] & $\\dots$ \\\\\n",
       "\t11 & 1/complex.11.pdb & 843.258 & [0.359654, -0.249504, -0.899109] & 53.4687 & [-33.9747, -30.2384, -5.19907] & $\\dots$ \\\\\n",
       "\t12 & 1/complex.12.pdb & 833.396 & [-0.930154, 0.0552861, 0.362985] & 76.9103 & [-3.86386, 18.2911, -12.6871] & $\\dots$ \\\\\n",
       "\t13 & 1/complex.13.pdb & 831.438 & [-0.4962, -0.461046, 0.735678] & 155.731 & [-15.76, -9.80526, -16.7747] & $\\dots$ \\\\\n",
       "\t14 & 1/complex.14.pdb & 829.023 & [-0.558914, 0.548491, 0.621911] & 155.69 & [-14.1077, 9.42102, -20.9874] & $\\dots$ \\\\\n",
       "\t15 & 1/complex.15.pdb & 823.27 & [-0.0799699, -0.61366, 0.78551] & 103.096 & [-10.9897, -21.7894, -18.1412] & $\\dots$ \\\\\n",
       "\t16 & 1/complex.16.pdb & 819.973 & [-0.949845, 0.290368, -0.116111] & 42.2939 & [11.5191, 33.5689, -10.2839] & $\\dots$ \\\\\n",
       "\t17 & 1/complex.17.pdb & 818.281 & [0.615227, 0.63664, 0.464957] & 90.3895 & [4.11674, 6.58053, -14.4576] & $\\dots$ \\\\\n",
       "\t18 & 1/complex.18.pdb & 817.126 & [0.4058, 0.856288, -0.319527] & 172.169 & [-11.2505, -0.87115, -16.6227] & $\\dots$ \\\\\n",
       "\t19 & 1/complex.19.pdb & 814.393 & [0.786162, -0.536059, -0.307555] & 161.686 & [-8.89604, 5.3023, -31.9815] & $\\dots$ \\\\\n",
       "\t20 & 1/complex.20.pdb & 812.223 & [0.841633, 0.402332, -0.360254] & 178.21 & [2.45813, -19.1434, -15.6366] & $\\dots$ \\\\\n",
       "\t21 & 1/complex.21.pdb & 808.764 & [0.00521695, -0.525637, 0.850693] & 88.7305 & [-12.095, -23.3379, -14.3461] & $\\dots$ \\\\\n",
       "\t22 & 1/complex.22.pdb & 804.178 & [0.804784, -0.580766, 0.122613] & 129.706 & [-7.4545, -16.6132, -29.7613] & $\\dots$ \\\\\n",
       "\t23 & 1/complex.23.pdb & 803.02 & [-0.299287, 0.939597, -0.166086] & 108.279 & [-17.4882, -10.578, -28.3293] & $\\dots$ \\\\\n",
       "\t24 & 1/complex.24.pdb & 801.199 & [-0.717384, 0.522461, 0.460862] & 159.432 & [-11.8591, 5.9537, -25.2095] & $\\dots$ \\\\\n",
       "\t25 & 1/complex.25.pdb & 795.949 & [-0.724713, 0.120592, -0.678417] & 176.836 & [-0.821376, -28.0056, -4.1007] & $\\dots$ \\\\\n",
       "\t26 & 1/complex.26.pdb & 793.574 & [0.788577, -0.613377, -0.0437535] & 43.8965 & [21.2919, 28.4131, -14.5748] & $\\dots$ \\\\\n",
       "\t27 & 1/complex.27.pdb & 791.607 & [-0.104298, -0.732591, -0.672631] & 155.584 & [-4.80412, 6.67571, -6.52587] & $\\dots$ \\\\\n",
       "\t28 & 1/complex.28.pdb & 789.989 & [-0.690102, 0.473418, 0.547389] & 149.839 & [-13.5939, 6.36729, -22.6449] & $\\dots$ \\\\\n",
       "\t29 & 1/complex.29.pdb & 785.906 & [0.63263, -0.284396, -0.720346] & 66.1183 & [7.59758, 0.441512, 6.49812] & $\\dots$ \\\\\n",
       "\t30 & 1/complex.30.pdb & 784.777 & [0.519179, -0.378658, -0.766206] & 80.2359 & [6.40853, 0.725392, 3.98391] & $\\dots$ \\\\\n",
       "\t$\\dots$ & $\\dots$ & $\\dots$ & $\\dots$ & $\\dots$ & $\\dots$ &  \\\\\n",
       "\\end{tabular}\n"
      ],
      "text/plain": [
       "\u001b[1m100000×7 DataFrame\u001b[0m\n",
       "\u001b[1m    Row \u001b[0m│\u001b[1m fnames               \u001b[0m\u001b[1m score   \u001b[0m\u001b[1m omega                             \u001b[0m\u001b[1m ph\u001b[0m ⋯\n",
       "        │\u001b[90m Any                  \u001b[0m\u001b[90m Any     \u001b[0m\u001b[90m Any                               \u001b[0m\u001b[90m An\u001b[0m ⋯\n",
       "────────┼───────────────────────────────────────────────────────────────────────\n",
       "      1 │ 1/complex.1.pdb       1024.65  [-0.0281216, 0.968563, 0.247175]   14 ⋯\n",
       "      2 │ 1/complex.2.pdb       995.933  [0.574083, -0.500062, -0.648356]   14\n",
       "      3 │ 1/complex.3.pdb       975.648  [0.586679, -0.575964, -0.569274]   15\n",
       "      4 │ 1/complex.4.pdb       962.002  [-0.135677, -0.937363, 0.320845]   15\n",
       "      5 │ 1/complex.5.pdb       915.738  [-0.588624, 0.61065, 0.529744]     16 ⋯\n",
       "      6 │ 1/complex.6.pdb       909.798  [0.0512852, 0.569022, -0.820722]   93\n",
       "      7 │ 1/complex.7.pdb       874.365  [0.235571, -0.971857, -0.0003183…  15\n",
       "      8 │ 1/complex.8.pdb       872.42   [-0.855621, 0.514046, -0.0605748]  17\n",
       "      9 │ 1/complex.9.pdb       868.374  [-0.778727, 0.603605, 0.17101]     43 ⋯\n",
       "     10 │ 1/complex.10.pdb      847.56   [-0.986065, 0.0835544, 0.143855]   70\n",
       "     11 │ 1/complex.11.pdb      843.258  [0.359654, -0.249504, -0.899109]   53\n",
       "   ⋮    │          ⋮               ⋮                     ⋮                     ⋱\n",
       "  99991 │ 1000/complex.91.pdb   710.331  [0.241782, -0.77493, -0.583973]    13\n",
       "  99992 │ 1000/complex.92.pdb   709.809  [0.360252, -0.450941, -0.816622]   57 ⋯\n",
       "  99993 │ 1000/complex.93.pdb   709.441  [-0.444093, 0.585122, 0.678538]    16\n",
       "  99994 │ 1000/complex.94.pdb   709.421  [-0.804173, 0.517007, 0.293275]    17\n",
       "  99995 │ 1000/complex.95.pdb   708.831  [-0.332989, 0.940626, -0.0658934]  11\n",
       "  99996 │ 1000/complex.96.pdb   707.849  [0.455646, -0.508029, -0.730954]   14 ⋯\n",
       "  99997 │ 1000/complex.97.pdb   707.24   [-0.662771, 0.263787, 0.700822]    69\n",
       "  99998 │ 1000/complex.98.pdb   706.207  [0.247063, 0.967221, 0.058679]     74\n",
       "  99999 │ 1000/complex.99.pdb   706.125  [-0.395595, -0.589463, -0.7043]    89\n",
       " 100000 │ 1000/complex.100.pdb  701.136  [0.705627, -0.616932, -0.348547]   15 ⋯\n",
       "\u001b[36m                                                4 columns and 99979 rows omitted\u001b[0m"
      ]
     },
     "execution_count": 16,
     "metadata": {},
     "output_type": "execute_result"
    }
   ],
   "source": [
    "df = DataFrame(fnames=fnames, score=score, omega=omega, phi=phi, prou=prou, d=d, struc=struc)"
   ]
  },
  {
   "cell_type": "code",
   "execution_count": 17,
   "id": "0225efef-539c-4fc1-b11c-3bf14df6c8f4",
   "metadata": {},
   "outputs": [],
   "source": [
    "df_org = deepcopy(df);"
   ]
  },
  {
   "cell_type": "code",
   "execution_count": 18,
   "id": "cc488138-9e57-416a-bdf4-0dd7f7ca8614",
   "metadata": {},
   "outputs": [],
   "source": [
    "#using BSON: @save, @load\n",
    "#@save \"skrew_parameters.bson\" fnames score omega phi prou d df rmsd"
   ]
  },
  {
   "cell_type": "code",
   "execution_count": 19,
   "id": "88b16d7e-2d7a-4759-874c-3d3cbead8916",
   "metadata": {},
   "outputs": [],
   "source": [
    "#using BSON: @save, @load\n",
    "#@save \"df.bson\" df"
   ]
  },
  {
   "cell_type": "code",
   "execution_count": 20,
   "id": "c9400341-a639-4e7c-86f5-6baf593f4f50",
   "metadata": {},
   "outputs": [],
   "source": [
    "using JLD2\n",
    "\n",
    "save(\"skrew_parameters.jld2\", \"fnames\", fnames, \"score\", score, \"omega\", omega, \"phi\", phi, \"prou\", prou, \"d\", d, \"df\", df, \"rmsd\", rmsd)\n",
    "save(\"df.jld2\", \"df\", df)"
   ]
  },
  {
   "cell_type": "code",
   "execution_count": null,
   "id": "a9bdb4a4-c673-4542-90bf-6fe48688cd53",
   "metadata": {},
   "outputs": [],
   "source": []
  }
 ],
 "metadata": {
  "kernelspec": {
   "display_name": "julia 1.10.1",
   "language": "julia",
   "name": "julia-1.10"
  },
  "language_info": {
   "file_extension": ".jl",
   "mimetype": "application/julia",
   "name": "julia",
   "version": "1.10.1"
  }
 },
 "nbformat": 4,
 "nbformat_minor": 5
}
