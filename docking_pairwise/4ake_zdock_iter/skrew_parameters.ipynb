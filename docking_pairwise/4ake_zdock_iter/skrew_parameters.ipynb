{
 "cells": [
  {
   "cell_type": "markdown",
   "id": "62a9d42f-dcfb-4d04-b7ee-aeab2626fe19",
   "metadata": {},
   "source": [
    "# 4ake"
   ]
  },
  {
   "cell_type": "code",
   "execution_count": 1,
   "id": "c2b6edbc-2a9f-438b-9e0d-1fb076e39d0e",
   "metadata": {},
   "outputs": [],
   "source": [
    "using Printf, DelimitedFiles\n",
    "using Plots\n",
    "using DataFrames\n",
    "using Revise, MDToolbox"
   ]
  },
  {
   "cell_type": "code",
   "execution_count": 2,
   "id": "c9373fbf-44a1-4c9b-88e3-5bb66950ae03",
   "metadata": {},
   "outputs": [
    {
     "data": {
      "text/plain": [
       "read_ascii (generic function with 1 method)"
      ]
     },
     "execution_count": 2,
     "metadata": {},
     "output_type": "execute_result"
    }
   ],
   "source": [
    "function read_ascii(fname)\n",
    "    lines = readlines(fname)\n",
    "    natom = length(lines)\n",
    "    xyz = zeros(Float64, 1, natom*3)\n",
    "    for i = 1:natom\n",
    "        xyz[1, 3*(i-1)+1] = parse(Float64, lines[i][31:38])\n",
    "        xyz[1, 3*(i-1)+2] = parse(Float64, lines[i][39:46])\n",
    "        xyz[1, 3*(i-1)+3] = parse(Float64, lines[i][47:54])\n",
    "    end\n",
    "    TrjArray(xyz=xyz)\n",
    "end"
   ]
  },
  {
   "cell_type": "code",
   "execution_count": 3,
   "id": "fa858e0e-6890-4489-953b-936b481fa4aa",
   "metadata": {},
   "outputs": [
    {
     "data": {
      "text/plain": [
       "Any[]"
      ]
     },
     "execution_count": 3,
     "metadata": {},
     "output_type": "execute_result"
    }
   ],
   "source": [
    "fnames = []\n",
    "omega = []\n",
    "phi = []\n",
    "prou = []\n",
    "d = []\n",
    "score = []\n",
    "rmsd = []\n",
    "struc = []"
   ]
  },
  {
   "cell_type": "code",
   "execution_count": 4,
   "id": "32f8cbb0-c23b-4139-a37d-d0cb8a807005",
   "metadata": {},
   "outputs": [
    {
     "data": {
      "text/plain": [
       "1000"
      ]
     },
     "execution_count": 4,
     "metadata": {},
     "output_type": "execute_result"
    }
   ],
   "source": [
    "nrun = 1000"
   ]
  },
  {
   "cell_type": "code",
   "execution_count": 5,
   "id": "a9238faf-a6c3-43f9-8e58-bd5847247e2a",
   "metadata": {},
   "outputs": [],
   "source": [
    "for irun = 1:nrun\n",
    "\n",
    "    for i in 1:100\n",
    "        filename = \"$(irun)/complex.$(i).pdb\"\n",
    "        #t = mdload(filename)\n",
    "        #t = MDToolbox.readpdb_biostructures(filename)\n",
    "        t = read_ascii(filename)\n",
    "        t1 = t[:, 1:1656]\n",
    "        t2 = t[:, 1657:end]\n",
    "        r = MDToolbox.compute_skrew(t1, t2)\n",
    "        push!(fnames, filename)\n",
    "        push!(omega, r.omega)\n",
    "        push!(phi, r.phi / (2.0 * pi) * 360.0)\n",
    "        push!(prou, r.prou)\n",
    "        push!(d, r.d)\n",
    "        push!(struc, t)\n",
    "        #t_ca = t[\"atomname CA\"]\n",
    "        #push!(rmsd, compute_rmsd_permute(ref, t_ca, 2))\n",
    "    end\n",
    "\n",
    "    s = readdlm(\"$(irun)/zdock.out\", skipstart=5)\n",
    "    score = [score; s[1:100, end]]\n",
    "end"
   ]
  },
  {
   "cell_type": "code",
   "execution_count": 6,
   "id": "8d2ad93d-8d57-4b90-abfa-976cf23638b0",
   "metadata": {},
   "outputs": [
    {
     "data": {
      "text/html": [
       "<div class=\"data-frame\"><p>100,000 rows × 7 columns (omitted printing of 2 columns)</p><table class=\"data-frame\"><thead><tr><th></th><th>fnames</th><th>score</th><th>omega</th><th>phi</th><th>prou</th></tr><tr><th></th><th title=\"Any\">Any</th><th title=\"Any\">Any</th><th title=\"Any\">Any</th><th title=\"Any\">Any</th><th title=\"Any\">Any</th></tr></thead><tbody><tr><th>1</th><td>1/complex.1.pdb</td><td>1024.65</td><td>[-0.0281216, 0.968563, 0.247175]</td><td>142.637</td><td>[-8.75967, 5.99937, -24.5054]</td></tr><tr><th>2</th><td>1/complex.2.pdb</td><td>995.933</td><td>[0.574083, -0.500062, -0.648356]</td><td>147.139</td><td>[-14.8289, 9.28651, -20.2926]</td></tr><tr><th>3</th><td>1/complex.3.pdb</td><td>975.648</td><td>[0.586679, -0.575964, -0.569274]</td><td>159.814</td><td>[-12.8229, 8.26763, -21.5797]</td></tr><tr><th>4</th><td>1/complex.4.pdb</td><td>962.002</td><td>[-0.135677, -0.937363, 0.320845]</td><td>150.089</td><td>[-11.0709, -7.65869, -27.0568]</td></tr><tr><th>5</th><td>1/complex.5.pdb</td><td>915.738</td><td>[-0.588624, 0.61065, 0.529744]</td><td>163.212</td><td>[-12.2797, 7.92458, -22.7795]</td></tr><tr><th>6</th><td>1/complex.6.pdb</td><td>909.798</td><td>[0.0512852, 0.569022, -0.820722]</td><td>93.3045</td><td>[-11.8917, -23.1444, -16.7896]</td></tr><tr><th>7</th><td>1/complex.7.pdb</td><td>874.365</td><td>[0.235571, -0.971857, -0.000318399]</td><td>151.007</td><td>[-15.8386, -3.83192, -22.0794]</td></tr><tr><th>8</th><td>1/complex.8.pdb</td><td>872.42</td><td>[-0.855621, 0.514046, -0.0605748]</td><td>174.23</td><td>[-5.56816, -11.4507, -18.5221]</td></tr><tr><th>9</th><td>1/complex.9.pdb</td><td>868.374</td><td>[-0.778727, 0.603605, 0.17101]</td><td>43.4144</td><td>[20.4586, 30.4552, -14.334]</td></tr><tr><th>10</th><td>1/complex.10.pdb</td><td>847.56</td><td>[-0.986065, 0.0835544, 0.143855]</td><td>70.1705</td><td>[0.251762, 21.0588, -10.5057]</td></tr><tr><th>11</th><td>1/complex.11.pdb</td><td>843.258</td><td>[0.359654, -0.249504, -0.899109]</td><td>53.4687</td><td>[-33.9747, -30.2384, -5.19907]</td></tr><tr><th>12</th><td>1/complex.12.pdb</td><td>833.396</td><td>[-0.930154, 0.0552861, 0.362985]</td><td>76.9103</td><td>[-3.86386, 18.2911, -12.6871]</td></tr><tr><th>13</th><td>1/complex.13.pdb</td><td>831.438</td><td>[-0.4962, -0.461046, 0.735678]</td><td>155.731</td><td>[-15.76, -9.80526, -16.7747]</td></tr><tr><th>14</th><td>1/complex.14.pdb</td><td>829.023</td><td>[-0.558914, 0.548491, 0.621911]</td><td>155.69</td><td>[-14.1077, 9.42102, -20.9874]</td></tr><tr><th>15</th><td>1/complex.15.pdb</td><td>823.27</td><td>[-0.0799699, -0.61366, 0.78551]</td><td>103.096</td><td>[-10.9897, -21.7894, -18.1412]</td></tr><tr><th>16</th><td>1/complex.16.pdb</td><td>819.973</td><td>[-0.949845, 0.290368, -0.116111]</td><td>42.2939</td><td>[11.5191, 33.5689, -10.2839]</td></tr><tr><th>17</th><td>1/complex.17.pdb</td><td>818.281</td><td>[0.615227, 0.63664, 0.464957]</td><td>90.3895</td><td>[4.11674, 6.58053, -14.4576]</td></tr><tr><th>18</th><td>1/complex.18.pdb</td><td>817.126</td><td>[0.4058, 0.856288, -0.319527]</td><td>172.169</td><td>[-11.2505, -0.87115, -16.6227]</td></tr><tr><th>19</th><td>1/complex.19.pdb</td><td>814.393</td><td>[0.786162, -0.536059, -0.307555]</td><td>161.686</td><td>[-8.89604, 5.3023, -31.9815]</td></tr><tr><th>20</th><td>1/complex.20.pdb</td><td>812.223</td><td>[0.841633, 0.402332, -0.360254]</td><td>178.21</td><td>[2.45813, -19.1434, -15.6366]</td></tr><tr><th>21</th><td>1/complex.21.pdb</td><td>808.764</td><td>[0.00521695, -0.525637, 0.850693]</td><td>88.7305</td><td>[-12.095, -23.3379, -14.3461]</td></tr><tr><th>22</th><td>1/complex.22.pdb</td><td>804.178</td><td>[0.804784, -0.580766, 0.122613]</td><td>129.706</td><td>[-7.4545, -16.6132, -29.7613]</td></tr><tr><th>23</th><td>1/complex.23.pdb</td><td>803.02</td><td>[-0.299287, 0.939597, -0.166086]</td><td>108.279</td><td>[-17.4882, -10.578, -28.3293]</td></tr><tr><th>24</th><td>1/complex.24.pdb</td><td>801.199</td><td>[-0.717384, 0.522461, 0.460862]</td><td>159.432</td><td>[-11.8591, 5.9537, -25.2095]</td></tr><tr><th>25</th><td>1/complex.25.pdb</td><td>795.949</td><td>[-0.724713, 0.120592, -0.678417]</td><td>176.836</td><td>[-0.821376, -28.0056, -4.1007]</td></tr><tr><th>26</th><td>1/complex.26.pdb</td><td>793.574</td><td>[0.788577, -0.613377, -0.0437535]</td><td>43.8965</td><td>[21.2919, 28.4131, -14.5748]</td></tr><tr><th>27</th><td>1/complex.27.pdb</td><td>791.607</td><td>[-0.104298, -0.732591, -0.672631]</td><td>155.584</td><td>[-4.80412, 6.67571, -6.52587]</td></tr><tr><th>28</th><td>1/complex.28.pdb</td><td>789.989</td><td>[-0.690102, 0.473418, 0.547389]</td><td>149.839</td><td>[-13.5939, 6.36729, -22.6449]</td></tr><tr><th>29</th><td>1/complex.29.pdb</td><td>785.906</td><td>[0.63263, -0.284396, -0.720346]</td><td>66.1183</td><td>[7.59758, 0.441512, 6.49812]</td></tr><tr><th>30</th><td>1/complex.30.pdb</td><td>784.777</td><td>[0.519179, -0.378658, -0.766206]</td><td>80.2359</td><td>[6.40853, 0.725392, 3.98391]</td></tr><tr><th>&vellip;</th><td>&vellip;</td><td>&vellip;</td><td>&vellip;</td><td>&vellip;</td><td>&vellip;</td></tr></tbody></table></div>"
      ],
      "text/latex": [
       "\\begin{tabular}{r|cccccc}\n",
       "\t& fnames & score & omega & phi & prou & \\\\\n",
       "\t\\hline\n",
       "\t& Any & Any & Any & Any & Any & \\\\\n",
       "\t\\hline\n",
       "\t1 & 1/complex.1.pdb & 1024.65 & [-0.0281216, 0.968563, 0.247175] & 142.637 & [-8.75967, 5.99937, -24.5054] & $\\dots$ \\\\\n",
       "\t2 & 1/complex.2.pdb & 995.933 & [0.574083, -0.500062, -0.648356] & 147.139 & [-14.8289, 9.28651, -20.2926] & $\\dots$ \\\\\n",
       "\t3 & 1/complex.3.pdb & 975.648 & [0.586679, -0.575964, -0.569274] & 159.814 & [-12.8229, 8.26763, -21.5797] & $\\dots$ \\\\\n",
       "\t4 & 1/complex.4.pdb & 962.002 & [-0.135677, -0.937363, 0.320845] & 150.089 & [-11.0709, -7.65869, -27.0568] & $\\dots$ \\\\\n",
       "\t5 & 1/complex.5.pdb & 915.738 & [-0.588624, 0.61065, 0.529744] & 163.212 & [-12.2797, 7.92458, -22.7795] & $\\dots$ \\\\\n",
       "\t6 & 1/complex.6.pdb & 909.798 & [0.0512852, 0.569022, -0.820722] & 93.3045 & [-11.8917, -23.1444, -16.7896] & $\\dots$ \\\\\n",
       "\t7 & 1/complex.7.pdb & 874.365 & [0.235571, -0.971857, -0.000318399] & 151.007 & [-15.8386, -3.83192, -22.0794] & $\\dots$ \\\\\n",
       "\t8 & 1/complex.8.pdb & 872.42 & [-0.855621, 0.514046, -0.0605748] & 174.23 & [-5.56816, -11.4507, -18.5221] & $\\dots$ \\\\\n",
       "\t9 & 1/complex.9.pdb & 868.374 & [-0.778727, 0.603605, 0.17101] & 43.4144 & [20.4586, 30.4552, -14.334] & $\\dots$ \\\\\n",
       "\t10 & 1/complex.10.pdb & 847.56 & [-0.986065, 0.0835544, 0.143855] & 70.1705 & [0.251762, 21.0588, -10.5057] & $\\dots$ \\\\\n",
       "\t11 & 1/complex.11.pdb & 843.258 & [0.359654, -0.249504, -0.899109] & 53.4687 & [-33.9747, -30.2384, -5.19907] & $\\dots$ \\\\\n",
       "\t12 & 1/complex.12.pdb & 833.396 & [-0.930154, 0.0552861, 0.362985] & 76.9103 & [-3.86386, 18.2911, -12.6871] & $\\dots$ \\\\\n",
       "\t13 & 1/complex.13.pdb & 831.438 & [-0.4962, -0.461046, 0.735678] & 155.731 & [-15.76, -9.80526, -16.7747] & $\\dots$ \\\\\n",
       "\t14 & 1/complex.14.pdb & 829.023 & [-0.558914, 0.548491, 0.621911] & 155.69 & [-14.1077, 9.42102, -20.9874] & $\\dots$ \\\\\n",
       "\t15 & 1/complex.15.pdb & 823.27 & [-0.0799699, -0.61366, 0.78551] & 103.096 & [-10.9897, -21.7894, -18.1412] & $\\dots$ \\\\\n",
       "\t16 & 1/complex.16.pdb & 819.973 & [-0.949845, 0.290368, -0.116111] & 42.2939 & [11.5191, 33.5689, -10.2839] & $\\dots$ \\\\\n",
       "\t17 & 1/complex.17.pdb & 818.281 & [0.615227, 0.63664, 0.464957] & 90.3895 & [4.11674, 6.58053, -14.4576] & $\\dots$ \\\\\n",
       "\t18 & 1/complex.18.pdb & 817.126 & [0.4058, 0.856288, -0.319527] & 172.169 & [-11.2505, -0.87115, -16.6227] & $\\dots$ \\\\\n",
       "\t19 & 1/complex.19.pdb & 814.393 & [0.786162, -0.536059, -0.307555] & 161.686 & [-8.89604, 5.3023, -31.9815] & $\\dots$ \\\\\n",
       "\t20 & 1/complex.20.pdb & 812.223 & [0.841633, 0.402332, -0.360254] & 178.21 & [2.45813, -19.1434, -15.6366] & $\\dots$ \\\\\n",
       "\t21 & 1/complex.21.pdb & 808.764 & [0.00521695, -0.525637, 0.850693] & 88.7305 & [-12.095, -23.3379, -14.3461] & $\\dots$ \\\\\n",
       "\t22 & 1/complex.22.pdb & 804.178 & [0.804784, -0.580766, 0.122613] & 129.706 & [-7.4545, -16.6132, -29.7613] & $\\dots$ \\\\\n",
       "\t23 & 1/complex.23.pdb & 803.02 & [-0.299287, 0.939597, -0.166086] & 108.279 & [-17.4882, -10.578, -28.3293] & $\\dots$ \\\\\n",
       "\t24 & 1/complex.24.pdb & 801.199 & [-0.717384, 0.522461, 0.460862] & 159.432 & [-11.8591, 5.9537, -25.2095] & $\\dots$ \\\\\n",
       "\t25 & 1/complex.25.pdb & 795.949 & [-0.724713, 0.120592, -0.678417] & 176.836 & [-0.821376, -28.0056, -4.1007] & $\\dots$ \\\\\n",
       "\t26 & 1/complex.26.pdb & 793.574 & [0.788577, -0.613377, -0.0437535] & 43.8965 & [21.2919, 28.4131, -14.5748] & $\\dots$ \\\\\n",
       "\t27 & 1/complex.27.pdb & 791.607 & [-0.104298, -0.732591, -0.672631] & 155.584 & [-4.80412, 6.67571, -6.52587] & $\\dots$ \\\\\n",
       "\t28 & 1/complex.28.pdb & 789.989 & [-0.690102, 0.473418, 0.547389] & 149.839 & [-13.5939, 6.36729, -22.6449] & $\\dots$ \\\\\n",
       "\t29 & 1/complex.29.pdb & 785.906 & [0.63263, -0.284396, -0.720346] & 66.1183 & [7.59758, 0.441512, 6.49812] & $\\dots$ \\\\\n",
       "\t30 & 1/complex.30.pdb & 784.777 & [0.519179, -0.378658, -0.766206] & 80.2359 & [6.40853, 0.725392, 3.98391] & $\\dots$ \\\\\n",
       "\t$\\dots$ & $\\dots$ & $\\dots$ & $\\dots$ & $\\dots$ & $\\dots$ &  \\\\\n",
       "\\end{tabular}\n"
      ],
      "text/plain": [
       "\u001b[1m100000×7 DataFrame\u001b[0m\n",
       "\u001b[1m    Row \u001b[0m│\u001b[1m fnames               \u001b[0m\u001b[1m score   \u001b[0m\u001b[1m omega                             \u001b[0m\u001b[1m ph\u001b[0m ⋯\n",
       "\u001b[1m        \u001b[0m│\u001b[90m Any                  \u001b[0m\u001b[90m Any     \u001b[0m\u001b[90m Any                               \u001b[0m\u001b[90m An\u001b[0m ⋯\n",
       "────────┼───────────────────────────────────────────────────────────────────────\n",
       "      1 │ 1/complex.1.pdb       1024.65  [-0.0281216, 0.968563, 0.247175]   14 ⋯\n",
       "      2 │ 1/complex.2.pdb       995.933  [0.574083, -0.500062, -0.648356]   14\n",
       "      3 │ 1/complex.3.pdb       975.648  [0.586679, -0.575964, -0.569274]   15\n",
       "      4 │ 1/complex.4.pdb       962.002  [-0.135677, -0.937363, 0.320845]   15\n",
       "      5 │ 1/complex.5.pdb       915.738  [-0.588624, 0.61065, 0.529744]     16 ⋯\n",
       "      6 │ 1/complex.6.pdb       909.798  [0.0512852, 0.569022, -0.820722]   93\n",
       "      7 │ 1/complex.7.pdb       874.365  [0.235571, -0.971857, -0.0003183…  15\n",
       "      8 │ 1/complex.8.pdb       872.42   [-0.855621, 0.514046, -0.0605748]  17\n",
       "      9 │ 1/complex.9.pdb       868.374  [-0.778727, 0.603605, 0.17101]     43 ⋯\n",
       "     10 │ 1/complex.10.pdb      847.56   [-0.986065, 0.0835544, 0.143855]   70\n",
       "     11 │ 1/complex.11.pdb      843.258  [0.359654, -0.249504, -0.899109]   53\n",
       "   ⋮    │          ⋮               ⋮                     ⋮                     ⋱\n",
       "  99991 │ 1000/complex.91.pdb   710.331  [0.241782, -0.77493, -0.583973]    13\n",
       "  99992 │ 1000/complex.92.pdb   709.809  [0.360252, -0.450941, -0.816622]   57 ⋯\n",
       "  99993 │ 1000/complex.93.pdb   709.441  [-0.444093, 0.585122, 0.678538]    16\n",
       "  99994 │ 1000/complex.94.pdb   709.421  [-0.804173, 0.517007, 0.293275]    17\n",
       "  99995 │ 1000/complex.95.pdb   708.831  [-0.332989, 0.940626, -0.0658934]  11\n",
       "  99996 │ 1000/complex.96.pdb   707.849  [0.455646, -0.508029, -0.730954]   14 ⋯\n",
       "  99997 │ 1000/complex.97.pdb   707.24   [-0.662771, 0.263787, 0.700822]    69\n",
       "  99998 │ 1000/complex.98.pdb   706.207  [0.247063, 0.967221, 0.058679]     74\n",
       "  99999 │ 1000/complex.99.pdb   706.125  [-0.395595, -0.589463, -0.7043]    89\n",
       " 100000 │ 1000/complex.100.pdb  701.136  [0.705627, -0.616932, -0.348547]   15 ⋯\n",
       "\u001b[36m                                                4 columns and 99979 rows omitted\u001b[0m"
      ]
     },
     "execution_count": 6,
     "metadata": {},
     "output_type": "execute_result"
    }
   ],
   "source": [
    "df = DataFrame(fnames=fnames, score=score, omega=omega, phi=phi, prou=prou, d=d, struc=struc)"
   ]
  },
  {
   "cell_type": "code",
   "execution_count": 7,
   "id": "0225efef-539c-4fc1-b11c-3bf14df6c8f4",
   "metadata": {},
   "outputs": [],
   "source": [
    "df_org = deepcopy(df);"
   ]
  },
  {
   "cell_type": "code",
   "execution_count": 8,
   "id": "cc488138-9e57-416a-bdf4-0dd7f7ca8614",
   "metadata": {},
   "outputs": [],
   "source": [
    "#using BSON: @save, @load\n",
    "#@save \"skrew_parameters.bson\" fnames score omega phi prou d df rmsd"
   ]
  },
  {
   "cell_type": "code",
   "execution_count": 9,
   "id": "88b16d7e-2d7a-4759-874c-3d3cbead8916",
   "metadata": {},
   "outputs": [],
   "source": [
    "#using BSON: @save, @load\n",
    "#@save \"df.bson\" df"
   ]
  },
  {
   "cell_type": "code",
   "execution_count": 10,
   "id": "c9400341-a639-4e7c-86f5-6baf593f4f50",
   "metadata": {},
   "outputs": [],
   "source": [
    "using JLD2\n",
    "\n",
    "save(\"skrew_parameters.jld2\", \"fnames\", fnames, \"score\", score, \"omega\", omega, \"phi\", phi, \"prou\", prou, \"d\", d, \"df\", df, \"rmsd\", rmsd)\n",
    "save(\"df.jld2\", \"df\", df)"
   ]
  },
  {
   "cell_type": "code",
   "execution_count": null,
   "id": "a9bdb4a4-c673-4542-90bf-6fe48688cd53",
   "metadata": {},
   "outputs": [],
   "source": []
  }
 ],
 "metadata": {
  "kernelspec": {
   "name": "julia-1.7"
  },
  "language_info": {
   "file_extension": ".jl",
   "mimetype": "application/julia",
   "name": "julia",
   "version": "1.7.2"
  }
 },
 "nbformat": 4,
 "nbformat_minor": 5
}
