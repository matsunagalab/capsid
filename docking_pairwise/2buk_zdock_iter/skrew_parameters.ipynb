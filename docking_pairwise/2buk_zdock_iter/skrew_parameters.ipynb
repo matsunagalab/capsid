{
 "cells": [
  {
   "cell_type": "markdown",
   "id": "62a9d42f-dcfb-4d04-b7ee-aeab2626fe19",
   "metadata": {},
   "source": [
    "# 2buk"
   ]
  },
  {
   "cell_type": "code",
   "execution_count": 1,
   "id": "c2b6edbc-2a9f-438b-9e0d-1fb076e39d0e",
   "metadata": {},
   "outputs": [],
   "source": [
    "using Printf, DelimitedFiles\n",
    "using Plots\n",
    "using DataFrames\n",
    "using Revise, MDToolbox"
   ]
  },
  {
   "cell_type": "code",
   "execution_count": 2,
   "id": "c9373fbf-44a1-4c9b-88e3-5bb66950ae03",
   "metadata": {},
   "outputs": [
    {
     "data": {
      "text/plain": [
       "read_ascii (generic function with 1 method)"
      ]
     },
     "execution_count": 2,
     "metadata": {},
     "output_type": "execute_result"
    }
   ],
   "source": [
    "function read_ascii(fname)\n",
    "    lines = readlines(fname)\n",
    "    natom = length(lines) - 1\n",
    "    xyz = zeros(Float64, 1, natom*3)\n",
    "    for i = 1:natom\n",
    "        xyz[1, 3*(i-1)+1] = parse(Float64, lines[i+1][31:38])\n",
    "        xyz[1, 3*(i-1)+2] = parse(Float64, lines[i+1][39:46])\n",
    "        xyz[1, 3*(i-1)+3] = parse(Float64, lines[i+1][47:54])\n",
    "    end\n",
    "    TrjArray(xyz=xyz)\n",
    "end"
   ]
  },
  {
   "cell_type": "code",
   "execution_count": 3,
   "id": "fa858e0e-6890-4489-953b-936b481fa4aa",
   "metadata": {},
   "outputs": [
    {
     "data": {
      "text/plain": [
       "Any[]"
      ]
     },
     "execution_count": 3,
     "metadata": {},
     "output_type": "execute_result"
    }
   ],
   "source": [
    "fnames = []\n",
    "omega = []\n",
    "phi = []\n",
    "prou = []\n",
    "d = []\n",
    "score = []\n",
    "rmsd = []\n",
    "struc = []"
   ]
  },
  {
   "cell_type": "code",
   "execution_count": 4,
   "id": "32f8cbb0-c23b-4139-a37d-d0cb8a807005",
   "metadata": {},
   "outputs": [
    {
     "data": {
      "text/plain": [
       "1000"
      ]
     },
     "execution_count": 4,
     "metadata": {},
     "output_type": "execute_result"
    }
   ],
   "source": [
    "nrun = 1000"
   ]
  },
  {
   "cell_type": "code",
   "execution_count": 5,
   "id": "a9238faf-a6c3-43f9-8e58-bd5847247e2a",
   "metadata": {},
   "outputs": [
    {
     "name": "stdout",
     "output_type": "stream",
     "text": [
      "irun = 100irun = 200irun = 300irun = 400irun = 500irun = 600irun = 700irun = 800irun = 900irun = 1000"
     ]
    }
   ],
   "source": [
    "for irun = 1:nrun\n",
    "\n",
    "    if irun % 100 == 0\n",
    "        print(\"irun = $irun\")\n",
    "    end\n",
    "    for i in 1:100\n",
    "        filename = \"$(irun)/complex.$(i).pdb\"\n",
    "        #t = mdload(filename)\n",
    "        #t = MDToolbox.readpdb_biostructures(filename)\n",
    "        t = read_ascii(filename)\n",
    "        t1 = t[:, 1:1427]\n",
    "        t2 = t[:, 1428:end]\n",
    "        r = MDToolbox.compute_skrew(t1, t2)\n",
    "        push!(fnames, filename)\n",
    "        push!(omega, r.omega)\n",
    "        push!(phi, r.phi / (2.0 * pi) * 360.0)\n",
    "        push!(prou, r.prou)\n",
    "        push!(d, r.d)\n",
    "        push!(struc, t)\n",
    "        #t_ca = t[\"atomname CA\"]\n",
    "        #push!(rmsd, compute_rmsd_permute(ref, t_ca, 2))\n",
    "    end\n",
    "\n",
    "    s = readdlm(\"$(irun)/zdock.out\", skipstart=5)\n",
    "    score = [score; s[1:100, end]]\n",
    "end"
   ]
  },
  {
   "cell_type": "code",
   "execution_count": 6,
   "id": "8d2ad93d-8d57-4b90-abfa-976cf23638b0",
   "metadata": {},
   "outputs": [
    {
     "data": {
      "text/html": [
       "<div><div style = \"float: left;\"><span>100000×7 DataFrame</span></div><div style = \"float: right;\"><span style = \"font-style: italic;\">99975 rows omitted</span></div><div style = \"clear: both;\"></div></div><div class = \"data-frame\" style = \"overflow-x: scroll;\"><table class = \"data-frame\" style = \"margin-bottom: 6px;\"><thead><tr class = \"header\"><th class = \"rowNumber\" style = \"font-weight: bold; text-align: right;\">Row</th><th style = \"text-align: left;\">fnames</th><th style = \"text-align: left;\">score</th><th style = \"text-align: left;\">omega</th><th style = \"text-align: left;\">phi</th><th style = \"text-align: left;\">prou</th><th style = \"text-align: left;\">d</th><th style = \"text-align: left;\">struc</th></tr><tr class = \"subheader headerLastRow\"><th class = \"rowNumber\" style = \"font-weight: bold; text-align: right;\"></th><th title = \"Any\" style = \"text-align: left;\">Any</th><th title = \"Any\" style = \"text-align: left;\">Any</th><th title = \"Any\" style = \"text-align: left;\">Any</th><th title = \"Any\" style = \"text-align: left;\">Any</th><th title = \"Any\" style = \"text-align: left;\">Any</th><th title = \"Any\" style = \"text-align: left;\">Any</th><th title = \"Any\" style = \"text-align: left;\">Any</th></tr></thead><tbody><tr><td class = \"rowNumber\" style = \"font-weight: bold; text-align: right;\">1</td><td style = \"text-align: left;\">1/complex.1.pdb</td><td style = \"text-align: left;\">1030.45</td><td style = \"text-align: left;\">[-0.326659, 0.165874, -0.930473]</td><td style = \"text-align: left;\">179.415</td><td style = \"text-align: left;\">[57.8244, 39.5924, -13.2422]</td><td style = \"text-align: left;\">0.55885</td><td style = \"text-align: left;\">1x2854 TrjArray{Float64, Int64}\\n|    67.95    33.34    16.83 |  …      56.27    25.44    -0.67 |</td></tr><tr><td class = \"rowNumber\" style = \"font-weight: bold; text-align: right;\">2</td><td style = \"text-align: left;\">1/complex.2.pdb</td><td style = \"text-align: left;\">1015.76</td><td style = \"text-align: left;\">[0.393657, -0.0198818, 0.919042]</td><td style = \"text-align: left;\">176.804</td><td style = \"text-align: left;\">[54.2806, 40.2127, -22.3803]</td><td style = \"text-align: left;\">0.334243</td><td style = \"text-align: left;\">1x2854 TrjArray{Float64, Int64}\\n|    67.95    33.34    16.83 |  …      60.06    30.54     3.44 |</td></tr><tr><td class = \"rowNumber\" style = \"font-weight: bold; text-align: right;\">3</td><td style = \"text-align: left;\">1/complex.3.pdb</td><td style = \"text-align: left;\">993.393</td><td style = \"text-align: left;\">[0.221836, 0.782683, -0.581546]</td><td style = \"text-align: left;\">136.978</td><td style = \"text-align: left;\">[27.2611, 7.94716, 21.0948]</td><td style = \"text-align: left;\">-20.4233</td><td style = \"text-align: left;\">1x2854 TrjArray{Float64, Int64}\\n|    67.95    33.34    16.83 |  …      18.17    21.51   -21.38 |</td></tr><tr><td class = \"rowNumber\" style = \"font-weight: bold; text-align: right;\">4</td><td style = \"text-align: left;\">1/complex.4.pdb</td><td style = \"text-align: left;\">992.586</td><td style = \"text-align: left;\">[0.694194, 0.200992, 0.691156]</td><td style = \"text-align: left;\">178.979</td><td style = \"text-align: left;\">[19.1993, 51.3184, -34.2073]</td><td style = \"text-align: left;\">0.562562</td><td style = \"text-align: left;\">1x2854 TrjArray{Float64, Int64}\\n|    67.95    33.34    16.83 |  …      50.02    76.88    11.17 |</td></tr><tr><td class = \"rowNumber\" style = \"font-weight: bold; text-align: right;\">5</td><td style = \"text-align: left;\">1/complex.5.pdb</td><td style = \"text-align: left;\">974.541</td><td style = \"text-align: left;\">[-0.365869, 0.842931, 0.394471]</td><td style = \"text-align: left;\">136.337</td><td style = \"text-align: left;\">[59.9759, 32.9846, -14.8564]</td><td style = \"text-align: left;\">-26.8605</td><td style = \"text-align: left;\">1x2854 TrjArray{Float64, Int64}\\n|    67.95    33.34    16.83 |  …      57.53    28.35   -34.08 |</td></tr><tr><td class = \"rowNumber\" style = \"font-weight: bold; text-align: right;\">6</td><td style = \"text-align: left;\">1/complex.6.pdb</td><td style = \"text-align: left;\">973.094</td><td style = \"text-align: left;\">[-0.626489, -0.636017, -0.450548]</td><td style = \"text-align: left;\">76.1917</td><td style = \"text-align: left;\">[13.37, 1.13562, -20.1942]</td><td style = \"text-align: left;\">-34.333</td><td style = \"text-align: left;\">1x2854 TrjArray{Float64, Int64}\\n|    67.95    33.34    16.83 |  …      91.99    58.36    30.35 |</td></tr><tr><td class = \"rowNumber\" style = \"font-weight: bold; text-align: right;\">7</td><td style = \"text-align: left;\">1/complex.7.pdb</td><td style = \"text-align: left;\">956.116</td><td style = \"text-align: left;\">[0.600767, 0.585152, -0.54468]</td><td style = \"text-align: left;\">72.2297</td><td style = \"text-align: left;\">[-4.20772, 17.7384, 14.4154]</td><td style = \"text-align: left;\">-16.5497</td><td style = \"text-align: left;\">1x2854 TrjArray{Float64, Int64}\\n|    67.95    33.34    16.83 |  …      45.41    16.69   -30.08 |</td></tr><tr><td class = \"rowNumber\" style = \"font-weight: bold; text-align: right;\">8</td><td style = \"text-align: left;\">1/complex.8.pdb</td><td style = \"text-align: left;\">942.109</td><td style = \"text-align: left;\">[-0.326751, 0.941865, -0.0782578]</td><td style = \"text-align: left;\">143.517</td><td style = \"text-align: left;\">[67.925, 23.1666, -4.78897]</td><td style = \"text-align: left;\">-21.2677</td><td style = \"text-align: left;\">1x2854 TrjArray{Float64, Int64}\\n|    67.95    33.34    16.83 |  …      64.13    23.72   -15.60 |</td></tr><tr><td class = \"rowNumber\" style = \"font-weight: bold; text-align: right;\">9</td><td style = \"text-align: left;\">1/complex.9.pdb</td><td style = \"text-align: left;\">939.108</td><td style = \"text-align: left;\">[0.651239, 0.499149, 0.571611]</td><td style = \"text-align: left;\">114.402</td><td style = \"text-align: left;\">[21.6021, 9.96341, -33.3117]</td><td style = \"text-align: left;\">-8.73425</td><td style = \"text-align: left;\">1x2854 TrjArray{Float64, Int64}\\n|    67.95    33.34    16.83 |  …      54.77    42.89     5.66 |</td></tr><tr><td class = \"rowNumber\" style = \"font-weight: bold; text-align: right;\">10</td><td style = \"text-align: left;\">1/complex.10.pdb</td><td style = \"text-align: left;\">922.555</td><td style = \"text-align: left;\">[-0.223684, -0.956107, -0.189273]</td><td style = \"text-align: left;\">68.5024</td><td style = \"text-align: left;\">[27.0528, -0.317277, -30.3683]</td><td style = \"text-align: left;\">24.2196</td><td style = \"text-align: left;\">1x2854 TrjArray{Float64, Int64}\\n|    67.95    33.34    16.83 |  …      27.48    31.33    10.19 |</td></tr><tr><td class = \"rowNumber\" style = \"font-weight: bold; text-align: right;\">11</td><td style = \"text-align: left;\">1/complex.11.pdb</td><td style = \"text-align: left;\">922.459</td><td style = \"text-align: left;\">[-0.487147, -0.65435, 0.578372]</td><td style = \"text-align: left;\">93.239</td><td style = \"text-align: left;\">[6.71034, 12.6597, 19.9746]</td><td style = \"text-align: left;\">-18.0657</td><td style = \"text-align: left;\">1x2854 TrjArray{Float64, Int64}\\n|    67.95    33.34    16.83 |  …      37.88    93.67    -6.77 |</td></tr><tr><td class = \"rowNumber\" style = \"font-weight: bold; text-align: right;\">12</td><td style = \"text-align: left;\">1/complex.12.pdb</td><td style = \"text-align: left;\">918.979</td><td style = \"text-align: left;\">[-0.665199, -0.484227, -0.568361]</td><td style = \"text-align: left;\">69.2938</td><td style = \"text-align: left;\">[14.3925, 8.88555, -24.4149]</td><td style = \"text-align: left;\">-34.5071</td><td style = \"text-align: left;\">1x2854 TrjArray{Float64, Int64}\\n|    67.95    33.34    16.83 |  …      96.66    47.82    28.72 |</td></tr><tr><td class = \"rowNumber\" style = \"font-weight: bold; text-align: right;\">13</td><td style = \"text-align: left;\">1/complex.13.pdb</td><td style = \"text-align: left;\">917.565</td><td style = \"text-align: left;\">[0.283162, 0.685195, -0.671064]</td><td style = \"text-align: left;\">145.971</td><td style = \"text-align: left;\">[23.8176, 14.0656, 24.4119]</td><td style = \"text-align: left;\">-19.3482</td><td style = \"text-align: left;\">1x2854 TrjArray{Float64, Int64}\\n|    67.95    33.34    16.83 |  …      12.56    25.47   -19.06 |</td></tr><tr><td style = \"text-align: right;\">&vellip;</td><td style = \"text-align: right;\">&vellip;</td><td style = \"text-align: right;\">&vellip;</td><td style = \"text-align: right;\">&vellip;</td><td style = \"text-align: right;\">&vellip;</td><td style = \"text-align: right;\">&vellip;</td><td style = \"text-align: right;\">&vellip;</td><td style = \"text-align: right;\">&vellip;</td></tr><tr><td class = \"rowNumber\" style = \"font-weight: bold; text-align: right;\">99989</td><td style = \"text-align: left;\">1000/complex.89.pdb</td><td style = \"text-align: left;\">800.472</td><td style = \"text-align: left;\">[-0.703962, -0.621723, -0.343363]</td><td style = \"text-align: left;\">133.018</td><td style = \"text-align: left;\">[11.5116, -0.679896, -22.37]</td><td style = \"text-align: left;\">-14.1176</td><td style = \"text-align: left;\">1x2854 TrjArray{Float64, Int64}\\n|    67.95    33.34    16.83 |  …      78.17    53.58    13.08 |</td></tr><tr><td class = \"rowNumber\" style = \"font-weight: bold; text-align: right;\">99990</td><td style = \"text-align: left;\">1000/complex.90.pdb</td><td style = \"text-align: left;\">799.801</td><td style = \"text-align: left;\">[0.396828, 0.915716, 0.0631767]</td><td style = \"text-align: left;\">176.005</td><td style = \"text-align: left;\">[39.7286, -16.9524, -3.82768]</td><td style = \"text-align: left;\">9.36498</td><td style = \"text-align: left;\">1x2854 TrjArray{Float64, Int64}\\n|    67.95    33.34    16.83 |  …      71.86    57.72     2.19 |</td></tr><tr><td class = \"rowNumber\" style = \"font-weight: bold; text-align: right;\">99991</td><td style = \"text-align: left;\">1000/complex.91.pdb</td><td style = \"text-align: left;\">799.378</td><td style = \"text-align: left;\">[-0.247487, 0.959579, -0.13401]</td><td style = \"text-align: left;\">154.132</td><td style = \"text-align: left;\">[58.2978, 14.504, -3.8071]</td><td style = \"text-align: left;\">-27.5258</td><td style = \"text-align: left;\">1x2854 TrjArray{Float64, Int64}\\n|    67.95    33.34    16.83 |  …      45.27    11.78   -19.11 |</td></tr><tr><td class = \"rowNumber\" style = \"font-weight: bold; text-align: right;\">99992</td><td style = \"text-align: left;\">1000/complex.92.pdb</td><td style = \"text-align: left;\">799.12</td><td style = \"text-align: left;\">[-0.883084, 0.261602, 0.389521]</td><td style = \"text-align: left;\">150.974</td><td style = \"text-align: left;\">[19.6592, 65.9333, 0.288651]</td><td style = \"text-align: left;\">9.54195</td><td style = \"text-align: left;\">1x2854 TrjArray{Float64, Int64}\\n|    67.95    33.34    16.83 |  …      50.63    68.79   -29.44 |</td></tr><tr><td class = \"rowNumber\" style = \"font-weight: bold; text-align: right;\">99993</td><td style = \"text-align: left;\">1000/complex.93.pdb</td><td style = \"text-align: left;\">798.344</td><td style = \"text-align: left;\">[0.381867, 0.662961, -0.643942]</td><td style = \"text-align: left;\">150.209</td><td style = \"text-align: left;\">[15.4019, 10.8202, 20.2733]</td><td style = \"text-align: left;\">-16.7355</td><td style = \"text-align: left;\">1x2854 TrjArray{Float64, Int64}\\n|    67.95    33.34    16.83 |  …      10.38    26.22   -32.20 |</td></tr><tr><td class = \"rowNumber\" style = \"font-weight: bold; text-align: right;\">99994</td><td style = \"text-align: left;\">1000/complex.94.pdb</td><td style = \"text-align: left;\">796.455</td><td style = \"text-align: left;\">[0.679987, -0.550998, 0.483755]</td><td style = \"text-align: left;\">89.7677</td><td style = \"text-align: left;\">[49.6169, 53.8376, -8.42242]</td><td style = \"text-align: left;\">32.9817</td><td style = \"text-align: left;\">1x2854 TrjArray{Float64, Int64}\\n|    67.95    33.34    16.83 |  …      83.03    28.49    24.14 |</td></tr><tr><td class = \"rowNumber\" style = \"font-weight: bold; text-align: right;\">99995</td><td style = \"text-align: left;\">1000/complex.95.pdb</td><td style = \"text-align: left;\">795.578</td><td style = \"text-align: left;\">[-0.345283, -0.867986, -0.356904]</td><td style = \"text-align: left;\">41.8408</td><td style = \"text-align: left;\">[12.2955, 11.0287, -38.7168]</td><td style = \"text-align: left;\">26.2742</td><td style = \"text-align: left;\">1x2854 TrjArray{Float64, Int64}\\n|    67.95    33.34    16.83 |  …      37.68    26.74    10.45 |</td></tr><tr><td class = \"rowNumber\" style = \"font-weight: bold; text-align: right;\">99996</td><td style = \"text-align: left;\">1000/complex.96.pdb</td><td style = \"text-align: left;\">795.227</td><td style = \"text-align: left;\">[-0.499688, 0.78927, 0.356883]</td><td style = \"text-align: left;\">159.289</td><td style = \"text-align: left;\">[68.9056, 43.9977, -0.825901]</td><td style = \"text-align: left;\">-15.5298</td><td style = \"text-align: left;\">1x2854 TrjArray{Float64, Int64}\\n|    67.95    33.34    16.83 |  …      72.25    33.85    -4.71 |</td></tr><tr><td class = \"rowNumber\" style = \"font-weight: bold; text-align: right;\">99997</td><td style = \"text-align: left;\">1000/complex.97.pdb</td><td style = \"text-align: left;\">794.888</td><td style = \"text-align: left;\">[-0.662294, -0.283571, -0.693508]</td><td style = \"text-align: left;\">175.209</td><td style = \"text-align: left;\">[18.2097, 47.1414, -36.6659]</td><td style = \"text-align: left;\">-0.86402</td><td style = \"text-align: left;\">1x2854 TrjArray{Float64, Int64}\\n|    67.95    33.34    16.83 |  …      46.17    78.05    10.60 |</td></tr><tr><td class = \"rowNumber\" style = \"font-weight: bold; text-align: right;\">99998</td><td style = \"text-align: left;\">1000/complex.98.pdb</td><td style = \"text-align: left;\">794.694</td><td style = \"text-align: left;\">[0.413247, 0.100503, -0.905056]</td><td style = \"text-align: left;\">113.904</td><td style = \"text-align: left;\">[32.6532, 26.1979, 17.8186]</td><td style = \"text-align: left;\">7.59357</td><td style = \"text-align: left;\">1x2854 TrjArray{Float64, Int64}\\n|    67.95    33.34    16.83 |  …      57.95    -0.49   -18.88 |</td></tr><tr><td class = \"rowNumber\" style = \"font-weight: bold; text-align: right;\">99999</td><td style = \"text-align: left;\">1000/complex.99.pdb</td><td style = \"text-align: left;\">793.991</td><td style = \"text-align: left;\">[-0.2135, -0.421993, -0.881102]</td><td style = \"text-align: left;\">176.223</td><td style = \"text-align: left;\">[48.7311, 47.5691, -34.5907]</td><td style = \"text-align: left;\">-0.392807</td><td style = \"text-align: left;\">1x2854 TrjArray{Float64, Int64}\\n|    67.95    33.34    16.83 |  …      43.22    75.23    -6.09 |</td></tr><tr><td class = \"rowNumber\" style = \"font-weight: bold; text-align: right;\">100000</td><td style = \"text-align: left;\">1000/complex.100.pdb</td><td style = \"text-align: left;\">793.646</td><td style = \"text-align: left;\">[0.382987, -0.899858, 0.20875]</td><td style = \"text-align: left;\">143.227</td><td style = \"text-align: left;\">[66.0823, 27.1433, -4.2323]</td><td style = \"text-align: left;\">-21.1039</td><td style = \"text-align: left;\">1x2854 TrjArray{Float64, Int64}\\n|    67.95    33.34    16.83 |  …      38.70    57.05   -12.31 |</td></tr></tbody></table></div>"
      ],
      "text/latex": [
       "\\begin{tabular}{r|cccccc}\n",
       "\t& fnames & score & omega & phi & prou & \\\\\n",
       "\t\\hline\n",
       "\t& Any & Any & Any & Any & Any & \\\\\n",
       "\t\\hline\n",
       "\t1 & 1/complex.1.pdb & 1030.45 & [-0.326659, 0.165874, -0.930473] & 179.415 & [57.8244, 39.5924, -13.2422] & $\\dots$ \\\\\n",
       "\t2 & 1/complex.2.pdb & 1015.76 & [0.393657, -0.0198818, 0.919042] & 176.804 & [54.2806, 40.2127, -22.3803] & $\\dots$ \\\\\n",
       "\t3 & 1/complex.3.pdb & 993.393 & [0.221836, 0.782683, -0.581546] & 136.978 & [27.2611, 7.94716, 21.0948] & $\\dots$ \\\\\n",
       "\t4 & 1/complex.4.pdb & 992.586 & [0.694194, 0.200992, 0.691156] & 178.979 & [19.1993, 51.3184, -34.2073] & $\\dots$ \\\\\n",
       "\t5 & 1/complex.5.pdb & 974.541 & [-0.365869, 0.842931, 0.394471] & 136.337 & [59.9759, 32.9846, -14.8564] & $\\dots$ \\\\\n",
       "\t6 & 1/complex.6.pdb & 973.094 & [-0.626489, -0.636017, -0.450548] & 76.1917 & [13.37, 1.13562, -20.1942] & $\\dots$ \\\\\n",
       "\t7 & 1/complex.7.pdb & 956.116 & [0.600767, 0.585152, -0.54468] & 72.2297 & [-4.20772, 17.7384, 14.4154] & $\\dots$ \\\\\n",
       "\t8 & 1/complex.8.pdb & 942.109 & [-0.326751, 0.941865, -0.0782578] & 143.517 & [67.925, 23.1666, -4.78897] & $\\dots$ \\\\\n",
       "\t9 & 1/complex.9.pdb & 939.108 & [0.651239, 0.499149, 0.571611] & 114.402 & [21.6021, 9.96341, -33.3117] & $\\dots$ \\\\\n",
       "\t10 & 1/complex.10.pdb & 922.555 & [-0.223684, -0.956107, -0.189273] & 68.5024 & [27.0528, -0.317277, -30.3683] & $\\dots$ \\\\\n",
       "\t11 & 1/complex.11.pdb & 922.459 & [-0.487147, -0.65435, 0.578372] & 93.239 & [6.71034, 12.6597, 19.9746] & $\\dots$ \\\\\n",
       "\t12 & 1/complex.12.pdb & 918.979 & [-0.665199, -0.484227, -0.568361] & 69.2938 & [14.3925, 8.88555, -24.4149] & $\\dots$ \\\\\n",
       "\t13 & 1/complex.13.pdb & 917.565 & [0.283162, 0.685195, -0.671064] & 145.971 & [23.8176, 14.0656, 24.4119] & $\\dots$ \\\\\n",
       "\t14 & 1/complex.14.pdb & 911.894 & [0.949199, 0.109978, -0.294832] & 121.043 & [-6.84198, 48.77, -3.83529] & $\\dots$ \\\\\n",
       "\t15 & 1/complex.15.pdb & 909.913 & [0.3815, -0.9013, 0.205224] & 150.177 & [65.9437, 27.172, -3.25217] & $\\dots$ \\\\\n",
       "\t16 & 1/complex.16.pdb & 908.97 & [0.594825, 0.684726, 0.421111] & 82.2063 & [14.9427, -1.89585, -18.0241] & $\\dots$ \\\\\n",
       "\t17 & 1/complex.17.pdb & 888.492 & [0.538413, 0.511016, 0.670055] & 74.0502 & [26.021, 7.20506, -26.4037] & $\\dots$ \\\\\n",
       "\t18 & 1/complex.18.pdb & 885.17 & [0.779983, 0.486478, 0.393658] & 86.707 & [3.62708, 11.3115, -21.1653] & $\\dots$ \\\\\n",
       "\t19 & 1/complex.19.pdb & 884.122 & [0.909668, 0.086234, 0.406285] & 77.0445 & [12.2827, 35.723, -35.083] & $\\dots$ \\\\\n",
       "\t20 & 1/complex.20.pdb & 882.991 & [0.60217, 0.464163, 0.649571] & 93.1916 & [22.499, 11.6313, -29.1685] & $\\dots$ \\\\\n",
       "\t21 & 1/complex.21.pdb & 878.377 & [-0.280527, -0.759015, 0.587538] & 170.965 & [22.4087, 6.05876, 18.5263] & $\\dots$ \\\\\n",
       "\t22 & 1/complex.22.pdb & 877.181 & [-0.42188, -0.35313, -0.835055] & 107.205 & [41.5964, 21.8948, -30.2739] & $\\dots$ \\\\\n",
       "\t23 & 1/complex.23.pdb & 865.904 & [-0.657398, 0.7506, 0.0665369] & 165.169 & [36.5743, 32.9305, -10.127] & $\\dots$ \\\\\n",
       "\t24 & 1/complex.24.pdb & 865.282 & [-0.459261, -0.0821698, -0.884493] & 171.534 & [49.9756, 39.1912, -29.59] & $\\dots$ \\\\\n",
       "\t25 & 1/complex.25.pdb & 862.157 & [0.761691, 0.467197, -0.448947] & 177.371 & [8.23812, 7.83472, 22.1301] & $\\dots$ \\\\\n",
       "\t26 & 1/complex.26.pdb & 860.476 & [-0.612237, 0.311176, -0.726867] & 148.285 & [37.2948, 43.0343, -12.99] & $\\dots$ \\\\\n",
       "\t27 & 1/complex.27.pdb & 860.051 & [0.648027, 0.649592, -0.397606] & 116.58 & [-5.38492, 16.1612, 17.627] & $\\dots$ \\\\\n",
       "\t28 & 1/complex.28.pdb & 857.214 & [0.197587, -0.341953, -0.91871] & 128.351 & [29.2861, 37.289, -7.58077] & $\\dots$ \\\\\n",
       "\t29 & 1/complex.29.pdb & 855.966 & [0.678609, 0.506587, 0.531845] & 79.414 & [14.2923, 8.78362, -26.6027] & $\\dots$ \\\\\n",
       "\t30 & 1/complex.30.pdb & 855.622 & [0.0834952, 0.942338, -0.324079] & 120.635 & [36.299, 0.460113, 10.6899] & $\\dots$ \\\\\n",
       "\t$\\dots$ & $\\dots$ & $\\dots$ & $\\dots$ & $\\dots$ & $\\dots$ &  \\\\\n",
       "\\end{tabular}\n"
      ],
      "text/plain": [
       "\u001b[1m100000×7 DataFrame\u001b[0m\n",
       "\u001b[1m    Row \u001b[0m│\u001b[1m fnames               \u001b[0m\u001b[1m score   \u001b[0m\u001b[1m omega                             \u001b[0m\u001b[1m ph\u001b[0m ⋯\n",
       "        │\u001b[90m Any                  \u001b[0m\u001b[90m Any     \u001b[0m\u001b[90m Any                               \u001b[0m\u001b[90m An\u001b[0m ⋯\n",
       "────────┼───────────────────────────────────────────────────────────────────────\n",
       "      1 │ 1/complex.1.pdb       1030.45  [-0.326659, 0.165874, -0.930473]   17 ⋯\n",
       "      2 │ 1/complex.2.pdb       1015.76  [0.393657, -0.0198818, 0.919042]   17\n",
       "      3 │ 1/complex.3.pdb       993.393  [0.221836, 0.782683, -0.581546]    13\n",
       "      4 │ 1/complex.4.pdb       992.586  [0.694194, 0.200992, 0.691156]     17\n",
       "      5 │ 1/complex.5.pdb       974.541  [-0.365869, 0.842931, 0.394471]    13 ⋯\n",
       "      6 │ 1/complex.6.pdb       973.094  [-0.626489, -0.636017, -0.450548]  76\n",
       "      7 │ 1/complex.7.pdb       956.116  [0.600767, 0.585152, -0.54468]     72\n",
       "      8 │ 1/complex.8.pdb       942.109  [-0.326751, 0.941865, -0.0782578]  14\n",
       "      9 │ 1/complex.9.pdb       939.108  [0.651239, 0.499149, 0.571611]     11 ⋯\n",
       "     10 │ 1/complex.10.pdb      922.555  [-0.223684, -0.956107, -0.189273]  68\n",
       "     11 │ 1/complex.11.pdb      922.459  [-0.487147, -0.65435, 0.578372]    93\n",
       "   ⋮    │          ⋮               ⋮                     ⋮                     ⋱\n",
       "  99991 │ 1000/complex.91.pdb   799.378  [-0.247487, 0.959579, -0.13401]    15\n",
       "  99992 │ 1000/complex.92.pdb   799.12   [-0.883084, 0.261602, 0.389521]    15 ⋯\n",
       "  99993 │ 1000/complex.93.pdb   798.344  [0.381867, 0.662961, -0.643942]    15\n",
       "  99994 │ 1000/complex.94.pdb   796.455  [0.679987, -0.550998, 0.483755]    89\n",
       "  99995 │ 1000/complex.95.pdb   795.578  [-0.345283, -0.867986, -0.356904]  41\n",
       "  99996 │ 1000/complex.96.pdb   795.227  [-0.499688, 0.78927, 0.356883]     15 ⋯\n",
       "  99997 │ 1000/complex.97.pdb   794.888  [-0.662294, -0.283571, -0.693508]  17\n",
       "  99998 │ 1000/complex.98.pdb   794.694  [0.413247, 0.100503, -0.905056]    11\n",
       "  99999 │ 1000/complex.99.pdb   793.991  [-0.2135, -0.421993, -0.881102]    17\n",
       " 100000 │ 1000/complex.100.pdb  793.646  [0.382987, -0.899858, 0.20875]     14 ⋯\n",
       "\u001b[36m                                                4 columns and 99979 rows omitted\u001b[0m"
      ]
     },
     "execution_count": 6,
     "metadata": {},
     "output_type": "execute_result"
    }
   ],
   "source": [
    "df = DataFrame(fnames=fnames, score=score, omega=omega, phi=phi, prou=prou, d=d, struc=struc)"
   ]
  },
  {
   "cell_type": "code",
   "execution_count": 7,
   "id": "0225efef-539c-4fc1-b11c-3bf14df6c8f4",
   "metadata": {},
   "outputs": [],
   "source": [
    "df_org = deepcopy(df);"
   ]
  },
  {
   "cell_type": "code",
   "execution_count": 8,
   "id": "cc488138-9e57-416a-bdf4-0dd7f7ca8614",
   "metadata": {},
   "outputs": [],
   "source": [
    "#using BSON: @save, @load\n",
    "#@save \"skrew_parameters.bson\" fnames score omega phi prou d df rmsd"
   ]
  },
  {
   "cell_type": "code",
   "execution_count": 9,
   "id": "88b16d7e-2d7a-4759-874c-3d3cbead8916",
   "metadata": {},
   "outputs": [],
   "source": [
    "#using BSON: @save, @load\n",
    "#@save \"df.bson\" df"
   ]
  },
  {
   "cell_type": "code",
   "execution_count": 10,
   "id": "c9400341-a639-4e7c-86f5-6baf593f4f50",
   "metadata": {},
   "outputs": [],
   "source": [
    "using JLD2\n",
    "\n",
    "save(\"skrew_parameters.jld2\", \"fnames\", fnames, \"score\", score, \"omega\", omega, \"phi\", phi, \"prou\", prou, \"d\", d, \"df\", df, \"rmsd\", rmsd)\n",
    "save(\"df.jld2\", \"df\", df)"
   ]
  },
  {
   "cell_type": "code",
   "execution_count": null,
   "id": "a9bdb4a4-c673-4542-90bf-6fe48688cd53",
   "metadata": {},
   "outputs": [],
   "source": []
  }
 ],
 "metadata": {
  "kernelspec": {
   "display_name": "julia 1.10.1",
   "language": "julia",
   "name": "julia-1.10"
  },
  "language_info": {
   "file_extension": ".jl",
   "mimetype": "application/julia",
   "name": "julia",
   "version": "1.10.1"
  }
 },
 "nbformat": 4,
 "nbformat_minor": 5
}
