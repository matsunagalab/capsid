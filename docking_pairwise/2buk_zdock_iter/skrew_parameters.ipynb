{
 "cells": [
  {
   "cell_type": "markdown",
   "id": "62a9d42f-dcfb-4d04-b7ee-aeab2626fe19",
   "metadata": {},
   "source": [
    "# 2buk"
   ]
  },
  {
   "cell_type": "code",
   "execution_count": 1,
   "id": "c2b6edbc-2a9f-438b-9e0d-1fb076e39d0e",
   "metadata": {},
   "outputs": [
    {
     "name": "stderr",
     "output_type": "stream",
     "text": [
      "┌ Info: Precompiling Plots [91a5bcdd-55d7-5caf-9e0b-520d859cae80]\n",
      "└ @ Base loading.jl:1423\n",
      "┌ Info: Precompiling MDToolbox [7965e2f0-a35b-11e8-0207-19c030dd2def]\n",
      "└ @ Base loading.jl:1423\n"
     ]
    }
   ],
   "source": [
    "using Printf, DelimitedFiles\n",
    "using Plots\n",
    "using DataFrames\n",
    "using Revise, MDToolbox"
   ]
  },
  {
   "cell_type": "code",
   "execution_count": 2,
   "id": "c9373fbf-44a1-4c9b-88e3-5bb66950ae03",
   "metadata": {},
   "outputs": [
    {
     "data": {
      "text/plain": [
       "read_ascii (generic function with 1 method)"
      ]
     },
     "execution_count": 2,
     "metadata": {},
     "output_type": "execute_result"
    }
   ],
   "source": [
    "function read_ascii(fname)\n",
    "    lines = readlines(fname)\n",
    "    natom = length(lines) - 1\n",
    "    xyz = zeros(Float64, 1, natom*3)\n",
    "    for i = 1:natom\n",
    "        xyz[1, 3*(i-1)+1] = parse(Float64, lines[i+1][31:38])\n",
    "        xyz[1, 3*(i-1)+2] = parse(Float64, lines[i+1][39:46])\n",
    "        xyz[1, 3*(i-1)+3] = parse(Float64, lines[i+1][47:54])\n",
    "    end\n",
    "    TrjArray(xyz=xyz)\n",
    "end"
   ]
  },
  {
   "cell_type": "code",
   "execution_count": 3,
   "id": "fa858e0e-6890-4489-953b-936b481fa4aa",
   "metadata": {},
   "outputs": [
    {
     "data": {
      "text/plain": [
       "Any[]"
      ]
     },
     "execution_count": 3,
     "metadata": {},
     "output_type": "execute_result"
    }
   ],
   "source": [
    "fnames = []\n",
    "omega = []\n",
    "phi = []\n",
    "prou = []\n",
    "d = []\n",
    "score = []\n",
    "rmsd = []\n",
    "struc = []"
   ]
  },
  {
   "cell_type": "code",
   "execution_count": 4,
   "id": "32f8cbb0-c23b-4139-a37d-d0cb8a807005",
   "metadata": {},
   "outputs": [
    {
     "data": {
      "text/plain": [
       "1000"
      ]
     },
     "execution_count": 4,
     "metadata": {},
     "output_type": "execute_result"
    }
   ],
   "source": [
    "nrun = 1000"
   ]
  },
  {
   "cell_type": "code",
   "execution_count": 5,
   "id": "a9238faf-a6c3-43f9-8e58-bd5847247e2a",
   "metadata": {},
   "outputs": [],
   "source": [
    "for irun = 1:nrun\n",
    "\n",
    "    for i in 1:100\n",
    "        filename = \"$(irun)/complex.$(i).pdb\"\n",
    "        #t = mdload(filename)\n",
    "        #t = MDToolbox.readpdb_biostructures(filename)\n",
    "        t = read_ascii(filename)\n",
    "        t1 = t[:, 1:1427]\n",
    "        t2 = t[:, 1428:end]\n",
    "        r = MDToolbox.compute_skrew(t1, t2)\n",
    "        push!(fnames, filename)\n",
    "        push!(omega, r.omega)\n",
    "        push!(phi, r.phi / (2.0 * pi) * 360.0)\n",
    "        push!(prou, r.prou)\n",
    "        push!(d, r.d)\n",
    "        push!(struc, t)\n",
    "        #t_ca = t[\"atomname CA\"]\n",
    "        #push!(rmsd, compute_rmsd_permute(ref, t_ca, 2))\n",
    "    end\n",
    "\n",
    "    s = readdlm(\"$(irun)/zdock.out\", skipstart=5)\n",
    "    score = [score; s[1:100, end]]\n",
    "end"
   ]
  },
  {
   "cell_type": "code",
   "execution_count": 6,
   "id": "8d2ad93d-8d57-4b90-abfa-976cf23638b0",
   "metadata": {},
   "outputs": [
    {
     "data": {
      "text/html": [
       "<div class=\"data-frame\"><p>100,000 rows × 7 columns (omitted printing of 2 columns)</p><table class=\"data-frame\"><thead><tr><th></th><th>fnames</th><th>score</th><th>omega</th><th>phi</th><th>prou</th></tr><tr><th></th><th title=\"Any\">Any</th><th title=\"Any\">Any</th><th title=\"Any\">Any</th><th title=\"Any\">Any</th><th title=\"Any\">Any</th></tr></thead><tbody><tr><th>1</th><td>1/complex.1.pdb</td><td>1030.45</td><td>[-0.326659, 0.165874, -0.930473]</td><td>179.415</td><td>[57.8244, 39.5924, -13.2422]</td></tr><tr><th>2</th><td>1/complex.2.pdb</td><td>1015.76</td><td>[0.393657, -0.0198818, 0.919042]</td><td>176.804</td><td>[54.2806, 40.2127, -22.3803]</td></tr><tr><th>3</th><td>1/complex.3.pdb</td><td>993.393</td><td>[0.221836, 0.782683, -0.581546]</td><td>136.978</td><td>[27.2611, 7.94716, 21.0948]</td></tr><tr><th>4</th><td>1/complex.4.pdb</td><td>992.586</td><td>[0.694194, 0.200992, 0.691156]</td><td>178.979</td><td>[19.1993, 51.3184, -34.2073]</td></tr><tr><th>5</th><td>1/complex.5.pdb</td><td>974.541</td><td>[-0.365869, 0.842931, 0.394471]</td><td>136.337</td><td>[59.9759, 32.9846, -14.8564]</td></tr><tr><th>6</th><td>1/complex.6.pdb</td><td>973.094</td><td>[-0.626489, -0.636017, -0.450548]</td><td>76.1917</td><td>[13.37, 1.13562, -20.1942]</td></tr><tr><th>7</th><td>1/complex.7.pdb</td><td>956.116</td><td>[0.600767, 0.585152, -0.54468]</td><td>72.2297</td><td>[-4.20772, 17.7384, 14.4154]</td></tr><tr><th>8</th><td>1/complex.8.pdb</td><td>942.109</td><td>[-0.326751, 0.941865, -0.0782578]</td><td>143.517</td><td>[67.925, 23.1666, -4.78897]</td></tr><tr><th>9</th><td>1/complex.9.pdb</td><td>939.108</td><td>[0.651239, 0.499149, 0.571611]</td><td>114.402</td><td>[21.6021, 9.96341, -33.3117]</td></tr><tr><th>10</th><td>1/complex.10.pdb</td><td>922.555</td><td>[-0.223684, -0.956107, -0.189273]</td><td>68.5024</td><td>[27.0528, -0.317277, -30.3683]</td></tr><tr><th>11</th><td>1/complex.11.pdb</td><td>922.459</td><td>[-0.487147, -0.65435, 0.578372]</td><td>93.239</td><td>[6.71034, 12.6597, 19.9746]</td></tr><tr><th>12</th><td>1/complex.12.pdb</td><td>918.979</td><td>[-0.665199, -0.484227, -0.568361]</td><td>69.2938</td><td>[14.3925, 8.88555, -24.4149]</td></tr><tr><th>13</th><td>1/complex.13.pdb</td><td>917.565</td><td>[0.283162, 0.685195, -0.671064]</td><td>145.971</td><td>[23.8176, 14.0656, 24.4119]</td></tr><tr><th>14</th><td>1/complex.14.pdb</td><td>911.894</td><td>[0.949199, 0.109978, -0.294832]</td><td>121.043</td><td>[-6.84198, 48.77, -3.83529]</td></tr><tr><th>15</th><td>1/complex.15.pdb</td><td>909.913</td><td>[0.3815, -0.9013, 0.205224]</td><td>150.177</td><td>[65.9437, 27.172, -3.25217]</td></tr><tr><th>16</th><td>1/complex.16.pdb</td><td>908.97</td><td>[0.594825, 0.684726, 0.421111]</td><td>82.2063</td><td>[14.9427, -1.89585, -18.0241]</td></tr><tr><th>17</th><td>1/complex.17.pdb</td><td>888.492</td><td>[0.538413, 0.511016, 0.670055]</td><td>74.0502</td><td>[26.021, 7.20506, -26.4037]</td></tr><tr><th>18</th><td>1/complex.18.pdb</td><td>885.17</td><td>[0.779983, 0.486478, 0.393658]</td><td>86.707</td><td>[3.62708, 11.3115, -21.1653]</td></tr><tr><th>19</th><td>1/complex.19.pdb</td><td>884.122</td><td>[0.909668, 0.086234, 0.406285]</td><td>77.0445</td><td>[12.2827, 35.723, -35.083]</td></tr><tr><th>20</th><td>1/complex.20.pdb</td><td>882.991</td><td>[0.60217, 0.464163, 0.649571]</td><td>93.1916</td><td>[22.499, 11.6313, -29.1685]</td></tr><tr><th>21</th><td>1/complex.21.pdb</td><td>878.377</td><td>[-0.280527, -0.759015, 0.587538]</td><td>170.965</td><td>[22.4087, 6.05876, 18.5263]</td></tr><tr><th>22</th><td>1/complex.22.pdb</td><td>877.181</td><td>[-0.42188, -0.35313, -0.835055]</td><td>107.205</td><td>[41.5964, 21.8948, -30.2739]</td></tr><tr><th>23</th><td>1/complex.23.pdb</td><td>865.904</td><td>[-0.657398, 0.7506, 0.0665369]</td><td>165.169</td><td>[36.5743, 32.9305, -10.127]</td></tr><tr><th>24</th><td>1/complex.24.pdb</td><td>865.282</td><td>[-0.459261, -0.0821698, -0.884493]</td><td>171.534</td><td>[49.9756, 39.1912, -29.59]</td></tr><tr><th>25</th><td>1/complex.25.pdb</td><td>862.157</td><td>[0.761691, 0.467197, -0.448947]</td><td>177.371</td><td>[8.23812, 7.83472, 22.1301]</td></tr><tr><th>26</th><td>1/complex.26.pdb</td><td>860.476</td><td>[-0.612237, 0.311176, -0.726867]</td><td>148.285</td><td>[37.2948, 43.0343, -12.99]</td></tr><tr><th>27</th><td>1/complex.27.pdb</td><td>860.051</td><td>[0.648027, 0.649592, -0.397606]</td><td>116.58</td><td>[-5.38492, 16.1612, 17.627]</td></tr><tr><th>28</th><td>1/complex.28.pdb</td><td>857.214</td><td>[0.197587, -0.341953, -0.91871]</td><td>128.351</td><td>[29.2861, 37.289, -7.58077]</td></tr><tr><th>29</th><td>1/complex.29.pdb</td><td>855.966</td><td>[0.678609, 0.506587, 0.531845]</td><td>79.414</td><td>[14.2923, 8.78362, -26.6027]</td></tr><tr><th>30</th><td>1/complex.30.pdb</td><td>855.622</td><td>[0.0834952, 0.942338, -0.324079]</td><td>120.635</td><td>[36.299, 0.460113, 10.6899]</td></tr><tr><th>&vellip;</th><td>&vellip;</td><td>&vellip;</td><td>&vellip;</td><td>&vellip;</td><td>&vellip;</td></tr></tbody></table></div>"
      ],
      "text/latex": [
       "\\begin{tabular}{r|cccccc}\n",
       "\t& fnames & score & omega & phi & prou & \\\\\n",
       "\t\\hline\n",
       "\t& Any & Any & Any & Any & Any & \\\\\n",
       "\t\\hline\n",
       "\t1 & 1/complex.1.pdb & 1030.45 & [-0.326659, 0.165874, -0.930473] & 179.415 & [57.8244, 39.5924, -13.2422] & $\\dots$ \\\\\n",
       "\t2 & 1/complex.2.pdb & 1015.76 & [0.393657, -0.0198818, 0.919042] & 176.804 & [54.2806, 40.2127, -22.3803] & $\\dots$ \\\\\n",
       "\t3 & 1/complex.3.pdb & 993.393 & [0.221836, 0.782683, -0.581546] & 136.978 & [27.2611, 7.94716, 21.0948] & $\\dots$ \\\\\n",
       "\t4 & 1/complex.4.pdb & 992.586 & [0.694194, 0.200992, 0.691156] & 178.979 & [19.1993, 51.3184, -34.2073] & $\\dots$ \\\\\n",
       "\t5 & 1/complex.5.pdb & 974.541 & [-0.365869, 0.842931, 0.394471] & 136.337 & [59.9759, 32.9846, -14.8564] & $\\dots$ \\\\\n",
       "\t6 & 1/complex.6.pdb & 973.094 & [-0.626489, -0.636017, -0.450548] & 76.1917 & [13.37, 1.13562, -20.1942] & $\\dots$ \\\\\n",
       "\t7 & 1/complex.7.pdb & 956.116 & [0.600767, 0.585152, -0.54468] & 72.2297 & [-4.20772, 17.7384, 14.4154] & $\\dots$ \\\\\n",
       "\t8 & 1/complex.8.pdb & 942.109 & [-0.326751, 0.941865, -0.0782578] & 143.517 & [67.925, 23.1666, -4.78897] & $\\dots$ \\\\\n",
       "\t9 & 1/complex.9.pdb & 939.108 & [0.651239, 0.499149, 0.571611] & 114.402 & [21.6021, 9.96341, -33.3117] & $\\dots$ \\\\\n",
       "\t10 & 1/complex.10.pdb & 922.555 & [-0.223684, -0.956107, -0.189273] & 68.5024 & [27.0528, -0.317277, -30.3683] & $\\dots$ \\\\\n",
       "\t11 & 1/complex.11.pdb & 922.459 & [-0.487147, -0.65435, 0.578372] & 93.239 & [6.71034, 12.6597, 19.9746] & $\\dots$ \\\\\n",
       "\t12 & 1/complex.12.pdb & 918.979 & [-0.665199, -0.484227, -0.568361] & 69.2938 & [14.3925, 8.88555, -24.4149] & $\\dots$ \\\\\n",
       "\t13 & 1/complex.13.pdb & 917.565 & [0.283162, 0.685195, -0.671064] & 145.971 & [23.8176, 14.0656, 24.4119] & $\\dots$ \\\\\n",
       "\t14 & 1/complex.14.pdb & 911.894 & [0.949199, 0.109978, -0.294832] & 121.043 & [-6.84198, 48.77, -3.83529] & $\\dots$ \\\\\n",
       "\t15 & 1/complex.15.pdb & 909.913 & [0.3815, -0.9013, 0.205224] & 150.177 & [65.9437, 27.172, -3.25217] & $\\dots$ \\\\\n",
       "\t16 & 1/complex.16.pdb & 908.97 & [0.594825, 0.684726, 0.421111] & 82.2063 & [14.9427, -1.89585, -18.0241] & $\\dots$ \\\\\n",
       "\t17 & 1/complex.17.pdb & 888.492 & [0.538413, 0.511016, 0.670055] & 74.0502 & [26.021, 7.20506, -26.4037] & $\\dots$ \\\\\n",
       "\t18 & 1/complex.18.pdb & 885.17 & [0.779983, 0.486478, 0.393658] & 86.707 & [3.62708, 11.3115, -21.1653] & $\\dots$ \\\\\n",
       "\t19 & 1/complex.19.pdb & 884.122 & [0.909668, 0.086234, 0.406285] & 77.0445 & [12.2827, 35.723, -35.083] & $\\dots$ \\\\\n",
       "\t20 & 1/complex.20.pdb & 882.991 & [0.60217, 0.464163, 0.649571] & 93.1916 & [22.499, 11.6313, -29.1685] & $\\dots$ \\\\\n",
       "\t21 & 1/complex.21.pdb & 878.377 & [-0.280527, -0.759015, 0.587538] & 170.965 & [22.4087, 6.05876, 18.5263] & $\\dots$ \\\\\n",
       "\t22 & 1/complex.22.pdb & 877.181 & [-0.42188, -0.35313, -0.835055] & 107.205 & [41.5964, 21.8948, -30.2739] & $\\dots$ \\\\\n",
       "\t23 & 1/complex.23.pdb & 865.904 & [-0.657398, 0.7506, 0.0665369] & 165.169 & [36.5743, 32.9305, -10.127] & $\\dots$ \\\\\n",
       "\t24 & 1/complex.24.pdb & 865.282 & [-0.459261, -0.0821698, -0.884493] & 171.534 & [49.9756, 39.1912, -29.59] & $\\dots$ \\\\\n",
       "\t25 & 1/complex.25.pdb & 862.157 & [0.761691, 0.467197, -0.448947] & 177.371 & [8.23812, 7.83472, 22.1301] & $\\dots$ \\\\\n",
       "\t26 & 1/complex.26.pdb & 860.476 & [-0.612237, 0.311176, -0.726867] & 148.285 & [37.2948, 43.0343, -12.99] & $\\dots$ \\\\\n",
       "\t27 & 1/complex.27.pdb & 860.051 & [0.648027, 0.649592, -0.397606] & 116.58 & [-5.38492, 16.1612, 17.627] & $\\dots$ \\\\\n",
       "\t28 & 1/complex.28.pdb & 857.214 & [0.197587, -0.341953, -0.91871] & 128.351 & [29.2861, 37.289, -7.58077] & $\\dots$ \\\\\n",
       "\t29 & 1/complex.29.pdb & 855.966 & [0.678609, 0.506587, 0.531845] & 79.414 & [14.2923, 8.78362, -26.6027] & $\\dots$ \\\\\n",
       "\t30 & 1/complex.30.pdb & 855.622 & [0.0834952, 0.942338, -0.324079] & 120.635 & [36.299, 0.460113, 10.6899] & $\\dots$ \\\\\n",
       "\t$\\dots$ & $\\dots$ & $\\dots$ & $\\dots$ & $\\dots$ & $\\dots$ &  \\\\\n",
       "\\end{tabular}\n"
      ],
      "text/plain": [
       "\u001b[1m100000×7 DataFrame\u001b[0m\n",
       "\u001b[1m    Row \u001b[0m│\u001b[1m fnames               \u001b[0m\u001b[1m score   \u001b[0m\u001b[1m omega                             \u001b[0m\u001b[1m ph\u001b[0m ⋯\n",
       "\u001b[1m        \u001b[0m│\u001b[90m Any                  \u001b[0m\u001b[90m Any     \u001b[0m\u001b[90m Any                               \u001b[0m\u001b[90m An\u001b[0m ⋯\n",
       "────────┼───────────────────────────────────────────────────────────────────────\n",
       "      1 │ 1/complex.1.pdb       1030.45  [-0.326659, 0.165874, -0.930473]   17 ⋯\n",
       "      2 │ 1/complex.2.pdb       1015.76  [0.393657, -0.0198818, 0.919042]   17\n",
       "      3 │ 1/complex.3.pdb       993.393  [0.221836, 0.782683, -0.581546]    13\n",
       "      4 │ 1/complex.4.pdb       992.586  [0.694194, 0.200992, 0.691156]     17\n",
       "      5 │ 1/complex.5.pdb       974.541  [-0.365869, 0.842931, 0.394471]    13 ⋯\n",
       "      6 │ 1/complex.6.pdb       973.094  [-0.626489, -0.636017, -0.450548]  76\n",
       "      7 │ 1/complex.7.pdb       956.116  [0.600767, 0.585152, -0.54468]     72\n",
       "      8 │ 1/complex.8.pdb       942.109  [-0.326751, 0.941865, -0.0782578]  14\n",
       "      9 │ 1/complex.9.pdb       939.108  [0.651239, 0.499149, 0.571611]     11 ⋯\n",
       "     10 │ 1/complex.10.pdb      922.555  [-0.223684, -0.956107, -0.189273]  68\n",
       "     11 │ 1/complex.11.pdb      922.459  [-0.487147, -0.65435, 0.578372]    93\n",
       "   ⋮    │          ⋮               ⋮                     ⋮                     ⋱\n",
       "  99991 │ 1000/complex.91.pdb   799.378  [-0.247487, 0.959579, -0.13401]    15\n",
       "  99992 │ 1000/complex.92.pdb   799.12   [-0.883084, 0.261602, 0.389521]    15 ⋯\n",
       "  99993 │ 1000/complex.93.pdb   798.344  [0.381867, 0.662961, -0.643942]    15\n",
       "  99994 │ 1000/complex.94.pdb   796.455  [0.679987, -0.550998, 0.483755]    89\n",
       "  99995 │ 1000/complex.95.pdb   795.578  [-0.345283, -0.867986, -0.356904]  41\n",
       "  99996 │ 1000/complex.96.pdb   795.227  [-0.499688, 0.78927, 0.356883]     15 ⋯\n",
       "  99997 │ 1000/complex.97.pdb   794.888  [-0.662294, -0.283571, -0.693508]  17\n",
       "  99998 │ 1000/complex.98.pdb   794.694  [0.413247, 0.100503, -0.905056]    11\n",
       "  99999 │ 1000/complex.99.pdb   793.991  [-0.2135, -0.421993, -0.881102]    17\n",
       " 100000 │ 1000/complex.100.pdb  793.646  [0.382987, -0.899858, 0.20875]     14 ⋯\n",
       "\u001b[36m                                                4 columns and 99979 rows omitted\u001b[0m"
      ]
     },
     "execution_count": 6,
     "metadata": {},
     "output_type": "execute_result"
    }
   ],
   "source": [
    "df = DataFrame(fnames=fnames, score=score, omega=omega, phi=phi, prou=prou, d=d, struc=struc)"
   ]
  },
  {
   "cell_type": "code",
   "execution_count": 7,
   "id": "0225efef-539c-4fc1-b11c-3bf14df6c8f4",
   "metadata": {},
   "outputs": [],
   "source": [
    "df_org = deepcopy(df);"
   ]
  },
  {
   "cell_type": "code",
   "execution_count": 8,
   "id": "cc488138-9e57-416a-bdf4-0dd7f7ca8614",
   "metadata": {},
   "outputs": [],
   "source": [
    "#using BSON: @save, @load\n",
    "#@save \"skrew_parameters.bson\" fnames score omega phi prou d df rmsd"
   ]
  },
  {
   "cell_type": "code",
   "execution_count": 9,
   "id": "88b16d7e-2d7a-4759-874c-3d3cbead8916",
   "metadata": {},
   "outputs": [],
   "source": [
    "#using BSON: @save, @load\n",
    "#@save \"df.bson\" df"
   ]
  },
  {
   "cell_type": "code",
   "execution_count": 10,
   "id": "c9400341-a639-4e7c-86f5-6baf593f4f50",
   "metadata": {},
   "outputs": [],
   "source": [
    "using JLD2\n",
    "\n",
    "save(\"skrew_parameters.jld2\", \"fnames\", fnames, \"score\", score, \"omega\", omega, \"phi\", phi, \"prou\", prou, \"d\", d, \"df\", df, \"rmsd\", rmsd)\n",
    "save(\"df.jld2\", \"df\", df)"
   ]
  },
  {
   "cell_type": "code",
   "execution_count": null,
   "id": "a9bdb4a4-c673-4542-90bf-6fe48688cd53",
   "metadata": {},
   "outputs": [],
   "source": []
  }
 ],
 "metadata": {
  "kernelspec": {
   "display_name": "julia 1.10.1",
   "language": "julia",
   "name": "julia-1.10"
  },
  "language_info": {
   "file_extension": ".jl",
   "mimetype": "application/julia",
   "name": "julia",
   "version": "1.10.1"
  }
 },
 "nbformat": 4,
 "nbformat_minor": 5
}
