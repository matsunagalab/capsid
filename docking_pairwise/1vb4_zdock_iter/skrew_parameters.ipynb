{
 "cells": [
  {
   "cell_type": "markdown",
   "id": "62a9d42f-dcfb-4d04-b7ee-aeab2626fe19",
   "metadata": {},
   "source": [
    "# 1vb4"
   ]
  },
  {
   "cell_type": "code",
   "execution_count": 1,
   "id": "c2b6edbc-2a9f-438b-9e0d-1fb076e39d0e",
   "metadata": {},
   "outputs": [],
   "source": [
    "using Printf, DelimitedFiles\n",
    "using Plots\n",
    "using DataFrames\n",
    "using Revise, MDToolbox"
   ]
  },
  {
   "cell_type": "code",
   "execution_count": 2,
   "id": "c9373fbf-44a1-4c9b-88e3-5bb66950ae03",
   "metadata": {},
   "outputs": [
    {
     "data": {
      "text/plain": [
       "read_ascii (generic function with 1 method)"
      ]
     },
     "execution_count": 2,
     "metadata": {},
     "output_type": "execute_result"
    }
   ],
   "source": [
    "function read_ascii(fname)\n",
    "    lines = readlines(fname)\n",
    "    natom = length(lines) - 1\n",
    "    xyz = zeros(Float64, 1, natom*3)\n",
    "    for i = 1:natom\n",
    "        xyz[1, 3*(i-1)+1] = parse(Float64, lines[i+1][31:38])\n",
    "        xyz[1, 3*(i-1)+2] = parse(Float64, lines[i+1][39:46])\n",
    "        xyz[1, 3*(i-1)+3] = parse(Float64, lines[i+1][47:54])\n",
    "    end\n",
    "    TrjArray(xyz=xyz)\n",
    "end"
   ]
  },
  {
   "cell_type": "code",
   "execution_count": 3,
   "id": "fa858e0e-6890-4489-953b-936b481fa4aa",
   "metadata": {},
   "outputs": [
    {
     "data": {
      "text/plain": [
       "Any[]"
      ]
     },
     "execution_count": 3,
     "metadata": {},
     "output_type": "execute_result"
    }
   ],
   "source": [
    "fnames = []\n",
    "omega = []\n",
    "phi = []\n",
    "prou = []\n",
    "d = []\n",
    "score = []\n",
    "rmsd = []\n",
    "struc = []"
   ]
  },
  {
   "cell_type": "code",
   "execution_count": 4,
   "id": "32f8cbb0-c23b-4139-a37d-d0cb8a807005",
   "metadata": {},
   "outputs": [
    {
     "data": {
      "text/plain": [
       "1000"
      ]
     },
     "execution_count": 4,
     "metadata": {},
     "output_type": "execute_result"
    }
   ],
   "source": [
    "nrun = 1000"
   ]
  },
  {
   "cell_type": "code",
   "execution_count": 5,
   "id": "a9238faf-a6c3-43f9-8e58-bd5847247e2a",
   "metadata": {},
   "outputs": [],
   "source": [
    "for irun = 1:nrun\n",
    "\n",
    "    for i in 1:100\n",
    "        filename = \"$(irun)/complex.$(i).pdb\"\n",
    "        #t = mdload(filename)\n",
    "        #t = MDToolbox.readpdb_biostructures(filename)\n",
    "        t = read_ascii(filename)\n",
    "        t1 = t[:, 1:1454]\n",
    "        t2 = t[:, 1455:end]\n",
    "        r = MDToolbox.compute_skrew(t1, t2)\n",
    "        push!(fnames, filename)\n",
    "        push!(omega, r.omega)\n",
    "        push!(phi, r.phi / (2.0 * pi) * 360.0)\n",
    "        push!(prou, r.prou)\n",
    "        push!(d, r.d)\n",
    "        push!(struc, t)\n",
    "        #t_ca = t[\"atomname CA\"]\n",
    "        #push!(rmsd, compute_rmsd_permute(ref, t_ca, 2))\n",
    "    end\n",
    "\n",
    "    s = readdlm(\"$(irun)/zdock.out\", skipstart=5)\n",
    "    score = [score; s[1:100, end]]\n",
    "end"
   ]
  },
  {
   "cell_type": "code",
   "execution_count": 6,
   "id": "8d2ad93d-8d57-4b90-abfa-976cf23638b0",
   "metadata": {},
   "outputs": [
    {
     "data": {
      "text/html": [
       "<div class=\"data-frame\"><p>100,000 rows × 7 columns (omitted printing of 2 columns)</p><table class=\"data-frame\"><thead><tr><th></th><th>fnames</th><th>score</th><th>omega</th><th>phi</th><th>prou</th></tr><tr><th></th><th title=\"Any\">Any</th><th title=\"Any\">Any</th><th title=\"Any\">Any</th><th title=\"Any\">Any</th><th title=\"Any\">Any</th></tr></thead><tbody><tr><th>1</th><td>1/complex.1.pdb</td><td>1212.62</td><td>[-0.40211, 0.556162, 0.727318]</td><td>99.7607</td><td>[33.9787, 31.7831, -5.51806]</td></tr><tr><th>2</th><td>1/complex.2.pdb</td><td>1183.73</td><td>[-0.315936, 0.200409, -0.927373]</td><td>177.03</td><td>[-19.7002, 58.6909, 19.3948]</td></tr><tr><th>3</th><td>1/complex.3.pdb</td><td>1135.3</td><td>[0.00306483, -0.475415, -0.879756]</td><td>75.2811</td><td>[0.242413, 4.8558, -2.6232]</td></tr><tr><th>4</th><td>1/complex.4.pdb</td><td>1133.74</td><td>[0.0539249, 0.0942512, -0.994087]</td><td>176.792</td><td>[22.8572, 60.7278, 6.99761]</td></tr><tr><th>5</th><td>1/complex.5.pdb</td><td>1122.77</td><td>[-0.367839, -0.351645, 0.860837]</td><td>167.239</td><td>[22.0496, 57.3307, 32.841]</td></tr><tr><th>6</th><td>1/complex.6.pdb</td><td>1114.58</td><td>[0.523125, 0.325591, -0.787611]</td><td>162.668</td><td>[22.4456, 57.3706, 38.6247]</td></tr><tr><th>7</th><td>1/complex.7.pdb</td><td>1111.9</td><td>[-0.376166, 0.58079, 0.721929]</td><td>114.399</td><td>[32.0743, 29.743, -7.21562]</td></tr><tr><th>8</th><td>1/complex.8.pdb</td><td>1108.98</td><td>[-0.261413, -0.320513, 0.910459]</td><td>172.943</td><td>[21.9754, 56.3148, 26.1344]</td></tr><tr><th>9</th><td>1/complex.9.pdb</td><td>1107.44</td><td>[0.0334642, -0.88584, -0.462782]</td><td>176.776</td><td>[19.4078, -6.87396, 14.5613]</td></tr><tr><th>10</th><td>1/complex.10.pdb</td><td>1103.56</td><td>[-0.259496, -0.709524, 0.655163]</td><td>177.515</td><td>[15.0341, 40.2019, 49.4922]</td></tr><tr><th>11</th><td>1/complex.11.pdb</td><td>1094.51</td><td>[0.709489, 0.519903, -0.475737]</td><td>114.472</td><td>[0.100267, 39.8325, 43.6799]</td></tr><tr><th>12</th><td>1/complex.12.pdb</td><td>1092.03</td><td>[0.279058, 0.800199, 0.530856]</td><td>179.478</td><td>[1.58922, 0.639806, -1.79985]</td></tr><tr><th>13</th><td>1/complex.13.pdb</td><td>1088.79</td><td>[-0.020396, 0.650826, 0.758953]</td><td>168.194</td><td>[19.9608, 10.4351, -8.41204]</td></tr><tr><th>14</th><td>1/complex.14.pdb</td><td>1087.66</td><td>[-0.248538, 0.454826, 0.855197]</td><td>82.2639</td><td>[25.9371, 41.9272, -14.7606]</td></tr><tr><th>15</th><td>1/complex.15.pdb</td><td>1087.21</td><td>[0.351394, -0.41355, -0.83994]</td><td>93.3436</td><td>[31.2776, 43.3374, -8.25233]</td></tr><tr><th>16</th><td>1/complex.16.pdb</td><td>1080.96</td><td>[0.460238, 0.667554, -0.58528]</td><td>166.707</td><td>[9.25422, 42.188, 55.3955]</td></tr><tr><th>17</th><td>1/complex.17.pdb</td><td>1075.22</td><td>[0.0254127, 0.782497, 0.622135]</td><td>176.995</td><td>[14.5284, -3.28526, 3.53862]</td></tr><tr><th>18</th><td>1/complex.18.pdb</td><td>1073.84</td><td>[-0.48109, -0.698587, 0.52965]</td><td>159.519</td><td>[4.60769, 41.078, 58.3655]</td></tr><tr><th>19</th><td>1/complex.19.pdb</td><td>1073.01</td><td>[0.484634, -0.733915, -0.47592]</td><td>177.175</td><td>[24.3185, 1.74051, 22.0798]</td></tr><tr><th>20</th><td>1/complex.20.pdb</td><td>1065.21</td><td>[0.571058, 0.42641, -0.701475]</td><td>152.131</td><td>[17.1929, 56.2843, 48.2103]</td></tr><tr><th>21</th><td>1/complex.21.pdb</td><td>1058.17</td><td>[0.950347, 0.263345, 0.165803]</td><td>111.254</td><td>[-19.6214, 45.782, 39.7501]</td></tr><tr><th>22</th><td>1/complex.22.pdb</td><td>1058.08</td><td>[-0.205174, -0.916723, -0.342815]</td><td>175.922</td><td>[2.04924, -9.8192, 25.0311]</td></tr><tr><th>23</th><td>1/complex.23.pdb</td><td>1057.61</td><td>[-0.650905, -0.460329, 0.603672]</td><td>123.556</td><td>[6.33649, 44.3534, 40.6539]</td></tr><tr><th>24</th><td>1/complex.24.pdb</td><td>1056.5</td><td>[0.42056, 0.0546866, -0.905615]</td><td>170.228</td><td>[29.4381, 53.7505, 16.9166]</td></tr><tr><th>25</th><td>1/complex.25.pdb</td><td>1056.46</td><td>[0.491068, 0.169455, -0.854481]</td><td>90.0457</td><td>[16.5107, 47.7733, 18.9627]</td></tr><tr><th>26</th><td>1/complex.26.pdb</td><td>1054.94</td><td>[0.117, -0.822425, -0.556712]</td><td>170.485</td><td>[25.0211, -2.30293, 8.66062]</td></tr><tr><th>27</th><td>1/complex.27.pdb</td><td>1053.47</td><td>[-0.721436, -0.49759, 0.481595]</td><td>120.18</td><td>[0.251466, 40.9432, 42.6798]</td></tr><tr><th>28</th><td>1/complex.28.pdb</td><td>1051.51</td><td>[-0.00273511, -0.0276151, -0.999615]</td><td>85.0287</td><td>[5.82019, 35.5778, -0.998791]</td></tr><tr><th>29</th><td>1/complex.29.pdb</td><td>1050.6</td><td>[0.237406, 0.881193, 0.408825]</td><td>172.347</td><td>[-0.726463, -9.26008, 20.3813]</td></tr><tr><th>30</th><td>1/complex.30.pdb</td><td>1046.82</td><td>[-0.151791, -0.284908, 0.94646]</td><td>178.751</td><td>[21.4087, 57.041, 20.6042]</td></tr><tr><th>&vellip;</th><td>&vellip;</td><td>&vellip;</td><td>&vellip;</td><td>&vellip;</td><td>&vellip;</td></tr></tbody></table></div>"
      ],
      "text/latex": [
       "\\begin{tabular}{r|cccccc}\n",
       "\t& fnames & score & omega & phi & prou & \\\\\n",
       "\t\\hline\n",
       "\t& Any & Any & Any & Any & Any & \\\\\n",
       "\t\\hline\n",
       "\t1 & 1/complex.1.pdb & 1212.62 & [-0.40211, 0.556162, 0.727318] & 99.7607 & [33.9787, 31.7831, -5.51806] & $\\dots$ \\\\\n",
       "\t2 & 1/complex.2.pdb & 1183.73 & [-0.315936, 0.200409, -0.927373] & 177.03 & [-19.7002, 58.6909, 19.3948] & $\\dots$ \\\\\n",
       "\t3 & 1/complex.3.pdb & 1135.3 & [0.00306483, -0.475415, -0.879756] & 75.2811 & [0.242413, 4.8558, -2.6232] & $\\dots$ \\\\\n",
       "\t4 & 1/complex.4.pdb & 1133.74 & [0.0539249, 0.0942512, -0.994087] & 176.792 & [22.8572, 60.7278, 6.99761] & $\\dots$ \\\\\n",
       "\t5 & 1/complex.5.pdb & 1122.77 & [-0.367839, -0.351645, 0.860837] & 167.239 & [22.0496, 57.3307, 32.841] & $\\dots$ \\\\\n",
       "\t6 & 1/complex.6.pdb & 1114.58 & [0.523125, 0.325591, -0.787611] & 162.668 & [22.4456, 57.3706, 38.6247] & $\\dots$ \\\\\n",
       "\t7 & 1/complex.7.pdb & 1111.9 & [-0.376166, 0.58079, 0.721929] & 114.399 & [32.0743, 29.743, -7.21562] & $\\dots$ \\\\\n",
       "\t8 & 1/complex.8.pdb & 1108.98 & [-0.261413, -0.320513, 0.910459] & 172.943 & [21.9754, 56.3148, 26.1344] & $\\dots$ \\\\\n",
       "\t9 & 1/complex.9.pdb & 1107.44 & [0.0334642, -0.88584, -0.462782] & 176.776 & [19.4078, -6.87396, 14.5613] & $\\dots$ \\\\\n",
       "\t10 & 1/complex.10.pdb & 1103.56 & [-0.259496, -0.709524, 0.655163] & 177.515 & [15.0341, 40.2019, 49.4922] & $\\dots$ \\\\\n",
       "\t11 & 1/complex.11.pdb & 1094.51 & [0.709489, 0.519903, -0.475737] & 114.472 & [0.100267, 39.8325, 43.6799] & $\\dots$ \\\\\n",
       "\t12 & 1/complex.12.pdb & 1092.03 & [0.279058, 0.800199, 0.530856] & 179.478 & [1.58922, 0.639806, -1.79985] & $\\dots$ \\\\\n",
       "\t13 & 1/complex.13.pdb & 1088.79 & [-0.020396, 0.650826, 0.758953] & 168.194 & [19.9608, 10.4351, -8.41204] & $\\dots$ \\\\\n",
       "\t14 & 1/complex.14.pdb & 1087.66 & [-0.248538, 0.454826, 0.855197] & 82.2639 & [25.9371, 41.9272, -14.7606] & $\\dots$ \\\\\n",
       "\t15 & 1/complex.15.pdb & 1087.21 & [0.351394, -0.41355, -0.83994] & 93.3436 & [31.2776, 43.3374, -8.25233] & $\\dots$ \\\\\n",
       "\t16 & 1/complex.16.pdb & 1080.96 & [0.460238, 0.667554, -0.58528] & 166.707 & [9.25422, 42.188, 55.3955] & $\\dots$ \\\\\n",
       "\t17 & 1/complex.17.pdb & 1075.22 & [0.0254127, 0.782497, 0.622135] & 176.995 & [14.5284, -3.28526, 3.53862] & $\\dots$ \\\\\n",
       "\t18 & 1/complex.18.pdb & 1073.84 & [-0.48109, -0.698587, 0.52965] & 159.519 & [4.60769, 41.078, 58.3655] & $\\dots$ \\\\\n",
       "\t19 & 1/complex.19.pdb & 1073.01 & [0.484634, -0.733915, -0.47592] & 177.175 & [24.3185, 1.74051, 22.0798] & $\\dots$ \\\\\n",
       "\t20 & 1/complex.20.pdb & 1065.21 & [0.571058, 0.42641, -0.701475] & 152.131 & [17.1929, 56.2843, 48.2103] & $\\dots$ \\\\\n",
       "\t21 & 1/complex.21.pdb & 1058.17 & [0.950347, 0.263345, 0.165803] & 111.254 & [-19.6214, 45.782, 39.7501] & $\\dots$ \\\\\n",
       "\t22 & 1/complex.22.pdb & 1058.08 & [-0.205174, -0.916723, -0.342815] & 175.922 & [2.04924, -9.8192, 25.0311] & $\\dots$ \\\\\n",
       "\t23 & 1/complex.23.pdb & 1057.61 & [-0.650905, -0.460329, 0.603672] & 123.556 & [6.33649, 44.3534, 40.6539] & $\\dots$ \\\\\n",
       "\t24 & 1/complex.24.pdb & 1056.5 & [0.42056, 0.0546866, -0.905615] & 170.228 & [29.4381, 53.7505, 16.9166] & $\\dots$ \\\\\n",
       "\t25 & 1/complex.25.pdb & 1056.46 & [0.491068, 0.169455, -0.854481] & 90.0457 & [16.5107, 47.7733, 18.9627] & $\\dots$ \\\\\n",
       "\t26 & 1/complex.26.pdb & 1054.94 & [0.117, -0.822425, -0.556712] & 170.485 & [25.0211, -2.30293, 8.66062] & $\\dots$ \\\\\n",
       "\t27 & 1/complex.27.pdb & 1053.47 & [-0.721436, -0.49759, 0.481595] & 120.18 & [0.251466, 40.9432, 42.6798] & $\\dots$ \\\\\n",
       "\t28 & 1/complex.28.pdb & 1051.51 & [-0.00273511, -0.0276151, -0.999615] & 85.0287 & [5.82019, 35.5778, -0.998791] & $\\dots$ \\\\\n",
       "\t29 & 1/complex.29.pdb & 1050.6 & [0.237406, 0.881193, 0.408825] & 172.347 & [-0.726463, -9.26008, 20.3813] & $\\dots$ \\\\\n",
       "\t30 & 1/complex.30.pdb & 1046.82 & [-0.151791, -0.284908, 0.94646] & 178.751 & [21.4087, 57.041, 20.6042] & $\\dots$ \\\\\n",
       "\t$\\dots$ & $\\dots$ & $\\dots$ & $\\dots$ & $\\dots$ & $\\dots$ &  \\\\\n",
       "\\end{tabular}\n"
      ],
      "text/plain": [
       "\u001b[1m100000×7 DataFrame\u001b[0m\n",
       "\u001b[1m    Row \u001b[0m│\u001b[1m fnames               \u001b[0m\u001b[1m score   \u001b[0m\u001b[1m omega                             \u001b[0m\u001b[1m ph\u001b[0m ⋯\n",
       "\u001b[1m        \u001b[0m│\u001b[90m Any                  \u001b[0m\u001b[90m Any     \u001b[0m\u001b[90m Any                               \u001b[0m\u001b[90m An\u001b[0m ⋯\n",
       "────────┼───────────────────────────────────────────────────────────────────────\n",
       "      1 │ 1/complex.1.pdb       1212.62  [-0.40211, 0.556162, 0.727318]     99 ⋯\n",
       "      2 │ 1/complex.2.pdb       1183.73  [-0.315936, 0.200409, -0.927373]   17\n",
       "      3 │ 1/complex.3.pdb       1135.3   [0.00306483, -0.475415, -0.87975…  75\n",
       "      4 │ 1/complex.4.pdb       1133.74  [0.0539249, 0.0942512, -0.994087]  17\n",
       "      5 │ 1/complex.5.pdb       1122.77  [-0.367839, -0.351645, 0.860837]   16 ⋯\n",
       "      6 │ 1/complex.6.pdb       1114.58  [0.523125, 0.325591, -0.787611]    16\n",
       "      7 │ 1/complex.7.pdb       1111.9   [-0.376166, 0.58079, 0.721929]     11\n",
       "      8 │ 1/complex.8.pdb       1108.98  [-0.261413, -0.320513, 0.910459]   17\n",
       "      9 │ 1/complex.9.pdb       1107.44  [0.0334642, -0.88584, -0.462782]   17 ⋯\n",
       "     10 │ 1/complex.10.pdb      1103.56  [-0.259496, -0.709524, 0.655163]   17\n",
       "     11 │ 1/complex.11.pdb      1094.51  [0.709489, 0.519903, -0.475737]    11\n",
       "   ⋮    │          ⋮               ⋮                     ⋮                     ⋱\n",
       "  99991 │ 1000/complex.91.pdb   970.038  [-0.878622, -0.327896, -0.347141]  14\n",
       "  99992 │ 1000/complex.92.pdb   968.914  [-0.955397, -0.295041, -0.012939…  14 ⋯\n",
       "  99993 │ 1000/complex.93.pdb   968.072  [0.148044, -0.759582, -0.633339]   17\n",
       "  99994 │ 1000/complex.94.pdb   965.503  [-0.35423, 0.934213, 0.042048]     13\n",
       "  99995 │ 1000/complex.95.pdb   965.425  [0.49141, 0.698829, -0.519764]     15\n",
       "  99996 │ 1000/complex.96.pdb   964.595  [0.109641, 0.95852, 0.263094]      17 ⋯\n",
       "  99997 │ 1000/complex.97.pdb   964.471  [-0.35507, -0.675653, 0.646079]    14\n",
       "  99998 │ 1000/complex.98.pdb   963.059  [0.261142, 0.472334, 0.841847]     73\n",
       "  99999 │ 1000/complex.99.pdb   962.532  [-0.359025, -0.00827278, 0.93329…  16\n",
       " 100000 │ 1000/complex.100.pdb  961.492  [-0.705928, -0.112536, 0.699286]   16 ⋯\n",
       "\u001b[36m                                                4 columns and 99979 rows omitted\u001b[0m"
      ]
     },
     "execution_count": 6,
     "metadata": {},
     "output_type": "execute_result"
    }
   ],
   "source": [
    "df = DataFrame(fnames=fnames, score=score, omega=omega, phi=phi, prou=prou, d=d, struc=struc)"
   ]
  },
  {
   "cell_type": "code",
   "execution_count": 7,
   "id": "0225efef-539c-4fc1-b11c-3bf14df6c8f4",
   "metadata": {},
   "outputs": [],
   "source": [
    "df_org = deepcopy(df);"
   ]
  },
  {
   "cell_type": "code",
   "execution_count": 8,
   "id": "cc488138-9e57-416a-bdf4-0dd7f7ca8614",
   "metadata": {},
   "outputs": [],
   "source": [
    "#using BSON: @save, @load\n",
    "#@save \"skrew_parameters.bson\" fnames score omega phi prou d df rmsd"
   ]
  },
  {
   "cell_type": "code",
   "execution_count": 9,
   "id": "88b16d7e-2d7a-4759-874c-3d3cbead8916",
   "metadata": {},
   "outputs": [],
   "source": [
    "#using BSON: @save, @load\n",
    "#@save \"df.bson\" df"
   ]
  },
  {
   "cell_type": "code",
   "execution_count": 10,
   "id": "c9400341-a639-4e7c-86f5-6baf593f4f50",
   "metadata": {},
   "outputs": [],
   "source": [
    "using JLD2\n",
    "\n",
    "save(\"skrew_parameters.jld2\", \"fnames\", fnames, \"score\", score, \"omega\", omega, \"phi\", phi, \"prou\", prou, \"d\", d, \"df\", df, \"rmsd\", rmsd)\n",
    "save(\"df.jld2\", \"df\", df)"
   ]
  },
  {
   "cell_type": "code",
   "execution_count": null,
   "id": "a9bdb4a4-c673-4542-90bf-6fe48688cd53",
   "metadata": {},
   "outputs": [],
   "source": []
  }
 ],
 "metadata": {
  "kernelspec": {
   "display_name": "Julia 1.8.2",
   "language": "julia",
   "name": "julia-1.8"
  },
  "language_info": {
   "file_extension": ".jl",
   "mimetype": "application/julia",
   "name": "julia",
   "version": "1.8.2"
  }
 },
 "nbformat": 4,
 "nbformat_minor": 5
}
