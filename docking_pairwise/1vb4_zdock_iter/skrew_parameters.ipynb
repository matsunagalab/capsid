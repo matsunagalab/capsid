{
 "cells": [
  {
   "cell_type": "markdown",
   "id": "62a9d42f-dcfb-4d04-b7ee-aeab2626fe19",
   "metadata": {},
   "source": [
    "# 1vb4"
   ]
  },
  {
   "cell_type": "code",
   "execution_count": 1,
   "id": "c2b6edbc-2a9f-438b-9e0d-1fb076e39d0e",
   "metadata": {},
   "outputs": [],
   "source": [
    "using Printf, DelimitedFiles\n",
    "using Plots\n",
    "using DataFrames\n",
    "using Revise, MDToolbox"
   ]
  },
  {
   "cell_type": "code",
   "execution_count": 2,
   "id": "c9373fbf-44a1-4c9b-88e3-5bb66950ae03",
   "metadata": {},
   "outputs": [
    {
     "data": {
      "text/plain": [
       "read_ascii (generic function with 1 method)"
      ]
     },
     "execution_count": 2,
     "metadata": {},
     "output_type": "execute_result"
    }
   ],
   "source": [
    "function read_ascii(fname)\n",
    "    lines = readlines(fname)\n",
    "    natom = length(lines) - 1\n",
    "    xyz = zeros(Float64, 1, natom*3)\n",
    "    for i = 1:natom\n",
    "        xyz[1, 3*(i-1)+1] = parse(Float64, lines[i+1][31:38])\n",
    "        xyz[1, 3*(i-1)+2] = parse(Float64, lines[i+1][39:46])\n",
    "        xyz[1, 3*(i-1)+3] = parse(Float64, lines[i+1][47:54])\n",
    "    end\n",
    "    TrjArray(xyz=xyz)\n",
    "end"
   ]
  },
  {
   "cell_type": "code",
   "execution_count": 3,
   "id": "fa858e0e-6890-4489-953b-936b481fa4aa",
   "metadata": {},
   "outputs": [
    {
     "data": {
      "text/plain": [
       "Any[]"
      ]
     },
     "execution_count": 3,
     "metadata": {},
     "output_type": "execute_result"
    }
   ],
   "source": [
    "fnames = []\n",
    "omega = []\n",
    "phi = []\n",
    "prou = []\n",
    "d = []\n",
    "score = []\n",
    "rmsd = []\n",
    "struc = []"
   ]
  },
  {
   "cell_type": "code",
   "execution_count": 4,
   "id": "32f8cbb0-c23b-4139-a37d-d0cb8a807005",
   "metadata": {},
   "outputs": [
    {
     "data": {
      "text/plain": [
       "1000"
      ]
     },
     "execution_count": 4,
     "metadata": {},
     "output_type": "execute_result"
    }
   ],
   "source": [
    "nrun = 1000"
   ]
  },
  {
   "cell_type": "code",
   "execution_count": 5,
   "id": "a9238faf-a6c3-43f9-8e58-bd5847247e2a",
   "metadata": {},
   "outputs": [
    {
     "name": "stdout",
     "output_type": "stream",
     "text": [
      "irun = 100irun = 200irun = 300irun = 400irun = 500irun = 600irun = 700irun = 800irun = 900irun = 1000"
     ]
    }
   ],
   "source": [
    "for irun = 1:nrun\n",
    "\n",
    "    if irun % 100 == 0\n",
    "        print(\"irun = $irun\")\n",
    "    end\n",
    "    for i in 1:100\n",
    "        filename = \"$(irun)/complex.$(i).pdb\"\n",
    "        #t = mdload(filename)\n",
    "        #t = MDToolbox.readpdb_biostructures(filename)\n",
    "        t = read_ascii(filename)\n",
    "        t1 = t[:, 1:1454]\n",
    "        t2 = t[:, 1455:end]\n",
    "        r = MDToolbox.compute_skrew(t1, t2)\n",
    "        push!(fnames, filename)\n",
    "        push!(omega, r.omega)\n",
    "        push!(phi, r.phi / (2.0 * pi) * 360.0)\n",
    "        push!(prou, r.prou)\n",
    "        push!(d, r.d)\n",
    "        push!(struc, t)\n",
    "        #t_ca = t[\"atomname CA\"]\n",
    "        #push!(rmsd, compute_rmsd_permute(ref, t_ca, 2))\n",
    "    end\n",
    "\n",
    "    s = readdlm(\"$(irun)/zdock.out\", skipstart=5)\n",
    "    score = [score; s[1:100, end]]\n",
    "end"
   ]
  },
  {
   "cell_type": "code",
   "execution_count": 6,
   "id": "8d2ad93d-8d57-4b90-abfa-976cf23638b0",
   "metadata": {},
   "outputs": [
    {
     "data": {
      "text/html": [
       "<div><div style = \"float: left;\"><span>100000×7 DataFrame</span></div><div style = \"float: right;\"><span style = \"font-style: italic;\">99975 rows omitted</span></div><div style = \"clear: both;\"></div></div><div class = \"data-frame\" style = \"overflow-x: scroll;\"><table class = \"data-frame\" style = \"margin-bottom: 6px;\"><thead><tr class = \"header\"><th class = \"rowNumber\" style = \"font-weight: bold; text-align: right;\">Row</th><th style = \"text-align: left;\">fnames</th><th style = \"text-align: left;\">score</th><th style = \"text-align: left;\">omega</th><th style = \"text-align: left;\">phi</th><th style = \"text-align: left;\">prou</th><th style = \"text-align: left;\">d</th><th style = \"text-align: left;\">struc</th></tr><tr class = \"subheader headerLastRow\"><th class = \"rowNumber\" style = \"font-weight: bold; text-align: right;\"></th><th title = \"Any\" style = \"text-align: left;\">Any</th><th title = \"Any\" style = \"text-align: left;\">Any</th><th title = \"Any\" style = \"text-align: left;\">Any</th><th title = \"Any\" style = \"text-align: left;\">Any</th><th title = \"Any\" style = \"text-align: left;\">Any</th><th title = \"Any\" style = \"text-align: left;\">Any</th><th title = \"Any\" style = \"text-align: left;\">Any</th></tr></thead><tbody><tr><td class = \"rowNumber\" style = \"font-weight: bold; text-align: right;\">1</td><td style = \"text-align: left;\">1/complex.1.pdb</td><td style = \"text-align: left;\">1212.62</td><td style = \"text-align: left;\">[-0.40211, 0.556162, 0.727318]</td><td style = \"text-align: left;\">99.7607</td><td style = \"text-align: left;\">[33.9787, 31.7831, -5.51806]</td><td style = \"text-align: left;\">-26.5796</td><td style = \"text-align: left;\">1x2908 TrjArray{Float64, Int64}\\n|    17.58    53.10    21.89 |  …      13.54    49.83    15.17 |</td></tr><tr><td class = \"rowNumber\" style = \"font-weight: bold; text-align: right;\">2</td><td style = \"text-align: left;\">1/complex.2.pdb</td><td style = \"text-align: left;\">1183.73</td><td style = \"text-align: left;\">[-0.315936, 0.200409, -0.927373]</td><td style = \"text-align: left;\">177.03</td><td style = \"text-align: left;\">[-19.7002, 58.6909, 19.3948]</td><td style = \"text-align: left;\">1.27308</td><td style = \"text-align: left;\">1x2908 TrjArray{Float64, Int64}\\n|    17.58    53.10    21.89 |  …     -37.96    36.02    42.77 |</td></tr><tr><td class = \"rowNumber\" style = \"font-weight: bold; text-align: right;\">3</td><td style = \"text-align: left;\">1/complex.3.pdb</td><td style = \"text-align: left;\">1135.3</td><td style = \"text-align: left;\">[0.00306483, -0.475415, -0.879756]</td><td style = \"text-align: left;\">75.2811</td><td style = \"text-align: left;\">[0.242413, 4.8558, -2.6232]</td><td style = \"text-align: left;\">-0.309525</td><td style = \"text-align: left;\">1x2908 TrjArray{Float64, Int64}\\n|    17.58    53.10    21.89 |  …      42.96    34.11    55.31 |</td></tr><tr><td class = \"rowNumber\" style = \"font-weight: bold; text-align: right;\">4</td><td style = \"text-align: left;\">1/complex.4.pdb</td><td style = \"text-align: left;\">1133.74</td><td style = \"text-align: left;\">[0.0539249, 0.0942512, -0.994087]</td><td style = \"text-align: left;\">176.792</td><td style = \"text-align: left;\">[22.8572, 60.7278, 6.99761]</td><td style = \"text-align: left;\">-0.859742</td><td style = \"text-align: left;\">1x2908 TrjArray{Float64, Int64}\\n|    17.58    53.10    21.89 |  …      30.80    45.18    33.92 |</td></tr><tr><td class = \"rowNumber\" style = \"font-weight: bold; text-align: right;\">5</td><td style = \"text-align: left;\">1/complex.5.pdb</td><td style = \"text-align: left;\">1122.77</td><td style = \"text-align: left;\">[-0.367839, -0.351645, 0.860837]</td><td style = \"text-align: left;\">167.239</td><td style = \"text-align: left;\">[22.0496, 57.3307, 32.841]</td><td style = \"text-align: left;\">-13.6955</td><td style = \"text-align: left;\">1x2908 TrjArray{Float64, Int64}\\n|    17.58    53.10    21.89 |  …      33.42    46.63    17.32 |</td></tr><tr><td class = \"rowNumber\" style = \"font-weight: bold; text-align: right;\">6</td><td style = \"text-align: left;\">1/complex.6.pdb</td><td style = \"text-align: left;\">1114.58</td><td style = \"text-align: left;\">[0.523125, 0.325591, -0.787611]</td><td style = \"text-align: left;\">162.668</td><td style = \"text-align: left;\">[22.4456, 57.3706, 38.6247]</td><td style = \"text-align: left;\">10.1998</td><td style = \"text-align: left;\">1x2908 TrjArray{Float64, Int64}\\n|    17.58    53.10    21.89 |  …      42.83    51.74    33.42 |</td></tr><tr><td class = \"rowNumber\" style = \"font-weight: bold; text-align: right;\">7</td><td style = \"text-align: left;\">1/complex.7.pdb</td><td style = \"text-align: left;\">1111.9</td><td style = \"text-align: left;\">[-0.376166, 0.58079, 0.721929]</td><td style = \"text-align: left;\">114.399</td><td style = \"text-align: left;\">[32.0743, 29.743, -7.21562]</td><td style = \"text-align: left;\">-26.919</td><td style = \"text-align: left;\">1x2908 TrjArray{Float64, Int64}\\n|    17.58    53.10    21.89 |  …      11.94    49.09    15.03 |</td></tr><tr><td class = \"rowNumber\" style = \"font-weight: bold; text-align: right;\">8</td><td style = \"text-align: left;\">1/complex.8.pdb</td><td style = \"text-align: left;\">1108.98</td><td style = \"text-align: left;\">[-0.261413, -0.320513, 0.910459]</td><td style = \"text-align: left;\">172.943</td><td style = \"text-align: left;\">[21.9754, 56.3148, 26.1344]</td><td style = \"text-align: left;\">4.0529</td><td style = \"text-align: left;\">1x2908 TrjArray{Float64, Int64}\\n|    17.58    53.10    21.89 |  …      25.36    35.73    30.04 |</td></tr><tr><td class = \"rowNumber\" style = \"font-weight: bold; text-align: right;\">9</td><td style = \"text-align: left;\">1/complex.9.pdb</td><td style = \"text-align: left;\">1107.44</td><td style = \"text-align: left;\">[0.0334642, -0.88584, -0.462782]</td><td style = \"text-align: left;\">176.776</td><td style = \"text-align: left;\">[19.4078, -6.87396, 14.5613]</td><td style = \"text-align: left;\">-0.526022</td><td style = \"text-align: left;\">1x2908 TrjArray{Float64, Int64}\\n|    17.58    53.10    21.89 |  …      21.84    55.25    67.71 |</td></tr><tr><td class = \"rowNumber\" style = \"font-weight: bold; text-align: right;\">10</td><td style = \"text-align: left;\">1/complex.10.pdb</td><td style = \"text-align: left;\">1103.56</td><td style = \"text-align: left;\">[-0.259496, -0.709524, 0.655163]</td><td style = \"text-align: left;\">177.515</td><td style = \"text-align: left;\">[15.0341, 40.2019, 49.4922]</td><td style = \"text-align: left;\">-0.0225569</td><td style = \"text-align: left;\">1x2908 TrjArray{Float64, Int64}\\n|    17.58    53.10    21.89 |  …      33.26    53.21    22.75 |</td></tr><tr><td class = \"rowNumber\" style = \"font-weight: bold; text-align: right;\">11</td><td style = \"text-align: left;\">1/complex.11.pdb</td><td style = \"text-align: left;\">1094.51</td><td style = \"text-align: left;\">[0.709489, 0.519903, -0.475737]</td><td style = \"text-align: left;\">114.472</td><td style = \"text-align: left;\">[0.100267, 39.8325, 43.6799]</td><td style = \"text-align: left;\">16.7143</td><td style = \"text-align: left;\">1x2908 TrjArray{Float64, Int64}\\n|    17.58    53.10    21.89 |  …      46.09    57.68    34.02 |</td></tr><tr><td class = \"rowNumber\" style = \"font-weight: bold; text-align: right;\">12</td><td style = \"text-align: left;\">1/complex.12.pdb</td><td style = \"text-align: left;\">1092.03</td><td style = \"text-align: left;\">[0.279058, 0.800199, 0.530856]</td><td style = \"text-align: left;\">179.478</td><td style = \"text-align: left;\">[1.58922, 0.639806, -1.79985]</td><td style = \"text-align: left;\">0.510419</td><td style = \"text-align: left;\">1x2908 TrjArray{Float64, Int64}\\n|    17.58    53.10    21.89 |  …      34.75    56.80    46.29 |</td></tr><tr><td class = \"rowNumber\" style = \"font-weight: bold; text-align: right;\">13</td><td style = \"text-align: left;\">1/complex.13.pdb</td><td style = \"text-align: left;\">1088.79</td><td style = \"text-align: left;\">[-0.020396, 0.650826, 0.758953]</td><td style = \"text-align: left;\">168.194</td><td style = \"text-align: left;\">[19.9608, 10.4351, -8.41204]</td><td style = \"text-align: left;\">6.94931</td><td style = \"text-align: left;\">1x2908 TrjArray{Float64, Int64}\\n|    17.58    53.10    21.89 |  …      20.22    47.62    64.52 |</td></tr><tr><td style = \"text-align: right;\">&vellip;</td><td style = \"text-align: right;\">&vellip;</td><td style = \"text-align: right;\">&vellip;</td><td style = \"text-align: right;\">&vellip;</td><td style = \"text-align: right;\">&vellip;</td><td style = \"text-align: right;\">&vellip;</td><td style = \"text-align: right;\">&vellip;</td><td style = \"text-align: right;\">&vellip;</td></tr><tr><td class = \"rowNumber\" style = \"font-weight: bold; text-align: right;\">99989</td><td style = \"text-align: left;\">1000/complex.89.pdb</td><td style = \"text-align: left;\">971.569</td><td style = \"text-align: left;\">[0.244283, 0.957037, 0.156226]</td><td style = \"text-align: left;\">146.282</td><td style = \"text-align: left;\">[5.38772, -6.50982, 31.4546]</td><td style = \"text-align: left;\">-4.55127</td><td style = \"text-align: left;\">1x2908 TrjArray{Float64, Int64}\\n|    17.58    53.10    21.89 |  …      27.56    59.43    56.90 |</td></tr><tr><td class = \"rowNumber\" style = \"font-weight: bold; text-align: right;\">99990</td><td style = \"text-align: left;\">1000/complex.90.pdb</td><td style = \"text-align: left;\">970.877</td><td style = \"text-align: left;\">[0.415508, 0.262966, -0.870748]</td><td style = \"text-align: left;\">175.18</td><td style = \"text-align: left;\">[24.3887, 57.6835, 29.0583]</td><td style = \"text-align: left;\">-16.7123</td><td style = \"text-align: left;\">1x2908 TrjArray{Float64, Int64}\\n|    17.58    53.10    21.89 |  …      25.26    36.91    49.29 |</td></tr><tr><td class = \"rowNumber\" style = \"font-weight: bold; text-align: right;\">99991</td><td style = \"text-align: left;\">1000/complex.91.pdb</td><td style = \"text-align: left;\">970.038</td><td style = \"text-align: left;\">[-0.878622, -0.327896, -0.347141]</td><td style = \"text-align: left;\">145.271</td><td style = \"text-align: left;\">[-25.3647, 38.3384, 27.9857]</td><td style = \"text-align: left;\">-22.3258</td><td style = \"text-align: left;\">1x2908 TrjArray{Float64, Int64}\\n|    17.58    53.10    21.89 |  …      42.98    41.95    50.27 |</td></tr><tr><td class = \"rowNumber\" style = \"font-weight: bold; text-align: right;\">99992</td><td style = \"text-align: left;\">1000/complex.92.pdb</td><td style = \"text-align: left;\">968.914</td><td style = \"text-align: left;\">[-0.955397, -0.295041, -0.0129392]</td><td style = \"text-align: left;\">146.321</td><td style = \"text-align: left;\">[-16.0391, 49.7971, 48.8047]</td><td style = \"text-align: left;\">28.228</td><td style = \"text-align: left;\">1x2908 TrjArray{Float64, Int64}\\n|    17.58    53.10    21.89 |  …      -5.43    33.79    54.22 |</td></tr><tr><td class = \"rowNumber\" style = \"font-weight: bold; text-align: right;\">99993</td><td style = \"text-align: left;\">1000/complex.93.pdb</td><td style = \"text-align: left;\">968.072</td><td style = \"text-align: left;\">[0.148044, -0.759582, -0.633339]</td><td style = \"text-align: left;\">175.79</td><td style = \"text-align: left;\">[26.9217, 2.1669, 3.69414]</td><td style = \"text-align: left;\">1.26192</td><td style = \"text-align: left;\">1x2908 TrjArray{Float64, Int64}\\n|    17.58    53.10    21.89 |  …      20.80    45.18    66.20 |</td></tr><tr><td class = \"rowNumber\" style = \"font-weight: bold; text-align: right;\">99994</td><td style = \"text-align: left;\">1000/complex.94.pdb</td><td style = \"text-align: left;\">965.503</td><td style = \"text-align: left;\">[-0.35423, 0.934213, 0.042048]</td><td style = \"text-align: left;\">139.288</td><td style = \"text-align: left;\">[28.2586, 8.75685, 43.5046]</td><td style = \"text-align: left;\">25.391</td><td style = \"text-align: left;\">1x2908 TrjArray{Float64, Int64}\\n|    17.58    53.10    21.89 |  …     -15.87    87.23    51.02 |</td></tr><tr><td class = \"rowNumber\" style = \"font-weight: bold; text-align: right;\">99995</td><td style = \"text-align: left;\">1000/complex.95.pdb</td><td style = \"text-align: left;\">965.425</td><td style = \"text-align: left;\">[0.49141, 0.698829, -0.519764]</td><td style = \"text-align: left;\">154.919</td><td style = \"text-align: left;\">[6.95321, 37.2001, 56.5899]</td><td style = \"text-align: left;\">-8.97654</td><td style = \"text-align: left;\">1x2908 TrjArray{Float64, Int64}\\n|    17.58    53.10    21.89 |  …      34.28    54.10    48.70 |</td></tr><tr><td class = \"rowNumber\" style = \"font-weight: bold; text-align: right;\">99996</td><td style = \"text-align: left;\">1000/complex.96.pdb</td><td style = \"text-align: left;\">964.595</td><td style = \"text-align: left;\">[0.109641, 0.95852, 0.263094]</td><td style = \"text-align: left;\">170.843</td><td style = \"text-align: left;\">[8.66258, -9.80408, 32.1088]</td><td style = \"text-align: left;\">-0.66199</td><td style = \"text-align: left;\">1x2908 TrjArray{Float64, Int64}\\n|    17.58    53.10    21.89 |  …      18.82    60.05    71.67 |</td></tr><tr><td class = \"rowNumber\" style = \"font-weight: bold; text-align: right;\">99997</td><td style = \"text-align: left;\">1000/complex.97.pdb</td><td style = \"text-align: left;\">964.471</td><td style = \"text-align: left;\">[-0.35507, -0.675653, 0.646079]</td><td style = \"text-align: left;\">140.544</td><td style = \"text-align: left;\">[13.8768, 41.8103, 51.3505]</td><td style = \"text-align: left;\">6.87883</td><td style = \"text-align: left;\">1x2908 TrjArray{Float64, Int64}\\n|    17.58    53.10    21.89 |  …      26.53    46.47    26.52 |</td></tr><tr><td class = \"rowNumber\" style = \"font-weight: bold; text-align: right;\">99998</td><td style = \"text-align: left;\">1000/complex.98.pdb</td><td style = \"text-align: left;\">963.059</td><td style = \"text-align: left;\">[0.261142, 0.472334, 0.841847]</td><td style = \"text-align: left;\">73.0469</td><td style = \"text-align: left;\">[10.5278, 34.5516, -22.6516]</td><td style = \"text-align: left;\">7.3196</td><td style = \"text-align: left;\">1x2908 TrjArray{Float64, Int64}\\n|    17.58    53.10    21.89 |  …      21.34    58.44    47.99 |</td></tr><tr><td class = \"rowNumber\" style = \"font-weight: bold; text-align: right;\">99999</td><td style = \"text-align: left;\">1000/complex.99.pdb</td><td style = \"text-align: left;\">962.532</td><td style = \"text-align: left;\">[-0.359025, -0.00827278, 0.933291]</td><td style = \"text-align: left;\">163.007</td><td style = \"text-align: left;\">[28.5549, 51.3001, 11.4394]</td><td style = \"text-align: left;\">-14.8271</td><td style = \"text-align: left;\">1x2908 TrjArray{Float64, Int64}\\n|    17.58    53.10    21.89 |  …      24.39    29.66    22.82 |</td></tr><tr><td class = \"rowNumber\" style = \"font-weight: bold; text-align: right;\">100000</td><td style = \"text-align: left;\">1000/complex.100.pdb</td><td style = \"text-align: left;\">961.492</td><td style = \"text-align: left;\">[-0.705928, -0.112536, 0.699286]</td><td style = \"text-align: left;\">164.009</td><td style = \"text-align: left;\">[28.5068, 49.6944, 36.7749]</td><td style = \"text-align: left;\">4.14282</td><td style = \"text-align: left;\">1x2908 TrjArray{Float64, Int64}\\n|    17.58    53.10    21.89 |  …      26.71    23.10    46.84 |</td></tr></tbody></table></div>"
      ],
      "text/latex": [
       "\\begin{tabular}{r|cccccc}\n",
       "\t& fnames & score & omega & phi & prou & \\\\\n",
       "\t\\hline\n",
       "\t& Any & Any & Any & Any & Any & \\\\\n",
       "\t\\hline\n",
       "\t1 & 1/complex.1.pdb & 1212.62 & [-0.40211, 0.556162, 0.727318] & 99.7607 & [33.9787, 31.7831, -5.51806] & $\\dots$ \\\\\n",
       "\t2 & 1/complex.2.pdb & 1183.73 & [-0.315936, 0.200409, -0.927373] & 177.03 & [-19.7002, 58.6909, 19.3948] & $\\dots$ \\\\\n",
       "\t3 & 1/complex.3.pdb & 1135.3 & [0.00306483, -0.475415, -0.879756] & 75.2811 & [0.242413, 4.8558, -2.6232] & $\\dots$ \\\\\n",
       "\t4 & 1/complex.4.pdb & 1133.74 & [0.0539249, 0.0942512, -0.994087] & 176.792 & [22.8572, 60.7278, 6.99761] & $\\dots$ \\\\\n",
       "\t5 & 1/complex.5.pdb & 1122.77 & [-0.367839, -0.351645, 0.860837] & 167.239 & [22.0496, 57.3307, 32.841] & $\\dots$ \\\\\n",
       "\t6 & 1/complex.6.pdb & 1114.58 & [0.523125, 0.325591, -0.787611] & 162.668 & [22.4456, 57.3706, 38.6247] & $\\dots$ \\\\\n",
       "\t7 & 1/complex.7.pdb & 1111.9 & [-0.376166, 0.58079, 0.721929] & 114.399 & [32.0743, 29.743, -7.21562] & $\\dots$ \\\\\n",
       "\t8 & 1/complex.8.pdb & 1108.98 & [-0.261413, -0.320513, 0.910459] & 172.943 & [21.9754, 56.3148, 26.1344] & $\\dots$ \\\\\n",
       "\t9 & 1/complex.9.pdb & 1107.44 & [0.0334642, -0.88584, -0.462782] & 176.776 & [19.4078, -6.87396, 14.5613] & $\\dots$ \\\\\n",
       "\t10 & 1/complex.10.pdb & 1103.56 & [-0.259496, -0.709524, 0.655163] & 177.515 & [15.0341, 40.2019, 49.4922] & $\\dots$ \\\\\n",
       "\t11 & 1/complex.11.pdb & 1094.51 & [0.709489, 0.519903, -0.475737] & 114.472 & [0.100267, 39.8325, 43.6799] & $\\dots$ \\\\\n",
       "\t12 & 1/complex.12.pdb & 1092.03 & [0.279058, 0.800199, 0.530856] & 179.478 & [1.58922, 0.639806, -1.79985] & $\\dots$ \\\\\n",
       "\t13 & 1/complex.13.pdb & 1088.79 & [-0.020396, 0.650826, 0.758953] & 168.194 & [19.9608, 10.4351, -8.41204] & $\\dots$ \\\\\n",
       "\t14 & 1/complex.14.pdb & 1087.66 & [-0.248538, 0.454826, 0.855197] & 82.2639 & [25.9371, 41.9272, -14.7606] & $\\dots$ \\\\\n",
       "\t15 & 1/complex.15.pdb & 1087.21 & [0.351394, -0.41355, -0.83994] & 93.3436 & [31.2776, 43.3374, -8.25233] & $\\dots$ \\\\\n",
       "\t16 & 1/complex.16.pdb & 1080.96 & [0.460238, 0.667554, -0.58528] & 166.707 & [9.25422, 42.188, 55.3955] & $\\dots$ \\\\\n",
       "\t17 & 1/complex.17.pdb & 1075.22 & [0.0254127, 0.782497, 0.622135] & 176.995 & [14.5284, -3.28526, 3.53862] & $\\dots$ \\\\\n",
       "\t18 & 1/complex.18.pdb & 1073.84 & [-0.48109, -0.698587, 0.52965] & 159.519 & [4.60769, 41.078, 58.3655] & $\\dots$ \\\\\n",
       "\t19 & 1/complex.19.pdb & 1073.01 & [0.484634, -0.733915, -0.47592] & 177.175 & [24.3185, 1.74051, 22.0798] & $\\dots$ \\\\\n",
       "\t20 & 1/complex.20.pdb & 1065.21 & [0.571058, 0.42641, -0.701475] & 152.131 & [17.1929, 56.2843, 48.2103] & $\\dots$ \\\\\n",
       "\t21 & 1/complex.21.pdb & 1058.17 & [0.950347, 0.263345, 0.165803] & 111.254 & [-19.6214, 45.782, 39.7501] & $\\dots$ \\\\\n",
       "\t22 & 1/complex.22.pdb & 1058.08 & [-0.205174, -0.916723, -0.342815] & 175.922 & [2.04924, -9.8192, 25.0311] & $\\dots$ \\\\\n",
       "\t23 & 1/complex.23.pdb & 1057.61 & [-0.650905, -0.460329, 0.603672] & 123.556 & [6.33649, 44.3534, 40.6539] & $\\dots$ \\\\\n",
       "\t24 & 1/complex.24.pdb & 1056.5 & [0.42056, 0.0546866, -0.905615] & 170.228 & [29.4381, 53.7505, 16.9166] & $\\dots$ \\\\\n",
       "\t25 & 1/complex.25.pdb & 1056.46 & [0.491068, 0.169455, -0.854481] & 90.0457 & [16.5107, 47.7733, 18.9627] & $\\dots$ \\\\\n",
       "\t26 & 1/complex.26.pdb & 1054.94 & [0.117, -0.822425, -0.556712] & 170.485 & [25.0211, -2.30293, 8.66062] & $\\dots$ \\\\\n",
       "\t27 & 1/complex.27.pdb & 1053.47 & [-0.721436, -0.49759, 0.481595] & 120.18 & [0.251466, 40.9432, 42.6798] & $\\dots$ \\\\\n",
       "\t28 & 1/complex.28.pdb & 1051.51 & [-0.00273511, -0.0276151, -0.999615] & 85.0287 & [5.82019, 35.5778, -0.998791] & $\\dots$ \\\\\n",
       "\t29 & 1/complex.29.pdb & 1050.6 & [0.237406, 0.881193, 0.408825] & 172.347 & [-0.726463, -9.26008, 20.3813] & $\\dots$ \\\\\n",
       "\t30 & 1/complex.30.pdb & 1046.82 & [-0.151791, -0.284908, 0.94646] & 178.751 & [21.4087, 57.041, 20.6042] & $\\dots$ \\\\\n",
       "\t$\\dots$ & $\\dots$ & $\\dots$ & $\\dots$ & $\\dots$ & $\\dots$ &  \\\\\n",
       "\\end{tabular}\n"
      ],
      "text/plain": [
       "\u001b[1m100000×7 DataFrame\u001b[0m\n",
       "\u001b[1m    Row \u001b[0m│\u001b[1m fnames               \u001b[0m\u001b[1m score   \u001b[0m\u001b[1m omega                             \u001b[0m\u001b[1m ph\u001b[0m ⋯\n",
       "        │\u001b[90m Any                  \u001b[0m\u001b[90m Any     \u001b[0m\u001b[90m Any                               \u001b[0m\u001b[90m An\u001b[0m ⋯\n",
       "────────┼───────────────────────────────────────────────────────────────────────\n",
       "      1 │ 1/complex.1.pdb       1212.62  [-0.40211, 0.556162, 0.727318]     99 ⋯\n",
       "      2 │ 1/complex.2.pdb       1183.73  [-0.315936, 0.200409, -0.927373]   17\n",
       "      3 │ 1/complex.3.pdb       1135.3   [0.00306483, -0.475415, -0.87975…  75\n",
       "      4 │ 1/complex.4.pdb       1133.74  [0.0539249, 0.0942512, -0.994087]  17\n",
       "      5 │ 1/complex.5.pdb       1122.77  [-0.367839, -0.351645, 0.860837]   16 ⋯\n",
       "      6 │ 1/complex.6.pdb       1114.58  [0.523125, 0.325591, -0.787611]    16\n",
       "      7 │ 1/complex.7.pdb       1111.9   [-0.376166, 0.58079, 0.721929]     11\n",
       "      8 │ 1/complex.8.pdb       1108.98  [-0.261413, -0.320513, 0.910459]   17\n",
       "      9 │ 1/complex.9.pdb       1107.44  [0.0334642, -0.88584, -0.462782]   17 ⋯\n",
       "     10 │ 1/complex.10.pdb      1103.56  [-0.259496, -0.709524, 0.655163]   17\n",
       "     11 │ 1/complex.11.pdb      1094.51  [0.709489, 0.519903, -0.475737]    11\n",
       "   ⋮    │          ⋮               ⋮                     ⋮                     ⋱\n",
       "  99991 │ 1000/complex.91.pdb   970.038  [-0.878622, -0.327896, -0.347141]  14\n",
       "  99992 │ 1000/complex.92.pdb   968.914  [-0.955397, -0.295041, -0.012939…  14 ⋯\n",
       "  99993 │ 1000/complex.93.pdb   968.072  [0.148044, -0.759582, -0.633339]   17\n",
       "  99994 │ 1000/complex.94.pdb   965.503  [-0.35423, 0.934213, 0.042048]     13\n",
       "  99995 │ 1000/complex.95.pdb   965.425  [0.49141, 0.698829, -0.519764]     15\n",
       "  99996 │ 1000/complex.96.pdb   964.595  [0.109641, 0.95852, 0.263094]      17 ⋯\n",
       "  99997 │ 1000/complex.97.pdb   964.471  [-0.35507, -0.675653, 0.646079]    14\n",
       "  99998 │ 1000/complex.98.pdb   963.059  [0.261142, 0.472334, 0.841847]     73\n",
       "  99999 │ 1000/complex.99.pdb   962.532  [-0.359025, -0.00827278, 0.93329…  16\n",
       " 100000 │ 1000/complex.100.pdb  961.492  [-0.705928, -0.112536, 0.699286]   16 ⋯\n",
       "\u001b[36m                                                4 columns and 99979 rows omitted\u001b[0m"
      ]
     },
     "execution_count": 6,
     "metadata": {},
     "output_type": "execute_result"
    }
   ],
   "source": [
    "df = DataFrame(fnames=fnames, score=score, omega=omega, phi=phi, prou=prou, d=d, struc=struc)"
   ]
  },
  {
   "cell_type": "code",
   "execution_count": 7,
   "id": "0225efef-539c-4fc1-b11c-3bf14df6c8f4",
   "metadata": {},
   "outputs": [],
   "source": [
    "df_org = deepcopy(df);"
   ]
  },
  {
   "cell_type": "code",
   "execution_count": 8,
   "id": "cc488138-9e57-416a-bdf4-0dd7f7ca8614",
   "metadata": {},
   "outputs": [],
   "source": [
    "#using BSON: @save, @load\n",
    "#@save \"skrew_parameters.bson\" fnames score omega phi prou d df rmsd"
   ]
  },
  {
   "cell_type": "code",
   "execution_count": 9,
   "id": "88b16d7e-2d7a-4759-874c-3d3cbead8916",
   "metadata": {},
   "outputs": [],
   "source": [
    "#using BSON: @save, @load\n",
    "#@save \"df.bson\" df"
   ]
  },
  {
   "cell_type": "code",
   "execution_count": 10,
   "id": "c9400341-a639-4e7c-86f5-6baf593f4f50",
   "metadata": {},
   "outputs": [],
   "source": [
    "using JLD2\n",
    "\n",
    "save(\"skrew_parameters.jld2\", \"fnames\", fnames, \"score\", score, \"omega\", omega, \"phi\", phi, \"prou\", prou, \"d\", d, \"df\", df, \"rmsd\", rmsd)\n",
    "save(\"df.jld2\", \"df\", df)"
   ]
  },
  {
   "cell_type": "code",
   "execution_count": null,
   "id": "a9bdb4a4-c673-4542-90bf-6fe48688cd53",
   "metadata": {},
   "outputs": [],
   "source": []
  }
 ],
 "metadata": {
  "kernelspec": {
   "display_name": "julia 1.10.1",
   "language": "julia",
   "name": "julia-1.10"
  },
  "language_info": {
   "file_extension": ".jl",
   "mimetype": "application/julia",
   "name": "julia",
   "version": "1.10.1"
  }
 },
 "nbformat": 4,
 "nbformat_minor": 5
}
