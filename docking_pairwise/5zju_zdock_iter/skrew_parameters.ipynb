{
 "cells": [
  {
   "cell_type": "markdown",
   "id": "62a9d42f-dcfb-4d04-b7ee-aeab2626fe19",
   "metadata": {},
   "source": [
    "# 5zju"
   ]
  },
  {
   "cell_type": "code",
   "execution_count": 13,
   "id": "c2b6edbc-2a9f-438b-9e0d-1fb076e39d0e",
   "metadata": {},
   "outputs": [],
   "source": [
    "using Printf, DelimitedFiles\n",
    "using Plots\n",
    "using DataFrames\n",
    "using Revise, MDToolbox"
   ]
  },
  {
   "cell_type": "code",
   "execution_count": 14,
   "id": "c9373fbf-44a1-4c9b-88e3-5bb66950ae03",
   "metadata": {},
   "outputs": [
    {
     "data": {
      "text/plain": [
       "read_ascii (generic function with 1 method)"
      ]
     },
     "execution_count": 14,
     "metadata": {},
     "output_type": "execute_result"
    }
   ],
   "source": [
    "function read_ascii(fname)\n",
    "    lines = readlines(fname)\n",
    "    natom = length(lines)\n",
    "    xyz = zeros(Float64, 1, natom*3)\n",
    "    for i = 1:natom\n",
    "        xyz[1, 3*(i-1)+1] = parse(Float64, lines[i][31:38])\n",
    "        xyz[1, 3*(i-1)+2] = parse(Float64, lines[i][39:46])\n",
    "        xyz[1, 3*(i-1)+3] = parse(Float64, lines[i][47:54])\n",
    "    end\n",
    "    TrjArray(xyz=xyz)\n",
    "end"
   ]
  },
  {
   "cell_type": "code",
   "execution_count": 15,
   "id": "fa858e0e-6890-4489-953b-936b481fa4aa",
   "metadata": {},
   "outputs": [
    {
     "data": {
      "text/plain": [
       "Any[]"
      ]
     },
     "execution_count": 15,
     "metadata": {},
     "output_type": "execute_result"
    }
   ],
   "source": [
    "fnames = []\n",
    "omega = []\n",
    "phi = []\n",
    "prou = []\n",
    "d = []\n",
    "score = []\n",
    "rmsd = []\n",
    "struc = []"
   ]
  },
  {
   "cell_type": "code",
   "execution_count": 16,
   "id": "32f8cbb0-c23b-4139-a37d-d0cb8a807005",
   "metadata": {},
   "outputs": [
    {
     "data": {
      "text/plain": [
       "1000"
      ]
     },
     "execution_count": 16,
     "metadata": {},
     "output_type": "execute_result"
    }
   ],
   "source": [
    "nrun = 1000"
   ]
  },
  {
   "cell_type": "code",
   "execution_count": 17,
   "id": "a9238faf-a6c3-43f9-8e58-bd5847247e2a",
   "metadata": {},
   "outputs": [],
   "source": [
    "for irun = 1:nrun\n",
    "\n",
    "    for i in 1:100\n",
    "        filename = \"$(irun)/complex.$(i).pdb\"\n",
    "        #t = mdload(filename)\n",
    "        #t = MDToolbox.readpdb_biostructures(filename)\n",
    "        t = read_ascii(filename)\n",
    "        t1 = t[:, 1:1546]\n",
    "        t2 = t[:, 1547:end]\n",
    "        r = MDToolbox.compute_skrew(t1, t2)\n",
    "        push!(fnames, filename)\n",
    "        push!(omega, r.omega)\n",
    "        push!(phi, r.phi / (2.0 * pi) * 360.0)\n",
    "        push!(prou, r.prou)\n",
    "        push!(d, r.d)\n",
    "        push!(struc, t)\n",
    "        #t_ca = t[\"atomname CA\"]\n",
    "        #push!(rmsd, compute_rmsd_permute(ref, t_ca, 2))\n",
    "    end\n",
    "\n",
    "    s = readdlm(\"$(irun)/zdock.out\", skipstart=5)\n",
    "    score = [score; s[1:100, end]]\n",
    "end"
   ]
  },
  {
   "cell_type": "code",
   "execution_count": 18,
   "id": "8d2ad93d-8d57-4b90-abfa-976cf23638b0",
   "metadata": {},
   "outputs": [
    {
     "data": {
      "text/html": [
       "<div class=\"data-frame\"><p>100,000 rows × 7 columns (omitted printing of 2 columns)</p><table class=\"data-frame\"><thead><tr><th></th><th>fnames</th><th>score</th><th>omega</th><th>phi</th><th>prou</th></tr><tr><th></th><th title=\"Any\">Any</th><th title=\"Any\">Any</th><th title=\"Any\">Any</th><th title=\"Any\">Any</th><th title=\"Any\">Any</th></tr></thead><tbody><tr><th>1</th><td>1/complex.1.pdb</td><td>1766.71</td><td>[0.0594089, 0.981705, 0.180904]</td><td>148.686</td><td>[34.6508, -26.0353, 129.906]</td></tr><tr><th>2</th><td>1/complex.2.pdb</td><td>1719.1</td><td>[-0.136829, -0.923018, 0.359605]</td><td>178.943</td><td>[41.6442, 40.1767, 118.969]</td></tr><tr><th>3</th><td>1/complex.3.pdb</td><td>1714.06</td><td>[0.99842, -0.0481714, 0.0289296]</td><td>160.285</td><td>[-4.37245, -15.8615, 124.491]</td></tr><tr><th>4</th><td>1/complex.4.pdb</td><td>1676.72</td><td>[-0.504207, -0.126196, 0.854312]</td><td>118.631</td><td>[61.8465, 10.3566, 38.0311]</td></tr><tr><th>5</th><td>1/complex.5.pdb</td><td>1667.03</td><td>[-0.041054, -0.282934, -0.95826]</td><td>159.818</td><td>[26.9256, -54.8819, 15.0507]</td></tr><tr><th>6</th><td>1/complex.6.pdb</td><td>1666.78</td><td>[-0.927668, -0.27046, -0.257457]</td><td>109.389</td><td>[-25.9344, -26.3268, 121.103]</td></tr><tr><th>7</th><td>1/complex.7.pdb</td><td>1657.03</td><td>[0.293684, 0.35972, -0.885636]</td><td>179.906</td><td>[68.4189, 26.5095, 33.4557]</td></tr><tr><th>8</th><td>1/complex.8.pdb</td><td>1656.61</td><td>[-0.147622, -0.105607, 0.98339]</td><td>176.671</td><td>[54.2034, 11.1395, 9.33306]</td></tr><tr><th>9</th><td>1/complex.9.pdb</td><td>1628.79</td><td>[0.848953, -0.0014553, 0.528466]</td><td>169.45</td><td>[-52.6141, -23.9098, 84.4559]</td></tr><tr><th>10</th><td>1/complex.10.pdb</td><td>1625.78</td><td>[-0.972561, 0.107944, -0.206092]</td><td>168.431</td><td>[-25.8801, -14.5112, 114.529]</td></tr><tr><th>11</th><td>1/complex.11.pdb</td><td>1624.17</td><td>[0.929256, 0.275591, 0.246034]</td><td>109.925</td><td>[-24.7848, -25.8019, 122.512]</td></tr><tr><th>12</th><td>1/complex.12.pdb</td><td>1619.43</td><td>[-0.0199657, -0.992827, -0.117881]</td><td>163.858</td><td>[35.286, -16.4464, 132.539]</td></tr><tr><th>13</th><td>1/complex.13.pdb</td><td>1613.73</td><td>[-0.996049, 0.0855033, -0.0239809]</td><td>172.699</td><td>[-4.42329, -16.6231, 124.453]</td></tr><tr><th>14</th><td>1/complex.14.pdb</td><td>1606.47</td><td>[-0.794436, -0.30003, -0.528066]</td><td>38.5159</td><td>[-35.3698, -40.7131, 76.343]</td></tr><tr><th>15</th><td>1/complex.15.pdb</td><td>1604.8</td><td>[0.97661, -0.0355802, 0.212056]</td><td>162.14</td><td>[-26.1033, -18.2438, 117.156]</td></tr><tr><th>16</th><td>1/complex.16.pdb</td><td>1572.95</td><td>[0.397657, 0.911683, 0.103455]</td><td>77.8883</td><td>[21.3075, -22.2335, 114.028]</td></tr><tr><th>17</th><td>1/complex.17.pdb</td><td>1571.75</td><td>[0.854507, 0.43817, 0.27897]</td><td>52.4834</td><td>[-13.15, -41.1513, 104.915]</td></tr><tr><th>18</th><td>1/complex.18.pdb</td><td>1568.98</td><td>[0.0674146, 0.996013, 0.0584258]</td><td>142.199</td><td>[35.8622, -10.1218, 131.172]</td></tr><tr><th>19</th><td>1/complex.19.pdb</td><td>1565.27</td><td>[0.525216, 0.0699989, -0.848085]</td><td>116.198</td><td>[62.5973, 4.87784, 39.1689]</td></tr><tr><th>20</th><td>1/complex.20.pdb</td><td>1560.02</td><td>[-0.445814, -0.267321, -0.854277]</td><td>165.115</td><td>[-22.6252, -48.9444, 27.1229]</td></tr><tr><th>21</th><td>1/complex.21.pdb</td><td>1559.33</td><td>[-0.587134, -0.0140791, 0.809367]</td><td>179.633</td><td>[63.9106, -18.5934, 46.0389]</td></tr><tr><th>22</th><td>1/complex.22.pdb</td><td>1559.19</td><td>[0.334775, -0.270357, 0.902681]</td><td>163.148</td><td>[-12.6051, 15.9937, 9.46501]</td></tr><tr><th>23</th><td>1/complex.23.pdb</td><td>1556.37</td><td>[0.297103, -0.938987, 0.173301]</td><td>71.423</td><td>[4.33786, 20.0, 100.928]</td></tr><tr><th>24</th><td>1/complex.24.pdb</td><td>1549.84</td><td>[-0.752371, -0.238601, -0.614009]</td><td>23.9085</td><td>[-36.7502, -31.1703, 57.1441]</td></tr><tr><th>25</th><td>1/complex.25.pdb</td><td>1549.05</td><td>[0.689985, 0.684088, -0.236527]</td><td>67.5279</td><td>[41.1996, -4.65219, 106.73]</td></tr><tr><th>26</th><td>1/complex.26.pdb</td><td>1543.1</td><td>[0.795063, 0.598318, 0.0994482]</td><td>71.1131</td><td>[5.85971, -28.1523, 122.528]</td></tr><tr><th>27</th><td>1/complex.27.pdb</td><td>1543.04</td><td>[-0.015103, -0.991741, -0.127362]</td><td>144.98</td><td>[35.1843, -17.3322, 130.79]</td></tr><tr><th>28</th><td>1/complex.28.pdb</td><td>1538.0</td><td>[-0.551463, -0.815655, -0.174914]</td><td>54.2772</td><td>[13.8101, -32.4933, 107.982]</td></tr><tr><th>29</th><td>1/complex.29.pdb</td><td>1533.46</td><td>[-0.310377, 0.131556, -0.941467]</td><td>173.528</td><td>[-7.85805, -3.02614, 2.16773]</td></tr><tr><th>30</th><td>1/complex.30.pdb</td><td>1527.16</td><td>[0.662773, 0.709185, -0.240393]</td><td>117.332</td><td>[38.5472, 1.37033, 110.319]</td></tr><tr><th>&vellip;</th><td>&vellip;</td><td>&vellip;</td><td>&vellip;</td><td>&vellip;</td><td>&vellip;</td></tr></tbody></table></div>"
      ],
      "text/latex": [
       "\\begin{tabular}{r|cccccc}\n",
       "\t& fnames & score & omega & phi & prou & \\\\\n",
       "\t\\hline\n",
       "\t& Any & Any & Any & Any & Any & \\\\\n",
       "\t\\hline\n",
       "\t1 & 1/complex.1.pdb & 1766.71 & [0.0594089, 0.981705, 0.180904] & 148.686 & [34.6508, -26.0353, 129.906] & $\\dots$ \\\\\n",
       "\t2 & 1/complex.2.pdb & 1719.1 & [-0.136829, -0.923018, 0.359605] & 178.943 & [41.6442, 40.1767, 118.969] & $\\dots$ \\\\\n",
       "\t3 & 1/complex.3.pdb & 1714.06 & [0.99842, -0.0481714, 0.0289296] & 160.285 & [-4.37245, -15.8615, 124.491] & $\\dots$ \\\\\n",
       "\t4 & 1/complex.4.pdb & 1676.72 & [-0.504207, -0.126196, 0.854312] & 118.631 & [61.8465, 10.3566, 38.0311] & $\\dots$ \\\\\n",
       "\t5 & 1/complex.5.pdb & 1667.03 & [-0.041054, -0.282934, -0.95826] & 159.818 & [26.9256, -54.8819, 15.0507] & $\\dots$ \\\\\n",
       "\t6 & 1/complex.6.pdb & 1666.78 & [-0.927668, -0.27046, -0.257457] & 109.389 & [-25.9344, -26.3268, 121.103] & $\\dots$ \\\\\n",
       "\t7 & 1/complex.7.pdb & 1657.03 & [0.293684, 0.35972, -0.885636] & 179.906 & [68.4189, 26.5095, 33.4557] & $\\dots$ \\\\\n",
       "\t8 & 1/complex.8.pdb & 1656.61 & [-0.147622, -0.105607, 0.98339] & 176.671 & [54.2034, 11.1395, 9.33306] & $\\dots$ \\\\\n",
       "\t9 & 1/complex.9.pdb & 1628.79 & [0.848953, -0.0014553, 0.528466] & 169.45 & [-52.6141, -23.9098, 84.4559] & $\\dots$ \\\\\n",
       "\t10 & 1/complex.10.pdb & 1625.78 & [-0.972561, 0.107944, -0.206092] & 168.431 & [-25.8801, -14.5112, 114.529] & $\\dots$ \\\\\n",
       "\t11 & 1/complex.11.pdb & 1624.17 & [0.929256, 0.275591, 0.246034] & 109.925 & [-24.7848, -25.8019, 122.512] & $\\dots$ \\\\\n",
       "\t12 & 1/complex.12.pdb & 1619.43 & [-0.0199657, -0.992827, -0.117881] & 163.858 & [35.286, -16.4464, 132.539] & $\\dots$ \\\\\n",
       "\t13 & 1/complex.13.pdb & 1613.73 & [-0.996049, 0.0855033, -0.0239809] & 172.699 & [-4.42329, -16.6231, 124.453] & $\\dots$ \\\\\n",
       "\t14 & 1/complex.14.pdb & 1606.47 & [-0.794436, -0.30003, -0.528066] & 38.5159 & [-35.3698, -40.7131, 76.343] & $\\dots$ \\\\\n",
       "\t15 & 1/complex.15.pdb & 1604.8 & [0.97661, -0.0355802, 0.212056] & 162.14 & [-26.1033, -18.2438, 117.156] & $\\dots$ \\\\\n",
       "\t16 & 1/complex.16.pdb & 1572.95 & [0.397657, 0.911683, 0.103455] & 77.8883 & [21.3075, -22.2335, 114.028] & $\\dots$ \\\\\n",
       "\t17 & 1/complex.17.pdb & 1571.75 & [0.854507, 0.43817, 0.27897] & 52.4834 & [-13.15, -41.1513, 104.915] & $\\dots$ \\\\\n",
       "\t18 & 1/complex.18.pdb & 1568.98 & [0.0674146, 0.996013, 0.0584258] & 142.199 & [35.8622, -10.1218, 131.172] & $\\dots$ \\\\\n",
       "\t19 & 1/complex.19.pdb & 1565.27 & [0.525216, 0.0699989, -0.848085] & 116.198 & [62.5973, 4.87784, 39.1689] & $\\dots$ \\\\\n",
       "\t20 & 1/complex.20.pdb & 1560.02 & [-0.445814, -0.267321, -0.854277] & 165.115 & [-22.6252, -48.9444, 27.1229] & $\\dots$ \\\\\n",
       "\t21 & 1/complex.21.pdb & 1559.33 & [-0.587134, -0.0140791, 0.809367] & 179.633 & [63.9106, -18.5934, 46.0389] & $\\dots$ \\\\\n",
       "\t22 & 1/complex.22.pdb & 1559.19 & [0.334775, -0.270357, 0.902681] & 163.148 & [-12.6051, 15.9937, 9.46501] & $\\dots$ \\\\\n",
       "\t23 & 1/complex.23.pdb & 1556.37 & [0.297103, -0.938987, 0.173301] & 71.423 & [4.33786, 20.0, 100.928] & $\\dots$ \\\\\n",
       "\t24 & 1/complex.24.pdb & 1549.84 & [-0.752371, -0.238601, -0.614009] & 23.9085 & [-36.7502, -31.1703, 57.1441] & $\\dots$ \\\\\n",
       "\t25 & 1/complex.25.pdb & 1549.05 & [0.689985, 0.684088, -0.236527] & 67.5279 & [41.1996, -4.65219, 106.73] & $\\dots$ \\\\\n",
       "\t26 & 1/complex.26.pdb & 1543.1 & [0.795063, 0.598318, 0.0994482] & 71.1131 & [5.85971, -28.1523, 122.528] & $\\dots$ \\\\\n",
       "\t27 & 1/complex.27.pdb & 1543.04 & [-0.015103, -0.991741, -0.127362] & 144.98 & [35.1843, -17.3322, 130.79] & $\\dots$ \\\\\n",
       "\t28 & 1/complex.28.pdb & 1538.0 & [-0.551463, -0.815655, -0.174914] & 54.2772 & [13.8101, -32.4933, 107.982] & $\\dots$ \\\\\n",
       "\t29 & 1/complex.29.pdb & 1533.46 & [-0.310377, 0.131556, -0.941467] & 173.528 & [-7.85805, -3.02614, 2.16773] & $\\dots$ \\\\\n",
       "\t30 & 1/complex.30.pdb & 1527.16 & [0.662773, 0.709185, -0.240393] & 117.332 & [38.5472, 1.37033, 110.319] & $\\dots$ \\\\\n",
       "\t$\\dots$ & $\\dots$ & $\\dots$ & $\\dots$ & $\\dots$ & $\\dots$ &  \\\\\n",
       "\\end{tabular}\n"
      ],
      "text/plain": [
       "\u001b[1m100000×7 DataFrame\u001b[0m\n",
       "\u001b[1m    Row \u001b[0m│\u001b[1m fnames               \u001b[0m\u001b[1m score   \u001b[0m\u001b[1m omega                             \u001b[0m\u001b[1m ph\u001b[0m ⋯\n",
       "\u001b[1m        \u001b[0m│\u001b[90m Any                  \u001b[0m\u001b[90m Any     \u001b[0m\u001b[90m Any                               \u001b[0m\u001b[90m An\u001b[0m ⋯\n",
       "────────┼───────────────────────────────────────────────────────────────────────\n",
       "      1 │ 1/complex.1.pdb       1766.71  [0.0594089, 0.981705, 0.180904]    14 ⋯\n",
       "      2 │ 1/complex.2.pdb       1719.1   [-0.136829, -0.923018, 0.359605]   17\n",
       "      3 │ 1/complex.3.pdb       1714.06  [0.99842, -0.0481714, 0.0289296]   16\n",
       "      4 │ 1/complex.4.pdb       1676.72  [-0.504207, -0.126196, 0.854312]   11\n",
       "      5 │ 1/complex.5.pdb       1667.03  [-0.041054, -0.282934, -0.95826]   15 ⋯\n",
       "      6 │ 1/complex.6.pdb       1666.78  [-0.927668, -0.27046, -0.257457]   10\n",
       "      7 │ 1/complex.7.pdb       1657.03  [0.293684, 0.35972, -0.885636]     17\n",
       "      8 │ 1/complex.8.pdb       1656.61  [-0.147622, -0.105607, 0.98339]    17\n",
       "      9 │ 1/complex.9.pdb       1628.79  [0.848953, -0.0014553, 0.528466]   16 ⋯\n",
       "     10 │ 1/complex.10.pdb      1625.78  [-0.972561, 0.107944, -0.206092]   16\n",
       "     11 │ 1/complex.11.pdb      1624.17  [0.929256, 0.275591, 0.246034]     10\n",
       "   ⋮    │          ⋮               ⋮                     ⋮                     ⋱\n",
       "  99991 │ 1000/complex.91.pdb   1419.43  [0.126703, 0.92127, -0.367706]     17\n",
       "  99992 │ 1000/complex.92.pdb   1417.84  [0.265, 0.964123, -0.0155762]      77 ⋯\n",
       "  99993 │ 1000/complex.93.pdb   1417.54  [-0.903473, 0.33818, 0.263386]     14\n",
       "  99994 │ 1000/complex.94.pdb   1415.14  [0.417555, 0.268022, 0.868223]     11\n",
       "  99995 │ 1000/complex.95.pdb   1411.54  [-0.712732, -0.65869, 0.241125]    77\n",
       "  99996 │ 1000/complex.96.pdb   1411.37  [0.42941, 0.796133, 0.426355]      11 ⋯\n",
       "  99997 │ 1000/complex.97.pdb   1410.71  [-0.882589, -0.39573, 0.253841]    82\n",
       "  99998 │ 1000/complex.98.pdb   1410.36  [0.698915, 0.681418, -0.217227]    12\n",
       "  99999 │ 1000/complex.99.pdb   1409.98  [-0.213761, 0.123749, 0.969016]    17\n",
       " 100000 │ 1000/complex.100.pdb  1409.23  [-0.476981, 0.858329, -0.189104]   60 ⋯\n",
       "\u001b[36m                                                4 columns and 99979 rows omitted\u001b[0m"
      ]
     },
     "execution_count": 18,
     "metadata": {},
     "output_type": "execute_result"
    }
   ],
   "source": [
    "df = DataFrame(fnames=fnames, score=score, omega=omega, phi=phi, prou=prou, d=d, struc=struc)"
   ]
  },
  {
   "cell_type": "code",
   "execution_count": 19,
   "id": "0225efef-539c-4fc1-b11c-3bf14df6c8f4",
   "metadata": {},
   "outputs": [],
   "source": [
    "df_org = deepcopy(df);"
   ]
  },
  {
   "cell_type": "code",
   "execution_count": 20,
   "id": "cc488138-9e57-416a-bdf4-0dd7f7ca8614",
   "metadata": {},
   "outputs": [],
   "source": [
    "#using BSON: @save, @load\n",
    "#@save \"skrew_parameters.bson\" fnames score omega phi prou d df rmsd"
   ]
  },
  {
   "cell_type": "code",
   "execution_count": 21,
   "id": "88b16d7e-2d7a-4759-874c-3d3cbead8916",
   "metadata": {},
   "outputs": [],
   "source": [
    "#using BSON: @save, @load\n",
    "#@save \"df.bson\" df"
   ]
  },
  {
   "cell_type": "code",
   "execution_count": 22,
   "id": "c9400341-a639-4e7c-86f5-6baf593f4f50",
   "metadata": {},
   "outputs": [],
   "source": [
    "using JLD2\n",
    "\n",
    "save(\"skrew_parameters.jld2\", \"fnames\", fnames, \"score\", score, \"omega\", omega, \"phi\", phi, \"prou\", prou, \"d\", d, \"df\", df, \"rmsd\", rmsd)\n",
    "save(\"df.jld2\", \"df\", df)"
   ]
  },
  {
   "cell_type": "code",
   "execution_count": null,
   "id": "a9bdb4a4-c673-4542-90bf-6fe48688cd53",
   "metadata": {},
   "outputs": [],
   "source": []
  }
 ],
 "metadata": {
  "kernelspec": {
   "name": "julia-1.7"
  },
  "language_info": {
   "file_extension": ".jl",
   "mimetype": "application/julia",
   "name": "julia",
   "version": "1.7.2"
  }
 },
 "nbformat": 4,
 "nbformat_minor": 5
}
