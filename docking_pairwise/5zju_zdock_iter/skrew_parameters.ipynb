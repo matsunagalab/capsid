{
 "cells": [
  {
   "cell_type": "markdown",
   "id": "62a9d42f-dcfb-4d04-b7ee-aeab2626fe19",
   "metadata": {},
   "source": [
    "# 5zju"
   ]
  },
  {
   "cell_type": "code",
   "execution_count": 1,
   "id": "c2b6edbc-2a9f-438b-9e0d-1fb076e39d0e",
   "metadata": {},
   "outputs": [],
   "source": [
    "using Printf, DelimitedFiles\n",
    "using Plots\n",
    "using DataFrames\n",
    "using Revise, MDToolbox"
   ]
  },
  {
   "cell_type": "code",
   "execution_count": 2,
   "id": "c9373fbf-44a1-4c9b-88e3-5bb66950ae03",
   "metadata": {},
   "outputs": [
    {
     "data": {
      "text/plain": [
       "read_ascii (generic function with 1 method)"
      ]
     },
     "execution_count": 2,
     "metadata": {},
     "output_type": "execute_result"
    }
   ],
   "source": [
    "function read_ascii(fname)\n",
    "    lines = readlines(fname)\n",
    "    natom = length(lines)\n",
    "    xyz = zeros(Float64, 1, natom*3)\n",
    "    for i = 1:natom\n",
    "        xyz[1, 3*(i-1)+1] = parse(Float64, lines[i][31:38])\n",
    "        xyz[1, 3*(i-1)+2] = parse(Float64, lines[i][39:46])\n",
    "        xyz[1, 3*(i-1)+3] = parse(Float64, lines[i][47:54])\n",
    "    end\n",
    "    TrjArray(xyz=xyz)\n",
    "end"
   ]
  },
  {
   "cell_type": "code",
   "execution_count": 11,
   "id": "fa858e0e-6890-4489-953b-936b481fa4aa",
   "metadata": {},
   "outputs": [
    {
     "data": {
      "text/plain": [
       "Any[]"
      ]
     },
     "execution_count": 11,
     "metadata": {},
     "output_type": "execute_result"
    }
   ],
   "source": [
    "fnames = []\n",
    "omega = []\n",
    "phi = []\n",
    "prou = []\n",
    "d = []\n",
    "score = []\n",
    "rmsd = []\n",
    "struc = []"
   ]
  },
  {
   "cell_type": "code",
   "execution_count": 12,
   "id": "32f8cbb0-c23b-4139-a37d-d0cb8a807005",
   "metadata": {},
   "outputs": [
    {
     "data": {
      "text/plain": [
       "1000"
      ]
     },
     "execution_count": 12,
     "metadata": {},
     "output_type": "execute_result"
    }
   ],
   "source": [
    "nrun = 1000"
   ]
  },
  {
   "cell_type": "code",
   "execution_count": 13,
   "id": "a9238faf-a6c3-43f9-8e58-bd5847247e2a",
   "metadata": {},
   "outputs": [
    {
     "name": "stdout",
     "output_type": "stream",
     "text": [
      "irun = 100irun = 200irun = 300irun = 400irun = 500irun = 600irun = 700irun = 800irun = 900irun = 1000"
     ]
    }
   ],
   "source": [
    "for irun = 1:nrun\n",
    "\n",
    "    if irun % 100 == 0\n",
    "        print(\"irun = $irun\")\n",
    "    end\n",
    "    for i in 1:100\n",
    "        filename = \"$(irun)/complex.$(i).pdb\"\n",
    "        #t = mdload(filename)\n",
    "        #t = MDToolbox.readpdb_biostructures(filename)\n",
    "        t = read_ascii(filename)\n",
    "        t1 = t[:, 1:1546]\n",
    "        t2 = t[:, 1547:end]\n",
    "        r = MDToolbox.compute_skrew(t1, t2)\n",
    "        push!(fnames, filename)\n",
    "        push!(omega, r.omega)\n",
    "        push!(phi, r.phi / (2.0 * pi) * 360.0)\n",
    "        push!(prou, r.prou)\n",
    "        push!(d, r.d)\n",
    "        push!(struc, t)\n",
    "        #t_ca = t[\"atomname CA\"]\n",
    "        #push!(rmsd, compute_rmsd_permute(ref, t_ca, 2))\n",
    "    end\n",
    "\n",
    "    s = readdlm(\"$(irun)/zdock.out\", skipstart=5)\n",
    "    score = [score; s[1:100, end]]\n",
    "end"
   ]
  },
  {
   "cell_type": "code",
   "execution_count": 14,
   "id": "8d2ad93d-8d57-4b90-abfa-976cf23638b0",
   "metadata": {},
   "outputs": [
    {
     "data": {
      "text/html": [
       "<div><div style = \"float: left;\"><span>100000×7 DataFrame</span></div><div style = \"float: right;\"><span style = \"font-style: italic;\">99975 rows omitted</span></div><div style = \"clear: both;\"></div></div><div class = \"data-frame\" style = \"overflow-x: scroll;\"><table class = \"data-frame\" style = \"margin-bottom: 6px;\"><thead><tr class = \"header\"><th class = \"rowNumber\" style = \"font-weight: bold; text-align: right;\">Row</th><th style = \"text-align: left;\">fnames</th><th style = \"text-align: left;\">score</th><th style = \"text-align: left;\">omega</th><th style = \"text-align: left;\">phi</th><th style = \"text-align: left;\">prou</th><th style = \"text-align: left;\">d</th><th style = \"text-align: left;\">struc</th></tr><tr class = \"subheader headerLastRow\"><th class = \"rowNumber\" style = \"font-weight: bold; text-align: right;\"></th><th title = \"Any\" style = \"text-align: left;\">Any</th><th title = \"Any\" style = \"text-align: left;\">Any</th><th title = \"Any\" style = \"text-align: left;\">Any</th><th title = \"Any\" style = \"text-align: left;\">Any</th><th title = \"Any\" style = \"text-align: left;\">Any</th><th title = \"Any\" style = \"text-align: left;\">Any</th><th title = \"Any\" style = \"text-align: left;\">Any</th></tr></thead><tbody><tr><td class = \"rowNumber\" style = \"font-weight: bold; text-align: right;\">1</td><td style = \"text-align: left;\">1/complex.1.pdb</td><td style = \"text-align: left;\">1766.71</td><td style = \"text-align: left;\">[0.0594089, 0.981705, 0.180904]</td><td style = \"text-align: left;\">148.686</td><td style = \"text-align: left;\">[34.6508, -26.0353, 129.906]</td><td style = \"text-align: left;\">-3.99662</td><td style = \"text-align: left;\">1x3092 TrjArray{Float64, Int64}\\n|    34.00     4.16   126.81 |  …      42.43    12.08   127.22 |</td></tr><tr><td class = \"rowNumber\" style = \"font-weight: bold; text-align: right;\">2</td><td style = \"text-align: left;\">1/complex.2.pdb</td><td style = \"text-align: left;\">1719.1</td><td style = \"text-align: left;\">[-0.136829, -0.923018, 0.359605]</td><td style = \"text-align: left;\">178.943</td><td style = \"text-align: left;\">[41.6442, 40.1767, 118.969]</td><td style = \"text-align: left;\">0.866146</td><td style = \"text-align: left;\">1x3092 TrjArray{Float64, Int64}\\n|    34.00     4.16   126.81 |  …      35.52    -0.54   116.31 |</td></tr><tr><td class = \"rowNumber\" style = \"font-weight: bold; text-align: right;\">3</td><td style = \"text-align: left;\">1/complex.3.pdb</td><td style = \"text-align: left;\">1714.06</td><td style = \"text-align: left;\">[0.99842, -0.0481714, 0.0289296]</td><td style = \"text-align: left;\">160.285</td><td style = \"text-align: left;\">[-4.37245, -15.8615, 124.491]</td><td style = \"text-align: left;\">-27.0573</td><td style = \"text-align: left;\">1x3092 TrjArray{Float64, Int64}\\n|    34.00     4.16   126.81 |  …       8.06   -52.76   113.89 |</td></tr><tr><td class = \"rowNumber\" style = \"font-weight: bold; text-align: right;\">4</td><td style = \"text-align: left;\">1/complex.4.pdb</td><td style = \"text-align: left;\">1676.72</td><td style = \"text-align: left;\">[-0.504207, -0.126196, 0.854312]</td><td style = \"text-align: left;\">118.631</td><td style = \"text-align: left;\">[61.8465, 10.3566, 38.0311]</td><td style = \"text-align: left;\">-2.00556</td><td style = \"text-align: left;\">1x3092 TrjArray{Float64, Int64}\\n|    34.00     4.16   126.81 |  …     -18.51    20.10   114.07 |</td></tr><tr><td class = \"rowNumber\" style = \"font-weight: bold; text-align: right;\">5</td><td style = \"text-align: left;\">1/complex.5.pdb</td><td style = \"text-align: left;\">1667.03</td><td style = \"text-align: left;\">[-0.041054, -0.282934, -0.95826]</td><td style = \"text-align: left;\">159.818</td><td style = \"text-align: left;\">[26.9256, -54.8819, 15.0507]</td><td style = \"text-align: left;\">12.2761</td><td style = \"text-align: left;\">1x3092 TrjArray{Float64, Int64}\\n|    34.00     4.16   126.81 |  …      37.68   -42.51   151.70 |</td></tr><tr><td class = \"rowNumber\" style = \"font-weight: bold; text-align: right;\">6</td><td style = \"text-align: left;\">1/complex.6.pdb</td><td style = \"text-align: left;\">1666.78</td><td style = \"text-align: left;\">[-0.927668, -0.27046, -0.257457]</td><td style = \"text-align: left;\">109.389</td><td style = \"text-align: left;\">[-25.9344, -26.3268, 121.103]</td><td style = \"text-align: left;\">32.4591</td><td style = \"text-align: left;\">1x3092 TrjArray{Float64, Int64}\\n|    34.00     4.16   126.81 |  …      19.62   -12.17   111.95 |</td></tr><tr><td class = \"rowNumber\" style = \"font-weight: bold; text-align: right;\">7</td><td style = \"text-align: left;\">1/complex.7.pdb</td><td style = \"text-align: left;\">1657.03</td><td style = \"text-align: left;\">[0.293684, 0.35972, -0.885636]</td><td style = \"text-align: left;\">179.906</td><td style = \"text-align: left;\">[68.4189, 26.5095, 33.4557]</td><td style = \"text-align: left;\">-0.169676</td><td style = \"text-align: left;\">1x3092 TrjArray{Float64, Int64}\\n|    34.00     4.16   126.81 |  …      31.48   -42.95   123.96 |</td></tr><tr><td class = \"rowNumber\" style = \"font-weight: bold; text-align: right;\">8</td><td style = \"text-align: left;\">1/complex.8.pdb</td><td style = \"text-align: left;\">1656.61</td><td style = \"text-align: left;\">[-0.147622, -0.105607, 0.98339]</td><td style = \"text-align: left;\">176.671</td><td style = \"text-align: left;\">[54.2034, 11.1395, 9.33306]</td><td style = \"text-align: left;\">0.103954</td><td style = \"text-align: left;\">1x3092 TrjArray{Float64, Int64}\\n|    34.00     4.16   126.81 |  …      29.11   -19.41   143.70 |</td></tr><tr><td class = \"rowNumber\" style = \"font-weight: bold; text-align: right;\">9</td><td style = \"text-align: left;\">1/complex.9.pdb</td><td style = \"text-align: left;\">1628.79</td><td style = \"text-align: left;\">[0.848953, -0.0014553, 0.528466]</td><td style = \"text-align: left;\">169.45</td><td style = \"text-align: left;\">[-52.6141, -23.9098, 84.4559]</td><td style = \"text-align: left;\">-26.9138</td><td style = \"text-align: left;\">1x3092 TrjArray{Float64, Int64}\\n|    34.00     4.16   126.81 |  …      17.79   -61.28   128.50 |</td></tr><tr><td class = \"rowNumber\" style = \"font-weight: bold; text-align: right;\">10</td><td style = \"text-align: left;\">1/complex.10.pdb</td><td style = \"text-align: left;\">1625.78</td><td style = \"text-align: left;\">[-0.972561, 0.107944, -0.206092]</td><td style = \"text-align: left;\">168.431</td><td style = \"text-align: left;\">[-25.8801, -14.5112, 114.529]</td><td style = \"text-align: left;\">-25.5048</td><td style = \"text-align: left;\">1x3092 TrjArray{Float64, Int64}\\n|    34.00     4.16   126.81 |  …      64.95   -53.84   106.81 |</td></tr><tr><td class = \"rowNumber\" style = \"font-weight: bold; text-align: right;\">11</td><td style = \"text-align: left;\">1/complex.11.pdb</td><td style = \"text-align: left;\">1624.17</td><td style = \"text-align: left;\">[0.929256, 0.275591, 0.246034]</td><td style = \"text-align: left;\">109.925</td><td style = \"text-align: left;\">[-24.7848, -25.8019, 122.512]</td><td style = \"text-align: left;\">33.6956</td><td style = \"text-align: left;\">1x3092 TrjArray{Float64, Int64}\\n|    34.00     4.16   126.81 |  …      76.13   -10.15   164.09 |</td></tr><tr><td class = \"rowNumber\" style = \"font-weight: bold; text-align: right;\">12</td><td style = \"text-align: left;\">1/complex.12.pdb</td><td style = \"text-align: left;\">1619.43</td><td style = \"text-align: left;\">[-0.0199657, -0.992827, -0.117881]</td><td style = \"text-align: left;\">163.858</td><td style = \"text-align: left;\">[35.286, -16.4464, 132.539]</td><td style = \"text-align: left;\">-3.17849</td><td style = \"text-align: left;\">1x3092 TrjArray{Float64, Int64}\\n|    34.00     4.16   126.81 |  …      31.21    18.63   125.31 |</td></tr><tr><td class = \"rowNumber\" style = \"font-weight: bold; text-align: right;\">13</td><td style = \"text-align: left;\">1/complex.13.pdb</td><td style = \"text-align: left;\">1613.73</td><td style = \"text-align: left;\">[-0.996049, 0.0855033, -0.0239809]</td><td style = \"text-align: left;\">172.699</td><td style = \"text-align: left;\">[-4.42329, -16.6231, 124.453]</td><td style = \"text-align: left;\">-26.1138</td><td style = \"text-align: left;\">1x3092 TrjArray{Float64, Int64}\\n|    34.00     4.16   126.81 |  …      59.20   -51.69    99.21 |</td></tr><tr><td style = \"text-align: right;\">&vellip;</td><td style = \"text-align: right;\">&vellip;</td><td style = \"text-align: right;\">&vellip;</td><td style = \"text-align: right;\">&vellip;</td><td style = \"text-align: right;\">&vellip;</td><td style = \"text-align: right;\">&vellip;</td><td style = \"text-align: right;\">&vellip;</td><td style = \"text-align: right;\">&vellip;</td></tr><tr><td class = \"rowNumber\" style = \"font-weight: bold; text-align: right;\">99989</td><td style = \"text-align: left;\">1000/complex.89.pdb</td><td style = \"text-align: left;\">1424.32</td><td style = \"text-align: left;\">[-0.621474, -0.399067, -0.674178]</td><td style = \"text-align: left;\">157.947</td><td style = \"text-align: left;\">[-26.8467, -66.3755, 64.0378]</td><td style = \"text-align: left;\">9.21969</td><td style = \"text-align: left;\">1x3092 TrjArray{Float64, Int64}\\n|    34.00     4.16   126.81 |  …      68.80   -41.27   137.44 |</td></tr><tr><td class = \"rowNumber\" style = \"font-weight: bold; text-align: right;\">99990</td><td style = \"text-align: left;\">1000/complex.90.pdb</td><td style = \"text-align: left;\">1420.44</td><td style = \"text-align: left;\">[0.0618703, -0.125633, 0.990146]</td><td style = \"text-align: left;\">178.009</td><td style = \"text-align: left;\">[25.7154, -4.06499, -2.12264]</td><td style = \"text-align: left;\">-5.83399</td><td style = \"text-align: left;\">1x3092 TrjArray{Float64, Int64}\\n|    34.00     4.16   126.81 |  …      30.78   -56.95   133.95 |</td></tr><tr><td class = \"rowNumber\" style = \"font-weight: bold; text-align: right;\">99991</td><td style = \"text-align: left;\">1000/complex.91.pdb</td><td style = \"text-align: left;\">1419.43</td><td style = \"text-align: left;\">[0.126703, 0.92127, -0.367706]</td><td style = \"text-align: left;\">170.097</td><td style = \"text-align: left;\">[16.2453, 38.3018, 101.561]</td><td style = \"text-align: left;\">1.24359</td><td style = \"text-align: left;\">1x3092 TrjArray{Float64, Int64}\\n|    34.00     4.16   126.81 |  …      -8.19    -7.42    79.08 |</td></tr><tr><td class = \"rowNumber\" style = \"font-weight: bold; text-align: right;\">99992</td><td style = \"text-align: left;\">1000/complex.92.pdb</td><td style = \"text-align: left;\">1417.84</td><td style = \"text-align: left;\">[0.265, 0.964123, -0.0155762]</td><td style = \"text-align: left;\">77.1029</td><td style = \"text-align: left;\">[27.874, -5.88713, 109.827]</td><td style = \"text-align: left;\">4.83799</td><td style = \"text-align: left;\">1x3092 TrjArray{Float64, Int64}\\n|    34.00     4.16   126.81 |  …      71.72     7.59   113.99 |</td></tr><tr><td class = \"rowNumber\" style = \"font-weight: bold; text-align: right;\">99993</td><td style = \"text-align: left;\">1000/complex.93.pdb</td><td style = \"text-align: left;\">1417.54</td><td style = \"text-align: left;\">[-0.903473, 0.33818, 0.263386]</td><td style = \"text-align: left;\">149.687</td><td style = \"text-align: left;\">[26.5892, -21.591, 118.929]</td><td style = \"text-align: left;\">-16.7872</td><td style = \"text-align: left;\">1x3092 TrjArray{Float64, Int64}\\n|    34.00     4.16   126.81 |  …      16.82   -35.92    76.48 |</td></tr><tr><td class = \"rowNumber\" style = \"font-weight: bold; text-align: right;\">99994</td><td style = \"text-align: left;\">1000/complex.94.pdb</td><td style = \"text-align: left;\">1415.14</td><td style = \"text-align: left;\">[0.417555, 0.268022, 0.868223]</td><td style = \"text-align: left;\">115.183</td><td style = \"text-align: left;\">[-31.0811, -55.3831, 32.0447]</td><td style = \"text-align: left;\">-20.6456</td><td style = \"text-align: left;\">1x3092 TrjArray{Float64, Int64}\\n|    34.00     4.16   126.81 |  …      -6.12   -23.59   156.53 |</td></tr><tr><td class = \"rowNumber\" style = \"font-weight: bold; text-align: right;\">99995</td><td style = \"text-align: left;\">1000/complex.95.pdb</td><td style = \"text-align: left;\">1411.54</td><td style = \"text-align: left;\">[-0.712732, -0.65869, 0.241125]</td><td style = \"text-align: left;\">77.7888</td><td style = \"text-align: left;\">[44.8742, -9.16574, 107.603]</td><td style = \"text-align: left;\">16.9451</td><td style = \"text-align: left;\">1x3092 TrjArray{Float64, Int64}\\n|    34.00     4.16   126.81 |  …      -0.59    10.37   100.44 |</td></tr><tr><td class = \"rowNumber\" style = \"font-weight: bold; text-align: right;\">99996</td><td style = \"text-align: left;\">1000/complex.96.pdb</td><td style = \"text-align: left;\">1411.37</td><td style = \"text-align: left;\">[0.42941, 0.796133, 0.426355]</td><td style = \"text-align: left;\">119.167</td><td style = \"text-align: left;\">[7.44973, -62.1669, 108.581]</td><td style = \"text-align: left;\">31.9076</td><td style = \"text-align: left;\">1x3092 TrjArray{Float64, Int64}\\n|    34.00     4.16   126.81 |  …      63.35    28.73   166.71 |</td></tr><tr><td class = \"rowNumber\" style = \"font-weight: bold; text-align: right;\">99997</td><td style = \"text-align: left;\">1000/complex.97.pdb</td><td style = \"text-align: left;\">1410.71</td><td style = \"text-align: left;\">[-0.882589, -0.39573, 0.253841]</td><td style = \"text-align: left;\">82.0031</td><td style = \"text-align: left;\">[42.8133, -21.9622, 114.621]</td><td style = \"text-align: left;\">21.8931</td><td style = \"text-align: left;\">1x3092 TrjArray{Float64, Int64}\\n|    34.00     4.16   126.81 |  …       1.07     2.29    92.45 |</td></tr><tr><td class = \"rowNumber\" style = \"font-weight: bold; text-align: right;\">99998</td><td style = \"text-align: left;\">1000/complex.98.pdb</td><td style = \"text-align: left;\">1410.36</td><td style = \"text-align: left;\">[0.698915, 0.681418, -0.217227]</td><td style = \"text-align: left;\">127.556</td><td style = \"text-align: left;\">[37.1742, -2.07109, 113.109]</td><td style = \"text-align: left;\">10.9701</td><td style = \"text-align: left;\">1x3092 TrjArray{Float64, Int64}\\n|    34.00     4.16   126.81 |  …      69.02   -20.34    96.49 |</td></tr><tr><td class = \"rowNumber\" style = \"font-weight: bold; text-align: right;\">99999</td><td style = \"text-align: left;\">1000/complex.99.pdb</td><td style = \"text-align: left;\">1409.98</td><td style = \"text-align: left;\">[-0.213761, 0.123749, 0.969016]</td><td style = \"text-align: left;\">172.917</td><td style = \"text-align: left;\">[60.854, -21.5275, 16.1734]</td><td style = \"text-align: left;\">3.13916</td><td style = \"text-align: left;\">1x3092 TrjArray{Float64, Int64}\\n|    34.00     4.16   126.81 |  …      23.03   -20.48   152.57 |</td></tr><tr><td class = \"rowNumber\" style = \"font-weight: bold; text-align: right;\">100000</td><td style = \"text-align: left;\">1000/complex.100.pdb</td><td style = \"text-align: left;\">1409.23</td><td style = \"text-align: left;\">[-0.476981, 0.858329, -0.189104]</td><td style = \"text-align: left;\">60.0631</td><td style = \"text-align: left;\">[-7.53894, 17.3446, 97.7415]</td><td style = \"text-align: left;\">-15.403</td><td style = \"text-align: left;\">1x3092 TrjArray{Float64, Int64}\\n|    34.00     4.16   126.81 |  …      67.36     0.21    97.79 |</td></tr></tbody></table></div>"
      ],
      "text/latex": [
       "\\begin{tabular}{r|cccccc}\n",
       "\t& fnames & score & omega & phi & prou & \\\\\n",
       "\t\\hline\n",
       "\t& Any & Any & Any & Any & Any & \\\\\n",
       "\t\\hline\n",
       "\t1 & 1/complex.1.pdb & 1766.71 & [0.0594089, 0.981705, 0.180904] & 148.686 & [34.6508, -26.0353, 129.906] & $\\dots$ \\\\\n",
       "\t2 & 1/complex.2.pdb & 1719.1 & [-0.136829, -0.923018, 0.359605] & 178.943 & [41.6442, 40.1767, 118.969] & $\\dots$ \\\\\n",
       "\t3 & 1/complex.3.pdb & 1714.06 & [0.99842, -0.0481714, 0.0289296] & 160.285 & [-4.37245, -15.8615, 124.491] & $\\dots$ \\\\\n",
       "\t4 & 1/complex.4.pdb & 1676.72 & [-0.504207, -0.126196, 0.854312] & 118.631 & [61.8465, 10.3566, 38.0311] & $\\dots$ \\\\\n",
       "\t5 & 1/complex.5.pdb & 1667.03 & [-0.041054, -0.282934, -0.95826] & 159.818 & [26.9256, -54.8819, 15.0507] & $\\dots$ \\\\\n",
       "\t6 & 1/complex.6.pdb & 1666.78 & [-0.927668, -0.27046, -0.257457] & 109.389 & [-25.9344, -26.3268, 121.103] & $\\dots$ \\\\\n",
       "\t7 & 1/complex.7.pdb & 1657.03 & [0.293684, 0.35972, -0.885636] & 179.906 & [68.4189, 26.5095, 33.4557] & $\\dots$ \\\\\n",
       "\t8 & 1/complex.8.pdb & 1656.61 & [-0.147622, -0.105607, 0.98339] & 176.671 & [54.2034, 11.1395, 9.33306] & $\\dots$ \\\\\n",
       "\t9 & 1/complex.9.pdb & 1628.79 & [0.848953, -0.0014553, 0.528466] & 169.45 & [-52.6141, -23.9098, 84.4559] & $\\dots$ \\\\\n",
       "\t10 & 1/complex.10.pdb & 1625.78 & [-0.972561, 0.107944, -0.206092] & 168.431 & [-25.8801, -14.5112, 114.529] & $\\dots$ \\\\\n",
       "\t11 & 1/complex.11.pdb & 1624.17 & [0.929256, 0.275591, 0.246034] & 109.925 & [-24.7848, -25.8019, 122.512] & $\\dots$ \\\\\n",
       "\t12 & 1/complex.12.pdb & 1619.43 & [-0.0199657, -0.992827, -0.117881] & 163.858 & [35.286, -16.4464, 132.539] & $\\dots$ \\\\\n",
       "\t13 & 1/complex.13.pdb & 1613.73 & [-0.996049, 0.0855033, -0.0239809] & 172.699 & [-4.42329, -16.6231, 124.453] & $\\dots$ \\\\\n",
       "\t14 & 1/complex.14.pdb & 1606.47 & [-0.794436, -0.30003, -0.528066] & 38.5159 & [-35.3698, -40.7131, 76.343] & $\\dots$ \\\\\n",
       "\t15 & 1/complex.15.pdb & 1604.8 & [0.97661, -0.0355802, 0.212056] & 162.14 & [-26.1033, -18.2438, 117.156] & $\\dots$ \\\\\n",
       "\t16 & 1/complex.16.pdb & 1572.95 & [0.397657, 0.911683, 0.103455] & 77.8883 & [21.3075, -22.2335, 114.028] & $\\dots$ \\\\\n",
       "\t17 & 1/complex.17.pdb & 1571.75 & [0.854507, 0.43817, 0.27897] & 52.4834 & [-13.15, -41.1513, 104.915] & $\\dots$ \\\\\n",
       "\t18 & 1/complex.18.pdb & 1568.98 & [0.0674146, 0.996013, 0.0584258] & 142.199 & [35.8622, -10.1218, 131.172] & $\\dots$ \\\\\n",
       "\t19 & 1/complex.19.pdb & 1565.27 & [0.525216, 0.0699989, -0.848085] & 116.198 & [62.5973, 4.87784, 39.1689] & $\\dots$ \\\\\n",
       "\t20 & 1/complex.20.pdb & 1560.02 & [-0.445814, -0.267321, -0.854277] & 165.115 & [-22.6252, -48.9444, 27.1229] & $\\dots$ \\\\\n",
       "\t21 & 1/complex.21.pdb & 1559.33 & [-0.587134, -0.0140791, 0.809367] & 179.633 & [63.9106, -18.5934, 46.0389] & $\\dots$ \\\\\n",
       "\t22 & 1/complex.22.pdb & 1559.19 & [0.334775, -0.270357, 0.902681] & 163.148 & [-12.6051, 15.9937, 9.46501] & $\\dots$ \\\\\n",
       "\t23 & 1/complex.23.pdb & 1556.37 & [0.297103, -0.938987, 0.173301] & 71.423 & [4.33786, 20.0, 100.928] & $\\dots$ \\\\\n",
       "\t24 & 1/complex.24.pdb & 1549.84 & [-0.752371, -0.238601, -0.614009] & 23.9085 & [-36.7502, -31.1703, 57.1441] & $\\dots$ \\\\\n",
       "\t25 & 1/complex.25.pdb & 1549.05 & [0.689985, 0.684088, -0.236527] & 67.5279 & [41.1996, -4.65219, 106.73] & $\\dots$ \\\\\n",
       "\t26 & 1/complex.26.pdb & 1543.1 & [0.795063, 0.598318, 0.0994482] & 71.1131 & [5.85971, -28.1523, 122.528] & $\\dots$ \\\\\n",
       "\t27 & 1/complex.27.pdb & 1543.04 & [-0.015103, -0.991741, -0.127362] & 144.98 & [35.1843, -17.3322, 130.79] & $\\dots$ \\\\\n",
       "\t28 & 1/complex.28.pdb & 1538.0 & [-0.551463, -0.815655, -0.174914] & 54.2772 & [13.8101, -32.4933, 107.982] & $\\dots$ \\\\\n",
       "\t29 & 1/complex.29.pdb & 1533.46 & [-0.310377, 0.131556, -0.941467] & 173.528 & [-7.85805, -3.02614, 2.16773] & $\\dots$ \\\\\n",
       "\t30 & 1/complex.30.pdb & 1527.16 & [0.662773, 0.709185, -0.240393] & 117.332 & [38.5472, 1.37033, 110.319] & $\\dots$ \\\\\n",
       "\t$\\dots$ & $\\dots$ & $\\dots$ & $\\dots$ & $\\dots$ & $\\dots$ &  \\\\\n",
       "\\end{tabular}\n"
      ],
      "text/plain": [
       "\u001b[1m100000×7 DataFrame\u001b[0m\n",
       "\u001b[1m    Row \u001b[0m│\u001b[1m fnames               \u001b[0m\u001b[1m score   \u001b[0m\u001b[1m omega                             \u001b[0m\u001b[1m ph\u001b[0m ⋯\n",
       "        │\u001b[90m Any                  \u001b[0m\u001b[90m Any     \u001b[0m\u001b[90m Any                               \u001b[0m\u001b[90m An\u001b[0m ⋯\n",
       "────────┼───────────────────────────────────────────────────────────────────────\n",
       "      1 │ 1/complex.1.pdb       1766.71  [0.0594089, 0.981705, 0.180904]    14 ⋯\n",
       "      2 │ 1/complex.2.pdb       1719.1   [-0.136829, -0.923018, 0.359605]   17\n",
       "      3 │ 1/complex.3.pdb       1714.06  [0.99842, -0.0481714, 0.0289296]   16\n",
       "      4 │ 1/complex.4.pdb       1676.72  [-0.504207, -0.126196, 0.854312]   11\n",
       "      5 │ 1/complex.5.pdb       1667.03  [-0.041054, -0.282934, -0.95826]   15 ⋯\n",
       "      6 │ 1/complex.6.pdb       1666.78  [-0.927668, -0.27046, -0.257457]   10\n",
       "      7 │ 1/complex.7.pdb       1657.03  [0.293684, 0.35972, -0.885636]     17\n",
       "      8 │ 1/complex.8.pdb       1656.61  [-0.147622, -0.105607, 0.98339]    17\n",
       "      9 │ 1/complex.9.pdb       1628.79  [0.848953, -0.0014553, 0.528466]   16 ⋯\n",
       "     10 │ 1/complex.10.pdb      1625.78  [-0.972561, 0.107944, -0.206092]   16\n",
       "     11 │ 1/complex.11.pdb      1624.17  [0.929256, 0.275591, 0.246034]     10\n",
       "   ⋮    │          ⋮               ⋮                     ⋮                     ⋱\n",
       "  99991 │ 1000/complex.91.pdb   1419.43  [0.126703, 0.92127, -0.367706]     17\n",
       "  99992 │ 1000/complex.92.pdb   1417.84  [0.265, 0.964123, -0.0155762]      77 ⋯\n",
       "  99993 │ 1000/complex.93.pdb   1417.54  [-0.903473, 0.33818, 0.263386]     14\n",
       "  99994 │ 1000/complex.94.pdb   1415.14  [0.417555, 0.268022, 0.868223]     11\n",
       "  99995 │ 1000/complex.95.pdb   1411.54  [-0.712732, -0.65869, 0.241125]    77\n",
       "  99996 │ 1000/complex.96.pdb   1411.37  [0.42941, 0.796133, 0.426355]      11 ⋯\n",
       "  99997 │ 1000/complex.97.pdb   1410.71  [-0.882589, -0.39573, 0.253841]    82\n",
       "  99998 │ 1000/complex.98.pdb   1410.36  [0.698915, 0.681418, -0.217227]    12\n",
       "  99999 │ 1000/complex.99.pdb   1409.98  [-0.213761, 0.123749, 0.969016]    17\n",
       " 100000 │ 1000/complex.100.pdb  1409.23  [-0.476981, 0.858329, -0.189104]   60 ⋯\n",
       "\u001b[36m                                                4 columns and 99979 rows omitted\u001b[0m"
      ]
     },
     "execution_count": 14,
     "metadata": {},
     "output_type": "execute_result"
    }
   ],
   "source": [
    "df = DataFrame(fnames=fnames, score=score, omega=omega, phi=phi, prou=prou, d=d, struc=struc)"
   ]
  },
  {
   "cell_type": "code",
   "execution_count": 15,
   "id": "0225efef-539c-4fc1-b11c-3bf14df6c8f4",
   "metadata": {},
   "outputs": [],
   "source": [
    "df_org = deepcopy(df);"
   ]
  },
  {
   "cell_type": "code",
   "execution_count": 16,
   "id": "cc488138-9e57-416a-bdf4-0dd7f7ca8614",
   "metadata": {},
   "outputs": [],
   "source": [
    "#using BSON: @save, @load\n",
    "#@save \"skrew_parameters.bson\" fnames score omega phi prou d df rmsd"
   ]
  },
  {
   "cell_type": "code",
   "execution_count": 17,
   "id": "88b16d7e-2d7a-4759-874c-3d3cbead8916",
   "metadata": {},
   "outputs": [],
   "source": [
    "#using BSON: @save, @load\n",
    "#@save \"df.bson\" df"
   ]
  },
  {
   "cell_type": "code",
   "execution_count": 18,
   "id": "c9400341-a639-4e7c-86f5-6baf593f4f50",
   "metadata": {},
   "outputs": [],
   "source": [
    "using JLD2\n",
    "\n",
    "save(\"skrew_parameters.jld2\", \"fnames\", fnames, \"score\", score, \"omega\", omega, \"phi\", phi, \"prou\", prou, \"d\", d, \"df\", df, \"rmsd\", rmsd)\n",
    "save(\"df.jld2\", \"df\", df)"
   ]
  },
  {
   "cell_type": "code",
   "execution_count": null,
   "id": "a9bdb4a4-c673-4542-90bf-6fe48688cd53",
   "metadata": {},
   "outputs": [],
   "source": []
  }
 ],
 "metadata": {
  "kernelspec": {
   "display_name": "julia 1.10.1",
   "language": "julia",
   "name": "julia-1.10"
  },
  "language_info": {
   "file_extension": ".jl",
   "mimetype": "application/julia",
   "name": "julia",
   "version": "1.10.1"
  }
 },
 "nbformat": 4,
 "nbformat_minor": 5
}
