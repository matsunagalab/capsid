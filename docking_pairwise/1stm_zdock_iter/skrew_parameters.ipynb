{
 "cells": [
  {
   "cell_type": "markdown",
   "id": "62a9d42f-dcfb-4d04-b7ee-aeab2626fe19",
   "metadata": {},
   "source": [
    "# 1stm"
   ]
  },
  {
   "cell_type": "code",
   "execution_count": 1,
   "id": "c2b6edbc-2a9f-438b-9e0d-1fb076e39d0e",
   "metadata": {},
   "outputs": [],
   "source": [
    "using Printf, DelimitedFiles\n",
    "using Plots\n",
    "using DataFrames\n",
    "using Revise, MDToolbox"
   ]
  },
  {
   "cell_type": "code",
   "execution_count": 2,
   "id": "c9373fbf-44a1-4c9b-88e3-5bb66950ae03",
   "metadata": {},
   "outputs": [
    {
     "data": {
      "text/plain": [
       "read_ascii (generic function with 1 method)"
      ]
     },
     "execution_count": 2,
     "metadata": {},
     "output_type": "execute_result"
    }
   ],
   "source": [
    "function read_ascii(fname)\n",
    "    lines = readlines(fname)\n",
    "    natom = length(lines) - 1\n",
    "    xyz = zeros(Float64, 1, natom*3)\n",
    "    for i = 1:natom\n",
    "        xyz[1, 3*(i-1)+1] = parse(Float64, lines[i+1][31:38])\n",
    "        xyz[1, 3*(i-1)+2] = parse(Float64, lines[i+1][39:46])\n",
    "        xyz[1, 3*(i-1)+3] = parse(Float64, lines[i+1][47:54])\n",
    "    end\n",
    "    TrjArray(xyz=xyz)\n",
    "end"
   ]
  },
  {
   "cell_type": "code",
   "execution_count": 3,
   "id": "fa858e0e-6890-4489-953b-936b481fa4aa",
   "metadata": {},
   "outputs": [
    {
     "data": {
      "text/plain": [
       "Any[]"
      ]
     },
     "execution_count": 3,
     "metadata": {},
     "output_type": "execute_result"
    }
   ],
   "source": [
    "fnames = []\n",
    "omega = []\n",
    "phi = []\n",
    "prou = []\n",
    "d = []\n",
    "score = []\n",
    "rmsd = []\n",
    "struc = []"
   ]
  },
  {
   "cell_type": "code",
   "execution_count": 4,
   "id": "32f8cbb0-c23b-4139-a37d-d0cb8a807005",
   "metadata": {},
   "outputs": [
    {
     "data": {
      "text/plain": [
       "1000"
      ]
     },
     "execution_count": 4,
     "metadata": {},
     "output_type": "execute_result"
    }
   ],
   "source": [
    "nrun = 1000"
   ]
  },
  {
   "cell_type": "code",
   "execution_count": null,
   "id": "a9238faf-a6c3-43f9-8e58-bd5847247e2a",
   "metadata": {},
   "outputs": [],
   "source": [
    "for irun = 1:nrun\n",
    "\n",
    "    for i in 1:100\n",
    "        filename = \"$(irun)/complex.$(i).pdb\"\n",
    "        #t = mdload(filename)\n",
    "        #t = MDToolbox.readpdb_biostructures(filename)\n",
    "        t = read_ascii(filename)\n",
    "        t1 = t[:, 1:1061]\n",
    "        t2 = t[:, 1062:end]\n",
    "        r = MDToolbox.compute_skrew(t1, t2)\n",
    "        push!(fnames, filename)\n",
    "        push!(omega, r.omega)\n",
    "        push!(phi, r.phi / (2.0 * pi) * 360.0)\n",
    "        push!(prou, r.prou)\n",
    "        push!(d, r.d)\n",
    "        push!(struc, t)\n",
    "        #t_ca = t[\"atomname CA\"]\n",
    "        #push!(rmsd, compute_rmsd_permute(ref, t_ca, 2))\n",
    "    end\n",
    "\n",
    "    s = readdlm(\"$(irun)/zdock.out\", skipstart=5)\n",
    "    score = [score; s[1:100, end]]\n",
    "end"
   ]
  },
  {
   "cell_type": "code",
   "execution_count": null,
   "id": "8d2ad93d-8d57-4b90-abfa-976cf23638b0",
   "metadata": {},
   "outputs": [],
   "source": [
    "df = DataFrame(fnames=fnames, score=score, omega=omega, phi=phi, prou=prou, d=d, struc=struc)"
   ]
  },
  {
   "cell_type": "code",
   "execution_count": null,
   "id": "0225efef-539c-4fc1-b11c-3bf14df6c8f4",
   "metadata": {},
   "outputs": [],
   "source": [
    "df_org = deepcopy(df);"
   ]
  },
  {
   "cell_type": "code",
   "execution_count": null,
   "id": "cc488138-9e57-416a-bdf4-0dd7f7ca8614",
   "metadata": {},
   "outputs": [],
   "source": [
    "#using BSON: @save, @load\n",
    "#@save \"skrew_parameters.bson\" fnames score omega phi prou d df rmsd"
   ]
  },
  {
   "cell_type": "code",
   "execution_count": null,
   "id": "88b16d7e-2d7a-4759-874c-3d3cbead8916",
   "metadata": {},
   "outputs": [],
   "source": [
    "#using BSON: @save, @load\n",
    "#@save \"df.bson\" df"
   ]
  },
  {
   "cell_type": "code",
   "execution_count": 13,
   "id": "c9400341-a639-4e7c-86f5-6baf593f4f50",
   "metadata": {},
   "outputs": [],
   "source": [
    "using JLD2\n",
    "\n",
    "save(\"skrew_parameters.jld2\", \"fnames\", fnames, \"score\", score, \"omega\", omega, \"phi\", phi, \"prou\", prou, \"d\", d, \"df\", df, \"rmsd\", rmsd)\n",
    "save(\"df.jld2\", \"df\", df)"
   ]
  },
  {
   "cell_type": "code",
   "execution_count": 11,
   "id": "a9bdb4a4-c673-4542-90bf-6fe48688cd53",
   "metadata": {},
   "outputs": [
    {
     "data": {
      "text/html": [
       "<div class=\"data-frame\"><p>100,000 rows × 7 columns (omitted printing of 2 columns)</p><table class=\"data-frame\"><thead><tr><th></th><th>fnames</th><th>score</th><th>omega</th><th>phi</th><th>prou</th></tr><tr><th></th><th title=\"Any\">Any</th><th title=\"Any\">Any</th><th title=\"Any\">Any</th><th title=\"Any\">Any</th><th title=\"Any\">Any</th></tr></thead><tbody><tr><th>1</th><td>1/complex.1.pdb</td><td>1382.62</td><td>[-0.288356, -0.776062, -0.560873]</td><td>178.482</td><td>[0.618983, 2.25688, -3.44101]</td></tr><tr><th>2</th><td>1/complex.2.pdb</td><td>1268.85</td><td>[-0.666085, -0.694759, -0.271367]</td><td>176.791</td><td>[-22.9733, 10.6354, 29.1604]</td></tr><tr><th>3</th><td>1/complex.3.pdb</td><td>1220.26</td><td>[7.41491e-5, 0.964482, -0.26415]</td><td>69.9221</td><td>[23.4389, 10.597, 38.699]</td></tr><tr><th>4</th><td>1/complex.4.pdb</td><td>1148.32</td><td>[0.810048, -0.0792923, 0.580978]</td><td>92.9537</td><td>[-10.3575, 71.09, 24.1436]</td></tr><tr><th>5</th><td>1/complex.5.pdb</td><td>1132.07</td><td>[0.723961, -0.219214, 0.654085]</td><td>90.5074</td><td>[-0.910044, 50.7296, 18.0091]</td></tr><tr><th>6</th><td>1/complex.6.pdb</td><td>1115.83</td><td>[-0.294075, 0.908303, -0.2975]</td><td>66.8091</td><td>[35.4869, 24.5698, 39.9362]</td></tr><tr><th>7</th><td>1/complex.7.pdb</td><td>1108.46</td><td>[0.849514, -0.408811, -0.333467]</td><td>173.921</td><td>[29.9593, 49.5108, 15.6244]</td></tr><tr><th>8</th><td>1/complex.8.pdb</td><td>1102.83</td><td>[-0.644808, 0.413085, -0.643105]</td><td>175.313</td><td>[10.819, 58.0152, 26.4171]</td></tr><tr><th>9</th><td>1/complex.9.pdb</td><td>1089.06</td><td>[-0.771621, 0.403599, -0.49164]</td><td>87.4786</td><td>[11.4216, 68.3426, 38.178]</td></tr><tr><th>10</th><td>1/complex.10.pdb</td><td>1077.49</td><td>[-0.606802, 0.541198, -0.582147]</td><td>166.981</td><td>[15.9329, 53.4446, 33.0775]</td></tr><tr><th>11</th><td>1/complex.11.pdb</td><td>1075.18</td><td>[0.393451, 0.868159, 0.302484]</td><td>179.341</td><td>[-11.7695, -4.66106, 28.6868]</td></tr><tr><th>12</th><td>1/complex.12.pdb</td><td>1071.16</td><td>[-0.357492, 0.596802, 0.71835]</td><td>154.059</td><td>[20.1326, 22.7491, -8.88076]</td></tr><tr><th>13</th><td>1/complex.13.pdb</td><td>1069.74</td><td>[-0.33501, 0.797696, -0.501448]</td><td>78.3317</td><td>[25.2679, 42.3357, 50.4659]</td></tr><tr><th>14</th><td>1/complex.14.pdb</td><td>1069.71</td><td>[-0.438114, 0.49612, 0.749614]</td><td>161.66</td><td>[22.7848, 30.5019, -6.87061]</td></tr><tr><th>15</th><td>1/complex.15.pdb</td><td>1068.47</td><td>[0.325707, -0.909163, 0.259494]</td><td>73.7128</td><td>[36.4207, 24.3145, 39.4742]</td></tr><tr><th>16</th><td>1/complex.16.pdb</td><td>1059.89</td><td>[0.470072, 0.867697, 0.161661]</td><td>179.355</td><td>[-20.4153, 8.31377, 14.7396]</td></tr><tr><th>17</th><td>1/complex.17.pdb</td><td>1058.48</td><td>[0.173699, -0.969343, 0.173791]</td><td>124.042</td><td>[7.34419, 8.9597, 42.6336]</td></tr><tr><th>18</th><td>1/complex.18.pdb</td><td>1052.63</td><td>[0.333245, -0.847347, 0.413462]</td><td>133.248</td><td>[20.6701, 30.901, 46.6685]</td></tr><tr><th>19</th><td>1/complex.19.pdb</td><td>1046.22</td><td>[-0.838047, 0.421473, 0.346466]</td><td>168.496</td><td>[30.8326, 49.0816, 14.8719]</td></tr><tr><th>20</th><td>1/complex.20.pdb</td><td>1044.71</td><td>[-0.264594, -0.960002, -0.091574]</td><td>46.9032</td><td>[12.3982, -4.92658, 15.8238]</td></tr><tr><th>21</th><td>1/complex.21.pdb</td><td>1039.27</td><td>[-0.926085, -0.242509, 0.289061]</td><td>173.264</td><td>[-5.92242, 56.9194, 28.7788]</td></tr><tr><th>22</th><td>1/complex.22.pdb</td><td>1034.34</td><td>[0.48619, -0.761137, 0.42929]</td><td>100.858</td><td>[22.4431, 36.3607, 39.0501]</td></tr><tr><th>23</th><td>1/complex.23.pdb</td><td>1033.2</td><td>[0.880562, -0.456497, -0.127367]</td><td>88.4988</td><td>[24.5942, 42.1651, 18.9096]</td></tr><tr><th>24</th><td>1/complex.24.pdb</td><td>1026.7</td><td>[-0.152076, 0.984606, -0.0861582]</td><td>59.1528</td><td>[35.3183, 8.1724, 31.0537]</td></tr><tr><th>25</th><td>1/complex.25.pdb</td><td>1024.87</td><td>[-0.531601, -0.793404, -0.296497]</td><td>179.303</td><td>[-17.7021, 1.79653, 26.9314]</td></tr><tr><th>26</th><td>1/complex.26.pdb</td><td>1024.4</td><td>[0.0894078, -0.153854, -0.98404]</td><td>177.663</td><td>[15.852, 39.2759, -4.7005]</td></tr><tr><th>27</th><td>1/complex.27.pdb</td><td>1023.48</td><td>[0.618643, -0.414122, 0.667671]</td><td>168.072</td><td>[11.4942, 59.1352, 26.0283]</td></tr><tr><th>28</th><td>1/complex.28.pdb</td><td>1019.57</td><td>[-0.67608, -0.725262, -0.130047]</td><td>151.626</td><td>[-28.7355, 23.5769, 17.902]</td></tr><tr><th>29</th><td>1/complex.29.pdb</td><td>1018.49</td><td>[0.895112, -0.167202, 0.413302]</td><td>92.565</td><td>[-1.74655, 73.0358, 33.3294]</td></tr><tr><th>30</th><td>1/complex.30.pdb</td><td>1016.81</td><td>[-0.29072, -0.955364, 0.0525437]</td><td>142.743</td><td>[-1.68135, 3.24033, 49.6138]</td></tr><tr><th>&vellip;</th><td>&vellip;</td><td>&vellip;</td><td>&vellip;</td><td>&vellip;</td><td>&vellip;</td></tr></tbody></table></div>"
      ],
      "text/latex": [
       "\\begin{tabular}{r|cccccc}\n",
       "\t& fnames & score & omega & phi & prou & \\\\\n",
       "\t\\hline\n",
       "\t& Any & Any & Any & Any & Any & \\\\\n",
       "\t\\hline\n",
       "\t1 & 1/complex.1.pdb & 1382.62 & [-0.288356, -0.776062, -0.560873] & 178.482 & [0.618983, 2.25688, -3.44101] & $\\dots$ \\\\\n",
       "\t2 & 1/complex.2.pdb & 1268.85 & [-0.666085, -0.694759, -0.271367] & 176.791 & [-22.9733, 10.6354, 29.1604] & $\\dots$ \\\\\n",
       "\t3 & 1/complex.3.pdb & 1220.26 & [7.41491e-5, 0.964482, -0.26415] & 69.9221 & [23.4389, 10.597, 38.699] & $\\dots$ \\\\\n",
       "\t4 & 1/complex.4.pdb & 1148.32 & [0.810048, -0.0792923, 0.580978] & 92.9537 & [-10.3575, 71.09, 24.1436] & $\\dots$ \\\\\n",
       "\t5 & 1/complex.5.pdb & 1132.07 & [0.723961, -0.219214, 0.654085] & 90.5074 & [-0.910044, 50.7296, 18.0091] & $\\dots$ \\\\\n",
       "\t6 & 1/complex.6.pdb & 1115.83 & [-0.294075, 0.908303, -0.2975] & 66.8091 & [35.4869, 24.5698, 39.9362] & $\\dots$ \\\\\n",
       "\t7 & 1/complex.7.pdb & 1108.46 & [0.849514, -0.408811, -0.333467] & 173.921 & [29.9593, 49.5108, 15.6244] & $\\dots$ \\\\\n",
       "\t8 & 1/complex.8.pdb & 1102.83 & [-0.644808, 0.413085, -0.643105] & 175.313 & [10.819, 58.0152, 26.4171] & $\\dots$ \\\\\n",
       "\t9 & 1/complex.9.pdb & 1089.06 & [-0.771621, 0.403599, -0.49164] & 87.4786 & [11.4216, 68.3426, 38.178] & $\\dots$ \\\\\n",
       "\t10 & 1/complex.10.pdb & 1077.49 & [-0.606802, 0.541198, -0.582147] & 166.981 & [15.9329, 53.4446, 33.0775] & $\\dots$ \\\\\n",
       "\t11 & 1/complex.11.pdb & 1075.18 & [0.393451, 0.868159, 0.302484] & 179.341 & [-11.7695, -4.66106, 28.6868] & $\\dots$ \\\\\n",
       "\t12 & 1/complex.12.pdb & 1071.16 & [-0.357492, 0.596802, 0.71835] & 154.059 & [20.1326, 22.7491, -8.88076] & $\\dots$ \\\\\n",
       "\t13 & 1/complex.13.pdb & 1069.74 & [-0.33501, 0.797696, -0.501448] & 78.3317 & [25.2679, 42.3357, 50.4659] & $\\dots$ \\\\\n",
       "\t14 & 1/complex.14.pdb & 1069.71 & [-0.438114, 0.49612, 0.749614] & 161.66 & [22.7848, 30.5019, -6.87061] & $\\dots$ \\\\\n",
       "\t15 & 1/complex.15.pdb & 1068.47 & [0.325707, -0.909163, 0.259494] & 73.7128 & [36.4207, 24.3145, 39.4742] & $\\dots$ \\\\\n",
       "\t16 & 1/complex.16.pdb & 1059.89 & [0.470072, 0.867697, 0.161661] & 179.355 & [-20.4153, 8.31377, 14.7396] & $\\dots$ \\\\\n",
       "\t17 & 1/complex.17.pdb & 1058.48 & [0.173699, -0.969343, 0.173791] & 124.042 & [7.34419, 8.9597, 42.6336] & $\\dots$ \\\\\n",
       "\t18 & 1/complex.18.pdb & 1052.63 & [0.333245, -0.847347, 0.413462] & 133.248 & [20.6701, 30.901, 46.6685] & $\\dots$ \\\\\n",
       "\t19 & 1/complex.19.pdb & 1046.22 & [-0.838047, 0.421473, 0.346466] & 168.496 & [30.8326, 49.0816, 14.8719] & $\\dots$ \\\\\n",
       "\t20 & 1/complex.20.pdb & 1044.71 & [-0.264594, -0.960002, -0.091574] & 46.9032 & [12.3982, -4.92658, 15.8238] & $\\dots$ \\\\\n",
       "\t21 & 1/complex.21.pdb & 1039.27 & [-0.926085, -0.242509, 0.289061] & 173.264 & [-5.92242, 56.9194, 28.7788] & $\\dots$ \\\\\n",
       "\t22 & 1/complex.22.pdb & 1034.34 & [0.48619, -0.761137, 0.42929] & 100.858 & [22.4431, 36.3607, 39.0501] & $\\dots$ \\\\\n",
       "\t23 & 1/complex.23.pdb & 1033.2 & [0.880562, -0.456497, -0.127367] & 88.4988 & [24.5942, 42.1651, 18.9096] & $\\dots$ \\\\\n",
       "\t24 & 1/complex.24.pdb & 1026.7 & [-0.152076, 0.984606, -0.0861582] & 59.1528 & [35.3183, 8.1724, 31.0537] & $\\dots$ \\\\\n",
       "\t25 & 1/complex.25.pdb & 1024.87 & [-0.531601, -0.793404, -0.296497] & 179.303 & [-17.7021, 1.79653, 26.9314] & $\\dots$ \\\\\n",
       "\t26 & 1/complex.26.pdb & 1024.4 & [0.0894078, -0.153854, -0.98404] & 177.663 & [15.852, 39.2759, -4.7005] & $\\dots$ \\\\\n",
       "\t27 & 1/complex.27.pdb & 1023.48 & [0.618643, -0.414122, 0.667671] & 168.072 & [11.4942, 59.1352, 26.0283] & $\\dots$ \\\\\n",
       "\t28 & 1/complex.28.pdb & 1019.57 & [-0.67608, -0.725262, -0.130047] & 151.626 & [-28.7355, 23.5769, 17.902] & $\\dots$ \\\\\n",
       "\t29 & 1/complex.29.pdb & 1018.49 & [0.895112, -0.167202, 0.413302] & 92.565 & [-1.74655, 73.0358, 33.3294] & $\\dots$ \\\\\n",
       "\t30 & 1/complex.30.pdb & 1016.81 & [-0.29072, -0.955364, 0.0525437] & 142.743 & [-1.68135, 3.24033, 49.6138] & $\\dots$ \\\\\n",
       "\t$\\dots$ & $\\dots$ & $\\dots$ & $\\dots$ & $\\dots$ & $\\dots$ &  \\\\\n",
       "\\end{tabular}\n"
      ],
      "text/plain": [
       "\u001b[1m100000×7 DataFrame\u001b[0m\n",
       "\u001b[1m    Row \u001b[0m│\u001b[1m fnames               \u001b[0m\u001b[1m score   \u001b[0m\u001b[1m omega                             \u001b[0m\u001b[1m ph\u001b[0m ⋯\n",
       "\u001b[1m        \u001b[0m│\u001b[90m Any                  \u001b[0m\u001b[90m Any     \u001b[0m\u001b[90m Any                               \u001b[0m\u001b[90m An\u001b[0m ⋯\n",
       "────────┼───────────────────────────────────────────────────────────────────────\n",
       "      1 │ 1/complex.1.pdb       1382.62  [-0.288356, -0.776062, -0.560873]  17 ⋯\n",
       "      2 │ 1/complex.2.pdb       1268.85  [-0.666085, -0.694759, -0.271367]  17\n",
       "      3 │ 1/complex.3.pdb       1220.26  [7.41491e-5, 0.964482, -0.26415]   69\n",
       "      4 │ 1/complex.4.pdb       1148.32  [0.810048, -0.0792923, 0.580978]   92\n",
       "      5 │ 1/complex.5.pdb       1132.07  [0.723961, -0.219214, 0.654085]    90 ⋯\n",
       "      6 │ 1/complex.6.pdb       1115.83  [-0.294075, 0.908303, -0.2975]     66\n",
       "      7 │ 1/complex.7.pdb       1108.46  [0.849514, -0.408811, -0.333467]   17\n",
       "      8 │ 1/complex.8.pdb       1102.83  [-0.644808, 0.413085, -0.643105]   17\n",
       "      9 │ 1/complex.9.pdb       1089.06  [-0.771621, 0.403599, -0.49164]    87 ⋯\n",
       "     10 │ 1/complex.10.pdb      1077.49  [-0.606802, 0.541198, -0.582147]   16\n",
       "     11 │ 1/complex.11.pdb      1075.18  [0.393451, 0.868159, 0.302484]     17\n",
       "   ⋮    │          ⋮               ⋮                     ⋮                     ⋱\n",
       "  99991 │ 1000/complex.91.pdb   944.221  [0.607277, -0.206011, 0.767317]    93\n",
       "  99992 │ 1000/complex.92.pdb   942.708  [-0.654962, -0.728684, -0.200113]  16 ⋯\n",
       "  99993 │ 1000/complex.93.pdb   942.698  [0.392289, 0.783312, 0.482215]     17\n",
       "  99994 │ 1000/complex.94.pdb   941.217  [-0.0226365, 0.999129, -0.035051…  56\n",
       "  99995 │ 1000/complex.95.pdb   940.399  [0.917197, -0.373588, -0.138498]   10\n",
       "  99996 │ 1000/complex.96.pdb   939.707  [-0.106843, 0.904887, -0.412025]   88 ⋯\n",
       "  99997 │ 1000/complex.97.pdb   938.849  [0.936483, -0.286358, -0.202483]   87\n",
       "  99998 │ 1000/complex.98.pdb   938.662  [0.361754, 0.327673, 0.872791]     58\n",
       "  99999 │ 1000/complex.99.pdb   938.239  [0.314219, -0.570372, -0.758908]   10\n",
       " 100000 │ 1000/complex.100.pdb  937.482  [-0.265862, 0.959709, -0.0909711]  69 ⋯\n",
       "\u001b[36m                                                4 columns and 99979 rows omitted\u001b[0m"
      ]
     },
     "execution_count": 11,
     "metadata": {},
     "output_type": "execute_result"
    }
   ],
   "source": [
    "df"
   ]
  },
  {
   "cell_type": "code",
   "execution_count": null,
   "id": "72846985-7d88-427d-bbdb-99429fa4eb42",
   "metadata": {},
   "outputs": [],
   "source": []
  }
 ],
 "metadata": {
  "kernelspec": {
   "display_name": "julia 1.10.1",
   "language": "julia",
   "name": "julia-1.10"
  },
  "language_info": {
   "file_extension": ".jl",
   "mimetype": "application/julia",
   "name": "julia",
   "version": "1.10.1"
  }
 },
 "nbformat": 4,
 "nbformat_minor": 5
}
