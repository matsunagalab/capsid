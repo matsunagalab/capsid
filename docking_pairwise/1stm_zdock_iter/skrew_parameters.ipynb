{
 "cells": [
  {
   "cell_type": "markdown",
   "id": "62a9d42f-dcfb-4d04-b7ee-aeab2626fe19",
   "metadata": {},
   "source": [
    "# 1stm"
   ]
  },
  {
   "cell_type": "code",
   "execution_count": 24,
   "id": "c2b6edbc-2a9f-438b-9e0d-1fb076e39d0e",
   "metadata": {},
   "outputs": [],
   "source": [
    "using Printf, DelimitedFiles\n",
    "using Plots\n",
    "using DataFrames\n",
    "using Revise, MDToolbox"
   ]
  },
  {
   "cell_type": "code",
   "execution_count": 25,
   "id": "c9373fbf-44a1-4c9b-88e3-5bb66950ae03",
   "metadata": {},
   "outputs": [
    {
     "data": {
      "text/plain": [
       "read_ascii (generic function with 1 method)"
      ]
     },
     "execution_count": 25,
     "metadata": {},
     "output_type": "execute_result"
    }
   ],
   "source": [
    "function read_ascii(fname)\n",
    "    lines = readlines(fname)\n",
    "    natom = length(lines) - 1\n",
    "    xyz = zeros(Float64, 1, natom*3)\n",
    "    for i = 1:natom\n",
    "        xyz[1, 3*(i-1)+1] = parse(Float64, lines[i+1][31:38])\n",
    "        xyz[1, 3*(i-1)+2] = parse(Float64, lines[i+1][39:46])\n",
    "        xyz[1, 3*(i-1)+3] = parse(Float64, lines[i+1][47:54])\n",
    "    end\n",
    "    TrjArray(xyz=xyz)\n",
    "end"
   ]
  },
  {
   "cell_type": "code",
   "execution_count": 26,
   "id": "fa858e0e-6890-4489-953b-936b481fa4aa",
   "metadata": {},
   "outputs": [
    {
     "data": {
      "text/plain": [
       "Any[]"
      ]
     },
     "execution_count": 26,
     "metadata": {},
     "output_type": "execute_result"
    }
   ],
   "source": [
    "fnames = []\n",
    "omega = []\n",
    "phi = []\n",
    "prou = []\n",
    "d = []\n",
    "score = []\n",
    "rmsd = []\n",
    "struc = []"
   ]
  },
  {
   "cell_type": "code",
   "execution_count": 27,
   "id": "32f8cbb0-c23b-4139-a37d-d0cb8a807005",
   "metadata": {},
   "outputs": [
    {
     "data": {
      "text/plain": [
       "1000"
      ]
     },
     "execution_count": 27,
     "metadata": {},
     "output_type": "execute_result"
    }
   ],
   "source": [
    "nrun = 1000"
   ]
  },
  {
   "cell_type": "code",
   "execution_count": 28,
   "id": "a9238faf-a6c3-43f9-8e58-bd5847247e2a",
   "metadata": {},
   "outputs": [
    {
     "name": "stdout",
     "output_type": "stream",
     "text": [
      "irun = 100irun = 200irun = 300irun = 400irun = 500irun = 600irun = 700irun = 800irun = 900irun = 1000"
     ]
    }
   ],
   "source": [
    "for irun = 1:nrun\n",
    "\n",
    "    if irun % 100 == 0\n",
    "        print(\"irun = $irun\")\n",
    "    end\n",
    "    for i in 1:100\n",
    "        filename = \"$(irun)/complex.$(i).pdb\"\n",
    "        #t = mdload(filename)\n",
    "        #t = MDToolbox.readpdb_biostructures(filename)\n",
    "        t = read_ascii(filename)\n",
    "        t1 = t[:, 1:1061]\n",
    "        t2 = t[:, 1062:end]\n",
    "        r = MDToolbox.compute_skrew(t1, t2)\n",
    "        push!(fnames, filename)\n",
    "        push!(omega, r.omega)\n",
    "        push!(phi, r.phi / (2.0 * pi) * 360.0)\n",
    "        push!(prou, r.prou)\n",
    "        push!(d, r.d)\n",
    "        push!(struc, t)\n",
    "        #t_ca = t[\"atomname CA\"]\n",
    "        #push!(rmsd, compute_rmsd_permute(ref, t_ca, 2))\n",
    "    end\n",
    "\n",
    "    s = readdlm(\"$(irun)/zdock.out\", skipstart=5)\n",
    "    score = [score; s[1:100, end]]\n",
    "end"
   ]
  },
  {
   "cell_type": "code",
   "execution_count": 29,
   "id": "8d2ad93d-8d57-4b90-abfa-976cf23638b0",
   "metadata": {},
   "outputs": [
    {
     "data": {
      "text/html": [
       "<div><div style = \"float: left;\"><span>100000×7 DataFrame</span></div><div style = \"float: right;\"><span style = \"font-style: italic;\">99975 rows omitted</span></div><div style = \"clear: both;\"></div></div><div class = \"data-frame\" style = \"overflow-x: scroll;\"><table class = \"data-frame\" style = \"margin-bottom: 6px;\"><thead><tr class = \"header\"><th class = \"rowNumber\" style = \"font-weight: bold; text-align: right;\">Row</th><th style = \"text-align: left;\">fnames</th><th style = \"text-align: left;\">score</th><th style = \"text-align: left;\">omega</th><th style = \"text-align: left;\">phi</th><th style = \"text-align: left;\">prou</th><th style = \"text-align: left;\">d</th><th style = \"text-align: left;\">struc</th></tr><tr class = \"subheader headerLastRow\"><th class = \"rowNumber\" style = \"font-weight: bold; text-align: right;\"></th><th title = \"Any\" style = \"text-align: left;\">Any</th><th title = \"Any\" style = \"text-align: left;\">Any</th><th title = \"Any\" style = \"text-align: left;\">Any</th><th title = \"Any\" style = \"text-align: left;\">Any</th><th title = \"Any\" style = \"text-align: left;\">Any</th><th title = \"Any\" style = \"text-align: left;\">Any</th><th title = \"Any\" style = \"text-align: left;\">Any</th></tr></thead><tbody><tr><td class = \"rowNumber\" style = \"font-weight: bold; text-align: right;\">1</td><td style = \"text-align: left;\">1/complex.1.pdb</td><td style = \"text-align: left;\">1382.62</td><td style = \"text-align: left;\">[-0.288356, -0.776062, -0.560873]</td><td style = \"text-align: left;\">178.482</td><td style = \"text-align: left;\">[0.618983, 2.25688, -3.44101]</td><td style = \"text-align: left;\">0.540531</td><td style = \"text-align: left;\">1x2122 TrjArray{Float64, Int64}\\n|    20.91    51.89    13.34 |  …      12.94    52.23    58.83 |</td></tr><tr><td class = \"rowNumber\" style = \"font-weight: bold; text-align: right;\">2</td><td style = \"text-align: left;\">1/complex.2.pdb</td><td style = \"text-align: left;\">1268.85</td><td style = \"text-align: left;\">[-0.666085, -0.694759, -0.271367]</td><td style = \"text-align: left;\">176.791</td><td style = \"text-align: left;\">[-22.9733, 10.6354, 29.1604]</td><td style = \"text-align: left;\">0.0739988</td><td style = \"text-align: left;\">1x2122 TrjArray{Float64, Int64}\\n|    20.91    51.89    13.34 |  …      26.14    56.70    79.31 |</td></tr><tr><td class = \"rowNumber\" style = \"font-weight: bold; text-align: right;\">3</td><td style = \"text-align: left;\">1/complex.3.pdb</td><td style = \"text-align: left;\">1220.26</td><td style = \"text-align: left;\">[7.41491e-5, 0.964482, -0.26415]</td><td style = \"text-align: left;\">69.9221</td><td style = \"text-align: left;\">[23.4389, 10.597, 38.699]</td><td style = \"text-align: left;\">-12.3311</td><td style = \"text-align: left;\">1x2122 TrjArray{Float64, Int64}\\n|    20.91    51.89    13.34 |  …      26.55    57.99    15.74 |</td></tr><tr><td class = \"rowNumber\" style = \"font-weight: bold; text-align: right;\">4</td><td style = \"text-align: left;\">1/complex.4.pdb</td><td style = \"text-align: left;\">1148.32</td><td style = \"text-align: left;\">[0.810048, -0.0792923, 0.580978]</td><td style = \"text-align: left;\">92.9537</td><td style = \"text-align: left;\">[-10.3575, 71.09, 24.1436]</td><td style = \"text-align: left;\">-13.9145</td><td style = \"text-align: left;\">1x2122 TrjArray{Float64, Int64}\\n|    20.91    51.89    13.34 |  …       4.47    97.00    41.37 |</td></tr><tr><td class = \"rowNumber\" style = \"font-weight: bold; text-align: right;\">5</td><td style = \"text-align: left;\">1/complex.5.pdb</td><td style = \"text-align: left;\">1132.07</td><td style = \"text-align: left;\">[0.723961, -0.219214, 0.654085]</td><td style = \"text-align: left;\">90.5074</td><td style = \"text-align: left;\">[-0.910044, 50.7296, 18.0091]</td><td style = \"text-align: left;\">18.6965</td><td style = \"text-align: left;\">1x2122 TrjArray{Float64, Int64}\\n|    20.91    51.89    13.34 |  …      13.84    61.56    68.20 |</td></tr><tr><td class = \"rowNumber\" style = \"font-weight: bold; text-align: right;\">6</td><td style = \"text-align: left;\">1/complex.6.pdb</td><td style = \"text-align: left;\">1115.83</td><td style = \"text-align: left;\">[-0.294075, 0.908303, -0.2975]</td><td style = \"text-align: left;\">66.8091</td><td style = \"text-align: left;\">[35.4869, 24.5698, 39.9362]</td><td style = \"text-align: left;\">-13.3557</td><td style = \"text-align: left;\">1x2122 TrjArray{Float64, Int64}\\n|    20.91    51.89    13.34 |  …      27.42    53.99    16.40 |</td></tr><tr><td class = \"rowNumber\" style = \"font-weight: bold; text-align: right;\">7</td><td style = \"text-align: left;\">1/complex.7.pdb</td><td style = \"text-align: left;\">1108.46</td><td style = \"text-align: left;\">[0.849514, -0.408811, -0.333467]</td><td style = \"text-align: left;\">173.921</td><td style = \"text-align: left;\">[29.9593, 49.5108, 15.6244]</td><td style = \"text-align: left;\">0.393369</td><td style = \"text-align: left;\">1x2122 TrjArray{Float64, Int64}\\n|    20.91    51.89    13.34 |  …      13.38    32.71    17.41 |</td></tr><tr><td class = \"rowNumber\" style = \"font-weight: bold; text-align: right;\">8</td><td style = \"text-align: left;\">1/complex.8.pdb</td><td style = \"text-align: left;\">1102.83</td><td style = \"text-align: left;\">[-0.644808, 0.413085, -0.643105]</td><td style = \"text-align: left;\">175.313</td><td style = \"text-align: left;\">[10.819, 58.0152, 26.4171]</td><td style = \"text-align: left;\">16.9155</td><td style = \"text-align: left;\">1x2122 TrjArray{Float64, Int64}\\n|    20.91    51.89    13.34 |  …     -15.05    44.73    26.11 |</td></tr><tr><td class = \"rowNumber\" style = \"font-weight: bold; text-align: right;\">9</td><td style = \"text-align: left;\">1/complex.9.pdb</td><td style = \"text-align: left;\">1089.06</td><td style = \"text-align: left;\">[-0.771621, 0.403599, -0.49164]</td><td style = \"text-align: left;\">87.4786</td><td style = \"text-align: left;\">[11.4216, 68.3426, 38.178]</td><td style = \"text-align: left;\">-16.978</td><td style = \"text-align: left;\">1x2122 TrjArray{Float64, Int64}\\n|    20.91    51.89    13.34 |  …      26.01    35.08    37.19 |</td></tr><tr><td class = \"rowNumber\" style = \"font-weight: bold; text-align: right;\">10</td><td style = \"text-align: left;\">1/complex.10.pdb</td><td style = \"text-align: left;\">1077.49</td><td style = \"text-align: left;\">[-0.606802, 0.541198, -0.582147]</td><td style = \"text-align: left;\">166.981</td><td style = \"text-align: left;\">[15.9329, 53.4446, 33.0775]</td><td style = \"text-align: left;\">-18.5611</td><td style = \"text-align: left;\">1x2122 TrjArray{Float64, Int64}\\n|    20.91    51.89    13.34 |  …       3.50    27.86    43.26 |</td></tr><tr><td class = \"rowNumber\" style = \"font-weight: bold; text-align: right;\">11</td><td style = \"text-align: left;\">1/complex.11.pdb</td><td style = \"text-align: left;\">1075.18</td><td style = \"text-align: left;\">[0.393451, 0.868159, 0.302484]</td><td style = \"text-align: left;\">179.341</td><td style = \"text-align: left;\">[-11.7695, -4.66106, 28.6868]</td><td style = \"text-align: left;\">0.352448</td><td style = \"text-align: left;\">1x2122 TrjArray{Float64, Int64}\\n|    20.91    51.89    13.34 |  …       7.60    62.03    85.86 |</td></tr><tr><td class = \"rowNumber\" style = \"font-weight: bold; text-align: right;\">12</td><td style = \"text-align: left;\">1/complex.12.pdb</td><td style = \"text-align: left;\">1071.16</td><td style = \"text-align: left;\">[-0.357492, 0.596802, 0.71835]</td><td style = \"text-align: left;\">154.059</td><td style = \"text-align: left;\">[20.1326, 22.7491, -8.88076]</td><td style = \"text-align: left;\">-20.8188</td><td style = \"text-align: left;\">1x2122 TrjArray{Float64, Int64}\\n|    20.91    51.89    13.34 |  …     -23.76    27.45     1.18 |</td></tr><tr><td class = \"rowNumber\" style = \"font-weight: bold; text-align: right;\">13</td><td style = \"text-align: left;\">1/complex.13.pdb</td><td style = \"text-align: left;\">1069.74</td><td style = \"text-align: left;\">[-0.33501, 0.797696, -0.501448]</td><td style = \"text-align: left;\">78.3317</td><td style = \"text-align: left;\">[25.2679, 42.3357, 50.4659]</td><td style = \"text-align: left;\">-23.5986</td><td style = \"text-align: left;\">1x2122 TrjArray{Float64, Int64}\\n|    20.91    51.89    13.34 |  …      17.32    38.70    25.82 |</td></tr><tr><td style = \"text-align: right;\">&vellip;</td><td style = \"text-align: right;\">&vellip;</td><td style = \"text-align: right;\">&vellip;</td><td style = \"text-align: right;\">&vellip;</td><td style = \"text-align: right;\">&vellip;</td><td style = \"text-align: right;\">&vellip;</td><td style = \"text-align: right;\">&vellip;</td><td style = \"text-align: right;\">&vellip;</td></tr><tr><td class = \"rowNumber\" style = \"font-weight: bold; text-align: right;\">99989</td><td style = \"text-align: left;\">1000/complex.89.pdb</td><td style = \"text-align: left;\">945.824</td><td style = \"text-align: left;\">[-0.0626731, 0.235714, 0.969799]</td><td style = \"text-align: left;\">177.814</td><td style = \"text-align: left;\">[15.0215, 34.7494, -7.47522]</td><td style = \"text-align: left;\">-0.748461</td><td style = \"text-align: left;\">1x2122 TrjArray{Float64, Int64}\\n|    20.91    51.89    13.34 |  …      -9.05    14.60    31.90 |</td></tr><tr><td class = \"rowNumber\" style = \"font-weight: bold; text-align: right;\">99990</td><td style = \"text-align: left;\">1000/complex.90.pdb</td><td style = \"text-align: left;\">945.149</td><td style = \"text-align: left;\">[-0.70028, 0.596696, -0.391869]</td><td style = \"text-align: left;\">122.655</td><td style = \"text-align: left;\">[27.347, 53.7716, 33.0077]</td><td style = \"text-align: left;\">-11.9562</td><td style = \"text-align: left;\">1x2122 TrjArray{Float64, Int64}\\n|    20.91    51.89    13.34 |  …      20.50    38.09    23.10 |</td></tr><tr><td class = \"rowNumber\" style = \"font-weight: bold; text-align: right;\">99991</td><td style = \"text-align: left;\">1000/complex.91.pdb</td><td style = \"text-align: left;\">944.221</td><td style = \"text-align: left;\">[0.607277, -0.206011, 0.767317]</td><td style = \"text-align: left;\">93.8621</td><td style = \"text-align: left;\">[-0.0736064, 52.6279, 14.1879]</td><td style = \"text-align: left;\">21.0337</td><td style = \"text-align: left;\">1x2122 TrjArray{Float64, Int64}\\n|    20.91    51.89    13.34 |  …       8.07    63.53    66.62 |</td></tr><tr><td class = \"rowNumber\" style = \"font-weight: bold; text-align: right;\">99992</td><td style = \"text-align: left;\">1000/complex.92.pdb</td><td style = \"text-align: left;\">942.708</td><td style = \"text-align: left;\">[-0.654962, -0.728684, -0.200113]</td><td style = \"text-align: left;\">161.206</td><td style = \"text-align: left;\">[-28.4126, 21.6872, 14.0222]</td><td style = \"text-align: left;\">-4.79676</td><td style = \"text-align: left;\">1x2122 TrjArray{Float64, Int64}\\n|    20.91    51.89    13.34 |  …      18.27    86.81    42.62 |</td></tr><tr><td class = \"rowNumber\" style = \"font-weight: bold; text-align: right;\">99993</td><td style = \"text-align: left;\">1000/complex.93.pdb</td><td style = \"text-align: left;\">942.698</td><td style = \"text-align: left;\">[0.392289, 0.783312, 0.482215]</td><td style = \"text-align: left;\">172.302</td><td style = \"text-align: left;\">[-5.74758, 2.01974, 1.39487]</td><td style = \"text-align: left;\">-0.404795</td><td style = \"text-align: left;\">1x2122 TrjArray{Float64, Int64}\\n|    20.91    51.89    13.34 |  …      15.29    58.50    57.87 |</td></tr><tr><td class = \"rowNumber\" style = \"font-weight: bold; text-align: right;\">99994</td><td style = \"text-align: left;\">1000/complex.94.pdb</td><td style = \"text-align: left;\">941.217</td><td style = \"text-align: left;\">[-0.0226365, 0.999129, -0.0350513]</td><td style = \"text-align: left;\">56.8498</td><td style = \"text-align: left;\">[28.9006, 1.56663, 25.992]</td><td style = \"text-align: left;\">-10.3559</td><td style = \"text-align: left;\">1x2122 TrjArray{Float64, Int64}\\n|    20.91    51.89    13.34 |  …      29.19    61.72    17.49 |</td></tr><tr><td class = \"rowNumber\" style = \"font-weight: bold; text-align: right;\">99995</td><td style = \"text-align: left;\">1000/complex.95.pdb</td><td style = \"text-align: left;\">940.399</td><td style = \"text-align: left;\">[0.917197, -0.373588, -0.138498]</td><td style = \"text-align: left;\">108.418</td><td style = \"text-align: left;\">[21.987, 46.3024, 20.7106]</td><td style = \"text-align: left;\">7.49327</td><td style = \"text-align: left;\">1x2122 TrjArray{Float64, Int64}\\n|    20.91    51.89    13.34 |  …      29.34    32.78    46.05 |</td></tr><tr><td class = \"rowNumber\" style = \"font-weight: bold; text-align: right;\">99996</td><td style = \"text-align: left;\">1000/complex.96.pdb</td><td style = \"text-align: left;\">939.707</td><td style = \"text-align: left;\">[-0.106843, 0.904887, -0.412025]</td><td style = \"text-align: left;\">88.3741</td><td style = \"text-align: left;\">[20.9703, 25.373, 50.2861]</td><td style = \"text-align: left;\">-24.5418</td><td style = \"text-align: left;\">1x2122 TrjArray{Float64, Int64}\\n|    20.91    51.89    13.34 |  …      11.65    42.87    21.95 |</td></tr><tr><td class = \"rowNumber\" style = \"font-weight: bold; text-align: right;\">99997</td><td style = \"text-align: left;\">1000/complex.97.pdb</td><td style = \"text-align: left;\">938.849</td><td style = \"text-align: left;\">[0.936483, -0.286358, -0.202483]</td><td style = \"text-align: left;\">87.9864</td><td style = \"text-align: left;\">[18.6527, 48.8775, 17.1447]</td><td style = \"text-align: left;\">5.60469</td><td style = \"text-align: left;\">1x2122 TrjArray{Float64, Int64}\\n|    20.91    51.89    13.34 |  …      33.71    39.34    41.12 |</td></tr><tr><td class = \"rowNumber\" style = \"font-weight: bold; text-align: right;\">99998</td><td style = \"text-align: left;\">1000/complex.98.pdb</td><td style = \"text-align: left;\">938.662</td><td style = \"text-align: left;\">[0.361754, 0.327673, 0.872791]</td><td style = \"text-align: left;\">58.4931</td><td style = \"text-align: left;\">[5.07127, 38.5635, -16.5799]</td><td style = \"text-align: left;\">16.6756</td><td style = \"text-align: left;\">1x2122 TrjArray{Float64, Int64}\\n|    20.91    51.89    13.34 |  …      20.89    79.68    42.99 |</td></tr><tr><td class = \"rowNumber\" style = \"font-weight: bold; text-align: right;\">99999</td><td style = \"text-align: left;\">1000/complex.99.pdb</td><td style = \"text-align: left;\">938.239</td><td style = \"text-align: left;\">[0.314219, -0.570372, -0.758908]</td><td style = \"text-align: left;\">103.345</td><td style = \"text-align: left;\">[8.71154, 23.2337, -13.8548]</td><td style = \"text-align: left;\">-18.1915</td><td style = \"text-align: left;\">1x2122 TrjArray{Float64, Int64}\\n|    20.91    51.89    13.34 |  …      -4.20    26.12    64.46 |</td></tr><tr><td class = \"rowNumber\" style = \"font-weight: bold; text-align: right;\">100000</td><td style = \"text-align: left;\">1000/complex.100.pdb</td><td style = \"text-align: left;\">937.482</td><td style = \"text-align: left;\">[-0.265862, 0.959709, -0.0909711]</td><td style = \"text-align: left;\">69.9359</td><td style = \"text-align: left;\">[37.614, 13.489, 32.3769]</td><td style = \"text-align: left;\">-12.0018</td><td style = \"text-align: left;\">1x2122 TrjArray{Float64, Int64}\\n|    20.91    51.89    13.34 |  …      24.32    56.67    15.17 |</td></tr></tbody></table></div>"
      ],
      "text/latex": [
       "\\begin{tabular}{r|cccccc}\n",
       "\t& fnames & score & omega & phi & prou & \\\\\n",
       "\t\\hline\n",
       "\t& Any & Any & Any & Any & Any & \\\\\n",
       "\t\\hline\n",
       "\t1 & 1/complex.1.pdb & 1382.62 & [-0.288356, -0.776062, -0.560873] & 178.482 & [0.618983, 2.25688, -3.44101] & $\\dots$ \\\\\n",
       "\t2 & 1/complex.2.pdb & 1268.85 & [-0.666085, -0.694759, -0.271367] & 176.791 & [-22.9733, 10.6354, 29.1604] & $\\dots$ \\\\\n",
       "\t3 & 1/complex.3.pdb & 1220.26 & [7.41491e-5, 0.964482, -0.26415] & 69.9221 & [23.4389, 10.597, 38.699] & $\\dots$ \\\\\n",
       "\t4 & 1/complex.4.pdb & 1148.32 & [0.810048, -0.0792923, 0.580978] & 92.9537 & [-10.3575, 71.09, 24.1436] & $\\dots$ \\\\\n",
       "\t5 & 1/complex.5.pdb & 1132.07 & [0.723961, -0.219214, 0.654085] & 90.5074 & [-0.910044, 50.7296, 18.0091] & $\\dots$ \\\\\n",
       "\t6 & 1/complex.6.pdb & 1115.83 & [-0.294075, 0.908303, -0.2975] & 66.8091 & [35.4869, 24.5698, 39.9362] & $\\dots$ \\\\\n",
       "\t7 & 1/complex.7.pdb & 1108.46 & [0.849514, -0.408811, -0.333467] & 173.921 & [29.9593, 49.5108, 15.6244] & $\\dots$ \\\\\n",
       "\t8 & 1/complex.8.pdb & 1102.83 & [-0.644808, 0.413085, -0.643105] & 175.313 & [10.819, 58.0152, 26.4171] & $\\dots$ \\\\\n",
       "\t9 & 1/complex.9.pdb & 1089.06 & [-0.771621, 0.403599, -0.49164] & 87.4786 & [11.4216, 68.3426, 38.178] & $\\dots$ \\\\\n",
       "\t10 & 1/complex.10.pdb & 1077.49 & [-0.606802, 0.541198, -0.582147] & 166.981 & [15.9329, 53.4446, 33.0775] & $\\dots$ \\\\\n",
       "\t11 & 1/complex.11.pdb & 1075.18 & [0.393451, 0.868159, 0.302484] & 179.341 & [-11.7695, -4.66106, 28.6868] & $\\dots$ \\\\\n",
       "\t12 & 1/complex.12.pdb & 1071.16 & [-0.357492, 0.596802, 0.71835] & 154.059 & [20.1326, 22.7491, -8.88076] & $\\dots$ \\\\\n",
       "\t13 & 1/complex.13.pdb & 1069.74 & [-0.33501, 0.797696, -0.501448] & 78.3317 & [25.2679, 42.3357, 50.4659] & $\\dots$ \\\\\n",
       "\t14 & 1/complex.14.pdb & 1069.71 & [-0.438114, 0.49612, 0.749614] & 161.66 & [22.7848, 30.5019, -6.87061] & $\\dots$ \\\\\n",
       "\t15 & 1/complex.15.pdb & 1068.47 & [0.325707, -0.909163, 0.259494] & 73.7128 & [36.4207, 24.3145, 39.4742] & $\\dots$ \\\\\n",
       "\t16 & 1/complex.16.pdb & 1059.89 & [0.470072, 0.867697, 0.161661] & 179.355 & [-20.4153, 8.31377, 14.7396] & $\\dots$ \\\\\n",
       "\t17 & 1/complex.17.pdb & 1058.48 & [0.173699, -0.969343, 0.173791] & 124.042 & [7.34419, 8.9597, 42.6336] & $\\dots$ \\\\\n",
       "\t18 & 1/complex.18.pdb & 1052.63 & [0.333245, -0.847347, 0.413462] & 133.248 & [20.6701, 30.901, 46.6685] & $\\dots$ \\\\\n",
       "\t19 & 1/complex.19.pdb & 1046.22 & [-0.838047, 0.421473, 0.346466] & 168.496 & [30.8326, 49.0816, 14.8719] & $\\dots$ \\\\\n",
       "\t20 & 1/complex.20.pdb & 1044.71 & [-0.264594, -0.960002, -0.091574] & 46.9032 & [12.3982, -4.92658, 15.8238] & $\\dots$ \\\\\n",
       "\t21 & 1/complex.21.pdb & 1039.27 & [-0.926085, -0.242509, 0.289061] & 173.264 & [-5.92242, 56.9194, 28.7788] & $\\dots$ \\\\\n",
       "\t22 & 1/complex.22.pdb & 1034.34 & [0.48619, -0.761137, 0.42929] & 100.858 & [22.4431, 36.3607, 39.0501] & $\\dots$ \\\\\n",
       "\t23 & 1/complex.23.pdb & 1033.2 & [0.880562, -0.456497, -0.127367] & 88.4988 & [24.5942, 42.1651, 18.9096] & $\\dots$ \\\\\n",
       "\t24 & 1/complex.24.pdb & 1026.7 & [-0.152076, 0.984606, -0.0861582] & 59.1528 & [35.3183, 8.1724, 31.0537] & $\\dots$ \\\\\n",
       "\t25 & 1/complex.25.pdb & 1024.87 & [-0.531601, -0.793404, -0.296497] & 179.303 & [-17.7021, 1.79653, 26.9314] & $\\dots$ \\\\\n",
       "\t26 & 1/complex.26.pdb & 1024.4 & [0.0894078, -0.153854, -0.98404] & 177.663 & [15.852, 39.2759, -4.7005] & $\\dots$ \\\\\n",
       "\t27 & 1/complex.27.pdb & 1023.48 & [0.618643, -0.414122, 0.667671] & 168.072 & [11.4942, 59.1352, 26.0283] & $\\dots$ \\\\\n",
       "\t28 & 1/complex.28.pdb & 1019.57 & [-0.67608, -0.725262, -0.130047] & 151.626 & [-28.7355, 23.5769, 17.902] & $\\dots$ \\\\\n",
       "\t29 & 1/complex.29.pdb & 1018.49 & [0.895112, -0.167202, 0.413302] & 92.565 & [-1.74655, 73.0358, 33.3294] & $\\dots$ \\\\\n",
       "\t30 & 1/complex.30.pdb & 1016.81 & [-0.29072, -0.955364, 0.0525437] & 142.743 & [-1.68135, 3.24033, 49.6138] & $\\dots$ \\\\\n",
       "\t$\\dots$ & $\\dots$ & $\\dots$ & $\\dots$ & $\\dots$ & $\\dots$ &  \\\\\n",
       "\\end{tabular}\n"
      ],
      "text/plain": [
       "\u001b[1m100000×7 DataFrame\u001b[0m\n",
       "\u001b[1m    Row \u001b[0m│\u001b[1m fnames               \u001b[0m\u001b[1m score   \u001b[0m\u001b[1m omega                             \u001b[0m\u001b[1m ph\u001b[0m ⋯\n",
       "        │\u001b[90m Any                  \u001b[0m\u001b[90m Any     \u001b[0m\u001b[90m Any                               \u001b[0m\u001b[90m An\u001b[0m ⋯\n",
       "────────┼───────────────────────────────────────────────────────────────────────\n",
       "      1 │ 1/complex.1.pdb       1382.62  [-0.288356, -0.776062, -0.560873]  17 ⋯\n",
       "      2 │ 1/complex.2.pdb       1268.85  [-0.666085, -0.694759, -0.271367]  17\n",
       "      3 │ 1/complex.3.pdb       1220.26  [7.41491e-5, 0.964482, -0.26415]   69\n",
       "      4 │ 1/complex.4.pdb       1148.32  [0.810048, -0.0792923, 0.580978]   92\n",
       "      5 │ 1/complex.5.pdb       1132.07  [0.723961, -0.219214, 0.654085]    90 ⋯\n",
       "      6 │ 1/complex.6.pdb       1115.83  [-0.294075, 0.908303, -0.2975]     66\n",
       "      7 │ 1/complex.7.pdb       1108.46  [0.849514, -0.408811, -0.333467]   17\n",
       "      8 │ 1/complex.8.pdb       1102.83  [-0.644808, 0.413085, -0.643105]   17\n",
       "      9 │ 1/complex.9.pdb       1089.06  [-0.771621, 0.403599, -0.49164]    87 ⋯\n",
       "     10 │ 1/complex.10.pdb      1077.49  [-0.606802, 0.541198, -0.582147]   16\n",
       "     11 │ 1/complex.11.pdb      1075.18  [0.393451, 0.868159, 0.302484]     17\n",
       "   ⋮    │          ⋮               ⋮                     ⋮                     ⋱\n",
       "  99991 │ 1000/complex.91.pdb   944.221  [0.607277, -0.206011, 0.767317]    93\n",
       "  99992 │ 1000/complex.92.pdb   942.708  [-0.654962, -0.728684, -0.200113]  16 ⋯\n",
       "  99993 │ 1000/complex.93.pdb   942.698  [0.392289, 0.783312, 0.482215]     17\n",
       "  99994 │ 1000/complex.94.pdb   941.217  [-0.0226365, 0.999129, -0.035051…  56\n",
       "  99995 │ 1000/complex.95.pdb   940.399  [0.917197, -0.373588, -0.138498]   10\n",
       "  99996 │ 1000/complex.96.pdb   939.707  [-0.106843, 0.904887, -0.412025]   88 ⋯\n",
       "  99997 │ 1000/complex.97.pdb   938.849  [0.936483, -0.286358, -0.202483]   87\n",
       "  99998 │ 1000/complex.98.pdb   938.662  [0.361754, 0.327673, 0.872791]     58\n",
       "  99999 │ 1000/complex.99.pdb   938.239  [0.314219, -0.570372, -0.758908]   10\n",
       " 100000 │ 1000/complex.100.pdb  937.482  [-0.265862, 0.959709, -0.0909711]  69 ⋯\n",
       "\u001b[36m                                                4 columns and 99979 rows omitted\u001b[0m"
      ]
     },
     "execution_count": 29,
     "metadata": {},
     "output_type": "execute_result"
    }
   ],
   "source": [
    "df = DataFrame(fnames=fnames, score=score, omega=omega, phi=phi, prou=prou, d=d, struc=struc)"
   ]
  },
  {
   "cell_type": "code",
   "execution_count": 30,
   "id": "0225efef-539c-4fc1-b11c-3bf14df6c8f4",
   "metadata": {},
   "outputs": [],
   "source": [
    "df_org = deepcopy(df);"
   ]
  },
  {
   "cell_type": "code",
   "execution_count": 31,
   "id": "cc488138-9e57-416a-bdf4-0dd7f7ca8614",
   "metadata": {},
   "outputs": [],
   "source": [
    "#using BSON: @save, @load\n",
    "#@save \"skrew_parameters.bson\" fnames score omega phi prou d df rmsd"
   ]
  },
  {
   "cell_type": "code",
   "execution_count": 32,
   "id": "88b16d7e-2d7a-4759-874c-3d3cbead8916",
   "metadata": {},
   "outputs": [],
   "source": [
    "#using BSON: @save, @load\n",
    "#@save \"df.bson\" df"
   ]
  },
  {
   "cell_type": "code",
   "execution_count": 33,
   "id": "c9400341-a639-4e7c-86f5-6baf593f4f50",
   "metadata": {},
   "outputs": [],
   "source": [
    "using JLD2\n",
    "\n",
    "save(\"skrew_parameters.jld2\", \"fnames\", fnames, \"score\", score, \"omega\", omega, \"phi\", phi, \"prou\", prou, \"d\", d, \"df\", df, \"rmsd\", rmsd)\n",
    "save(\"df.jld2\", \"df\", df)"
   ]
  },
  {
   "cell_type": "code",
   "execution_count": 34,
   "id": "a9bdb4a4-c673-4542-90bf-6fe48688cd53",
   "metadata": {},
   "outputs": [],
   "source": [
    "df;"
   ]
  },
  {
   "cell_type": "code",
   "execution_count": null,
   "id": "72846985-7d88-427d-bbdb-99429fa4eb42",
   "metadata": {},
   "outputs": [],
   "source": []
  }
 ],
 "metadata": {
  "kernelspec": {
   "display_name": "julia 1.10.1",
   "language": "julia",
   "name": "julia-1.10"
  },
  "language_info": {
   "file_extension": ".jl",
   "mimetype": "application/julia",
   "name": "julia",
   "version": "1.10.1"
  }
 },
 "nbformat": 4,
 "nbformat_minor": 5
}
