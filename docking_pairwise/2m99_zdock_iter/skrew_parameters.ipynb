{
 "cells": [
  {
   "cell_type": "markdown",
   "id": "62a9d42f-dcfb-4d04-b7ee-aeab2626fe19",
   "metadata": {},
   "source": [
    "# 2m99"
   ]
  },
  {
   "cell_type": "code",
   "execution_count": 1,
   "id": "c2b6edbc-2a9f-438b-9e0d-1fb076e39d0e",
   "metadata": {},
   "outputs": [
    {
     "name": "stderr",
     "output_type": "stream",
     "text": [
      "┌ Info: Precompiling Plots [91a5bcdd-55d7-5caf-9e0b-520d859cae80]\n",
      "└ @ Base loading.jl:1423\n",
      "┌ Info: Precompiling MDToolbox [7965e2f0-a35b-11e8-0207-19c030dd2def]\n",
      "└ @ Base loading.jl:1423\n"
     ]
    }
   ],
   "source": [
    "using Printf, DelimitedFiles\n",
    "using Plots\n",
    "using DataFrames\n",
    "using Revise, MDToolbox"
   ]
  },
  {
   "cell_type": "code",
   "execution_count": 2,
   "id": "c9373fbf-44a1-4c9b-88e3-5bb66950ae03",
   "metadata": {},
   "outputs": [
    {
     "data": {
      "text/plain": [
       "read_ascii (generic function with 1 method)"
      ]
     },
     "execution_count": 2,
     "metadata": {},
     "output_type": "execute_result"
    }
   ],
   "source": [
    "function read_ascii(fname)\n",
    "    lines = readlines(fname)\n",
    "    natom = length(lines) - 1\n",
    "    xyz = zeros(Float64, 1, natom*3)\n",
    "    for i = 1:natom\n",
    "        xyz[1, 3*(i-1)+1] = parse(Float64, lines[i+1][31:38])\n",
    "        xyz[1, 3*(i-1)+2] = parse(Float64, lines[i+1][39:46])\n",
    "        xyz[1, 3*(i-1)+3] = parse(Float64, lines[i+1][47:54])\n",
    "    end\n",
    "    TrjArray(xyz=xyz)\n",
    "end"
   ]
  },
  {
   "cell_type": "code",
   "execution_count": 3,
   "id": "fa858e0e-6890-4489-953b-936b481fa4aa",
   "metadata": {},
   "outputs": [
    {
     "data": {
      "text/plain": [
       "Any[]"
      ]
     },
     "execution_count": 3,
     "metadata": {},
     "output_type": "execute_result"
    }
   ],
   "source": [
    "fnames = []\n",
    "omega = []\n",
    "phi = []\n",
    "prou = []\n",
    "d = []\n",
    "score = []\n",
    "rmsd = []\n",
    "struc = []"
   ]
  },
  {
   "cell_type": "code",
   "execution_count": 4,
   "id": "32f8cbb0-c23b-4139-a37d-d0cb8a807005",
   "metadata": {},
   "outputs": [
    {
     "data": {
      "text/plain": [
       "1000"
      ]
     },
     "execution_count": 4,
     "metadata": {},
     "output_type": "execute_result"
    }
   ],
   "source": [
    "nrun = 1000"
   ]
  },
  {
   "cell_type": "code",
   "execution_count": 5,
   "id": "a9238faf-a6c3-43f9-8e58-bd5847247e2a",
   "metadata": {},
   "outputs": [],
   "source": [
    "for irun = 1:nrun\n",
    "\n",
    "    for i in 1:100\n",
    "        filename = \"$(irun)/complex.$(i).pdb\"\n",
    "        #t = mdload(filename)\n",
    "        #t = MDToolbox.readpdb_biostructures(filename)\n",
    "        t = read_ascii(filename)\n",
    "        t1 = t[:, 1:446]\n",
    "        t2 = t[:, 447:end]\n",
    "        r = MDToolbox.compute_skrew(t1, t2)\n",
    "        push!(fnames, filename)\n",
    "        push!(omega, r.omega)\n",
    "        push!(phi, r.phi / (2.0 * pi) * 360.0)\n",
    "        push!(prou, r.prou)\n",
    "        push!(d, r.d)\n",
    "        push!(struc, t)\n",
    "        #t_ca = t[\"atomname CA\"]\n",
    "        #push!(rmsd, compute_rmsd_permute(ref, t_ca, 2))\n",
    "    end\n",
    "\n",
    "    s = readdlm(\"$(irun)/zdock.out\", skipstart=5)\n",
    "    score = [score; s[1:100, end]]\n",
    "end"
   ]
  },
  {
   "cell_type": "code",
   "execution_count": 6,
   "id": "8d2ad93d-8d57-4b90-abfa-976cf23638b0",
   "metadata": {},
   "outputs": [
    {
     "data": {
      "text/html": [
       "<div class=\"data-frame\"><p>100,000 rows × 7 columns (omitted printing of 2 columns)</p><table class=\"data-frame\"><thead><tr><th></th><th>fnames</th><th>score</th><th>omega</th><th>phi</th><th>prou</th></tr><tr><th></th><th title=\"Any\">Any</th><th title=\"Any\">Any</th><th title=\"Any\">Any</th><th title=\"Any\">Any</th><th title=\"Any\">Any</th></tr></thead><tbody><tr><th>1</th><td>1/complex.1.pdb</td><td>1646.24</td><td>[-0.805249, 0.582729, 0.109552]</td><td>167.029</td><td>[-2.86018, -2.90684, -5.56133]</td></tr><tr><th>2</th><td>1/complex.2.pdb</td><td>1644.4</td><td>[0.0371922, -0.995517, 0.0869669]</td><td>176.439</td><td>[-9.41837, -0.757952, -4.64847]</td></tr><tr><th>3</th><td>1/complex.3.pdb</td><td>1585.86</td><td>[0.968191, 0.11526, -0.222082]</td><td>175.092</td><td>[-1.51944, 0.0777383, -6.5838]</td></tr><tr><th>4</th><td>1/complex.4.pdb</td><td>1577.66</td><td>[0.290913, 0.910902, -0.29262]</td><td>174.078</td><td>[-7.69357, 0.746557, -5.32471]</td></tr><tr><th>5</th><td>1/complex.5.pdb</td><td>1533.09</td><td>[0.83827, -0.53273, -0.116194]</td><td>163.435</td><td>[-2.18853, -2.10672, -6.13001]</td></tr><tr><th>6</th><td>1/complex.6.pdb</td><td>1519.82</td><td>[-0.272574, -0.935829, 0.223446]</td><td>170.907</td><td>[-7.75707, 0.941257, -5.52043]</td></tr><tr><th>7</th><td>1/complex.7.pdb</td><td>1514.35</td><td>[0.856241, -0.513057, -0.060194]</td><td>176.651</td><td>[-1.77223, -2.27504, -5.81839]</td></tr><tr><th>8</th><td>1/complex.8.pdb</td><td>1511.18</td><td>[0.783555, -0.621293, 0.00604816]</td><td>168.367</td><td>[-2.62678, -3.36159, -5.01081]</td></tr><tr><th>9</th><td>1/complex.9.pdb</td><td>1504.29</td><td>[-0.114989, -0.987773, 0.105273]</td><td>179.183</td><td>[-7.36353, 0.260465, -5.59919]</td></tr><tr><th>10</th><td>1/complex.10.pdb</td><td>1470.25</td><td>[0.907056, -0.389784, -0.159112]</td><td>173.784</td><td>[-1.41814, -0.643081, -6.50907]</td></tr><tr><th>11</th><td>1/complex.11.pdb</td><td>1456.89</td><td>[-0.792311, 0.608299, -0.0470638]</td><td>177.505</td><td>[-2.7604, -3.9532, -4.62433]</td></tr><tr><th>12</th><td>1/complex.12.pdb</td><td>1437.5</td><td>[-0.87583, 0.454615, 0.16201]</td><td>166.222</td><td>[-2.22242, -1.97569, -6.47046]</td></tr><tr><th>13</th><td>1/complex.13.pdb</td><td>1415.31</td><td>[0.524398, 0.800848, -0.289222]</td><td>173.135</td><td>[-5.07557, 1.35547, -5.44942]</td></tr><tr><th>14</th><td>1/complex.14.pdb</td><td>1413.98</td><td>[0.155489, 0.95672, -0.24599]</td><td>173.725</td><td>[-3.61671, -1.08771, -6.51652]</td></tr><tr><th>15</th><td>1/complex.15.pdb</td><td>1412.09</td><td>[-0.271865, -0.88089, 0.387457]</td><td>176.434</td><td>[-8.03231, 0.0454369, -5.53269]</td></tr><tr><th>16</th><td>1/complex.16.pdb</td><td>1394.65</td><td>[-0.964432, 0.209962, 0.160583]</td><td>177.351</td><td>[-1.51458, -2.01819, -6.45753]</td></tr><tr><th>17</th><td>1/complex.17.pdb</td><td>1385.18</td><td>[-0.139099, 0.974236, -0.177526]</td><td>176.643</td><td>[-9.56227, -2.18019, -4.47212]</td></tr><tr><th>18</th><td>1/complex.18.pdb</td><td>1381.69</td><td>[0.502189, 0.764449, -0.404257]</td><td>179.375</td><td>[-5.35917, 0.362533, -5.97189]</td></tr><tr><th>19</th><td>1/complex.19.pdb</td><td>1381.46</td><td>[-0.143375, -0.93298, 0.33014]</td><td>175.219</td><td>[-9.24627, -0.261673, -4.755]</td></tr><tr><th>20</th><td>1/complex.20.pdb</td><td>1377.06</td><td>[0.268433, 0.954968, -0.126412]</td><td>179.268</td><td>[-7.40564, 1.33788, -5.61884]</td></tr><tr><th>21</th><td>1/complex.21.pdb</td><td>1375.57</td><td>[-0.0575881, -0.997981, -0.0267703]</td><td>171.124</td><td>[-7.00492, 0.558888, -5.76609]</td></tr><tr><th>22</th><td>1/complex.22.pdb</td><td>1374.86</td><td>[-0.910081, 0.325244, 0.256843]</td><td>172.966</td><td>[-1.89136, 0.498559, -7.33306]</td></tr><tr><th>23</th><td>1/complex.23.pdb</td><td>1360.37</td><td>[0.416057, 0.88459, -0.210704]</td><td>178.251</td><td>[-7.45604, 2.17978, -5.57143]</td></tr><tr><th>24</th><td>1/complex.24.pdb</td><td>1357.52</td><td>[-0.627903, 0.777716, -0.0299427]</td><td>176.617</td><td>[-5.04797, -4.24174, -4.31604]</td></tr><tr><th>25</th><td>1/complex.25.pdb</td><td>1354.54</td><td>[0.976336, -0.0581432, -0.208296]</td><td>179.704</td><td>[-1.48455, 0.00371296, -6.95947]</td></tr><tr><th>26</th><td>1/complex.26.pdb</td><td>1354.09</td><td>[-0.844291, 0.489673, 0.2177]</td><td>178.685</td><td>[-2.36636, -1.23235, -6.40536]</td></tr><tr><th>27</th><td>1/complex.27.pdb</td><td>1354.08</td><td>[0.857824, -0.50336, -0.103762]</td><td>42.559</td><td>[-10.1677, -16.3316, -4.83258]</td></tr><tr><th>28</th><td>1/complex.28.pdb</td><td>1340.81</td><td>[-0.936379, 0.192885, 0.293239]</td><td>154.02</td><td>[-2.13489, 0.488804, -7.1387]</td></tr><tr><th>29</th><td>1/complex.29.pdb</td><td>1337.34</td><td>[-0.124133, -0.974191, 0.188529]</td><td>167.754</td><td>[-8.0818, -0.0504002, -5.58172]</td></tr><tr><th>30</th><td>1/complex.30.pdb</td><td>1330.92</td><td>[0.0282493, 0.994338, 0.102437]</td><td>177.108</td><td>[-10.1877, 0.865449, -5.59124]</td></tr><tr><th>&vellip;</th><td>&vellip;</td><td>&vellip;</td><td>&vellip;</td><td>&vellip;</td><td>&vellip;</td></tr></tbody></table></div>"
      ],
      "text/latex": [
       "\\begin{tabular}{r|cccccc}\n",
       "\t& fnames & score & omega & phi & prou & \\\\\n",
       "\t\\hline\n",
       "\t& Any & Any & Any & Any & Any & \\\\\n",
       "\t\\hline\n",
       "\t1 & 1/complex.1.pdb & 1646.24 & [-0.805249, 0.582729, 0.109552] & 167.029 & [-2.86018, -2.90684, -5.56133] & $\\dots$ \\\\\n",
       "\t2 & 1/complex.2.pdb & 1644.4 & [0.0371922, -0.995517, 0.0869669] & 176.439 & [-9.41837, -0.757952, -4.64847] & $\\dots$ \\\\\n",
       "\t3 & 1/complex.3.pdb & 1585.86 & [0.968191, 0.11526, -0.222082] & 175.092 & [-1.51944, 0.0777383, -6.5838] & $\\dots$ \\\\\n",
       "\t4 & 1/complex.4.pdb & 1577.66 & [0.290913, 0.910902, -0.29262] & 174.078 & [-7.69357, 0.746557, -5.32471] & $\\dots$ \\\\\n",
       "\t5 & 1/complex.5.pdb & 1533.09 & [0.83827, -0.53273, -0.116194] & 163.435 & [-2.18853, -2.10672, -6.13001] & $\\dots$ \\\\\n",
       "\t6 & 1/complex.6.pdb & 1519.82 & [-0.272574, -0.935829, 0.223446] & 170.907 & [-7.75707, 0.941257, -5.52043] & $\\dots$ \\\\\n",
       "\t7 & 1/complex.7.pdb & 1514.35 & [0.856241, -0.513057, -0.060194] & 176.651 & [-1.77223, -2.27504, -5.81839] & $\\dots$ \\\\\n",
       "\t8 & 1/complex.8.pdb & 1511.18 & [0.783555, -0.621293, 0.00604816] & 168.367 & [-2.62678, -3.36159, -5.01081] & $\\dots$ \\\\\n",
       "\t9 & 1/complex.9.pdb & 1504.29 & [-0.114989, -0.987773, 0.105273] & 179.183 & [-7.36353, 0.260465, -5.59919] & $\\dots$ \\\\\n",
       "\t10 & 1/complex.10.pdb & 1470.25 & [0.907056, -0.389784, -0.159112] & 173.784 & [-1.41814, -0.643081, -6.50907] & $\\dots$ \\\\\n",
       "\t11 & 1/complex.11.pdb & 1456.89 & [-0.792311, 0.608299, -0.0470638] & 177.505 & [-2.7604, -3.9532, -4.62433] & $\\dots$ \\\\\n",
       "\t12 & 1/complex.12.pdb & 1437.5 & [-0.87583, 0.454615, 0.16201] & 166.222 & [-2.22242, -1.97569, -6.47046] & $\\dots$ \\\\\n",
       "\t13 & 1/complex.13.pdb & 1415.31 & [0.524398, 0.800848, -0.289222] & 173.135 & [-5.07557, 1.35547, -5.44942] & $\\dots$ \\\\\n",
       "\t14 & 1/complex.14.pdb & 1413.98 & [0.155489, 0.95672, -0.24599] & 173.725 & [-3.61671, -1.08771, -6.51652] & $\\dots$ \\\\\n",
       "\t15 & 1/complex.15.pdb & 1412.09 & [-0.271865, -0.88089, 0.387457] & 176.434 & [-8.03231, 0.0454369, -5.53269] & $\\dots$ \\\\\n",
       "\t16 & 1/complex.16.pdb & 1394.65 & [-0.964432, 0.209962, 0.160583] & 177.351 & [-1.51458, -2.01819, -6.45753] & $\\dots$ \\\\\n",
       "\t17 & 1/complex.17.pdb & 1385.18 & [-0.139099, 0.974236, -0.177526] & 176.643 & [-9.56227, -2.18019, -4.47212] & $\\dots$ \\\\\n",
       "\t18 & 1/complex.18.pdb & 1381.69 & [0.502189, 0.764449, -0.404257] & 179.375 & [-5.35917, 0.362533, -5.97189] & $\\dots$ \\\\\n",
       "\t19 & 1/complex.19.pdb & 1381.46 & [-0.143375, -0.93298, 0.33014] & 175.219 & [-9.24627, -0.261673, -4.755] & $\\dots$ \\\\\n",
       "\t20 & 1/complex.20.pdb & 1377.06 & [0.268433, 0.954968, -0.126412] & 179.268 & [-7.40564, 1.33788, -5.61884] & $\\dots$ \\\\\n",
       "\t21 & 1/complex.21.pdb & 1375.57 & [-0.0575881, -0.997981, -0.0267703] & 171.124 & [-7.00492, 0.558888, -5.76609] & $\\dots$ \\\\\n",
       "\t22 & 1/complex.22.pdb & 1374.86 & [-0.910081, 0.325244, 0.256843] & 172.966 & [-1.89136, 0.498559, -7.33306] & $\\dots$ \\\\\n",
       "\t23 & 1/complex.23.pdb & 1360.37 & [0.416057, 0.88459, -0.210704] & 178.251 & [-7.45604, 2.17978, -5.57143] & $\\dots$ \\\\\n",
       "\t24 & 1/complex.24.pdb & 1357.52 & [-0.627903, 0.777716, -0.0299427] & 176.617 & [-5.04797, -4.24174, -4.31604] & $\\dots$ \\\\\n",
       "\t25 & 1/complex.25.pdb & 1354.54 & [0.976336, -0.0581432, -0.208296] & 179.704 & [-1.48455, 0.00371296, -6.95947] & $\\dots$ \\\\\n",
       "\t26 & 1/complex.26.pdb & 1354.09 & [-0.844291, 0.489673, 0.2177] & 178.685 & [-2.36636, -1.23235, -6.40536] & $\\dots$ \\\\\n",
       "\t27 & 1/complex.27.pdb & 1354.08 & [0.857824, -0.50336, -0.103762] & 42.559 & [-10.1677, -16.3316, -4.83258] & $\\dots$ \\\\\n",
       "\t28 & 1/complex.28.pdb & 1340.81 & [-0.936379, 0.192885, 0.293239] & 154.02 & [-2.13489, 0.488804, -7.1387] & $\\dots$ \\\\\n",
       "\t29 & 1/complex.29.pdb & 1337.34 & [-0.124133, -0.974191, 0.188529] & 167.754 & [-8.0818, -0.0504002, -5.58172] & $\\dots$ \\\\\n",
       "\t30 & 1/complex.30.pdb & 1330.92 & [0.0282493, 0.994338, 0.102437] & 177.108 & [-10.1877, 0.865449, -5.59124] & $\\dots$ \\\\\n",
       "\t$\\dots$ & $\\dots$ & $\\dots$ & $\\dots$ & $\\dots$ & $\\dots$ &  \\\\\n",
       "\\end{tabular}\n"
      ],
      "text/plain": [
       "\u001b[1m100000×7 DataFrame\u001b[0m\n",
       "\u001b[1m    Row \u001b[0m│\u001b[1m fnames               \u001b[0m\u001b[1m score   \u001b[0m\u001b[1m omega                             \u001b[0m\u001b[1m ph\u001b[0m ⋯\n",
       "\u001b[1m        \u001b[0m│\u001b[90m Any                  \u001b[0m\u001b[90m Any     \u001b[0m\u001b[90m Any                               \u001b[0m\u001b[90m An\u001b[0m ⋯\n",
       "────────┼───────────────────────────────────────────────────────────────────────\n",
       "      1 │ 1/complex.1.pdb       1646.24  [-0.805249, 0.582729, 0.109552]    16 ⋯\n",
       "      2 │ 1/complex.2.pdb       1644.4   [0.0371922, -0.995517, 0.0869669]  17\n",
       "      3 │ 1/complex.3.pdb       1585.86  [0.968191, 0.11526, -0.222082]     17\n",
       "      4 │ 1/complex.4.pdb       1577.66  [0.290913, 0.910902, -0.29262]     17\n",
       "      5 │ 1/complex.5.pdb       1533.09  [0.83827, -0.53273, -0.116194]     16 ⋯\n",
       "      6 │ 1/complex.6.pdb       1519.82  [-0.272574, -0.935829, 0.223446]   17\n",
       "      7 │ 1/complex.7.pdb       1514.35  [0.856241, -0.513057, -0.060194]   17\n",
       "      8 │ 1/complex.8.pdb       1511.18  [0.783555, -0.621293, 0.00604816]  16\n",
       "      9 │ 1/complex.9.pdb       1504.29  [-0.114989, -0.987773, 0.105273]   17 ⋯\n",
       "     10 │ 1/complex.10.pdb      1470.25  [0.907056, -0.389784, -0.159112]   17\n",
       "     11 │ 1/complex.11.pdb      1456.89  [-0.792311, 0.608299, -0.0470638]  17\n",
       "   ⋮    │          ⋮               ⋮                     ⋮                     ⋱\n",
       "  99991 │ 1000/complex.91.pdb   1203.45  [-0.964538, 0.0671155, 0.25527]    12\n",
       "  99992 │ 1000/complex.92.pdb   1201.21  [0.441664, 0.790513, -0.42429]     17 ⋯\n",
       "  99993 │ 1000/complex.93.pdb   1200.63  [0.124991, -0.920822, -0.369409]   17\n",
       "  99994 │ 1000/complex.94.pdb   1200.33  [0.602958, -0.796159, -0.0507136]  17\n",
       "  99995 │ 1000/complex.95.pdb   1199.98  [-0.907484, 0.262029, 0.32835]     17\n",
       "  99996 │ 1000/complex.96.pdb   1199.97  [0.593363, 0.343133, -0.728135]    85 ⋯\n",
       "  99997 │ 1000/complex.97.pdb   1199.62  [-0.119383, 0.254149, 0.959769]    16\n",
       "  99998 │ 1000/complex.98.pdb   1199.12  [0.486204, -0.583173, -0.65078]    40\n",
       "  99999 │ 1000/complex.99.pdb   1198.23  [-0.530737, -0.837829, 0.127909]   16\n",
       " 100000 │ 1000/complex.100.pdb  1198.17  [-0.742383, -0.666758, 0.0655796]  16 ⋯\n",
       "\u001b[36m                                                4 columns and 99979 rows omitted\u001b[0m"
      ]
     },
     "execution_count": 6,
     "metadata": {},
     "output_type": "execute_result"
    }
   ],
   "source": [
    "df = DataFrame(fnames=fnames, score=score, omega=omega, phi=phi, prou=prou, d=d, struc=struc)"
   ]
  },
  {
   "cell_type": "code",
   "execution_count": 7,
   "id": "0225efef-539c-4fc1-b11c-3bf14df6c8f4",
   "metadata": {},
   "outputs": [],
   "source": [
    "df_org = deepcopy(df);"
   ]
  },
  {
   "cell_type": "code",
   "execution_count": 8,
   "id": "cc488138-9e57-416a-bdf4-0dd7f7ca8614",
   "metadata": {},
   "outputs": [],
   "source": [
    "#using BSON: @save, @load\n",
    "#@save \"skrew_parameters.bson\" fnames score omega phi prou d df rmsd"
   ]
  },
  {
   "cell_type": "code",
   "execution_count": 9,
   "id": "88b16d7e-2d7a-4759-874c-3d3cbead8916",
   "metadata": {},
   "outputs": [],
   "source": [
    "#using BSON: @save, @load\n",
    "#@save \"df.bson\" df"
   ]
  },
  {
   "cell_type": "code",
   "execution_count": 10,
   "id": "c9400341-a639-4e7c-86f5-6baf593f4f50",
   "metadata": {},
   "outputs": [],
   "source": [
    "using JLD2\n",
    "\n",
    "save(\"skrew_parameters.jld2\", \"fnames\", fnames, \"score\", score, \"omega\", omega, \"phi\", phi, \"prou\", prou, \"d\", d, \"df\", df, \"rmsd\", rmsd)\n",
    "save(\"df.jld2\", \"df\", df)"
   ]
  },
  {
   "cell_type": "code",
   "execution_count": null,
   "id": "a9bdb4a4-c673-4542-90bf-6fe48688cd53",
   "metadata": {},
   "outputs": [],
   "source": []
  }
 ],
 "metadata": {
  "kernelspec": {
   "name": "julia-1.7"
  },
  "language_info": {
   "file_extension": ".jl",
   "mimetype": "application/julia",
   "name": "julia",
   "version": "1.7.2"
  }
 },
 "nbformat": 4,
 "nbformat_minor": 5
}
