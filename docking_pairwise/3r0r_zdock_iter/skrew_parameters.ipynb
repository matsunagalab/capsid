{
 "cells": [
  {
   "cell_type": "markdown",
   "id": "62a9d42f-dcfb-4d04-b7ee-aeab2626fe19",
   "metadata": {},
   "source": [
    "# 3r0r"
   ]
  },
  {
   "cell_type": "code",
   "execution_count": 1,
   "id": "c2b6edbc-2a9f-438b-9e0d-1fb076e39d0e",
   "metadata": {},
   "outputs": [],
   "source": [
    "using Printf, DelimitedFiles\n",
    "using Plots\n",
    "using DataFrames\n",
    "using Revise, MDToolbox"
   ]
  },
  {
   "cell_type": "code",
   "execution_count": 2,
   "id": "c9373fbf-44a1-4c9b-88e3-5bb66950ae03",
   "metadata": {},
   "outputs": [
    {
     "data": {
      "text/plain": [
       "read_ascii (generic function with 1 method)"
      ]
     },
     "execution_count": 2,
     "metadata": {},
     "output_type": "execute_result"
    }
   ],
   "source": [
    "function read_ascii(fname)\n",
    "    lines = readlines(fname)\n",
    "    natom = length(lines) - 1\n",
    "    xyz = zeros(Float64, 1, natom*3)\n",
    "    for i = 1:natom\n",
    "        xyz[1, 3*(i-1)+1] = parse(Float64, lines[i+1][31:38])\n",
    "        xyz[1, 3*(i-1)+2] = parse(Float64, lines[i+1][39:46])\n",
    "        xyz[1, 3*(i-1)+3] = parse(Float64, lines[i+1][47:54])\n",
    "    end\n",
    "    TrjArray(xyz=xyz)\n",
    "end"
   ]
  },
  {
   "cell_type": "code",
   "execution_count": 3,
   "id": "fa858e0e-6890-4489-953b-936b481fa4aa",
   "metadata": {},
   "outputs": [
    {
     "data": {
      "text/plain": [
       "Any[]"
      ]
     },
     "execution_count": 3,
     "metadata": {},
     "output_type": "execute_result"
    }
   ],
   "source": [
    "fnames = []\n",
    "omega = []\n",
    "phi = []\n",
    "prou = []\n",
    "d = []\n",
    "score = []\n",
    "rmsd = []\n",
    "struc = []"
   ]
  },
  {
   "cell_type": "code",
   "execution_count": 4,
   "id": "32f8cbb0-c23b-4139-a37d-d0cb8a807005",
   "metadata": {},
   "outputs": [
    {
     "data": {
      "text/plain": [
       "1000"
      ]
     },
     "execution_count": 4,
     "metadata": {},
     "output_type": "execute_result"
    }
   ],
   "source": [
    "nrun = 1000"
   ]
  },
  {
   "cell_type": "code",
   "execution_count": 5,
   "id": "a9238faf-a6c3-43f9-8e58-bd5847247e2a",
   "metadata": {},
   "outputs": [
    {
     "name": "stdout",
     "output_type": "stream",
     "text": [
      "irun = 100irun = 200irun = 300irun = 400irun = 500irun = 600irun = 700irun = 800irun = 900irun = 1000"
     ]
    }
   ],
   "source": [
    "for irun = 1:nrun\n",
    "\n",
    "    if irun % 100 == 0\n",
    "        print(\"irun = $irun\")\n",
    "    end\n",
    "    for i in 1:100\n",
    "        filename = \"$(irun)/complex.$(i).pdb\"\n",
    "        #t = mdload(filename)\n",
    "        #t = MDToolbox.readpdb_biostructures(filename)\n",
    "        t = read_ascii(filename)\n",
    "        t1 = t[:, 1:1594]\n",
    "        t2 = t[:, 1595:end]\n",
    "        r = MDToolbox.compute_skrew(t1, t2)\n",
    "        push!(fnames, filename)\n",
    "        push!(omega, r.omega)\n",
    "        push!(phi, r.phi / (2.0 * pi) * 360.0)\n",
    "        push!(prou, r.prou)\n",
    "        push!(d, r.d)\n",
    "        push!(struc, t)\n",
    "        #t_ca = t[\"atomname CA\"]\n",
    "        #push!(rmsd, compute_rmsd_permute(ref, t_ca, 2))\n",
    "    end\n",
    "\n",
    "    s = readdlm(\"$(irun)/zdock.out\", skipstart=5)\n",
    "    score = [score; s[1:100, end]]\n",
    "end"
   ]
  },
  {
   "cell_type": "code",
   "execution_count": 6,
   "id": "8d2ad93d-8d57-4b90-abfa-976cf23638b0",
   "metadata": {},
   "outputs": [
    {
     "data": {
      "text/html": [
       "<div><div style = \"float: left;\"><span>100000×7 DataFrame</span></div><div style = \"float: right;\"><span style = \"font-style: italic;\">99975 rows omitted</span></div><div style = \"clear: both;\"></div></div><div class = \"data-frame\" style = \"overflow-x: scroll;\"><table class = \"data-frame\" style = \"margin-bottom: 6px;\"><thead><tr class = \"header\"><th class = \"rowNumber\" style = \"font-weight: bold; text-align: right;\">Row</th><th style = \"text-align: left;\">fnames</th><th style = \"text-align: left;\">score</th><th style = \"text-align: left;\">omega</th><th style = \"text-align: left;\">phi</th><th style = \"text-align: left;\">prou</th><th style = \"text-align: left;\">d</th><th style = \"text-align: left;\">struc</th></tr><tr class = \"subheader headerLastRow\"><th class = \"rowNumber\" style = \"font-weight: bold; text-align: right;\"></th><th title = \"Any\" style = \"text-align: left;\">Any</th><th title = \"Any\" style = \"text-align: left;\">Any</th><th title = \"Any\" style = \"text-align: left;\">Any</th><th title = \"Any\" style = \"text-align: left;\">Any</th><th title = \"Any\" style = \"text-align: left;\">Any</th><th title = \"Any\" style = \"text-align: left;\">Any</th><th title = \"Any\" style = \"text-align: left;\">Any</th></tr></thead><tbody><tr><td class = \"rowNumber\" style = \"font-weight: bold; text-align: right;\">1</td><td style = \"text-align: left;\">1/complex.1.pdb</td><td style = \"text-align: left;\">2438.18</td><td style = \"text-align: left;\">[-0.131239, -0.0738241, -0.988598]</td><td style = \"text-align: left;\">176.45</td><td style = \"text-align: left;\">[2.287, -3.12306, -0.0703888]</td><td style = \"text-align: left;\">0.215519</td><td style = \"text-align: left;\">1x3188 TrjArray{Float64, Int64}\\n|     7.64    -8.73    61.51 |  …      22.36    16.27    88.98 |</td></tr><tr><td class = \"rowNumber\" style = \"font-weight: bold; text-align: right;\">2</td><td style = \"text-align: left;\">1/complex.2.pdb</td><td style = \"text-align: left;\">2019.56</td><td style = \"text-align: left;\">[0.148473, -0.0434833, 0.98796]</td><td style = \"text-align: left;\">177.204</td><td style = \"text-align: left;\">[0.339791, 5.53982, 0.192761]</td><td style = \"text-align: left;\">-0.337493</td><td style = \"text-align: left;\">1x3188 TrjArray{Float64, Int64}\\n|     7.64    -8.73    61.51 |  …      23.16    10.92    91.13 |</td></tr><tr><td class = \"rowNumber\" style = \"font-weight: bold; text-align: right;\">3</td><td style = \"text-align: left;\">1/complex.3.pdb</td><td style = \"text-align: left;\">1977.51</td><td style = \"text-align: left;\">[-0.123651, -0.991774, 0.0330964]</td><td style = \"text-align: left;\">130.459</td><td style = \"text-align: left;\">[11.0909, 0.900187, 68.4116]</td><td style = \"text-align: left;\">6.61822</td><td style = \"text-align: left;\">1x3188 TrjArray{Float64, Int64}\\n|     7.64    -8.73    61.51 |  …      -6.89   -14.94    49.86 |</td></tr><tr><td class = \"rowNumber\" style = \"font-weight: bold; text-align: right;\">4</td><td style = \"text-align: left;\">1/complex.4.pdb</td><td style = \"text-align: left;\">1938.64</td><td style = \"text-align: left;\">[0.320035, -0.0694202, 0.944859]</td><td style = \"text-align: left;\">176.962</td><td style = \"text-align: left;\">[-10.4778, 25.9029, 5.45206]</td><td style = \"text-align: left;\">0.956278</td><td style = \"text-align: left;\">1x3188 TrjArray{Float64, Int64}\\n|     7.64    -8.73    61.51 |  …      33.01    46.83    89.06 |</td></tr><tr><td class = \"rowNumber\" style = \"font-weight: bold; text-align: right;\">5</td><td style = \"text-align: left;\">1/complex.5.pdb</td><td style = \"text-align: left;\">1927.28</td><td style = \"text-align: left;\">[-0.0410833, 0.854917, 0.517135]</td><td style = \"text-align: left;\">173.882</td><td style = \"text-align: left;\">[13.5648, -31.0287, 52.3737]</td><td style = \"text-align: left;\">-0.322915</td><td style = \"text-align: left;\">1x3188 TrjArray{Float64, Int64}\\n|     7.64    -8.73    61.51 |  …      20.58    15.54    54.29 |</td></tr><tr><td class = \"rowNumber\" style = \"font-weight: bold; text-align: right;\">6</td><td style = \"text-align: left;\">1/complex.6.pdb</td><td style = \"text-align: left;\">1892.77</td><td style = \"text-align: left;\">[-0.967024, 0.0406925, 0.251414]</td><td style = \"text-align: left;\">163.8</td><td style = \"text-align: left;\">[19.1629, 19.823, 70.4985]</td><td style = \"text-align: left;\">-26.9341</td><td style = \"text-align: left;\">1x3188 TrjArray{Float64, Int64}\\n|     7.64    -8.73    61.51 |  …      26.98    52.41    58.33 |</td></tr><tr><td class = \"rowNumber\" style = \"font-weight: bold; text-align: right;\">7</td><td style = \"text-align: left;\">1/complex.7.pdb</td><td style = \"text-align: left;\">1860.98</td><td style = \"text-align: left;\">[0.993216, -0.112046, 0.0311206]</td><td style = \"text-align: left;\">161.789</td><td style = \"text-align: left;\">[0.37101, 21.7032, 66.2993]</td><td style = \"text-align: left;\">-25.3667</td><td style = \"text-align: left;\">1x3188 TrjArray{Float64, Int64}\\n|     7.64    -8.73    61.51 |  …     -12.19    42.74    31.32 |</td></tr><tr><td class = \"rowNumber\" style = \"font-weight: bold; text-align: right;\">8</td><td style = \"text-align: left;\">1/complex.8.pdb</td><td style = \"text-align: left;\">1854.27</td><td style = \"text-align: left;\">[-0.0461843, 0.940935, -0.335422]</td><td style = \"text-align: left;\">129.447</td><td style = \"text-align: left;\">[10.2844, 26.0568, 71.679]</td><td style = \"text-align: left;\">-17.4496</td><td style = \"text-align: left;\">1x3188 TrjArray{Float64, Int64}\\n|     7.64    -8.73    61.51 |  …      23.77   -27.18    90.04 |</td></tr><tr><td class = \"rowNumber\" style = \"font-weight: bold; text-align: right;\">9</td><td style = \"text-align: left;\">1/complex.9.pdb</td><td style = \"text-align: left;\">1854.04</td><td style = \"text-align: left;\">[0.718009, -0.401641, 0.56846]</td><td style = \"text-align: left;\">176.099</td><td style = \"text-align: left;\">[-24.343, 16.0746, 42.1044]</td><td style = \"text-align: left;\">-0.486495</td><td style = \"text-align: left;\">1x3188 TrjArray{Float64, Int64}\\n|     7.64    -8.73    61.51 |  …      31.62    -9.16    59.05 |</td></tr><tr><td class = \"rowNumber\" style = \"font-weight: bold; text-align: right;\">10</td><td style = \"text-align: left;\">1/complex.10.pdb</td><td style = \"text-align: left;\">1846.45</td><td style = \"text-align: left;\">[-0.124059, -0.99186, -0.0286985]</td><td style = \"text-align: left;\">149.968</td><td style = \"text-align: left;\">[10.1484, -3.25604, 68.6636]</td><td style = \"text-align: left;\">6.93494</td><td style = \"text-align: left;\">1x3188 TrjArray{Float64, Int64}\\n|     7.64    -8.73    61.51 |  …      -0.24   -13.24    44.99 |</td></tr><tr><td class = \"rowNumber\" style = \"font-weight: bold; text-align: right;\">11</td><td style = \"text-align: left;\">1/complex.11.pdb</td><td style = \"text-align: left;\">1845.78</td><td style = \"text-align: left;\">[-0.0196942, 0.0491282, 0.998598]</td><td style = \"text-align: left;\">179.768</td><td style = \"text-align: left;\">[14.3579, 10.5419, -0.235469]</td><td style = \"text-align: left;\">-1.22939</td><td style = \"text-align: left;\">1x3188 TrjArray{Float64, Int64}\\n|     7.64    -8.73    61.51 |  …      19.54    38.47    90.00 |</td></tr><tr><td class = \"rowNumber\" style = \"font-weight: bold; text-align: right;\">12</td><td style = \"text-align: left;\">1/complex.12.pdb</td><td style = \"text-align: left;\">1831.35</td><td style = \"text-align: left;\">[0.040096, -0.155622, -0.987003]</td><td style = \"text-align: left;\">171.88</td><td style = \"text-align: left;\">[14.418, -8.58013, 1.93855]</td><td style = \"text-align: left;\">0.993831</td><td style = \"text-align: left;\">1x3188 TrjArray{Float64, Int64}\\n|     7.64    -8.73    61.51 |  …      13.95    19.80    88.15 |</td></tr><tr><td class = \"rowNumber\" style = \"font-weight: bold; text-align: right;\">13</td><td style = \"text-align: left;\">1/complex.13.pdb</td><td style = \"text-align: left;\">1803.69</td><td style = \"text-align: left;\">[0.0957604, -0.616901, -0.781194]</td><td style = \"text-align: left;\">176.644</td><td style = \"text-align: left;\">[16.8526, -32.4904, 27.7232]</td><td style = \"text-align: left;\">-0.751069</td><td style = \"text-align: left;\">1x3188 TrjArray{Float64, Int64}\\n|     7.64    -8.73    61.51 |  …      13.85    26.82    67.43 |</td></tr><tr><td style = \"text-align: right;\">&vellip;</td><td style = \"text-align: right;\">&vellip;</td><td style = \"text-align: right;\">&vellip;</td><td style = \"text-align: right;\">&vellip;</td><td style = \"text-align: right;\">&vellip;</td><td style = \"text-align: right;\">&vellip;</td><td style = \"text-align: right;\">&vellip;</td><td style = \"text-align: right;\">&vellip;</td></tr><tr><td class = \"rowNumber\" style = \"font-weight: bold; text-align: right;\">99989</td><td style = \"text-align: left;\">1000/complex.89.pdb</td><td style = \"text-align: left;\">1544.09</td><td style = \"text-align: left;\">[0.351889, 0.877285, 0.326414]</td><td style = \"text-align: left;\">65.7216</td><td style = \"text-align: left;\">[12.0451, -18.6678, 37.1873]</td><td style = \"text-align: left;\">20.857</td><td style = \"text-align: left;\">1x3188 TrjArray{Float64, Int64}\\n|     7.64    -8.73    61.51 |  …      63.73    -3.07    80.29 |</td></tr><tr><td class = \"rowNumber\" style = \"font-weight: bold; text-align: right;\">99990</td><td style = \"text-align: left;\">1000/complex.90.pdb</td><td style = \"text-align: left;\">1539.07</td><td style = \"text-align: left;\">[-0.250647, 0.966228, 0.0598322]</td><td style = \"text-align: left;\">128.529</td><td style = \"text-align: left;\">[41.3901, 6.98577, 60.5774]</td><td style = \"text-align: left;\">12.9451</td><td style = \"text-align: left;\">1x3188 TrjArray{Float64, Int64}\\n|     7.64    -8.73    61.51 |  …      87.43    27.64    70.64 |</td></tr><tr><td class = \"rowNumber\" style = \"font-weight: bold; text-align: right;\">99991</td><td style = \"text-align: left;\">1000/complex.91.pdb</td><td style = \"text-align: left;\">1538.2</td><td style = \"text-align: left;\">[-0.436643, -0.894048, 0.100104]</td><td style = \"text-align: left;\">64.7664</td><td style = \"text-align: left;\">[14.8173, -1.00306, 55.6727]</td><td style = \"text-align: left;\">24.0898</td><td style = \"text-align: left;\">1x3188 TrjArray{Float64, Int64}\\n|     7.64    -8.73    61.51 |  …     -32.94   -19.03    70.43 |</td></tr><tr><td class = \"rowNumber\" style = \"font-weight: bold; text-align: right;\">99992</td><td style = \"text-align: left;\">1000/complex.92.pdb</td><td style = \"text-align: left;\">1538.07</td><td style = \"text-align: left;\">[-0.999211, -0.0396266, -0.00252281]</td><td style = \"text-align: left;\">97.4733</td><td style = \"text-align: left;\">[-0.879629, 16.6158, 87.4061]</td><td style = \"text-align: left;\">31.0378</td><td style = \"text-align: left;\">1x3188 TrjArray{Float64, Int64}\\n|     7.64    -8.73    61.51 |  …     -26.77    24.67   111.60 |</td></tr><tr><td class = \"rowNumber\" style = \"font-weight: bold; text-align: right;\">99993</td><td style = \"text-align: left;\">1000/complex.93.pdb</td><td style = \"text-align: left;\">1537.89</td><td style = \"text-align: left;\">[-0.207609, -0.602682, -0.770502]</td><td style = \"text-align: left;\">178.947</td><td style = \"text-align: left;\">[-1.60757, -33.8155, 26.8835]</td><td style = \"text-align: left;\">-0.180641</td><td style = \"text-align: left;\">1x3188 TrjArray{Float64, Int64}\\n|     7.64    -8.73    61.51 |  …      19.03    22.94    65.39 |</td></tr><tr><td class = \"rowNumber\" style = \"font-weight: bold; text-align: right;\">99994</td><td style = \"text-align: left;\">1000/complex.94.pdb</td><td style = \"text-align: left;\">1535.49</td><td style = \"text-align: left;\">[-0.058722, -0.978908, -0.195681]</td><td style = \"text-align: left;\">136.733</td><td style = \"text-align: left;\">[9.04693, -13.7288, 65.9643]</td><td style = \"text-align: left;\">15.3885</td><td style = \"text-align: left;\">1x3188 TrjArray{Float64, Int64}\\n|     7.64    -8.73    61.51 |  …      -5.92   -13.57    44.09 |</td></tr><tr><td class = \"rowNumber\" style = \"font-weight: bold; text-align: right;\">99995</td><td style = \"text-align: left;\">1000/complex.95.pdb</td><td style = \"text-align: left;\">1534.9</td><td style = \"text-align: left;\">[0.857719, 0.0537201, -0.511305]</td><td style = \"text-align: left;\">143.328</td><td style = \"text-align: left;\">[39.5736, 10.1472, 67.4512]</td><td style = \"text-align: left;\">30.8679</td><td style = \"text-align: left;\">1x3188 TrjArray{Float64, Int64}\\n|     7.64    -8.73    61.51 |  …      21.52    19.61    62.45 |</td></tr><tr><td class = \"rowNumber\" style = \"font-weight: bold; text-align: right;\">99996</td><td style = \"text-align: left;\">1000/complex.96.pdb</td><td style = \"text-align: left;\">1533.37</td><td style = \"text-align: left;\">[0.950606, -0.309625, 0.0219078]</td><td style = \"text-align: left;\">149.18</td><td style = \"text-align: left;\">[6.47991, 24.3788, 63.3766]</td><td style = \"text-align: left;\">-20.148</td><td style = \"text-align: left;\">1x3188 TrjArray{Float64, Int64}\\n|     7.64    -8.73    61.51 |  …       1.35    38.43    21.60 |</td></tr><tr><td class = \"rowNumber\" style = \"font-weight: bold; text-align: right;\">99997</td><td style = \"text-align: left;\">1000/complex.97.pdb</td><td style = \"text-align: left;\">1532.21</td><td style = \"text-align: left;\">[0.139794, 0.97757, 0.157528]</td><td style = \"text-align: left;\">158.504</td><td style = \"text-align: left;\">[8.55616, -12.6198, 70.7216]</td><td style = \"text-align: left;\">0.808534</td><td style = \"text-align: left;\">1x3188 TrjArray{Float64, Int64}\\n|     7.64    -8.73    61.51 |  …      21.17    -3.34    53.36 |</td></tr><tr><td class = \"rowNumber\" style = \"font-weight: bold; text-align: right;\">99998</td><td style = \"text-align: left;\">1000/complex.98.pdb</td><td style = \"text-align: left;\">1532.02</td><td style = \"text-align: left;\">[-0.639788, -0.757618, 0.129179]</td><td style = \"text-align: left;\">54.5945</td><td style = \"text-align: left;\">[9.06797, 2.43698, 59.2037]</td><td style = \"text-align: left;\">27.2247</td><td style = \"text-align: left;\">1x3188 TrjArray{Float64, Int64}\\n|     7.64    -8.73    61.51 |  …     -34.20   -11.77    86.78 |</td></tr><tr><td class = \"rowNumber\" style = \"font-weight: bold; text-align: right;\">99999</td><td style = \"text-align: left;\">1000/complex.99.pdb</td><td style = \"text-align: left;\">1531.35</td><td style = \"text-align: left;\">[-0.94281, 0.0898199, 0.321]</td><td style = \"text-align: left;\">171.754</td><td style = \"text-align: left;\">[24.9269, 19.0327, 67.8872]</td><td style = \"text-align: left;\">-26.5527</td><td style = \"text-align: left;\">1x3188 TrjArray{Float64, Int64}\\n|     7.64    -8.73    61.51 |  …      25.87    50.58    53.45 |</td></tr><tr><td class = \"rowNumber\" style = \"font-weight: bold; text-align: right;\">100000</td><td style = \"text-align: left;\">1000/complex.100.pdb</td><td style = \"text-align: left;\">1529.61</td><td style = \"text-align: left;\">[0.947712, -0.292458, -0.12771]</td><td style = \"text-align: left;\">121.599</td><td style = \"text-align: left;\">[13.2021, 15.681, 62.0602]</td><td style = \"text-align: left;\">-19.6492</td><td style = \"text-align: left;\">1x3188 TrjArray{Float64, Int64}\\n|     7.64    -8.73    61.51 |  …     -17.78    11.50    27.72 |</td></tr></tbody></table></div>"
      ],
      "text/latex": [
       "\\begin{tabular}{r|cccccc}\n",
       "\t& fnames & score & omega & phi & prou & \\\\\n",
       "\t\\hline\n",
       "\t& Any & Any & Any & Any & Any & \\\\\n",
       "\t\\hline\n",
       "\t1 & 1/complex.1.pdb & 2438.18 & [-0.131239, -0.0738241, -0.988598] & 176.45 & [2.287, -3.12306, -0.0703888] & $\\dots$ \\\\\n",
       "\t2 & 1/complex.2.pdb & 2019.56 & [0.148473, -0.0434833, 0.98796] & 177.204 & [0.339791, 5.53982, 0.192761] & $\\dots$ \\\\\n",
       "\t3 & 1/complex.3.pdb & 1977.51 & [-0.123651, -0.991774, 0.0330964] & 130.459 & [11.0909, 0.900187, 68.4116] & $\\dots$ \\\\\n",
       "\t4 & 1/complex.4.pdb & 1938.64 & [0.320035, -0.0694202, 0.944859] & 176.962 & [-10.4778, 25.9029, 5.45206] & $\\dots$ \\\\\n",
       "\t5 & 1/complex.5.pdb & 1927.28 & [-0.0410833, 0.854917, 0.517135] & 173.882 & [13.5648, -31.0287, 52.3737] & $\\dots$ \\\\\n",
       "\t6 & 1/complex.6.pdb & 1892.77 & [-0.967024, 0.0406925, 0.251414] & 163.8 & [19.1629, 19.823, 70.4985] & $\\dots$ \\\\\n",
       "\t7 & 1/complex.7.pdb & 1860.98 & [0.993216, -0.112046, 0.0311206] & 161.789 & [0.37101, 21.7032, 66.2993] & $\\dots$ \\\\\n",
       "\t8 & 1/complex.8.pdb & 1854.27 & [-0.0461843, 0.940935, -0.335422] & 129.447 & [10.2844, 26.0568, 71.679] & $\\dots$ \\\\\n",
       "\t9 & 1/complex.9.pdb & 1854.04 & [0.718009, -0.401641, 0.56846] & 176.099 & [-24.343, 16.0746, 42.1044] & $\\dots$ \\\\\n",
       "\t10 & 1/complex.10.pdb & 1846.45 & [-0.124059, -0.99186, -0.0286985] & 149.968 & [10.1484, -3.25604, 68.6636] & $\\dots$ \\\\\n",
       "\t11 & 1/complex.11.pdb & 1845.78 & [-0.0196942, 0.0491282, 0.998598] & 179.768 & [14.3579, 10.5419, -0.235469] & $\\dots$ \\\\\n",
       "\t12 & 1/complex.12.pdb & 1831.35 & [0.040096, -0.155622, -0.987003] & 171.88 & [14.418, -8.58013, 1.93855] & $\\dots$ \\\\\n",
       "\t13 & 1/complex.13.pdb & 1803.69 & [0.0957604, -0.616901, -0.781194] & 176.644 & [16.8526, -32.4904, 27.7232] & $\\dots$ \\\\\n",
       "\t14 & 1/complex.14.pdb & 1798.43 & [0.838411, -0.131938, -0.528828] & 31.096 & [43.8259, 13.9865, 65.9927] & $\\dots$ \\\\\n",
       "\t15 & 1/complex.15.pdb & 1786.07 & [0.106026, 0.992386, 0.0626736] & 119.914 & [9.39759, -5.36072, 68.9848] & $\\dots$ \\\\\n",
       "\t16 & 1/complex.16.pdb & 1778.36 & [0.106613, 0.958396, 0.264784] & 166.356 & [9.28265, -19.3927, 66.4549] & $\\dots$ \\\\\n",
       "\t17 & 1/complex.17.pdb & 1773.55 & [-0.0697842, -0.347067, 0.935241] & 163.087 & [19.6752, 41.5328, 16.8809] & $\\dots$ \\\\\n",
       "\t18 & 1/complex.18.pdb & 1749.57 & [-0.921919, 0.0380224, 0.385513] & 174.526 & [28.8153, 19.4805, 66.9878] & $\\dots$ \\\\\n",
       "\t19 & 1/complex.19.pdb & 1748.14 & [-0.401274, 0.891126, -0.211835] & 100.773 & [4.07229, 20.8892, 80.1605] & $\\dots$ \\\\\n",
       "\t20 & 1/complex.20.pdb & 1741.15 & [-0.141306, -0.912765, -0.383267] & 157.353 & [6.21779, -25.6877, 58.8839] & $\\dots$ \\\\\n",
       "\t21 & 1/complex.21.pdb & 1728.28 & [-0.0317698, -0.985336, -0.16764] & 138.556 & [10.4527, -11.7439, 67.0464] & $\\dots$ \\\\\n",
       "\t22 & 1/complex.22.pdb & 1726.45 & [0.0306787, -0.946283, 0.321881] & 127.349 & [10.0678, 24.8698, 72.1542] & $\\dots$ \\\\\n",
       "\t23 & 1/complex.23.pdb & 1725.72 & [0.966826, -0.0987122, -0.23559] & 159.778 & [19.0904, 20.0995, 69.9225] & $\\dots$ \\\\\n",
       "\t24 & 1/complex.24.pdb & 1724.9 & [0.982968, -0.166239, -0.0783514] & 151.721 & [8.94273, 21.3326, 66.9307] & $\\dots$ \\\\\n",
       "\t25 & 1/complex.25.pdb & 1722.82 & [0.962956, -0.269007, 0.0187067] & 138.401 & [5.00347, 22.2958, 63.0586] & $\\dots$ \\\\\n",
       "\t26 & 1/complex.26.pdb & 1717.61 & [-0.869218, -0.0585011, 0.490956] & 142.51 & [38.2899, 9.73861, 68.9512] & $\\dots$ \\\\\n",
       "\t27 & 1/complex.27.pdb & 1715.14 & [-0.180029, -0.7464, -0.640685] & 174.384 & [2.21947, -37.2674, 42.793] & $\\dots$ \\\\\n",
       "\t28 & 1/complex.28.pdb & 1713.11 & [0.00555388, -0.934879, -0.354922] & 170.169 & [12.2673, -23.74, 62.7242] & $\\dots$ \\\\\n",
       "\t29 & 1/complex.29.pdb & 1710.29 & [-0.0478722, -0.980505, -0.190571] & 177.132 & [10.912, -14.0658, 69.6289] & $\\dots$ \\\\\n",
       "\t30 & 1/complex.30.pdb & 1705.78 & [0.917059, -0.272577, -0.291042] & 129.521 & [23.806, 13.3728, 62.4871] & $\\dots$ \\\\\n",
       "\t$\\dots$ & $\\dots$ & $\\dots$ & $\\dots$ & $\\dots$ & $\\dots$ &  \\\\\n",
       "\\end{tabular}\n"
      ],
      "text/plain": [
       "\u001b[1m100000×7 DataFrame\u001b[0m\n",
       "\u001b[1m    Row \u001b[0m│\u001b[1m fnames               \u001b[0m\u001b[1m score   \u001b[0m\u001b[1m omega                             \u001b[0m\u001b[1m ph\u001b[0m ⋯\n",
       "        │\u001b[90m Any                  \u001b[0m\u001b[90m Any     \u001b[0m\u001b[90m Any                               \u001b[0m\u001b[90m An\u001b[0m ⋯\n",
       "────────┼───────────────────────────────────────────────────────────────────────\n",
       "      1 │ 1/complex.1.pdb       2438.18  [-0.131239, -0.0738241, -0.98859…  17 ⋯\n",
       "      2 │ 1/complex.2.pdb       2019.56  [0.148473, -0.0434833, 0.98796]    17\n",
       "      3 │ 1/complex.3.pdb       1977.51  [-0.123651, -0.991774, 0.0330964]  13\n",
       "      4 │ 1/complex.4.pdb       1938.64  [0.320035, -0.0694202, 0.944859]   17\n",
       "      5 │ 1/complex.5.pdb       1927.28  [-0.0410833, 0.854917, 0.517135]   17 ⋯\n",
       "      6 │ 1/complex.6.pdb       1892.77  [-0.967024, 0.0406925, 0.251414]   16\n",
       "      7 │ 1/complex.7.pdb       1860.98  [0.993216, -0.112046, 0.0311206]   16\n",
       "      8 │ 1/complex.8.pdb       1854.27  [-0.0461843, 0.940935, -0.335422]  12\n",
       "      9 │ 1/complex.9.pdb       1854.04  [0.718009, -0.401641, 0.56846]     17 ⋯\n",
       "     10 │ 1/complex.10.pdb      1846.45  [-0.124059, -0.99186, -0.0286985]  14\n",
       "     11 │ 1/complex.11.pdb      1845.78  [-0.0196942, 0.0491282, 0.998598]  17\n",
       "   ⋮    │          ⋮               ⋮                     ⋮                     ⋱\n",
       "  99991 │ 1000/complex.91.pdb   1538.2   [-0.436643, -0.894048, 0.100104]   64\n",
       "  99992 │ 1000/complex.92.pdb   1538.07  [-0.999211, -0.0396266, -0.00252…  97 ⋯\n",
       "  99993 │ 1000/complex.93.pdb   1537.89  [-0.207609, -0.602682, -0.770502]  17\n",
       "  99994 │ 1000/complex.94.pdb   1535.49  [-0.058722, -0.978908, -0.195681]  13\n",
       "  99995 │ 1000/complex.95.pdb   1534.9   [0.857719, 0.0537201, -0.511305]   14\n",
       "  99996 │ 1000/complex.96.pdb   1533.37  [0.950606, -0.309625, 0.0219078]   14 ⋯\n",
       "  99997 │ 1000/complex.97.pdb   1532.21  [0.139794, 0.97757, 0.157528]      15\n",
       "  99998 │ 1000/complex.98.pdb   1532.02  [-0.639788, -0.757618, 0.129179]   54\n",
       "  99999 │ 1000/complex.99.pdb   1531.35  [-0.94281, 0.0898199, 0.321]       17\n",
       " 100000 │ 1000/complex.100.pdb  1529.61  [0.947712, -0.292458, -0.12771]    12 ⋯\n",
       "\u001b[36m                                                4 columns and 99979 rows omitted\u001b[0m"
      ]
     },
     "execution_count": 6,
     "metadata": {},
     "output_type": "execute_result"
    }
   ],
   "source": [
    "df = DataFrame(fnames=fnames, score=score, omega=omega, phi=phi, prou=prou, d=d, struc=struc)"
   ]
  },
  {
   "cell_type": "code",
   "execution_count": 7,
   "id": "0225efef-539c-4fc1-b11c-3bf14df6c8f4",
   "metadata": {},
   "outputs": [],
   "source": [
    "df_org = deepcopy(df);"
   ]
  },
  {
   "cell_type": "code",
   "execution_count": 8,
   "id": "cc488138-9e57-416a-bdf4-0dd7f7ca8614",
   "metadata": {},
   "outputs": [],
   "source": [
    "#using BSON: @save, @load\n",
    "#@save \"skrew_parameters.bson\" fnames score omega phi prou d df rmsd"
   ]
  },
  {
   "cell_type": "code",
   "execution_count": 9,
   "id": "88b16d7e-2d7a-4759-874c-3d3cbead8916",
   "metadata": {},
   "outputs": [],
   "source": [
    "#using BSON: @save, @load\n",
    "#@save \"df.bson\" df"
   ]
  },
  {
   "cell_type": "code",
   "execution_count": 10,
   "id": "c9400341-a639-4e7c-86f5-6baf593f4f50",
   "metadata": {},
   "outputs": [],
   "source": [
    "using JLD2\n",
    "\n",
    "save(\"skrew_parameters.jld2\", \"fnames\", fnames, \"score\", score, \"omega\", omega, \"phi\", phi, \"prou\", prou, \"d\", d, \"df\", df, \"rmsd\", rmsd)\n",
    "save(\"df.jld2\", \"df\", df)"
   ]
  },
  {
   "cell_type": "code",
   "execution_count": null,
   "id": "a9bdb4a4-c673-4542-90bf-6fe48688cd53",
   "metadata": {},
   "outputs": [],
   "source": []
  }
 ],
 "metadata": {
  "kernelspec": {
   "display_name": "julia 1.10.1",
   "language": "julia",
   "name": "julia-1.10"
  },
  "language_info": {
   "file_extension": ".jl",
   "mimetype": "application/julia",
   "name": "julia",
   "version": "1.10.1"
  }
 },
 "nbformat": 4,
 "nbformat_minor": 5
}
