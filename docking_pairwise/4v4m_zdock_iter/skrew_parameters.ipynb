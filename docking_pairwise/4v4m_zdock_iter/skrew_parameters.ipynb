{
 "cells": [
  {
   "cell_type": "markdown",
   "id": "62a9d42f-dcfb-4d04-b7ee-aeab2626fe19",
   "metadata": {},
   "source": [
    "# 4v4m"
   ]
  },
  {
   "cell_type": "code",
   "execution_count": 1,
   "id": "c2b6edbc-2a9f-438b-9e0d-1fb076e39d0e",
   "metadata": {},
   "outputs": [],
   "source": [
    "using Printf, DelimitedFiles\n",
    "using Plots\n",
    "using DataFrames\n",
    "using Revise, MDToolbox"
   ]
  },
  {
   "cell_type": "code",
   "execution_count": 2,
   "id": "c9373fbf-44a1-4c9b-88e3-5bb66950ae03",
   "metadata": {},
   "outputs": [
    {
     "data": {
      "text/plain": [
       "read_ascii (generic function with 1 method)"
      ]
     },
     "execution_count": 2,
     "metadata": {},
     "output_type": "execute_result"
    }
   ],
   "source": [
    "function read_ascii(fname)\n",
    "    lines = readlines(fname)\n",
    "    natom = length(lines) - 1\n",
    "    xyz = zeros(Float64, 1, natom*3)\n",
    "    for i = 1:natom\n",
    "        xyz[1, 3*(i-1)+1] = parse(Float64, lines[i+1][31:38])\n",
    "        xyz[1, 3*(i-1)+2] = parse(Float64, lines[i+1][39:46])\n",
    "        xyz[1, 3*(i-1)+3] = parse(Float64, lines[i+1][47:54])\n",
    "    end\n",
    "    TrjArray(xyz=xyz)\n",
    "end"
   ]
  },
  {
   "cell_type": "code",
   "execution_count": 3,
   "id": "fa858e0e-6890-4489-953b-936b481fa4aa",
   "metadata": {},
   "outputs": [
    {
     "data": {
      "text/plain": [
       "Any[]"
      ]
     },
     "execution_count": 3,
     "metadata": {},
     "output_type": "execute_result"
    }
   ],
   "source": [
    "fnames = []\n",
    "omega = []\n",
    "phi = []\n",
    "prou = []\n",
    "d = []\n",
    "score = []\n",
    "rmsd = []\n",
    "struc = []"
   ]
  },
  {
   "cell_type": "code",
   "execution_count": 4,
   "id": "32f8cbb0-c23b-4139-a37d-d0cb8a807005",
   "metadata": {},
   "outputs": [
    {
     "data": {
      "text/plain": [
       "1000"
      ]
     },
     "execution_count": 4,
     "metadata": {},
     "output_type": "execute_result"
    }
   ],
   "source": [
    "nrun = 1000"
   ]
  },
  {
   "cell_type": "code",
   "execution_count": 5,
   "id": "a9238faf-a6c3-43f9-8e58-bd5847247e2a",
   "metadata": {},
   "outputs": [
    {
     "name": "stdout",
     "output_type": "stream",
     "text": [
      "irun = 100irun = 200irun = 300irun = 400irun = 500irun = 600irun = 700irun = 800irun = 900irun = 1000"
     ]
    }
   ],
   "source": [
    "for irun = 1:nrun\n",
    "\n",
    "    if irun % 100 == 0\n",
    "        print(\"irun = $irun\")\n",
    "    end\n",
    "    for i in 1:100\n",
    "        filename = \"$(irun)/complex.$(i).pdb\"\n",
    "        #t = mdload(filename)\n",
    "        #t = MDToolbox.readpdb_biostructures(filename)\n",
    "        t = read_ascii(filename)\n",
    "        t1 = t[:, 1:1427]\n",
    "        t2 = t[:, 1428:end]\n",
    "        #@show size(t1)\n",
    "        #@show size(t2)\n",
    "        r = MDToolbox.compute_skrew(t1, t2)\n",
    "        push!(fnames, filename)\n",
    "        push!(omega, r.omega)\n",
    "        push!(phi, r.phi / (2.0 * pi) * 360.0)\n",
    "        push!(prou, r.prou)\n",
    "        push!(d, r.d)\n",
    "        push!(struc, t)\n",
    "        #t_ca = t[\"atomname CA\"]\n",
    "        #push!(rmsd, compute_rmsd_permute(ref, t_ca, 2))\n",
    "    end\n",
    "\n",
    "    s = readdlm(\"$(irun)/zdock.out\", skipstart=5)\n",
    "    score = [score; s[1:100, end]]\n",
    "end"
   ]
  },
  {
   "cell_type": "code",
   "execution_count": 6,
   "id": "8d2ad93d-8d57-4b90-abfa-976cf23638b0",
   "metadata": {},
   "outputs": [
    {
     "data": {
      "text/html": [
       "<div><div style = \"float: left;\"><span>100000×7 DataFrame</span></div><div style = \"float: right;\"><span style = \"font-style: italic;\">99975 rows omitted</span></div><div style = \"clear: both;\"></div></div><div class = \"data-frame\" style = \"overflow-x: scroll;\"><table class = \"data-frame\" style = \"margin-bottom: 6px;\"><thead><tr class = \"header\"><th class = \"rowNumber\" style = \"font-weight: bold; text-align: right;\">Row</th><th style = \"text-align: left;\">fnames</th><th style = \"text-align: left;\">score</th><th style = \"text-align: left;\">omega</th><th style = \"text-align: left;\">phi</th><th style = \"text-align: left;\">prou</th><th style = \"text-align: left;\">d</th><th style = \"text-align: left;\">struc</th></tr><tr class = \"subheader headerLastRow\"><th class = \"rowNumber\" style = \"font-weight: bold; text-align: right;\"></th><th title = \"Any\" style = \"text-align: left;\">Any</th><th title = \"Any\" style = \"text-align: left;\">Any</th><th title = \"Any\" style = \"text-align: left;\">Any</th><th title = \"Any\" style = \"text-align: left;\">Any</th><th title = \"Any\" style = \"text-align: left;\">Any</th><th title = \"Any\" style = \"text-align: left;\">Any</th><th title = \"Any\" style = \"text-align: left;\">Any</th></tr></thead><tbody><tr><td class = \"rowNumber\" style = \"font-weight: bold; text-align: right;\">1</td><td style = \"text-align: left;\">1/complex.1.pdb</td><td style = \"text-align: left;\">986.974</td><td style = \"text-align: left;\">[-0.356917, -0.824965, -0.438227]</td><td style = \"text-align: left;\">81.7263</td><td style = \"text-align: left;\">[88.2692, -72.4848, 64.5618]</td><td style = \"text-align: left;\">-31.825</td><td style = \"text-align: left;\">1x2854 TrjArray{Float64, Int64}\\n|    92.96   -13.72    82.61 |  …     112.08    18.12    98.36 |</td></tr><tr><td class = \"rowNumber\" style = \"font-weight: bold; text-align: right;\">2</td><td style = \"text-align: left;\">1/complex.2.pdb</td><td style = \"text-align: left;\">982.884</td><td style = \"text-align: left;\">[0.0686623, -0.995647, 0.0630238]</td><td style = \"text-align: left;\">177.85</td><td style = \"text-align: left;\">[113.11, 14.442, 104.925]</td><td style = \"text-align: left;\">-0.692541</td><td style = \"text-align: left;\">1x2854 TrjArray{Float64, Int64}\\n|    92.96   -13.72    82.61 |  …     131.95   -14.84   108.30 |</td></tr><tr><td class = \"rowNumber\" style = \"font-weight: bold; text-align: right;\">3</td><td style = \"text-align: left;\">1/complex.3.pdb</td><td style = \"text-align: left;\">962.178</td><td style = \"text-align: left;\">[-0.328547, 0.882951, -0.335343]</td><td style = \"text-align: left;\">129.578</td><td style = \"text-align: left;\">[68.673, 48.0899, 59.3385]</td><td style = \"text-align: left;\">-29.4352</td><td style = \"text-align: left;\">1x2854 TrjArray{Float64, Int64}\\n|    92.96   -13.72    82.61 |  …     118.05   -52.66    82.45 |</td></tr><tr><td class = \"rowNumber\" style = \"font-weight: bold; text-align: right;\">4</td><td style = \"text-align: left;\">1/complex.4.pdb</td><td style = \"text-align: left;\">940.885</td><td style = \"text-align: left;\">[-0.322728, -0.924926, 0.200894]</td><td style = \"text-align: left;\">84.9772</td><td style = \"text-align: left;\">[99.9138, -16.8225, 83.0557]</td><td style = \"text-align: left;\">-16.4955</td><td style = \"text-align: left;\">1x2854 TrjArray{Float64, Int64}\\n|    92.96   -13.72    82.61 |  …      83.55     0.05    81.92 |</td></tr><tr><td class = \"rowNumber\" style = \"font-weight: bold; text-align: right;\">5</td><td style = \"text-align: left;\">1/complex.5.pdb</td><td style = \"text-align: left;\">937.892</td><td style = \"text-align: left;\">[-0.052929, 0.218289, 0.974448]</td><td style = \"text-align: left;\">99.5387</td><td style = \"text-align: left;\">[117.498, -69.8142, 22.0214]</td><td style = \"text-align: left;\">-16.2941</td><td style = \"text-align: left;\">1x2854 TrjArray{Float64, Int64}\\n|    92.96   -13.72    82.61 |  …      83.85   -72.13    99.42 |</td></tr><tr><td class = \"rowNumber\" style = \"font-weight: bold; text-align: right;\">6</td><td style = \"text-align: left;\">1/complex.6.pdb</td><td style = \"text-align: left;\">919.653</td><td style = \"text-align: left;\">[0.288118, 0.0219858, 0.957343]</td><td style = \"text-align: left;\">75.2528</td><td style = \"text-align: left;\">[81.7794, -53.1156, -23.3921]</td><td style = \"text-align: left;\">-19.8376</td><td style = \"text-align: left;\">1x2854 TrjArray{Float64, Int64}\\n|    92.96   -13.72    82.61 |  …      78.19   -62.68    91.28 |</td></tr><tr><td class = \"rowNumber\" style = \"font-weight: bold; text-align: right;\">7</td><td style = \"text-align: left;\">1/complex.7.pdb</td><td style = \"text-align: left;\">919.264</td><td style = \"text-align: left;\">[-0.373651, 0.798232, -0.472451]</td><td style = \"text-align: left;\">144.723</td><td style = \"text-align: left;\">[59.4401, 51.316, 39.6914]</td><td style = \"text-align: left;\">-29.008</td><td style = \"text-align: left;\">1x2854 TrjArray{Float64, Int64}\\n|    92.96   -13.72    82.61 |  …     117.81   -57.96    83.62 |</td></tr><tr><td class = \"rowNumber\" style = \"font-weight: bold; text-align: right;\">8</td><td style = \"text-align: left;\">1/complex.8.pdb</td><td style = \"text-align: left;\">914.768</td><td style = \"text-align: left;\">[0.312959, 0.256981, 0.91434]</td><td style = \"text-align: left;\">76.8921</td><td style = \"text-align: left;\">[74.4597, -61.2717, -8.26513]</td><td style = \"text-align: left;\">22.47</td><td style = \"text-align: left;\">1x2854 TrjArray{Float64, Int64}\\n|    92.96   -13.72    82.61 |  …     106.33   -34.42   131.36 |</td></tr><tr><td class = \"rowNumber\" style = \"font-weight: bold; text-align: right;\">9</td><td style = \"text-align: left;\">1/complex.9.pdb</td><td style = \"text-align: left;\">911.393</td><td style = \"text-align: left;\">[-0.869092, -0.48917, -0.0734266]</td><td style = \"text-align: left;\">154.197</td><td style = \"text-align: left;\">[41.397, -88.9174, 102.386]</td><td style = \"text-align: left;\">5.9597</td><td style = \"text-align: left;\">1x2854 TrjArray{Float64, Int64}\\n|    92.96   -13.72    82.61 |  …     126.11   -77.93    96.92 |</td></tr><tr><td class = \"rowNumber\" style = \"font-weight: bold; text-align: right;\">10</td><td style = \"text-align: left;\">1/complex.10.pdb</td><td style = \"text-align: left;\">909.194</td><td style = \"text-align: left;\">[0.141311, 0.873829, -0.465246]</td><td style = \"text-align: left;\">174.831</td><td style = \"text-align: left;\">[102.489, 22.8732, 74.09]</td><td style = \"text-align: left;\">-0.232469</td><td style = \"text-align: left;\">1x2854 TrjArray{Float64, Int64}\\n|    92.96   -13.72    82.61 |  …      92.76   -25.08    90.37 |</td></tr><tr><td class = \"rowNumber\" style = \"font-weight: bold; text-align: right;\">11</td><td style = \"text-align: left;\">1/complex.11.pdb</td><td style = \"text-align: left;\">909.136</td><td style = \"text-align: left;\">[-0.271648, -0.937714, -0.216563]</td><td style = \"text-align: left;\">80.9989</td><td style = \"text-align: left;\">[96.5691, -47.6973, 85.3963]</td><td style = \"text-align: left;\">-34.8722</td><td style = \"text-align: left;\">1x2854 TrjArray{Float64, Int64}\\n|    92.96   -13.72    82.61 |  …     102.16    20.17    95.86 |</td></tr><tr><td class = \"rowNumber\" style = \"font-weight: bold; text-align: right;\">12</td><td style = \"text-align: left;\">1/complex.12.pdb</td><td style = \"text-align: left;\">906.289</td><td style = \"text-align: left;\">[0.194798, 0.980673, -0.0182613]</td><td style = \"text-align: left;\">177.471</td><td style = \"text-align: left;\">[120.95, -22.0163, 107.881]</td><td style = \"text-align: left;\">-3.82207</td><td style = \"text-align: left;\">1x2854 TrjArray{Float64, Int64}\\n|    92.96   -13.72    82.61 |  …     142.25   -30.49   112.01 |</td></tr><tr><td class = \"rowNumber\" style = \"font-weight: bold; text-align: right;\">13</td><td style = \"text-align: left;\">1/complex.13.pdb</td><td style = \"text-align: left;\">905.453</td><td style = \"text-align: left;\">[-0.703125, 0.411738, -0.579731]</td><td style = \"text-align: left;\">50.8675</td><td style = \"text-align: left;\">[-1.89172, 5.16365, 5.96171]</td><td style = \"text-align: left;\">15.6061</td><td style = \"text-align: left;\">1x2854 TrjArray{Float64, Int64}\\n|    92.96   -13.72    82.61 |  …     107.36   -15.22    69.30 |</td></tr><tr><td style = \"text-align: right;\">&vellip;</td><td style = \"text-align: right;\">&vellip;</td><td style = \"text-align: right;\">&vellip;</td><td style = \"text-align: right;\">&vellip;</td><td style = \"text-align: right;\">&vellip;</td><td style = \"text-align: right;\">&vellip;</td><td style = \"text-align: right;\">&vellip;</td><td style = \"text-align: right;\">&vellip;</td></tr><tr><td class = \"rowNumber\" style = \"font-weight: bold; text-align: right;\">99989</td><td style = \"text-align: left;\">1000/complex.89.pdb</td><td style = \"text-align: left;\">790.492</td><td style = \"text-align: left;\">[0.376455, -0.550788, 0.744926]</td><td style = \"text-align: left;\">170.729</td><td style = \"text-align: left;\">[57.6717, 22.2265, -12.7109]</td><td style = \"text-align: left;\">0.237489</td><td style = \"text-align: left;\">1x2854 TrjArray{Float64, Int64}\\n|    92.96   -13.72    82.61 |  …     105.39   -77.33    57.89 |</td></tr><tr><td class = \"rowNumber\" style = \"font-weight: bold; text-align: right;\">99990</td><td style = \"text-align: left;\">1000/complex.90.pdb</td><td style = \"text-align: left;\">790.454</td><td style = \"text-align: left;\">[0.312884, 0.242197, 0.918392]</td><td style = \"text-align: left;\">126.798</td><td style = \"text-align: left;\">[75.4137, -75.0677, -5.89571]</td><td style = \"text-align: left;\">-22.6665</td><td style = \"text-align: left;\">1x2854 TrjArray{Float64, Int64}\\n|    92.96   -13.72    82.61 |  …      95.40   -77.86    97.01 |</td></tr><tr><td class = \"rowNumber\" style = \"font-weight: bold; text-align: right;\">99991</td><td style = \"text-align: left;\">1000/complex.91.pdb</td><td style = \"text-align: left;\">790.414</td><td style = \"text-align: left;\">[-0.195998, 0.0335005, -0.980032]</td><td style = \"text-align: left;\">110.484</td><td style = \"text-align: left;\">[89.7401, -41.3471, -19.3606]</td><td style = \"text-align: left;\">18.883</td><td style = \"text-align: left;\">1x2854 TrjArray{Float64, Int64}\\n|    92.96   -13.72    82.61 |  …     140.67   -39.75    76.41 |</td></tr><tr><td class = \"rowNumber\" style = \"font-weight: bold; text-align: right;\">99992</td><td style = \"text-align: left;\">1000/complex.92.pdb</td><td style = \"text-align: left;\">789.023</td><td style = \"text-align: left;\">[-0.806546, 0.259972, -0.530941]</td><td style = \"text-align: left;\">156.193</td><td style = \"text-align: left;\">[-11.9664, -15.6538, 10.5132]</td><td style = \"text-align: left;\">2.36877</td><td style = \"text-align: left;\">1x2854 TrjArray{Float64, Int64}\\n|    92.96   -13.72    82.61 |  …     110.39   -75.46    54.36 |</td></tr><tr><td class = \"rowNumber\" style = \"font-weight: bold; text-align: right;\">99993</td><td style = \"text-align: left;\">1000/complex.93.pdb</td><td style = \"text-align: left;\">788.941</td><td style = \"text-align: left;\">[-0.457507, 0.883248, -0.102766]</td><td style = \"text-align: left;\">116.958</td><td style = \"text-align: left;\">[58.4641, 40.2363, 85.5432]</td><td style = \"text-align: left;\">-32.0793</td><td style = \"text-align: left;\">1x2854 TrjArray{Float64, Int64}\\n|    92.96   -13.72    82.61 |  …     112.56   -49.69    83.00 |</td></tr><tr><td class = \"rowNumber\" style = \"font-weight: bold; text-align: right;\">99994</td><td style = \"text-align: left;\">1000/complex.94.pdb</td><td style = \"text-align: left;\">788.821</td><td style = \"text-align: left;\">[-0.233658, 0.85169, 0.469072]</td><td style = \"text-align: left;\">111.592</td><td style = \"text-align: left;\">[103.047, -27.5163, 101.292]</td><td style = \"text-align: left;\">-35.701</td><td style = \"text-align: left;\">1x2854 TrjArray{Float64, Int64}\\n|    92.96   -13.72    82.61 |  …     108.27   -50.04    91.61 |</td></tr><tr><td class = \"rowNumber\" style = \"font-weight: bold; text-align: right;\">99995</td><td style = \"text-align: left;\">1000/complex.95.pdb</td><td style = \"text-align: left;\">788.693</td><td style = \"text-align: left;\">[0.578434, 0.101385, 0.809404]</td><td style = \"text-align: left;\">117.89</td><td style = \"text-align: left;\">[30.2204, -56.3747, -14.5354]</td><td style = \"text-align: left;\">-24.073</td><td style = \"text-align: left;\">1x2854 TrjArray{Float64, Int64}\\n|    92.96   -13.72    82.61 |  …      86.50   -68.01    89.99 |</td></tr><tr><td class = \"rowNumber\" style = \"font-weight: bold; text-align: right;\">99996</td><td style = \"text-align: left;\">1000/complex.96.pdb</td><td style = \"text-align: left;\">788.157</td><td style = \"text-align: left;\">[0.0549749, -0.219121, 0.974148]</td><td style = \"text-align: left;\">161.607</td><td style = \"text-align: left;\">[98.4483, -17.3137, -9.45031]</td><td style = \"text-align: left;\">-22.6508</td><td style = \"text-align: left;\">1x2854 TrjArray{Float64, Int64}\\n|    92.96   -13.72    82.61 |  …     101.34   -61.20    71.72 |</td></tr><tr><td class = \"rowNumber\" style = \"font-weight: bold; text-align: right;\">99997</td><td style = \"text-align: left;\">1000/complex.97.pdb</td><td style = \"text-align: left;\">787.514</td><td style = \"text-align: left;\">[-0.805028, 0.374986, 0.45969]</td><td style = \"text-align: left;\">118.2</td><td style = \"text-align: left;\">[55.9708, -23.5802, 117.254]</td><td style = \"text-align: left;\">26.1587</td><td style = \"text-align: left;\">1x2854 TrjArray{Float64, Int64}\\n|    92.96   -13.72    82.61 |  …      53.42   -28.88    91.45 |</td></tr><tr><td class = \"rowNumber\" style = \"font-weight: bold; text-align: right;\">99998</td><td style = \"text-align: left;\">1000/complex.98.pdb</td><td style = \"text-align: left;\">787.237</td><td style = \"text-align: left;\">[-0.799791, -0.191865, 0.56879]</td><td style = \"text-align: left;\">112.045</td><td style = \"text-align: left;\">[89.9432, -63.543, 105.037]</td><td style = \"text-align: left;\">10.8887</td><td style = \"text-align: left;\">1x2854 TrjArray{Float64, Int64}\\n|    92.96   -13.72    82.61 |  …      71.38   -74.13    66.80 |</td></tr><tr><td class = \"rowNumber\" style = \"font-weight: bold; text-align: right;\">99999</td><td style = \"text-align: left;\">1000/complex.99.pdb</td><td style = \"text-align: left;\">787.071</td><td style = \"text-align: left;\">[-0.305239, -0.142929, -0.941488]</td><td style = \"text-align: left;\">131.686</td><td style = \"text-align: left;\">[77.4759, -62.7773, -15.5881]</td><td style = \"text-align: left;\">19.3094</td><td style = \"text-align: left;\">1x2854 TrjArray{Float64, Int64}\\n|    92.96   -13.72    82.61 |  …     140.27   -52.64    76.06 |</td></tr><tr><td class = \"rowNumber\" style = \"font-weight: bold; text-align: right;\">100000</td><td style = \"text-align: left;\">1000/complex.100.pdb</td><td style = \"text-align: left;\">786.907</td><td style = \"text-align: left;\">[-0.0437253, 0.284619, 0.957643]</td><td style = \"text-align: left;\">98.65</td><td style = \"text-align: left;\">[117.316, -73.1212, 27.0888]</td><td style = \"text-align: left;\">-17.9935</td><td style = \"text-align: left;\">1x2854 TrjArray{Float64, Int64}\\n|    92.96   -13.72    82.61 |  …      86.09   -71.11   101.24 |</td></tr></tbody></table></div>"
      ],
      "text/latex": [
       "\\begin{tabular}{r|cccccc}\n",
       "\t& fnames & score & omega & phi & prou & \\\\\n",
       "\t\\hline\n",
       "\t& Any & Any & Any & Any & Any & \\\\\n",
       "\t\\hline\n",
       "\t1 & 1/complex.1.pdb & 986.974 & [-0.356917, -0.824965, -0.438227] & 81.7263 & [88.2692, -72.4848, 64.5618] & $\\dots$ \\\\\n",
       "\t2 & 1/complex.2.pdb & 982.884 & [0.0686623, -0.995647, 0.0630238] & 177.85 & [113.11, 14.442, 104.925] & $\\dots$ \\\\\n",
       "\t3 & 1/complex.3.pdb & 962.178 & [-0.328547, 0.882951, -0.335343] & 129.578 & [68.673, 48.0899, 59.3385] & $\\dots$ \\\\\n",
       "\t4 & 1/complex.4.pdb & 940.885 & [-0.322728, -0.924926, 0.200894] & 84.9772 & [99.9138, -16.8225, 83.0557] & $\\dots$ \\\\\n",
       "\t5 & 1/complex.5.pdb & 937.892 & [-0.052929, 0.218289, 0.974448] & 99.5387 & [117.498, -69.8142, 22.0214] & $\\dots$ \\\\\n",
       "\t6 & 1/complex.6.pdb & 919.653 & [0.288118, 0.0219858, 0.957343] & 75.2528 & [81.7794, -53.1156, -23.3921] & $\\dots$ \\\\\n",
       "\t7 & 1/complex.7.pdb & 919.264 & [-0.373651, 0.798232, -0.472451] & 144.723 & [59.4401, 51.316, 39.6914] & $\\dots$ \\\\\n",
       "\t8 & 1/complex.8.pdb & 914.768 & [0.312959, 0.256981, 0.91434] & 76.8921 & [74.4597, -61.2717, -8.26513] & $\\dots$ \\\\\n",
       "\t9 & 1/complex.9.pdb & 911.393 & [-0.869092, -0.48917, -0.0734266] & 154.197 & [41.397, -88.9174, 102.386] & $\\dots$ \\\\\n",
       "\t10 & 1/complex.10.pdb & 909.194 & [0.141311, 0.873829, -0.465246] & 174.831 & [102.489, 22.8732, 74.09] & $\\dots$ \\\\\n",
       "\t11 & 1/complex.11.pdb & 909.136 & [-0.271648, -0.937714, -0.216563] & 80.9989 & [96.5691, -47.6973, 85.3963] & $\\dots$ \\\\\n",
       "\t12 & 1/complex.12.pdb & 906.289 & [0.194798, 0.980673, -0.0182613] & 177.471 & [120.95, -22.0163, 107.881] & $\\dots$ \\\\\n",
       "\t13 & 1/complex.13.pdb & 905.453 & [-0.703125, 0.411738, -0.579731] & 50.8675 & [-1.89172, 5.16365, 5.96171] & $\\dots$ \\\\\n",
       "\t14 & 1/complex.14.pdb & 903.493 & [-0.0307089, 0.734281, -0.67815] & 133.946 & [98.8207, 28.4566, 26.3371] & $\\dots$ \\\\\n",
       "\t15 & 1/complex.15.pdb & 899.187 & [0.211367, -0.548485, 0.809004] & 174.438 & [65.9754, 30.367, 3.35081] & $\\dots$ \\\\\n",
       "\t16 & 1/complex.16.pdb & 888.634 & [0.124267, 0.957611, 0.259884] & 86.1804 & [101.265, -37.6774, 90.4113] & $\\dots$ \\\\\n",
       "\t17 & 1/complex.17.pdb & 888.402 & [-0.495515, 0.591279, 0.636281] & 122.142 & [105.874, -39.8491, 119.482] & $\\dots$ \\\\\n",
       "\t18 & 1/complex.18.pdb & 887.771 & [-0.260202, -0.814351, 0.518776] & 174.659 & [128.761, -2.83557, 60.1312] & $\\dots$ \\\\\n",
       "\t19 & 1/complex.19.pdb & 884.259 & [-0.0224816, -0.231204, -0.972646] & 72.6324 & [114.876, -75.3144, 15.2475] & $\\dots$ \\\\\n",
       "\t20 & 1/complex.20.pdb & 883.069 & [-0.144196, -0.211488, -0.966685] & 178.512 & [78.0719, -54.3791, 0.251227] & $\\dots$ \\\\\n",
       "\t21 & 1/complex.21.pdb & 881.848 & [0.216755, 0.0730783, 0.973487] & 145.379 & [85.3103, -55.316, -14.8425] & $\\dots$ \\\\\n",
       "\t22 & 1/complex.22.pdb & 876.395 & [-0.299035, 0.797001, -0.524755] & 172.814 & [78.3483, 48.0365, 28.3108] & $\\dots$ \\\\\n",
       "\t23 & 1/complex.23.pdb & 873.549 & [-0.194519, 0.752177, -0.629596] & 138.846 & [81.3785, 40.8389, 23.6475] & $\\dots$ \\\\\n",
       "\t24 & 1/complex.24.pdb & 873.508 & [0.662036, -0.645086, 0.38154] & 73.8212 & [29.1201, 45.5602, 26.5022] & $\\dots$ \\\\\n",
       "\t25 & 1/complex.25.pdb & 872.549 & [-0.181761, -0.97022, 0.16011] & 75.1199 & [100.504, -5.48595, 80.8508] & $\\dots$ \\\\\n",
       "\t26 & 1/complex.26.pdb & 869.047 & [-0.341716, -0.93938, -0.0281965] & 71.7585 & [95.209, -37.1319, 83.2195] & $\\dots$ \\\\\n",
       "\t27 & 1/complex.27.pdb & 868.612 & [0.451256, -0.85319, 0.261602] & 132.983 & [52.7571, 48.4118, 66.886] & $\\dots$ \\\\\n",
       "\t28 & 1/complex.28.pdb & 867.392 & [-0.108377, 0.398211, 0.910869] & 111.54 & [123.758, -73.2097, 46.7306] & $\\dots$ \\\\\n",
       "\t29 & 1/complex.29.pdb & 864.293 & [-0.490576, 0.834421, -0.251152] & 132.331 & [47.6186, 48.5243, 68.2026] & $\\dots$ \\\\\n",
       "\t30 & 1/complex.30.pdb & 864.178 & [-0.23015, -0.210912, -0.950025] & 124.336 & [86.7544, -70.9742, -5.26009] & $\\dots$ \\\\\n",
       "\t$\\dots$ & $\\dots$ & $\\dots$ & $\\dots$ & $\\dots$ & $\\dots$ &  \\\\\n",
       "\\end{tabular}\n"
      ],
      "text/plain": [
       "\u001b[1m100000×7 DataFrame\u001b[0m\n",
       "\u001b[1m    Row \u001b[0m│\u001b[1m fnames               \u001b[0m\u001b[1m score   \u001b[0m\u001b[1m omega                             \u001b[0m\u001b[1m ph\u001b[0m ⋯\n",
       "        │\u001b[90m Any                  \u001b[0m\u001b[90m Any     \u001b[0m\u001b[90m Any                               \u001b[0m\u001b[90m An\u001b[0m ⋯\n",
       "────────┼───────────────────────────────────────────────────────────────────────\n",
       "      1 │ 1/complex.1.pdb       986.974  [-0.356917, -0.824965, -0.438227]  81 ⋯\n",
       "      2 │ 1/complex.2.pdb       982.884  [0.0686623, -0.995647, 0.0630238]  17\n",
       "      3 │ 1/complex.3.pdb       962.178  [-0.328547, 0.882951, -0.335343]   12\n",
       "      4 │ 1/complex.4.pdb       940.885  [-0.322728, -0.924926, 0.200894]   84\n",
       "      5 │ 1/complex.5.pdb       937.892  [-0.052929, 0.218289, 0.974448]    99 ⋯\n",
       "      6 │ 1/complex.6.pdb       919.653  [0.288118, 0.0219858, 0.957343]    75\n",
       "      7 │ 1/complex.7.pdb       919.264  [-0.373651, 0.798232, -0.472451]   14\n",
       "      8 │ 1/complex.8.pdb       914.768  [0.312959, 0.256981, 0.91434]      76\n",
       "      9 │ 1/complex.9.pdb       911.393  [-0.869092, -0.48917, -0.0734266]  15 ⋯\n",
       "     10 │ 1/complex.10.pdb      909.194  [0.141311, 0.873829, -0.465246]    17\n",
       "     11 │ 1/complex.11.pdb      909.136  [-0.271648, -0.937714, -0.216563]  80\n",
       "   ⋮    │          ⋮               ⋮                     ⋮                     ⋱\n",
       "  99991 │ 1000/complex.91.pdb   790.414  [-0.195998, 0.0335005, -0.980032]  11\n",
       "  99992 │ 1000/complex.92.pdb   789.023  [-0.806546, 0.259972, -0.530941]   15 ⋯\n",
       "  99993 │ 1000/complex.93.pdb   788.941  [-0.457507, 0.883248, -0.102766]   11\n",
       "  99994 │ 1000/complex.94.pdb   788.821  [-0.233658, 0.85169, 0.469072]     11\n",
       "  99995 │ 1000/complex.95.pdb   788.693  [0.578434, 0.101385, 0.809404]     11\n",
       "  99996 │ 1000/complex.96.pdb   788.157  [0.0549749, -0.219121, 0.974148]   16 ⋯\n",
       "  99997 │ 1000/complex.97.pdb   787.514  [-0.805028, 0.374986, 0.45969]     11\n",
       "  99998 │ 1000/complex.98.pdb   787.237  [-0.799791, -0.191865, 0.56879]    11\n",
       "  99999 │ 1000/complex.99.pdb   787.071  [-0.305239, -0.142929, -0.941488]  13\n",
       " 100000 │ 1000/complex.100.pdb  786.907  [-0.0437253, 0.284619, 0.957643]   98 ⋯\n",
       "\u001b[36m                                                4 columns and 99979 rows omitted\u001b[0m"
      ]
     },
     "execution_count": 6,
     "metadata": {},
     "output_type": "execute_result"
    }
   ],
   "source": [
    "df = DataFrame(fnames=fnames, score=score, omega=omega, phi=phi, prou=prou, d=d, struc=struc)"
   ]
  },
  {
   "cell_type": "code",
   "execution_count": 7,
   "id": "0225efef-539c-4fc1-b11c-3bf14df6c8f4",
   "metadata": {},
   "outputs": [],
   "source": [
    "df_org = deepcopy(df);"
   ]
  },
  {
   "cell_type": "code",
   "execution_count": 8,
   "id": "cc488138-9e57-416a-bdf4-0dd7f7ca8614",
   "metadata": {},
   "outputs": [],
   "source": [
    "#using BSON: @save, @load\n",
    "#@save \"skrew_parameters.bson\" fnames score omega phi prou d df rmsd"
   ]
  },
  {
   "cell_type": "code",
   "execution_count": 9,
   "id": "88b16d7e-2d7a-4759-874c-3d3cbead8916",
   "metadata": {},
   "outputs": [],
   "source": [
    "#using BSON: @save, @load\n",
    "#@save \"df.bson\" df"
   ]
  },
  {
   "cell_type": "code",
   "execution_count": 10,
   "id": "c9400341-a639-4e7c-86f5-6baf593f4f50",
   "metadata": {},
   "outputs": [],
   "source": [
    "using JLD2\n",
    "\n",
    "save(\"skrew_parameters.jld2\", \"fnames\", fnames, \"score\", score, \"omega\", omega, \"phi\", phi, \"prou\", prou, \"d\", d, \"df\", df, \"rmsd\", rmsd)\n",
    "save(\"df.jld2\", \"df\", df)"
   ]
  },
  {
   "cell_type": "code",
   "execution_count": null,
   "id": "a9bdb4a4-c673-4542-90bf-6fe48688cd53",
   "metadata": {},
   "outputs": [],
   "source": []
  }
 ],
 "metadata": {
  "kernelspec": {
   "display_name": "julia 1.10.1",
   "language": "julia",
   "name": "julia-1.10"
  },
  "language_info": {
   "file_extension": ".jl",
   "mimetype": "application/julia",
   "name": "julia",
   "version": "1.10.1"
  }
 },
 "nbformat": 4,
 "nbformat_minor": 5
}
